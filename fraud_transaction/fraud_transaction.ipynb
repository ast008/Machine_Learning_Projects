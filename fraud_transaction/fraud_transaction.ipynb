{
  "cells": [
    {
      "cell_type": "code",
      "execution_count": null,
      "metadata": {
        "id": "HbMNKnbWzBga"
      },
      "outputs": [],
      "source": [
        "import numpy as np\n",
        "import pandas as pd\n",
        "from sklearn.model_selection import train_test_split\n",
        "from sklearn.linear_model import LogisticRegression\n",
        "from sklearn.metrics import accuracy_score\n",
        "import seaborn as sns\n",
        "import matplotlib.pyplot as plt"
      ]
    },
    {
      "cell_type": "code",
      "execution_count": null,
      "metadata": {
        "id": "22mJnsLDzJIY"
      },
      "outputs": [],
      "source": [
        "# loading the dataset to a Pandas DataFrame\n",
        "credit_card_data = pd.read_csv('/content/bs140513_032310.csv')"
      ]
    },
    {
      "cell_type": "code",
      "execution_count": null,
      "metadata": {
        "colab": {
          "base_uri": "https://localhost:8080/",
          "height": 206
        },
        "id": "geJTnGPVzKkI",
        "outputId": "eea089d0-d509-40b0-8fe0-bdea088a1cd7"
      },
      "outputs": [
        {
          "output_type": "execute_result",
          "data": {
            "text/plain": [
              "   step       customer  age gender zipcodeOri       merchant zipMerchant  \\\n",
              "0     0  'C1093826151'  '4'    'M'    '28007'   'M348934600'     '28007'   \n",
              "1     0   'C352968107'  '2'    'M'    '28007'   'M348934600'     '28007'   \n",
              "2     0  'C2054744914'  '4'    'F'    '28007'  'M1823072687'     '28007'   \n",
              "3     0  'C1760612790'  '3'    'M'    '28007'   'M348934600'     '28007'   \n",
              "4     0   'C757503768'  '5'    'M'    '28007'   'M348934600'     '28007'   \n",
              "\n",
              "              category  amount  fraud  \n",
              "0  'es_transportation'    4.55    0.0  \n",
              "1  'es_transportation'   39.68    0.0  \n",
              "2  'es_transportation'   26.89    0.0  \n",
              "3  'es_transportation'   17.25    0.0  \n",
              "4  'es_transportation'   35.72    0.0  "
            ],
            "text/html": [
              "\n",
              "\n",
              "  <div id=\"df-ba4e4f7f-a7db-4daa-a055-ec7bd8f789bf\">\n",
              "    <div class=\"colab-df-container\">\n",
              "      <div>\n",
              "<style scoped>\n",
              "    .dataframe tbody tr th:only-of-type {\n",
              "        vertical-align: middle;\n",
              "    }\n",
              "\n",
              "    .dataframe tbody tr th {\n",
              "        vertical-align: top;\n",
              "    }\n",
              "\n",
              "    .dataframe thead th {\n",
              "        text-align: right;\n",
              "    }\n",
              "</style>\n",
              "<table border=\"1\" class=\"dataframe\">\n",
              "  <thead>\n",
              "    <tr style=\"text-align: right;\">\n",
              "      <th></th>\n",
              "      <th>step</th>\n",
              "      <th>customer</th>\n",
              "      <th>age</th>\n",
              "      <th>gender</th>\n",
              "      <th>zipcodeOri</th>\n",
              "      <th>merchant</th>\n",
              "      <th>zipMerchant</th>\n",
              "      <th>category</th>\n",
              "      <th>amount</th>\n",
              "      <th>fraud</th>\n",
              "    </tr>\n",
              "  </thead>\n",
              "  <tbody>\n",
              "    <tr>\n",
              "      <th>0</th>\n",
              "      <td>0</td>\n",
              "      <td>'C1093826151'</td>\n",
              "      <td>'4'</td>\n",
              "      <td>'M'</td>\n",
              "      <td>'28007'</td>\n",
              "      <td>'M348934600'</td>\n",
              "      <td>'28007'</td>\n",
              "      <td>'es_transportation'</td>\n",
              "      <td>4.55</td>\n",
              "      <td>0.0</td>\n",
              "    </tr>\n",
              "    <tr>\n",
              "      <th>1</th>\n",
              "      <td>0</td>\n",
              "      <td>'C352968107'</td>\n",
              "      <td>'2'</td>\n",
              "      <td>'M'</td>\n",
              "      <td>'28007'</td>\n",
              "      <td>'M348934600'</td>\n",
              "      <td>'28007'</td>\n",
              "      <td>'es_transportation'</td>\n",
              "      <td>39.68</td>\n",
              "      <td>0.0</td>\n",
              "    </tr>\n",
              "    <tr>\n",
              "      <th>2</th>\n",
              "      <td>0</td>\n",
              "      <td>'C2054744914'</td>\n",
              "      <td>'4'</td>\n",
              "      <td>'F'</td>\n",
              "      <td>'28007'</td>\n",
              "      <td>'M1823072687'</td>\n",
              "      <td>'28007'</td>\n",
              "      <td>'es_transportation'</td>\n",
              "      <td>26.89</td>\n",
              "      <td>0.0</td>\n",
              "    </tr>\n",
              "    <tr>\n",
              "      <th>3</th>\n",
              "      <td>0</td>\n",
              "      <td>'C1760612790'</td>\n",
              "      <td>'3'</td>\n",
              "      <td>'M'</td>\n",
              "      <td>'28007'</td>\n",
              "      <td>'M348934600'</td>\n",
              "      <td>'28007'</td>\n",
              "      <td>'es_transportation'</td>\n",
              "      <td>17.25</td>\n",
              "      <td>0.0</td>\n",
              "    </tr>\n",
              "    <tr>\n",
              "      <th>4</th>\n",
              "      <td>0</td>\n",
              "      <td>'C757503768'</td>\n",
              "      <td>'5'</td>\n",
              "      <td>'M'</td>\n",
              "      <td>'28007'</td>\n",
              "      <td>'M348934600'</td>\n",
              "      <td>'28007'</td>\n",
              "      <td>'es_transportation'</td>\n",
              "      <td>35.72</td>\n",
              "      <td>0.0</td>\n",
              "    </tr>\n",
              "  </tbody>\n",
              "</table>\n",
              "</div>\n",
              "      <button class=\"colab-df-convert\" onclick=\"convertToInteractive('df-ba4e4f7f-a7db-4daa-a055-ec7bd8f789bf')\"\n",
              "              title=\"Convert this dataframe to an interactive table.\"\n",
              "              style=\"display:none;\">\n",
              "\n",
              "  <svg xmlns=\"http://www.w3.org/2000/svg\" height=\"24px\"viewBox=\"0 0 24 24\"\n",
              "       width=\"24px\">\n",
              "    <path d=\"M0 0h24v24H0V0z\" fill=\"none\"/>\n",
              "    <path d=\"M18.56 5.44l.94 2.06.94-2.06 2.06-.94-2.06-.94-.94-2.06-.94 2.06-2.06.94zm-11 1L8.5 8.5l.94-2.06 2.06-.94-2.06-.94L8.5 2.5l-.94 2.06-2.06.94zm10 10l.94 2.06.94-2.06 2.06-.94-2.06-.94-.94-2.06-.94 2.06-2.06.94z\"/><path d=\"M17.41 7.96l-1.37-1.37c-.4-.4-.92-.59-1.43-.59-.52 0-1.04.2-1.43.59L10.3 9.45l-7.72 7.72c-.78.78-.78 2.05 0 2.83L4 21.41c.39.39.9.59 1.41.59.51 0 1.02-.2 1.41-.59l7.78-7.78 2.81-2.81c.8-.78.8-2.07 0-2.86zM5.41 20L4 18.59l7.72-7.72 1.47 1.35L5.41 20z\"/>\n",
              "  </svg>\n",
              "      </button>\n",
              "\n",
              "\n",
              "\n",
              "    <div id=\"df-0b774ca9-92d4-4018-89a8-2a9d340dc7de\">\n",
              "      <button class=\"colab-df-quickchart\" onclick=\"quickchart('df-0b774ca9-92d4-4018-89a8-2a9d340dc7de')\"\n",
              "              title=\"Suggest charts.\"\n",
              "              style=\"display:none;\">\n",
              "\n",
              "<svg xmlns=\"http://www.w3.org/2000/svg\" height=\"24px\"viewBox=\"0 0 24 24\"\n",
              "     width=\"24px\">\n",
              "    <g>\n",
              "        <path d=\"M19 3H5c-1.1 0-2 .9-2 2v14c0 1.1.9 2 2 2h14c1.1 0 2-.9 2-2V5c0-1.1-.9-2-2-2zM9 17H7v-7h2v7zm4 0h-2V7h2v10zm4 0h-2v-4h2v4z\"/>\n",
              "    </g>\n",
              "</svg>\n",
              "      </button>\n",
              "    </div>\n",
              "\n",
              "<style>\n",
              "  .colab-df-quickchart {\n",
              "    background-color: #E8F0FE;\n",
              "    border: none;\n",
              "    border-radius: 50%;\n",
              "    cursor: pointer;\n",
              "    display: none;\n",
              "    fill: #1967D2;\n",
              "    height: 32px;\n",
              "    padding: 0 0 0 0;\n",
              "    width: 32px;\n",
              "  }\n",
              "\n",
              "  .colab-df-quickchart:hover {\n",
              "    background-color: #E2EBFA;\n",
              "    box-shadow: 0px 1px 2px rgba(60, 64, 67, 0.3), 0px 1px 3px 1px rgba(60, 64, 67, 0.15);\n",
              "    fill: #174EA6;\n",
              "  }\n",
              "\n",
              "  [theme=dark] .colab-df-quickchart {\n",
              "    background-color: #3B4455;\n",
              "    fill: #D2E3FC;\n",
              "  }\n",
              "\n",
              "  [theme=dark] .colab-df-quickchart:hover {\n",
              "    background-color: #434B5C;\n",
              "    box-shadow: 0px 1px 3px 1px rgba(0, 0, 0, 0.15);\n",
              "    filter: drop-shadow(0px 1px 2px rgba(0, 0, 0, 0.3));\n",
              "    fill: #FFFFFF;\n",
              "  }\n",
              "</style>\n",
              "\n",
              "    <script>\n",
              "      async function quickchart(key) {\n",
              "        const containerElement = document.querySelector('#' + key);\n",
              "        const charts = await google.colab.kernel.invokeFunction(\n",
              "            'suggestCharts', [key], {});\n",
              "      }\n",
              "    </script>\n",
              "\n",
              "      <script>\n",
              "\n",
              "function displayQuickchartButton(domScope) {\n",
              "  let quickchartButtonEl =\n",
              "    domScope.querySelector('#df-0b774ca9-92d4-4018-89a8-2a9d340dc7de button.colab-df-quickchart');\n",
              "  quickchartButtonEl.style.display =\n",
              "    google.colab.kernel.accessAllowed ? 'block' : 'none';\n",
              "}\n",
              "\n",
              "        displayQuickchartButton(document);\n",
              "      </script>\n",
              "      <style>\n",
              "    .colab-df-container {\n",
              "      display:flex;\n",
              "      flex-wrap:wrap;\n",
              "      gap: 12px;\n",
              "    }\n",
              "\n",
              "    .colab-df-convert {\n",
              "      background-color: #E8F0FE;\n",
              "      border: none;\n",
              "      border-radius: 50%;\n",
              "      cursor: pointer;\n",
              "      display: none;\n",
              "      fill: #1967D2;\n",
              "      height: 32px;\n",
              "      padding: 0 0 0 0;\n",
              "      width: 32px;\n",
              "    }\n",
              "\n",
              "    .colab-df-convert:hover {\n",
              "      background-color: #E2EBFA;\n",
              "      box-shadow: 0px 1px 2px rgba(60, 64, 67, 0.3), 0px 1px 3px 1px rgba(60, 64, 67, 0.15);\n",
              "      fill: #174EA6;\n",
              "    }\n",
              "\n",
              "    [theme=dark] .colab-df-convert {\n",
              "      background-color: #3B4455;\n",
              "      fill: #D2E3FC;\n",
              "    }\n",
              "\n",
              "    [theme=dark] .colab-df-convert:hover {\n",
              "      background-color: #434B5C;\n",
              "      box-shadow: 0px 1px 3px 1px rgba(0, 0, 0, 0.15);\n",
              "      filter: drop-shadow(0px 1px 2px rgba(0, 0, 0, 0.3));\n",
              "      fill: #FFFFFF;\n",
              "    }\n",
              "  </style>\n",
              "\n",
              "      <script>\n",
              "        const buttonEl =\n",
              "          document.querySelector('#df-ba4e4f7f-a7db-4daa-a055-ec7bd8f789bf button.colab-df-convert');\n",
              "        buttonEl.style.display =\n",
              "          google.colab.kernel.accessAllowed ? 'block' : 'none';\n",
              "\n",
              "        async function convertToInteractive(key) {\n",
              "          const element = document.querySelector('#df-ba4e4f7f-a7db-4daa-a055-ec7bd8f789bf');\n",
              "          const dataTable =\n",
              "            await google.colab.kernel.invokeFunction('convertToInteractive',\n",
              "                                                     [key], {});\n",
              "          if (!dataTable) return;\n",
              "\n",
              "          const docLinkHtml = 'Like what you see? Visit the ' +\n",
              "            '<a target=\"_blank\" href=https://colab.research.google.com/notebooks/data_table.ipynb>data table notebook</a>'\n",
              "            + ' to learn more about interactive tables.';\n",
              "          element.innerHTML = '';\n",
              "          dataTable['output_type'] = 'display_data';\n",
              "          await google.colab.output.renderOutput(dataTable, element);\n",
              "          const docLink = document.createElement('div');\n",
              "          docLink.innerHTML = docLinkHtml;\n",
              "          element.appendChild(docLink);\n",
              "        }\n",
              "      </script>\n",
              "    </div>\n",
              "  </div>\n"
            ]
          },
          "metadata": {},
          "execution_count": 200
        }
      ],
      "source": [
        "# first 5 rows of the dataset\n",
        "credit_card_data.head()\n",
        "#Step: This feature represents the day from the start of simulation.\n",
        "#It has 180 steps so simulation ran for virtually 6 months."
      ]
    },
    {
      "cell_type": "code",
      "execution_count": null,
      "metadata": {
        "colab": {
          "base_uri": "https://localhost:8080/",
          "height": 206
        },
        "id": "_j2jto5fzP7J",
        "outputId": "ea77e38f-9e3b-4d0f-bfea-f2a4e7c55b55"
      },
      "outputs": [
        {
          "output_type": "execute_result",
          "data": {
            "text/plain": [
              "        step       customer  age gender zipcodeOri       merchant zipMerchant  \\\n",
              "102718    37   'C808977147'  '2'    'M'    '28007'   'M855959430'     '28007'   \n",
              "102719    37   'C481108455'  '3'    'M'    '28007'    'M85975013'     '28007'   \n",
              "102720    37   'C927282395'  '4'    'F'    '28007'   'M151143676'     '28007'   \n",
              "102721    37  'C2066612191'  '2'    'M'    '28007'  'M1823072687'     '28007'   \n",
              "102722    37    'C17059521'  '2'    'M'    '28007'   'M348934600'     '28007'   \n",
              "\n",
              "                       category  amount  fraud  \n",
              "102718               'es_hyper'    6.17    0.0  \n",
              "102719                'es_food'   68.88    0.0  \n",
              "102720  'es_barsandrestaurants'    9.02    0.0  \n",
              "102721      'es_transportation'    2.63    0.0  \n",
              "102722             'es_transpor     NaN    NaN  "
            ],
            "text/html": [
              "\n",
              "\n",
              "  <div id=\"df-9613f653-f55d-4ba8-8baf-a9280e495988\">\n",
              "    <div class=\"colab-df-container\">\n",
              "      <div>\n",
              "<style scoped>\n",
              "    .dataframe tbody tr th:only-of-type {\n",
              "        vertical-align: middle;\n",
              "    }\n",
              "\n",
              "    .dataframe tbody tr th {\n",
              "        vertical-align: top;\n",
              "    }\n",
              "\n",
              "    .dataframe thead th {\n",
              "        text-align: right;\n",
              "    }\n",
              "</style>\n",
              "<table border=\"1\" class=\"dataframe\">\n",
              "  <thead>\n",
              "    <tr style=\"text-align: right;\">\n",
              "      <th></th>\n",
              "      <th>step</th>\n",
              "      <th>customer</th>\n",
              "      <th>age</th>\n",
              "      <th>gender</th>\n",
              "      <th>zipcodeOri</th>\n",
              "      <th>merchant</th>\n",
              "      <th>zipMerchant</th>\n",
              "      <th>category</th>\n",
              "      <th>amount</th>\n",
              "      <th>fraud</th>\n",
              "    </tr>\n",
              "  </thead>\n",
              "  <tbody>\n",
              "    <tr>\n",
              "      <th>102718</th>\n",
              "      <td>37</td>\n",
              "      <td>'C808977147'</td>\n",
              "      <td>'2'</td>\n",
              "      <td>'M'</td>\n",
              "      <td>'28007'</td>\n",
              "      <td>'M855959430'</td>\n",
              "      <td>'28007'</td>\n",
              "      <td>'es_hyper'</td>\n",
              "      <td>6.17</td>\n",
              "      <td>0.0</td>\n",
              "    </tr>\n",
              "    <tr>\n",
              "      <th>102719</th>\n",
              "      <td>37</td>\n",
              "      <td>'C481108455'</td>\n",
              "      <td>'3'</td>\n",
              "      <td>'M'</td>\n",
              "      <td>'28007'</td>\n",
              "      <td>'M85975013'</td>\n",
              "      <td>'28007'</td>\n",
              "      <td>'es_food'</td>\n",
              "      <td>68.88</td>\n",
              "      <td>0.0</td>\n",
              "    </tr>\n",
              "    <tr>\n",
              "      <th>102720</th>\n",
              "      <td>37</td>\n",
              "      <td>'C927282395'</td>\n",
              "      <td>'4'</td>\n",
              "      <td>'F'</td>\n",
              "      <td>'28007'</td>\n",
              "      <td>'M151143676'</td>\n",
              "      <td>'28007'</td>\n",
              "      <td>'es_barsandrestaurants'</td>\n",
              "      <td>9.02</td>\n",
              "      <td>0.0</td>\n",
              "    </tr>\n",
              "    <tr>\n",
              "      <th>102721</th>\n",
              "      <td>37</td>\n",
              "      <td>'C2066612191'</td>\n",
              "      <td>'2'</td>\n",
              "      <td>'M'</td>\n",
              "      <td>'28007'</td>\n",
              "      <td>'M1823072687'</td>\n",
              "      <td>'28007'</td>\n",
              "      <td>'es_transportation'</td>\n",
              "      <td>2.63</td>\n",
              "      <td>0.0</td>\n",
              "    </tr>\n",
              "    <tr>\n",
              "      <th>102722</th>\n",
              "      <td>37</td>\n",
              "      <td>'C17059521'</td>\n",
              "      <td>'2'</td>\n",
              "      <td>'M'</td>\n",
              "      <td>'28007'</td>\n",
              "      <td>'M348934600'</td>\n",
              "      <td>'28007'</td>\n",
              "      <td>'es_transpor</td>\n",
              "      <td>NaN</td>\n",
              "      <td>NaN</td>\n",
              "    </tr>\n",
              "  </tbody>\n",
              "</table>\n",
              "</div>\n",
              "      <button class=\"colab-df-convert\" onclick=\"convertToInteractive('df-9613f653-f55d-4ba8-8baf-a9280e495988')\"\n",
              "              title=\"Convert this dataframe to an interactive table.\"\n",
              "              style=\"display:none;\">\n",
              "\n",
              "  <svg xmlns=\"http://www.w3.org/2000/svg\" height=\"24px\"viewBox=\"0 0 24 24\"\n",
              "       width=\"24px\">\n",
              "    <path d=\"M0 0h24v24H0V0z\" fill=\"none\"/>\n",
              "    <path d=\"M18.56 5.44l.94 2.06.94-2.06 2.06-.94-2.06-.94-.94-2.06-.94 2.06-2.06.94zm-11 1L8.5 8.5l.94-2.06 2.06-.94-2.06-.94L8.5 2.5l-.94 2.06-2.06.94zm10 10l.94 2.06.94-2.06 2.06-.94-2.06-.94-.94-2.06-.94 2.06-2.06.94z\"/><path d=\"M17.41 7.96l-1.37-1.37c-.4-.4-.92-.59-1.43-.59-.52 0-1.04.2-1.43.59L10.3 9.45l-7.72 7.72c-.78.78-.78 2.05 0 2.83L4 21.41c.39.39.9.59 1.41.59.51 0 1.02-.2 1.41-.59l7.78-7.78 2.81-2.81c.8-.78.8-2.07 0-2.86zM5.41 20L4 18.59l7.72-7.72 1.47 1.35L5.41 20z\"/>\n",
              "  </svg>\n",
              "      </button>\n",
              "\n",
              "\n",
              "\n",
              "    <div id=\"df-35f463b0-cf92-4fee-8e63-a0898031b21e\">\n",
              "      <button class=\"colab-df-quickchart\" onclick=\"quickchart('df-35f463b0-cf92-4fee-8e63-a0898031b21e')\"\n",
              "              title=\"Suggest charts.\"\n",
              "              style=\"display:none;\">\n",
              "\n",
              "<svg xmlns=\"http://www.w3.org/2000/svg\" height=\"24px\"viewBox=\"0 0 24 24\"\n",
              "     width=\"24px\">\n",
              "    <g>\n",
              "        <path d=\"M19 3H5c-1.1 0-2 .9-2 2v14c0 1.1.9 2 2 2h14c1.1 0 2-.9 2-2V5c0-1.1-.9-2-2-2zM9 17H7v-7h2v7zm4 0h-2V7h2v10zm4 0h-2v-4h2v4z\"/>\n",
              "    </g>\n",
              "</svg>\n",
              "      </button>\n",
              "    </div>\n",
              "\n",
              "<style>\n",
              "  .colab-df-quickchart {\n",
              "    background-color: #E8F0FE;\n",
              "    border: none;\n",
              "    border-radius: 50%;\n",
              "    cursor: pointer;\n",
              "    display: none;\n",
              "    fill: #1967D2;\n",
              "    height: 32px;\n",
              "    padding: 0 0 0 0;\n",
              "    width: 32px;\n",
              "  }\n",
              "\n",
              "  .colab-df-quickchart:hover {\n",
              "    background-color: #E2EBFA;\n",
              "    box-shadow: 0px 1px 2px rgba(60, 64, 67, 0.3), 0px 1px 3px 1px rgba(60, 64, 67, 0.15);\n",
              "    fill: #174EA6;\n",
              "  }\n",
              "\n",
              "  [theme=dark] .colab-df-quickchart {\n",
              "    background-color: #3B4455;\n",
              "    fill: #D2E3FC;\n",
              "  }\n",
              "\n",
              "  [theme=dark] .colab-df-quickchart:hover {\n",
              "    background-color: #434B5C;\n",
              "    box-shadow: 0px 1px 3px 1px rgba(0, 0, 0, 0.15);\n",
              "    filter: drop-shadow(0px 1px 2px rgba(0, 0, 0, 0.3));\n",
              "    fill: #FFFFFF;\n",
              "  }\n",
              "</style>\n",
              "\n",
              "    <script>\n",
              "      async function quickchart(key) {\n",
              "        const containerElement = document.querySelector('#' + key);\n",
              "        const charts = await google.colab.kernel.invokeFunction(\n",
              "            'suggestCharts', [key], {});\n",
              "      }\n",
              "    </script>\n",
              "\n",
              "      <script>\n",
              "\n",
              "function displayQuickchartButton(domScope) {\n",
              "  let quickchartButtonEl =\n",
              "    domScope.querySelector('#df-35f463b0-cf92-4fee-8e63-a0898031b21e button.colab-df-quickchart');\n",
              "  quickchartButtonEl.style.display =\n",
              "    google.colab.kernel.accessAllowed ? 'block' : 'none';\n",
              "}\n",
              "\n",
              "        displayQuickchartButton(document);\n",
              "      </script>\n",
              "      <style>\n",
              "    .colab-df-container {\n",
              "      display:flex;\n",
              "      flex-wrap:wrap;\n",
              "      gap: 12px;\n",
              "    }\n",
              "\n",
              "    .colab-df-convert {\n",
              "      background-color: #E8F0FE;\n",
              "      border: none;\n",
              "      border-radius: 50%;\n",
              "      cursor: pointer;\n",
              "      display: none;\n",
              "      fill: #1967D2;\n",
              "      height: 32px;\n",
              "      padding: 0 0 0 0;\n",
              "      width: 32px;\n",
              "    }\n",
              "\n",
              "    .colab-df-convert:hover {\n",
              "      background-color: #E2EBFA;\n",
              "      box-shadow: 0px 1px 2px rgba(60, 64, 67, 0.3), 0px 1px 3px 1px rgba(60, 64, 67, 0.15);\n",
              "      fill: #174EA6;\n",
              "    }\n",
              "\n",
              "    [theme=dark] .colab-df-convert {\n",
              "      background-color: #3B4455;\n",
              "      fill: #D2E3FC;\n",
              "    }\n",
              "\n",
              "    [theme=dark] .colab-df-convert:hover {\n",
              "      background-color: #434B5C;\n",
              "      box-shadow: 0px 1px 3px 1px rgba(0, 0, 0, 0.15);\n",
              "      filter: drop-shadow(0px 1px 2px rgba(0, 0, 0, 0.3));\n",
              "      fill: #FFFFFF;\n",
              "    }\n",
              "  </style>\n",
              "\n",
              "      <script>\n",
              "        const buttonEl =\n",
              "          document.querySelector('#df-9613f653-f55d-4ba8-8baf-a9280e495988 button.colab-df-convert');\n",
              "        buttonEl.style.display =\n",
              "          google.colab.kernel.accessAllowed ? 'block' : 'none';\n",
              "\n",
              "        async function convertToInteractive(key) {\n",
              "          const element = document.querySelector('#df-9613f653-f55d-4ba8-8baf-a9280e495988');\n",
              "          const dataTable =\n",
              "            await google.colab.kernel.invokeFunction('convertToInteractive',\n",
              "                                                     [key], {});\n",
              "          if (!dataTable) return;\n",
              "\n",
              "          const docLinkHtml = 'Like what you see? Visit the ' +\n",
              "            '<a target=\"_blank\" href=https://colab.research.google.com/notebooks/data_table.ipynb>data table notebook</a>'\n",
              "            + ' to learn more about interactive tables.';\n",
              "          element.innerHTML = '';\n",
              "          dataTable['output_type'] = 'display_data';\n",
              "          await google.colab.output.renderOutput(dataTable, element);\n",
              "          const docLink = document.createElement('div');\n",
              "          docLink.innerHTML = docLinkHtml;\n",
              "          element.appendChild(docLink);\n",
              "        }\n",
              "      </script>\n",
              "    </div>\n",
              "  </div>\n"
            ]
          },
          "metadata": {},
          "execution_count": 201
        }
      ],
      "source": [
        "credit_card_data.tail()"
      ]
    },
    {
      "cell_type": "code",
      "source": [
        "# column_to_remove = 'step'\n",
        "# credit_card_data = credit_card_data.drop(column_to_remove, axis=1)"
      ],
      "metadata": {
        "id": "SjG4Ia6pia0j"
      },
      "execution_count": null,
      "outputs": []
    },
    {
      "cell_type": "code",
      "source": [
        "# credit_card_data.head()"
      ],
      "metadata": {
        "id": "2dPSFB4IitRf"
      },
      "execution_count": null,
      "outputs": []
    },
    {
      "cell_type": "code",
      "execution_count": null,
      "metadata": {
        "colab": {
          "base_uri": "https://localhost:8080/"
        },
        "id": "6qWwT9nczRy0",
        "outputId": "29e26b79-73e3-443c-dc15-8e3a55e19b1a"
      },
      "outputs": [
        {
          "output_type": "execute_result",
          "data": {
            "text/plain": [
              "(102723, 10)"
            ]
          },
          "metadata": {},
          "execution_count": 204
        }
      ],
      "source": [
        "credit_card_data.shape"
      ]
    },
    {
      "cell_type": "code",
      "execution_count": null,
      "metadata": {
        "colab": {
          "base_uri": "https://localhost:8080/"
        },
        "id": "NIHEHnGbzy_Z",
        "outputId": "83787be3-a2c7-4f6c-8b5d-ac52a9286af5"
      },
      "outputs": [
        {
          "output_type": "execute_result",
          "data": {
            "text/plain": [
              "step             int64\n",
              "customer        object\n",
              "age             object\n",
              "gender          object\n",
              "zipcodeOri      object\n",
              "merchant        object\n",
              "zipMerchant     object\n",
              "category        object\n",
              "amount         float64\n",
              "fraud          float64\n",
              "dtype: object"
            ]
          },
          "metadata": {},
          "execution_count": 205
        }
      ],
      "source": [
        "credit_card_data.dtypes\n"
      ]
    },
    {
      "cell_type": "code",
      "execution_count": null,
      "metadata": {
        "colab": {
          "base_uri": "https://localhost:8080/"
        },
        "id": "Vh4HhdBv18Kp",
        "outputId": "d107528b-137d-48a2-9b28-ce144e8fb33d"
      },
      "outputs": [
        {
          "output_type": "execute_result",
          "data": {
            "text/plain": [
              "step           0\n",
              "customer       0\n",
              "age            0\n",
              "gender         0\n",
              "zipcodeOri     0\n",
              "merchant       0\n",
              "zipMerchant    0\n",
              "category       0\n",
              "amount         1\n",
              "fraud          1\n",
              "dtype: int64"
            ]
          },
          "metadata": {},
          "execution_count": 206
        }
      ],
      "source": [
        "credit_card_data.isnull().sum()"
      ]
    },
    {
      "cell_type": "code",
      "execution_count": null,
      "metadata": {
        "colab": {
          "base_uri": "https://localhost:8080/"
        },
        "id": "9pZ0UdnG4Z2D",
        "outputId": "40989567-249a-44c1-b28e-6d8b67e31bbb"
      },
      "outputs": [
        {
          "output_type": "execute_result",
          "data": {
            "text/plain": [
              "dtype('O')"
            ]
          },
          "metadata": {},
          "execution_count": 207
        }
      ],
      "source": [
        "credit_card_data['age'].dtype"
      ]
    },
    {
      "cell_type": "code",
      "execution_count": null,
      "metadata": {
        "colab": {
          "base_uri": "https://localhost:8080/"
        },
        "id": "VLJVWAV_4kaa",
        "outputId": "8e27ed93-380f-4f7e-cd2b-c677da36cf7e"
      },
      "outputs": [
        {
          "output_type": "execute_result",
          "data": {
            "text/plain": [
              "0         '4'\n",
              "1         '2'\n",
              "2         '4'\n",
              "3         '3'\n",
              "4         '5'\n",
              "         ... \n",
              "102718    '2'\n",
              "102719    '3'\n",
              "102720    '4'\n",
              "102721    '2'\n",
              "102722    '2'\n",
              "Name: age, Length: 102723, dtype: object"
            ]
          },
          "metadata": {},
          "execution_count": 208
        }
      ],
      "source": [
        "credit_card_data['age']"
      ]
    },
    {
      "cell_type": "code",
      "execution_count": null,
      "metadata": {
        "id": "ZVcakuW-368l"
      },
      "outputs": [],
      "source": [
        "credit_card_data['age'] = credit_card_data['age'].str.replace(\"'\", '')\n",
        "credit_card_data['age'] = pd.to_numeric(credit_card_data['age'], errors='coerce')\n",
        "credit_card_data['age'].replace('NA', pd.NA, inplace=True)"
      ]
    },
    {
      "cell_type": "code",
      "execution_count": null,
      "metadata": {
        "id": "6O0Q2Lqk5LAa"
      },
      "outputs": [],
      "source": [
        "credit_card_data['zipcodeOri'] = credit_card_data['zipcodeOri'].str.replace(\"'\", '')\n",
        "credit_card_data['zipcodeOri'] = pd.to_numeric(credit_card_data['zipcodeOri'], errors='coerce')\n",
        "credit_card_data['zipcodeOri'].replace('NA', pd.NA, inplace=True)"
      ]
    },
    {
      "cell_type": "code",
      "execution_count": null,
      "metadata": {
        "id": "IE5PfyQ35lEK"
      },
      "outputs": [],
      "source": [
        "credit_card_data['zipMerchant'] = credit_card_data['zipMerchant'].str.replace(\"'\", '')\n",
        "credit_card_data['zipMerchant'] = pd.to_numeric(credit_card_data['zipMerchant'], errors='coerce')\n",
        "credit_card_data['zipMerchant'].replace('NA', pd.NA, inplace=True)"
      ]
    },
    {
      "cell_type": "code",
      "execution_count": null,
      "metadata": {
        "colab": {
          "base_uri": "https://localhost:8080/"
        },
        "id": "zN0T93365vV0",
        "outputId": "9e6867ee-ccc7-40f6-90fd-79efe5879c0d"
      },
      "outputs": [
        {
          "output_type": "execute_result",
          "data": {
            "text/plain": [
              "step             0\n",
              "customer         0\n",
              "age            164\n",
              "gender           0\n",
              "zipcodeOri       0\n",
              "merchant         0\n",
              "zipMerchant      0\n",
              "category         0\n",
              "amount           1\n",
              "fraud            1\n",
              "dtype: int64"
            ]
          },
          "metadata": {},
          "execution_count": 212
        }
      ],
      "source": [
        "credit_card_data.isnull().sum()"
      ]
    },
    {
      "cell_type": "code",
      "execution_count": null,
      "metadata": {
        "colab": {
          "base_uri": "https://localhost:8080/"
        },
        "id": "_q2aX8Js5yam",
        "outputId": "e3634b32-16ff-4a54-f70a-b8c2afefe598"
      },
      "outputs": [
        {
          "output_type": "execute_result",
          "data": {
            "text/plain": [
              "step             int64\n",
              "customer        object\n",
              "age            float64\n",
              "gender          object\n",
              "zipcodeOri       int64\n",
              "merchant        object\n",
              "zipMerchant      int64\n",
              "category        object\n",
              "amount         float64\n",
              "fraud          float64\n",
              "dtype: object"
            ]
          },
          "metadata": {},
          "execution_count": 213
        }
      ],
      "source": [
        "credit_card_data.dtypes"
      ]
    },
    {
      "cell_type": "code",
      "execution_count": null,
      "metadata": {
        "colab": {
          "base_uri": "https://localhost:8080/",
          "height": 693
        },
        "id": "dSiyOvgO55dT",
        "outputId": "5a4769db-5c2c-47a7-adec-e70d14a21475"
      },
      "outputs": [
        {
          "output_type": "execute_result",
          "data": {
            "text/plain": [
              "<Axes: >"
            ]
          },
          "metadata": {},
          "execution_count": 214
        },
        {
          "output_type": "display_data",
          "data": {
            "text/plain": [
              "<Figure size 800x800 with 1 Axes>"
            ],
            "image/png": "[encoded data removed]"
          },
          "metadata": {}
        }
      ],
      "source": [
        "fig, ax = plt.subplots(figsize=(8,8))\n",
        "sns.boxplot(credit_card_data.age)\n",
        "#data is peaked symmetric: mean and median can be option"
      ]
    },
    {
      "cell_type": "code",
      "execution_count": null,
      "metadata": {
        "colab": {
          "base_uri": "https://localhost:8080/"
        },
        "id": "yq4OtG726w0c",
        "outputId": "80f9acb2-7162-49d9-a9a9-4fd51d94b720"
      },
      "outputs": [
        {
          "output_type": "execute_result",
          "data": {
            "text/plain": [
              "3.0031981591084156"
            ]
          },
          "metadata": {},
          "execution_count": 215
        }
      ],
      "source": [
        "np.mean(credit_card_data.age)"
      ]
    },
    {
      "cell_type": "code",
      "execution_count": null,
      "metadata": {
        "colab": {
          "base_uri": "https://localhost:8080/"
        },
        "id": "O7I59-A883yM",
        "outputId": "943acedb-113e-4487-bb7f-2b6a83ff8300"
      },
      "outputs": [
        {
          "output_type": "execute_result",
          "data": {
            "text/plain": [
              "nan"
            ]
          },
          "metadata": {},
          "execution_count": 216
        }
      ],
      "source": [
        "np.median(credit_card_data.age)"
      ]
    },
    {
      "cell_type": "code",
      "execution_count": null,
      "metadata": {
        "id": "vQVYRtW1867w"
      },
      "outputs": [],
      "source": [
        "# df = credit_card_data.dropna(subset=['age'])"
      ]
    },
    {
      "cell_type": "code",
      "execution_count": null,
      "metadata": {
        "id": "xRl3ke3P9ell"
      },
      "outputs": [],
      "source": [
        "# np.median(df.age)"
      ]
    },
    {
      "cell_type": "code",
      "execution_count": null,
      "metadata": {
        "id": "-I2GNZFc-XwX"
      },
      "outputs": [],
      "source": [
        "#as mean median is nearly same, replacibg null values by mean\n",
        "credit_card_data['age'].fillna(credit_card_data['age'].mean(), inplace=True)"
      ]
    },
    {
      "cell_type": "code",
      "execution_count": null,
      "metadata": {
        "colab": {
          "base_uri": "https://localhost:8080/"
        },
        "id": "iuVWtGvj-5vT",
        "outputId": "6fe4396d-ce23-4b98-cb17-d7a91a0ea190"
      },
      "outputs": [
        {
          "output_type": "execute_result",
          "data": {
            "text/plain": [
              "step           0\n",
              "customer       0\n",
              "age            0\n",
              "gender         0\n",
              "zipcodeOri     0\n",
              "merchant       0\n",
              "zipMerchant    0\n",
              "category       0\n",
              "amount         1\n",
              "fraud          1\n",
              "dtype: int64"
            ]
          },
          "metadata": {},
          "execution_count": 220
        }
      ],
      "source": [
        "credit_card_data.isnull().sum()"
      ]
    },
    {
      "cell_type": "code",
      "execution_count": null,
      "metadata": {
        "colab": {
          "base_uri": "https://localhost:8080/"
        },
        "id": "BRV9PTNf_FuH",
        "outputId": "25e164a5-a9ca-4fe0-d17e-cd19293ab0b3"
      },
      "outputs": [
        {
          "output_type": "stream",
          "name": "stdout",
          "text": [
            "<class 'pandas.core.frame.DataFrame'>\n",
            "RangeIndex: 102723 entries, 0 to 102722\n",
            "Data columns (total 10 columns):\n",
            " #   Column       Non-Null Count   Dtype  \n",
            "---  ------       --------------   -----  \n",
            " 0   step         102723 non-null  int64  \n",
            " 1   customer     102723 non-null  object \n",
            " 2   age          102723 non-null  float64\n",
            " 3   gender       102723 non-null  object \n",
            " 4   zipcodeOri   102723 non-null  int64  \n",
            " 5   merchant     102723 non-null  object \n",
            " 6   zipMerchant  102723 non-null  int64  \n",
            " 7   category     102723 non-null  object \n",
            " 8   amount       102722 non-null  float64\n",
            " 9   fraud        102722 non-null  float64\n",
            "dtypes: float64(3), int64(3), object(4)\n",
            "memory usage: 7.8+ MB\n"
          ]
        }
      ],
      "source": [
        "credit_card_data.info()"
      ]
    },
    {
      "cell_type": "code",
      "execution_count": null,
      "metadata": {
        "colab": {
          "base_uri": "https://localhost:8080/"
        },
        "id": "U-KEDoin_P2h",
        "outputId": "810473d3-3c4b-41c2-8a2f-684a3ecac863"
      },
      "outputs": [
        {
          "output_type": "execute_result",
          "data": {
            "text/plain": [
              "0.0    101214\n",
              "1.0      1508\n",
              "Name: fraud, dtype: int64"
            ]
          },
          "metadata": {},
          "execution_count": 222
        }
      ],
      "source": [
        "credit_card_data['fraud'].value_counts()"
      ]
    },
    {
      "cell_type": "markdown",
      "metadata": {
        "id": "nW5Ze2jh_n2I"
      },
      "source": []
    },
    {
      "cell_type": "markdown",
      "metadata": {
        "id": "Xnb0SiAa_gcu"
      },
      "source": [
        "data is highly imbalanced\n",
        "\n",
        "1-> fraudulent transaction\n",
        "\n",
        "0-> normal transaction"
      ]
    },
    {
      "cell_type": "code",
      "execution_count": null,
      "metadata": {
        "id": "37i8fp02_nFf"
      },
      "outputs": [],
      "source": [
        "# separating the data for analysis\n",
        "legit = credit_card_data[credit_card_data.fraud == 0]\n",
        "illegal = credit_card_data[credit_card_data.fraud == 1]"
      ]
    },
    {
      "cell_type": "code",
      "execution_count": null,
      "metadata": {
        "colab": {
          "base_uri": "https://localhost:8080/"
        },
        "id": "LOOBTQazAGOY",
        "outputId": "d403723f-b028-45f6-e770-1b99c11c9195"
      },
      "outputs": [
        {
          "output_type": "stream",
          "name": "stdout",
          "text": [
            "(101214, 10)\n",
            "(1508, 10)\n"
          ]
        }
      ],
      "source": [
        "print(legit.shape)\n",
        "print(illegal.shape)"
      ]
    },
    {
      "cell_type": "code",
      "execution_count": null,
      "metadata": {
        "colab": {
          "base_uri": "https://localhost:8080/"
        },
        "id": "tJHqMOYHAKAC",
        "outputId": "cce2b0f2-3a70-443f-dae2-238e17a3a482"
      },
      "outputs": [
        {
          "output_type": "execute_result",
          "data": {
            "text/plain": [
              "count    101214.000000\n",
              "mean         31.942522\n",
              "std          33.672413\n",
              "min           0.000000\n",
              "25%          13.610000\n",
              "50%          26.590000\n",
              "75%          42.047500\n",
              "max        2144.860000\n",
              "Name: amount, dtype: float64"
            ]
          },
          "metadata": {},
          "execution_count": 225
        }
      ],
      "source": [
        "legit.amount.describe()"
      ]
    },
    {
      "cell_type": "code",
      "execution_count": null,
      "metadata": {
        "colab": {
          "base_uri": "https://localhost:8080/"
        },
        "id": "Rkx9rcAmARwT",
        "outputId": "d3ebed94-fc92-45ef-daba-46dc7b9eea07"
      },
      "outputs": [
        {
          "output_type": "execute_result",
          "data": {
            "text/plain": [
              "count    1508.000000\n",
              "mean      554.087175\n",
              "std       875.068881\n",
              "min         1.830000\n",
              "25%       155.562500\n",
              "50%       325.620000\n",
              "75%       559.632500\n",
              "max      7432.480000\n",
              "Name: amount, dtype: float64"
            ]
          },
          "metadata": {},
          "execution_count": 226
        }
      ],
      "source": [
        "illegal.amount.describe()"
      ]
    },
    {
      "cell_type": "code",
      "execution_count": null,
      "metadata": {
        "colab": {
          "base_uri": "https://localhost:8080/",
          "height": 198
        },
        "id": "Q5SEuNTDAcW5",
        "outputId": "79e22385-ca20-4c10-c9d8-0b74e48dad54"
      },
      "outputs": [
        {
          "output_type": "stream",
          "name": "stderr",
          "text": [
            "<ipython-input-227-88a9b6053217>:1: FutureWarning: The default value of numeric_only in DataFrameGroupBy.mean is deprecated. In a future version, numeric_only will default to False. Either specify numeric_only or select only columns which should be valid for the function.\n",
            "  credit_card_data.groupby('fraud').mean()\n"
          ]
        },
        {
          "output_type": "execute_result",
          "data": {
            "text/plain": [
              "            step       age  zipcodeOri  zipMerchant      amount\n",
              "fraud                                                          \n",
              "0.0    18.926512  3.001458     28007.0      28007.0   31.942522\n",
              "1.0    18.352785  3.120690     28007.0      28007.0  554.087175"
            ],
            "text/html": [
              "\n",
              "\n",
              "  <div id=\"df-935f3402-4819-4c54-a3a2-89e9bbc55f04\">\n",
              "    <div class=\"colab-df-container\">\n",
              "      <div>\n",
              "<style scoped>\n",
              "    .dataframe tbody tr th:only-of-type {\n",
              "        vertical-align: middle;\n",
              "    }\n",
              "\n",
              "    .dataframe tbody tr th {\n",
              "        vertical-align: top;\n",
              "    }\n",
              "\n",
              "    .dataframe thead th {\n",
              "        text-align: right;\n",
              "    }\n",
              "</style>\n",
              "<table border=\"1\" class=\"dataframe\">\n",
              "  <thead>\n",
              "    <tr style=\"text-align: right;\">\n",
              "      <th></th>\n",
              "      <th>step</th>\n",
              "      <th>age</th>\n",
              "      <th>zipcodeOri</th>\n",
              "      <th>zipMerchant</th>\n",
              "      <th>amount</th>\n",
              "    </tr>\n",
              "    <tr>\n",
              "      <th>fraud</th>\n",
              "      <th></th>\n",
              "      <th></th>\n",
              "      <th></th>\n",
              "      <th></th>\n",
              "      <th></th>\n",
              "    </tr>\n",
              "  </thead>\n",
              "  <tbody>\n",
              "    <tr>\n",
              "      <th>0.0</th>\n",
              "      <td>18.926512</td>\n",
              "      <td>3.001458</td>\n",
              "      <td>28007.0</td>\n",
              "      <td>28007.0</td>\n",
              "      <td>31.942522</td>\n",
              "    </tr>\n",
              "    <tr>\n",
              "      <th>1.0</th>\n",
              "      <td>18.352785</td>\n",
              "      <td>3.120690</td>\n",
              "      <td>28007.0</td>\n",
              "      <td>28007.0</td>\n",
              "      <td>554.087175</td>\n",
              "    </tr>\n",
              "  </tbody>\n",
              "</table>\n",
              "</div>\n",
              "      <button class=\"colab-df-convert\" onclick=\"convertToInteractive('df-935f3402-4819-4c54-a3a2-89e9bbc55f04')\"\n",
              "              title=\"Convert this dataframe to an interactive table.\"\n",
              "              style=\"display:none;\">\n",
              "\n",
              "  <svg xmlns=\"http://www.w3.org/2000/svg\" height=\"24px\"viewBox=\"0 0 24 24\"\n",
              "       width=\"24px\">\n",
              "    <path d=\"M0 0h24v24H0V0z\" fill=\"none\"/>\n",
              "    <path d=\"M18.56 5.44l.94 2.06.94-2.06 2.06-.94-2.06-.94-.94-2.06-.94 2.06-2.06.94zm-11 1L8.5 8.5l.94-2.06 2.06-.94-2.06-.94L8.5 2.5l-.94 2.06-2.06.94zm10 10l.94 2.06.94-2.06 2.06-.94-2.06-.94-.94-2.06-.94 2.06-2.06.94z\"/><path d=\"M17.41 7.96l-1.37-1.37c-.4-.4-.92-.59-1.43-.59-.52 0-1.04.2-1.43.59L10.3 9.45l-7.72 7.72c-.78.78-.78 2.05 0 2.83L4 21.41c.39.39.9.59 1.41.59.51 0 1.02-.2 1.41-.59l7.78-7.78 2.81-2.81c.8-.78.8-2.07 0-2.86zM5.41 20L4 18.59l7.72-7.72 1.47 1.35L5.41 20z\"/>\n",
              "  </svg>\n",
              "      </button>\n",
              "\n",
              "\n",
              "\n",
              "    <div id=\"df-250779f0-452f-4723-8719-7976814abd09\">\n",
              "      <button class=\"colab-df-quickchart\" onclick=\"quickchart('df-250779f0-452f-4723-8719-7976814abd09')\"\n",
              "              title=\"Suggest charts.\"\n",
              "              style=\"display:none;\">\n",
              "\n",
              "<svg xmlns=\"http://www.w3.org/2000/svg\" height=\"24px\"viewBox=\"0 0 24 24\"\n",
              "     width=\"24px\">\n",
              "    <g>\n",
              "        <path d=\"M19 3H5c-1.1 0-2 .9-2 2v14c0 1.1.9 2 2 2h14c1.1 0 2-.9 2-2V5c0-1.1-.9-2-2-2zM9 17H7v-7h2v7zm4 0h-2V7h2v10zm4 0h-2v-4h2v4z\"/>\n",
              "    </g>\n",
              "</svg>\n",
              "      </button>\n",
              "    </div>\n",
              "\n",
              "<style>\n",
              "  .colab-df-quickchart {\n",
              "    background-color: #E8F0FE;\n",
              "    border: none;\n",
              "    border-radius: 50%;\n",
              "    cursor: pointer;\n",
              "    display: none;\n",
              "    fill: #1967D2;\n",
              "    height: 32px;\n",
              "    padding: 0 0 0 0;\n",
              "    width: 32px;\n",
              "  }\n",
              "\n",
              "  .colab-df-quickchart:hover {\n",
              "    background-color: #E2EBFA;\n",
              "    box-shadow: 0px 1px 2px rgba(60, 64, 67, 0.3), 0px 1px 3px 1px rgba(60, 64, 67, 0.15);\n",
              "    fill: #174EA6;\n",
              "  }\n",
              "\n",
              "  [theme=dark] .colab-df-quickchart {\n",
              "    background-color: #3B4455;\n",
              "    fill: #D2E3FC;\n",
              "  }\n",
              "\n",
              "  [theme=dark] .colab-df-quickchart:hover {\n",
              "    background-color: #434B5C;\n",
              "    box-shadow: 0px 1px 3px 1px rgba(0, 0, 0, 0.15);\n",
              "    filter: drop-shadow(0px 1px 2px rgba(0, 0, 0, 0.3));\n",
              "    fill: #FFFFFF;\n",
              "  }\n",
              "</style>\n",
              "\n",
              "    <script>\n",
              "      async function quickchart(key) {\n",
              "        const containerElement = document.querySelector('#' + key);\n",
              "        const charts = await google.colab.kernel.invokeFunction(\n",
              "            'suggestCharts', [key], {});\n",
              "      }\n",
              "    </script>\n",
              "\n",
              "      <script>\n",
              "\n",
              "function displayQuickchartButton(domScope) {\n",
              "  let quickchartButtonEl =\n",
              "    domScope.querySelector('#df-250779f0-452f-4723-8719-7976814abd09 button.colab-df-quickchart');\n",
              "  quickchartButtonEl.style.display =\n",
              "    google.colab.kernel.accessAllowed ? 'block' : 'none';\n",
              "}\n",
              "\n",
              "        displayQuickchartButton(document);\n",
              "      </script>\n",
              "      <style>\n",
              "    .colab-df-container {\n",
              "      display:flex;\n",
              "      flex-wrap:wrap;\n",
              "      gap: 12px;\n",
              "    }\n",
              "\n",
              "    .colab-df-convert {\n",
              "      background-color: #E8F0FE;\n",
              "      border: none;\n",
              "      border-radius: 50%;\n",
              "      cursor: pointer;\n",
              "      display: none;\n",
              "      fill: #1967D2;\n",
              "      height: 32px;\n",
              "      padding: 0 0 0 0;\n",
              "      width: 32px;\n",
              "    }\n",
              "\n",
              "    .colab-df-convert:hover {\n",
              "      background-color: #E2EBFA;\n",
              "      box-shadow: 0px 1px 2px rgba(60, 64, 67, 0.3), 0px 1px 3px 1px rgba(60, 64, 67, 0.15);\n",
              "      fill: #174EA6;\n",
              "    }\n",
              "\n",
              "    [theme=dark] .colab-df-convert {\n",
              "      background-color: #3B4455;\n",
              "      fill: #D2E3FC;\n",
              "    }\n",
              "\n",
              "    [theme=dark] .colab-df-convert:hover {\n",
              "      background-color: #434B5C;\n",
              "      box-shadow: 0px 1px 3px 1px rgba(0, 0, 0, 0.15);\n",
              "      filter: drop-shadow(0px 1px 2px rgba(0, 0, 0, 0.3));\n",
              "      fill: #FFFFFF;\n",
              "    }\n",
              "  </style>\n",
              "\n",
              "      <script>\n",
              "        const buttonEl =\n",
              "          document.querySelector('#df-935f3402-4819-4c54-a3a2-89e9bbc55f04 button.colab-df-convert');\n",
              "        buttonEl.style.display =\n",
              "          google.colab.kernel.accessAllowed ? 'block' : 'none';\n",
              "\n",
              "        async function convertToInteractive(key) {\n",
              "          const element = document.querySelector('#df-935f3402-4819-4c54-a3a2-89e9bbc55f04');\n",
              "          const dataTable =\n",
              "            await google.colab.kernel.invokeFunction('convertToInteractive',\n",
              "                                                     [key], {});\n",
              "          if (!dataTable) return;\n",
              "\n",
              "          const docLinkHtml = 'Like what you see? Visit the ' +\n",
              "            '<a target=\"_blank\" href=https://colab.research.google.com/notebooks/data_table.ipynb>data table notebook</a>'\n",
              "            + ' to learn more about interactive tables.';\n",
              "          element.innerHTML = '';\n",
              "          dataTable['output_type'] = 'display_data';\n",
              "          await google.colab.output.renderOutput(dataTable, element);\n",
              "          const docLink = document.createElement('div');\n",
              "          docLink.innerHTML = docLinkHtml;\n",
              "          element.appendChild(docLink);\n",
              "        }\n",
              "      </script>\n",
              "    </div>\n",
              "  </div>\n"
            ]
          },
          "metadata": {},
          "execution_count": 227
        }
      ],
      "source": [
        "credit_card_data.groupby('fraud').mean()"
      ]
    },
    {
      "cell_type": "code",
      "execution_count": null,
      "metadata": {
        "id": "BIEafdLhAhW0"
      },
      "outputs": [],
      "source": [
        "legit_sample = legit.sample(n=7200)"
      ]
    },
    {
      "cell_type": "code",
      "execution_count": null,
      "metadata": {
        "id": "GfDNxzMKAuHI"
      },
      "outputs": [],
      "source": [
        "new_dataset = pd.concat([legit_sample, illegal], axis=0)"
      ]
    },
    {
      "cell_type": "code",
      "execution_count": null,
      "metadata": {
        "colab": {
          "base_uri": "https://localhost:8080/",
          "height": 206
        },
        "id": "0ap98TBZAyuM",
        "outputId": "61a8187b-1657-4e13-83cd-7a8eca574512"
      },
      "outputs": [
        {
          "output_type": "execute_result",
          "data": {
            "text/plain": [
              "       step       customer  age gender  zipcodeOri       merchant  \\\n",
              "55493    21  'C1582366224'  5.0    'M'       28007   'M348934600'   \n",
              "50526    19   'C585290792'  4.0    'M'       28007    'M85975013'   \n",
              "44381    17  'C1645579872'  5.0    'F'       28007   'M348934600'   \n",
              "93488    34   'C106333716'  3.0    'F'       28007  'M1823072687'   \n",
              "15220     6  'C1421006824'  2.0    'F'       28007   'M348934600'   \n",
              "\n",
              "       zipMerchant             category  amount  fraud  \n",
              "55493        28007  'es_transportation'   52.88    0.0  \n",
              "50526        28007            'es_food'   70.37    0.0  \n",
              "44381        28007  'es_transportation'   37.47    0.0  \n",
              "93488        28007  'es_transportation'   44.42    0.0  \n",
              "15220        28007  'es_transportation'    1.18    0.0  "
            ],
            "text/html": [
              "\n",
              "\n",
              "  <div id=\"df-3592ddcc-6380-4b7e-9a75-e5274115fdd7\">\n",
              "    <div class=\"colab-df-container\">\n",
              "      <div>\n",
              "<style scoped>\n",
              "    .dataframe tbody tr th:only-of-type {\n",
              "        vertical-align: middle;\n",
              "    }\n",
              "\n",
              "    .dataframe tbody tr th {\n",
              "        vertical-align: top;\n",
              "    }\n",
              "\n",
              "    .dataframe thead th {\n",
              "        text-align: right;\n",
              "    }\n",
              "</style>\n",
              "<table border=\"1\" class=\"dataframe\">\n",
              "  <thead>\n",
              "    <tr style=\"text-align: right;\">\n",
              "      <th></th>\n",
              "      <th>step</th>\n",
              "      <th>customer</th>\n",
              "      <th>age</th>\n",
              "      <th>gender</th>\n",
              "      <th>zipcodeOri</th>\n",
              "      <th>merchant</th>\n",
              "      <th>zipMerchant</th>\n",
              "      <th>category</th>\n",
              "      <th>amount</th>\n",
              "      <th>fraud</th>\n",
              "    </tr>\n",
              "  </thead>\n",
              "  <tbody>\n",
              "    <tr>\n",
              "      <th>55493</th>\n",
              "      <td>21</td>\n",
              "      <td>'C1582366224'</td>\n",
              "      <td>5.0</td>\n",
              "      <td>'M'</td>\n",
              "      <td>28007</td>\n",
              "      <td>'M348934600'</td>\n",
              "      <td>28007</td>\n",
              "      <td>'es_transportation'</td>\n",
              "      <td>52.88</td>\n",
              "      <td>0.0</td>\n",
              "    </tr>\n",
              "    <tr>\n",
              "      <th>50526</th>\n",
              "      <td>19</td>\n",
              "      <td>'C585290792'</td>\n",
              "      <td>4.0</td>\n",
              "      <td>'M'</td>\n",
              "      <td>28007</td>\n",
              "      <td>'M85975013'</td>\n",
              "      <td>28007</td>\n",
              "      <td>'es_food'</td>\n",
              "      <td>70.37</td>\n",
              "      <td>0.0</td>\n",
              "    </tr>\n",
              "    <tr>\n",
              "      <th>44381</th>\n",
              "      <td>17</td>\n",
              "      <td>'C1645579872'</td>\n",
              "      <td>5.0</td>\n",
              "      <td>'F'</td>\n",
              "      <td>28007</td>\n",
              "      <td>'M348934600'</td>\n",
              "      <td>28007</td>\n",
              "      <td>'es_transportation'</td>\n",
              "      <td>37.47</td>\n",
              "      <td>0.0</td>\n",
              "    </tr>\n",
              "    <tr>\n",
              "      <th>93488</th>\n",
              "      <td>34</td>\n",
              "      <td>'C106333716'</td>\n",
              "      <td>3.0</td>\n",
              "      <td>'F'</td>\n",
              "      <td>28007</td>\n",
              "      <td>'M1823072687'</td>\n",
              "      <td>28007</td>\n",
              "      <td>'es_transportation'</td>\n",
              "      <td>44.42</td>\n",
              "      <td>0.0</td>\n",
              "    </tr>\n",
              "    <tr>\n",
              "      <th>15220</th>\n",
              "      <td>6</td>\n",
              "      <td>'C1421006824'</td>\n",
              "      <td>2.0</td>\n",
              "      <td>'F'</td>\n",
              "      <td>28007</td>\n",
              "      <td>'M348934600'</td>\n",
              "      <td>28007</td>\n",
              "      <td>'es_transportation'</td>\n",
              "      <td>1.18</td>\n",
              "      <td>0.0</td>\n",
              "    </tr>\n",
              "  </tbody>\n",
              "</table>\n",
              "</div>\n",
              "      <button class=\"colab-df-convert\" onclick=\"convertToInteractive('df-3592ddcc-6380-4b7e-9a75-e5274115fdd7')\"\n",
              "              title=\"Convert this dataframe to an interactive table.\"\n",
              "              style=\"display:none;\">\n",
              "\n",
              "  <svg xmlns=\"http://www.w3.org/2000/svg\" height=\"24px\"viewBox=\"0 0 24 24\"\n",
              "       width=\"24px\">\n",
              "    <path d=\"M0 0h24v24H0V0z\" fill=\"none\"/>\n",
              "    <path d=\"M18.56 5.44l.94 2.06.94-2.06 2.06-.94-2.06-.94-.94-2.06-.94 2.06-2.06.94zm-11 1L8.5 8.5l.94-2.06 2.06-.94-2.06-.94L8.5 2.5l-.94 2.06-2.06.94zm10 10l.94 2.06.94-2.06 2.06-.94-2.06-.94-.94-2.06-.94 2.06-2.06.94z\"/><path d=\"M17.41 7.96l-1.37-1.37c-.4-.4-.92-.59-1.43-.59-.52 0-1.04.2-1.43.59L10.3 9.45l-7.72 7.72c-.78.78-.78 2.05 0 2.83L4 21.41c.39.39.9.59 1.41.59.51 0 1.02-.2 1.41-.59l7.78-7.78 2.81-2.81c.8-.78.8-2.07 0-2.86zM5.41 20L4 18.59l7.72-7.72 1.47 1.35L5.41 20z\"/>\n",
              "  </svg>\n",
              "      </button>\n",
              "\n",
              "\n",
              "\n",
              "    <div id=\"df-23d5be86-e145-4a5d-ba36-4fada12a23f3\">\n",
              "      <button class=\"colab-df-quickchart\" onclick=\"quickchart('df-23d5be86-e145-4a5d-ba36-4fada12a23f3')\"\n",
              "              title=\"Suggest charts.\"\n",
              "              style=\"display:none;\">\n",
              "\n",
              "<svg xmlns=\"http://www.w3.org/2000/svg\" height=\"24px\"viewBox=\"0 0 24 24\"\n",
              "     width=\"24px\">\n",
              "    <g>\n",
              "        <path d=\"M19 3H5c-1.1 0-2 .9-2 2v14c0 1.1.9 2 2 2h14c1.1 0 2-.9 2-2V5c0-1.1-.9-2-2-2zM9 17H7v-7h2v7zm4 0h-2V7h2v10zm4 0h-2v-4h2v4z\"/>\n",
              "    </g>\n",
              "</svg>\n",
              "      </button>\n",
              "    </div>\n",
              "\n",
              "<style>\n",
              "  .colab-df-quickchart {\n",
              "    background-color: #E8F0FE;\n",
              "    border: none;\n",
              "    border-radius: 50%;\n",
              "    cursor: pointer;\n",
              "    display: none;\n",
              "    fill: #1967D2;\n",
              "    height: 32px;\n",
              "    padding: 0 0 0 0;\n",
              "    width: 32px;\n",
              "  }\n",
              "\n",
              "  .colab-df-quickchart:hover {\n",
              "    background-color: #E2EBFA;\n",
              "    box-shadow: 0px 1px 2px rgba(60, 64, 67, 0.3), 0px 1px 3px 1px rgba(60, 64, 67, 0.15);\n",
              "    fill: #174EA6;\n",
              "  }\n",
              "\n",
              "  [theme=dark] .colab-df-quickchart {\n",
              "    background-color: #3B4455;\n",
              "    fill: #D2E3FC;\n",
              "  }\n",
              "\n",
              "  [theme=dark] .colab-df-quickchart:hover {\n",
              "    background-color: #434B5C;\n",
              "    box-shadow: 0px 1px 3px 1px rgba(0, 0, 0, 0.15);\n",
              "    filter: drop-shadow(0px 1px 2px rgba(0, 0, 0, 0.3));\n",
              "    fill: #FFFFFF;\n",
              "  }\n",
              "</style>\n",
              "\n",
              "    <script>\n",
              "      async function quickchart(key) {\n",
              "        const containerElement = document.querySelector('#' + key);\n",
              "        const charts = await google.colab.kernel.invokeFunction(\n",
              "            'suggestCharts', [key], {});\n",
              "      }\n",
              "    </script>\n",
              "\n",
              "      <script>\n",
              "\n",
              "function displayQuickchartButton(domScope) {\n",
              "  let quickchartButtonEl =\n",
              "    domScope.querySelector('#df-23d5be86-e145-4a5d-ba36-4fada12a23f3 button.colab-df-quickchart');\n",
              "  quickchartButtonEl.style.display =\n",
              "    google.colab.kernel.accessAllowed ? 'block' : 'none';\n",
              "}\n",
              "\n",
              "        displayQuickchartButton(document);\n",
              "      </script>\n",
              "      <style>\n",
              "    .colab-df-container {\n",
              "      display:flex;\n",
              "      flex-wrap:wrap;\n",
              "      gap: 12px;\n",
              "    }\n",
              "\n",
              "    .colab-df-convert {\n",
              "      background-color: #E8F0FE;\n",
              "      border: none;\n",
              "      border-radius: 50%;\n",
              "      cursor: pointer;\n",
              "      display: none;\n",
              "      fill: #1967D2;\n",
              "      height: 32px;\n",
              "      padding: 0 0 0 0;\n",
              "      width: 32px;\n",
              "    }\n",
              "\n",
              "    .colab-df-convert:hover {\n",
              "      background-color: #E2EBFA;\n",
              "      box-shadow: 0px 1px 2px rgba(60, 64, 67, 0.3), 0px 1px 3px 1px rgba(60, 64, 67, 0.15);\n",
              "      fill: #174EA6;\n",
              "    }\n",
              "\n",
              "    [theme=dark] .colab-df-convert {\n",
              "      background-color: #3B4455;\n",
              "      fill: #D2E3FC;\n",
              "    }\n",
              "\n",
              "    [theme=dark] .colab-df-convert:hover {\n",
              "      background-color: #434B5C;\n",
              "      box-shadow: 0px 1px 3px 1px rgba(0, 0, 0, 0.15);\n",
              "      filter: drop-shadow(0px 1px 2px rgba(0, 0, 0, 0.3));\n",
              "      fill: #FFFFFF;\n",
              "    }\n",
              "  </style>\n",
              "\n",
              "      <script>\n",
              "        const buttonEl =\n",
              "          document.querySelector('#df-3592ddcc-6380-4b7e-9a75-e5274115fdd7 button.colab-df-convert');\n",
              "        buttonEl.style.display =\n",
              "          google.colab.kernel.accessAllowed ? 'block' : 'none';\n",
              "\n",
              "        async function convertToInteractive(key) {\n",
              "          const element = document.querySelector('#df-3592ddcc-6380-4b7e-9a75-e5274115fdd7');\n",
              "          const dataTable =\n",
              "            await google.colab.kernel.invokeFunction('convertToInteractive',\n",
              "                                                     [key], {});\n",
              "          if (!dataTable) return;\n",
              "\n",
              "          const docLinkHtml = 'Like what you see? Visit the ' +\n",
              "            '<a target=\"_blank\" href=https://colab.research.google.com/notebooks/data_table.ipynb>data table notebook</a>'\n",
              "            + ' to learn more about interactive tables.';\n",
              "          element.innerHTML = '';\n",
              "          dataTable['output_type'] = 'display_data';\n",
              "          await google.colab.output.renderOutput(dataTable, element);\n",
              "          const docLink = document.createElement('div');\n",
              "          docLink.innerHTML = docLinkHtml;\n",
              "          element.appendChild(docLink);\n",
              "        }\n",
              "      </script>\n",
              "    </div>\n",
              "  </div>\n"
            ]
          },
          "metadata": {},
          "execution_count": 230
        }
      ],
      "source": [
        "new_dataset.head()"
      ]
    },
    {
      "cell_type": "code",
      "execution_count": null,
      "metadata": {
        "colab": {
          "base_uri": "https://localhost:8080/",
          "height": 206
        },
        "id": "inwc8SxYA078",
        "outputId": "d36fe63c-422d-40b2-bc27-f9bb10865062"
      },
      "outputs": [
        {
          "output_type": "execute_result",
          "data": {
            "text/plain": [
              "        step       customer  age gender  zipcodeOri      merchant  \\\n",
              "102533    37  'C1994736634'  4.0    'F'       28007  'M980657600'   \n",
              "102553    37   'C297432139'  2.0    'F'       28007  'M855959430'   \n",
              "102554    37  'C1269288419'  3.0    'M'       28007  'M855959430'   \n",
              "102658    37  'C1404684380'  5.0    'F'       28007  'M480139044'   \n",
              "102659    37   'C375459759'  2.0    'F'       28007  'M480139044'   \n",
              "\n",
              "        zipMerchant            category  amount  fraud  \n",
              "102533        28007  'es_sportsandtoys'   62.40    1.0  \n",
              "102553        28007          'es_hyper'  390.99    1.0  \n",
              "102554        28007          'es_hyper'  153.99    1.0  \n",
              "102658        28007         'es_health'  408.29    1.0  \n",
              "102659        28007         'es_health'  669.91    1.0  "
            ],
            "text/html": [
              "\n",
              "\n",
              "  <div id=\"df-ee640154-5222-4505-a7fb-cced6d7a3bed\">\n",
              "    <div class=\"colab-df-container\">\n",
              "      <div>\n",
              "<style scoped>\n",
              "    .dataframe tbody tr th:only-of-type {\n",
              "        vertical-align: middle;\n",
              "    }\n",
              "\n",
              "    .dataframe tbody tr th {\n",
              "        vertical-align: top;\n",
              "    }\n",
              "\n",
              "    .dataframe thead th {\n",
              "        text-align: right;\n",
              "    }\n",
              "</style>\n",
              "<table border=\"1\" class=\"dataframe\">\n",
              "  <thead>\n",
              "    <tr style=\"text-align: right;\">\n",
              "      <th></th>\n",
              "      <th>step</th>\n",
              "      <th>customer</th>\n",
              "      <th>age</th>\n",
              "      <th>gender</th>\n",
              "      <th>zipcodeOri</th>\n",
              "      <th>merchant</th>\n",
              "      <th>zipMerchant</th>\n",
              "      <th>category</th>\n",
              "      <th>amount</th>\n",
              "      <th>fraud</th>\n",
              "    </tr>\n",
              "  </thead>\n",
              "  <tbody>\n",
              "    <tr>\n",
              "      <th>102533</th>\n",
              "      <td>37</td>\n",
              "      <td>'C1994736634'</td>\n",
              "      <td>4.0</td>\n",
              "      <td>'F'</td>\n",
              "      <td>28007</td>\n",
              "      <td>'M980657600'</td>\n",
              "      <td>28007</td>\n",
              "      <td>'es_sportsandtoys'</td>\n",
              "      <td>62.40</td>\n",
              "      <td>1.0</td>\n",
              "    </tr>\n",
              "    <tr>\n",
              "      <th>102553</th>\n",
              "      <td>37</td>\n",
              "      <td>'C297432139'</td>\n",
              "      <td>2.0</td>\n",
              "      <td>'F'</td>\n",
              "      <td>28007</td>\n",
              "      <td>'M855959430'</td>\n",
              "      <td>28007</td>\n",
              "      <td>'es_hyper'</td>\n",
              "      <td>390.99</td>\n",
              "      <td>1.0</td>\n",
              "    </tr>\n",
              "    <tr>\n",
              "      <th>102554</th>\n",
              "      <td>37</td>\n",
              "      <td>'C1269288419'</td>\n",
              "      <td>3.0</td>\n",
              "      <td>'M'</td>\n",
              "      <td>28007</td>\n",
              "      <td>'M855959430'</td>\n",
              "      <td>28007</td>\n",
              "      <td>'es_hyper'</td>\n",
              "      <td>153.99</td>\n",
              "      <td>1.0</td>\n",
              "    </tr>\n",
              "    <tr>\n",
              "      <th>102658</th>\n",
              "      <td>37</td>\n",
              "      <td>'C1404684380'</td>\n",
              "      <td>5.0</td>\n",
              "      <td>'F'</td>\n",
              "      <td>28007</td>\n",
              "      <td>'M480139044'</td>\n",
              "      <td>28007</td>\n",
              "      <td>'es_health'</td>\n",
              "      <td>408.29</td>\n",
              "      <td>1.0</td>\n",
              "    </tr>\n",
              "    <tr>\n",
              "      <th>102659</th>\n",
              "      <td>37</td>\n",
              "      <td>'C375459759'</td>\n",
              "      <td>2.0</td>\n",
              "      <td>'F'</td>\n",
              "      <td>28007</td>\n",
              "      <td>'M480139044'</td>\n",
              "      <td>28007</td>\n",
              "      <td>'es_health'</td>\n",
              "      <td>669.91</td>\n",
              "      <td>1.0</td>\n",
              "    </tr>\n",
              "  </tbody>\n",
              "</table>\n",
              "</div>\n",
              "      <button class=\"colab-df-convert\" onclick=\"convertToInteractive('df-ee640154-5222-4505-a7fb-cced6d7a3bed')\"\n",
              "              title=\"Convert this dataframe to an interactive table.\"\n",
              "              style=\"display:none;\">\n",
              "\n",
              "  <svg xmlns=\"http://www.w3.org/2000/svg\" height=\"24px\"viewBox=\"0 0 24 24\"\n",
              "       width=\"24px\">\n",
              "    <path d=\"M0 0h24v24H0V0z\" fill=\"none\"/>\n",
              "    <path d=\"M18.56 5.44l.94 2.06.94-2.06 2.06-.94-2.06-.94-.94-2.06-.94 2.06-2.06.94zm-11 1L8.5 8.5l.94-2.06 2.06-.94-2.06-.94L8.5 2.5l-.94 2.06-2.06.94zm10 10l.94 2.06.94-2.06 2.06-.94-2.06-.94-.94-2.06-.94 2.06-2.06.94z\"/><path d=\"M17.41 7.96l-1.37-1.37c-.4-.4-.92-.59-1.43-.59-.52 0-1.04.2-1.43.59L10.3 9.45l-7.72 7.72c-.78.78-.78 2.05 0 2.83L4 21.41c.39.39.9.59 1.41.59.51 0 1.02-.2 1.41-.59l7.78-7.78 2.81-2.81c.8-.78.8-2.07 0-2.86zM5.41 20L4 18.59l7.72-7.72 1.47 1.35L5.41 20z\"/>\n",
              "  </svg>\n",
              "      </button>\n",
              "\n",
              "\n",
              "\n",
              "    <div id=\"df-dee55e3c-b365-4794-835c-7a10af131fa1\">\n",
              "      <button class=\"colab-df-quickchart\" onclick=\"quickchart('df-dee55e3c-b365-4794-835c-7a10af131fa1')\"\n",
              "              title=\"Suggest charts.\"\n",
              "              style=\"display:none;\">\n",
              "\n",
              "<svg xmlns=\"http://www.w3.org/2000/svg\" height=\"24px\"viewBox=\"0 0 24 24\"\n",
              "     width=\"24px\">\n",
              "    <g>\n",
              "        <path d=\"M19 3H5c-1.1 0-2 .9-2 2v14c0 1.1.9 2 2 2h14c1.1 0 2-.9 2-2V5c0-1.1-.9-2-2-2zM9 17H7v-7h2v7zm4 0h-2V7h2v10zm4 0h-2v-4h2v4z\"/>\n",
              "    </g>\n",
              "</svg>\n",
              "      </button>\n",
              "    </div>\n",
              "\n",
              "<style>\n",
              "  .colab-df-quickchart {\n",
              "    background-color: #E8F0FE;\n",
              "    border: none;\n",
              "    border-radius: 50%;\n",
              "    cursor: pointer;\n",
              "    display: none;\n",
              "    fill: #1967D2;\n",
              "    height: 32px;\n",
              "    padding: 0 0 0 0;\n",
              "    width: 32px;\n",
              "  }\n",
              "\n",
              "  .colab-df-quickchart:hover {\n",
              "    background-color: #E2EBFA;\n",
              "    box-shadow: 0px 1px 2px rgba(60, 64, 67, 0.3), 0px 1px 3px 1px rgba(60, 64, 67, 0.15);\n",
              "    fill: #174EA6;\n",
              "  }\n",
              "\n",
              "  [theme=dark] .colab-df-quickchart {\n",
              "    background-color: #3B4455;\n",
              "    fill: #D2E3FC;\n",
              "  }\n",
              "\n",
              "  [theme=dark] .colab-df-quickchart:hover {\n",
              "    background-color: #434B5C;\n",
              "    box-shadow: 0px 1px 3px 1px rgba(0, 0, 0, 0.15);\n",
              "    filter: drop-shadow(0px 1px 2px rgba(0, 0, 0, 0.3));\n",
              "    fill: #FFFFFF;\n",
              "  }\n",
              "</style>\n",
              "\n",
              "    <script>\n",
              "      async function quickchart(key) {\n",
              "        const containerElement = document.querySelector('#' + key);\n",
              "        const charts = await google.colab.kernel.invokeFunction(\n",
              "            'suggestCharts', [key], {});\n",
              "      }\n",
              "    </script>\n",
              "\n",
              "      <script>\n",
              "\n",
              "function displayQuickchartButton(domScope) {\n",
              "  let quickchartButtonEl =\n",
              "    domScope.querySelector('#df-dee55e3c-b365-4794-835c-7a10af131fa1 button.colab-df-quickchart');\n",
              "  quickchartButtonEl.style.display =\n",
              "    google.colab.kernel.accessAllowed ? 'block' : 'none';\n",
              "}\n",
              "\n",
              "        displayQuickchartButton(document);\n",
              "      </script>\n",
              "      <style>\n",
              "    .colab-df-container {\n",
              "      display:flex;\n",
              "      flex-wrap:wrap;\n",
              "      gap: 12px;\n",
              "    }\n",
              "\n",
              "    .colab-df-convert {\n",
              "      background-color: #E8F0FE;\n",
              "      border: none;\n",
              "      border-radius: 50%;\n",
              "      cursor: pointer;\n",
              "      display: none;\n",
              "      fill: #1967D2;\n",
              "      height: 32px;\n",
              "      padding: 0 0 0 0;\n",
              "      width: 32px;\n",
              "    }\n",
              "\n",
              "    .colab-df-convert:hover {\n",
              "      background-color: #E2EBFA;\n",
              "      box-shadow: 0px 1px 2px rgba(60, 64, 67, 0.3), 0px 1px 3px 1px rgba(60, 64, 67, 0.15);\n",
              "      fill: #174EA6;\n",
              "    }\n",
              "\n",
              "    [theme=dark] .colab-df-convert {\n",
              "      background-color: #3B4455;\n",
              "      fill: #D2E3FC;\n",
              "    }\n",
              "\n",
              "    [theme=dark] .colab-df-convert:hover {\n",
              "      background-color: #434B5C;\n",
              "      box-shadow: 0px 1px 3px 1px rgba(0, 0, 0, 0.15);\n",
              "      filter: drop-shadow(0px 1px 2px rgba(0, 0, 0, 0.3));\n",
              "      fill: #FFFFFF;\n",
              "    }\n",
              "  </style>\n",
              "\n",
              "      <script>\n",
              "        const buttonEl =\n",
              "          document.querySelector('#df-ee640154-5222-4505-a7fb-cced6d7a3bed button.colab-df-convert');\n",
              "        buttonEl.style.display =\n",
              "          google.colab.kernel.accessAllowed ? 'block' : 'none';\n",
              "\n",
              "        async function convertToInteractive(key) {\n",
              "          const element = document.querySelector('#df-ee640154-5222-4505-a7fb-cced6d7a3bed');\n",
              "          const dataTable =\n",
              "            await google.colab.kernel.invokeFunction('convertToInteractive',\n",
              "                                                     [key], {});\n",
              "          if (!dataTable) return;\n",
              "\n",
              "          const docLinkHtml = 'Like what you see? Visit the ' +\n",
              "            '<a target=\"_blank\" href=https://colab.research.google.com/notebooks/data_table.ipynb>data table notebook</a>'\n",
              "            + ' to learn more about interactive tables.';\n",
              "          element.innerHTML = '';\n",
              "          dataTable['output_type'] = 'display_data';\n",
              "          await google.colab.output.renderOutput(dataTable, element);\n",
              "          const docLink = document.createElement('div');\n",
              "          docLink.innerHTML = docLinkHtml;\n",
              "          element.appendChild(docLink);\n",
              "        }\n",
              "      </script>\n",
              "    </div>\n",
              "  </div>\n"
            ]
          },
          "metadata": {},
          "execution_count": 231
        }
      ],
      "source": [
        "new_dataset.tail()"
      ]
    },
    {
      "cell_type": "code",
      "execution_count": null,
      "metadata": {
        "colab": {
          "base_uri": "https://localhost:8080/"
        },
        "id": "amIWWGwTA8TG",
        "outputId": "e3353282-3ff3-41dc-aad3-ca6fe8331dba"
      },
      "outputs": [
        {
          "output_type": "execute_result",
          "data": {
            "text/plain": [
              "0.0    7200\n",
              "1.0    1508\n",
              "Name: fraud, dtype: int64"
            ]
          },
          "metadata": {},
          "execution_count": 232
        }
      ],
      "source": [
        "new_dataset['fraud'].value_counts()"
      ]
    },
    {
      "cell_type": "code",
      "execution_count": null,
      "metadata": {
        "colab": {
          "base_uri": "https://localhost:8080/",
          "height": 198
        },
        "id": "uAS-BhULBABb",
        "outputId": "2883c24d-846b-43c4-e5cd-7e139d036d5a"
      },
      "outputs": [
        {
          "output_type": "stream",
          "name": "stderr",
          "text": [
            "<ipython-input-233-c464c8e1e62c>:1: FutureWarning: The default value of numeric_only in DataFrameGroupBy.mean is deprecated. In a future version, numeric_only will default to False. Either specify numeric_only or select only columns which should be valid for the function.\n",
            "  new_dataset.groupby('fraud').mean()\n"
          ]
        },
        {
          "output_type": "execute_result",
          "data": {
            "text/plain": [
              "            step       age  zipcodeOri  zipMerchant      amount\n",
              "fraud                                                          \n",
              "0.0    19.002083  2.972089     28007.0      28007.0   32.198667\n",
              "1.0    18.352785  3.120690     28007.0      28007.0  554.087175"
            ],
            "text/html": [
              "\n",
              "\n",
              "  <div id=\"df-74180cc2-74e5-4329-8267-76a839edbcef\">\n",
              "    <div class=\"colab-df-container\">\n",
              "      <div>\n",
              "<style scoped>\n",
              "    .dataframe tbody tr th:only-of-type {\n",
              "        vertical-align: middle;\n",
              "    }\n",
              "\n",
              "    .dataframe tbody tr th {\n",
              "        vertical-align: top;\n",
              "    }\n",
              "\n",
              "    .dataframe thead th {\n",
              "        text-align: right;\n",
              "    }\n",
              "</style>\n",
              "<table border=\"1\" class=\"dataframe\">\n",
              "  <thead>\n",
              "    <tr style=\"text-align: right;\">\n",
              "      <th></th>\n",
              "      <th>step</th>\n",
              "      <th>age</th>\n",
              "      <th>zipcodeOri</th>\n",
              "      <th>zipMerchant</th>\n",
              "      <th>amount</th>\n",
              "    </tr>\n",
              "    <tr>\n",
              "      <th>fraud</th>\n",
              "      <th></th>\n",
              "      <th></th>\n",
              "      <th></th>\n",
              "      <th></th>\n",
              "      <th></th>\n",
              "    </tr>\n",
              "  </thead>\n",
              "  <tbody>\n",
              "    <tr>\n",
              "      <th>0.0</th>\n",
              "      <td>19.002083</td>\n",
              "      <td>2.972089</td>\n",
              "      <td>28007.0</td>\n",
              "      <td>28007.0</td>\n",
              "      <td>32.198667</td>\n",
              "    </tr>\n",
              "    <tr>\n",
              "      <th>1.0</th>\n",
              "      <td>18.352785</td>\n",
              "      <td>3.120690</td>\n",
              "      <td>28007.0</td>\n",
              "      <td>28007.0</td>\n",
              "      <td>554.087175</td>\n",
              "    </tr>\n",
              "  </tbody>\n",
              "</table>\n",
              "</div>\n",
              "      <button class=\"colab-df-convert\" onclick=\"convertToInteractive('df-74180cc2-74e5-4329-8267-76a839edbcef')\"\n",
              "              title=\"Convert this dataframe to an interactive table.\"\n",
              "              style=\"display:none;\">\n",
              "\n",
              "  <svg xmlns=\"http://www.w3.org/2000/svg\" height=\"24px\"viewBox=\"0 0 24 24\"\n",
              "       width=\"24px\">\n",
              "    <path d=\"M0 0h24v24H0V0z\" fill=\"none\"/>\n",
              "    <path d=\"M18.56 5.44l.94 2.06.94-2.06 2.06-.94-2.06-.94-.94-2.06-.94 2.06-2.06.94zm-11 1L8.5 8.5l.94-2.06 2.06-.94-2.06-.94L8.5 2.5l-.94 2.06-2.06.94zm10 10l.94 2.06.94-2.06 2.06-.94-2.06-.94-.94-2.06-.94 2.06-2.06.94z\"/><path d=\"M17.41 7.96l-1.37-1.37c-.4-.4-.92-.59-1.43-.59-.52 0-1.04.2-1.43.59L10.3 9.45l-7.72 7.72c-.78.78-.78 2.05 0 2.83L4 21.41c.39.39.9.59 1.41.59.51 0 1.02-.2 1.41-.59l7.78-7.78 2.81-2.81c.8-.78.8-2.07 0-2.86zM5.41 20L4 18.59l7.72-7.72 1.47 1.35L5.41 20z\"/>\n",
              "  </svg>\n",
              "      </button>\n",
              "\n",
              "\n",
              "\n",
              "    <div id=\"df-23e07b58-93d6-4ee3-be4c-e399a270dac7\">\n",
              "      <button class=\"colab-df-quickchart\" onclick=\"quickchart('df-23e07b58-93d6-4ee3-be4c-e399a270dac7')\"\n",
              "              title=\"Suggest charts.\"\n",
              "              style=\"display:none;\">\n",
              "\n",
              "<svg xmlns=\"http://www.w3.org/2000/svg\" height=\"24px\"viewBox=\"0 0 24 24\"\n",
              "     width=\"24px\">\n",
              "    <g>\n",
              "        <path d=\"M19 3H5c-1.1 0-2 .9-2 2v14c0 1.1.9 2 2 2h14c1.1 0 2-.9 2-2V5c0-1.1-.9-2-2-2zM9 17H7v-7h2v7zm4 0h-2V7h2v10zm4 0h-2v-4h2v4z\"/>\n",
              "    </g>\n",
              "</svg>\n",
              "      </button>\n",
              "    </div>\n",
              "\n",
              "<style>\n",
              "  .colab-df-quickchart {\n",
              "    background-color: #E8F0FE;\n",
              "    border: none;\n",
              "    border-radius: 50%;\n",
              "    cursor: pointer;\n",
              "    display: none;\n",
              "    fill: #1967D2;\n",
              "    height: 32px;\n",
              "    padding: 0 0 0 0;\n",
              "    width: 32px;\n",
              "  }\n",
              "\n",
              "  .colab-df-quickchart:hover {\n",
              "    background-color: #E2EBFA;\n",
              "    box-shadow: 0px 1px 2px rgba(60, 64, 67, 0.3), 0px 1px 3px 1px rgba(60, 64, 67, 0.15);\n",
              "    fill: #174EA6;\n",
              "  }\n",
              "\n",
              "  [theme=dark] .colab-df-quickchart {\n",
              "    background-color: #3B4455;\n",
              "    fill: #D2E3FC;\n",
              "  }\n",
              "\n",
              "  [theme=dark] .colab-df-quickchart:hover {\n",
              "    background-color: #434B5C;\n",
              "    box-shadow: 0px 1px 3px 1px rgba(0, 0, 0, 0.15);\n",
              "    filter: drop-shadow(0px 1px 2px rgba(0, 0, 0, 0.3));\n",
              "    fill: #FFFFFF;\n",
              "  }\n",
              "</style>\n",
              "\n",
              "    <script>\n",
              "      async function quickchart(key) {\n",
              "        const containerElement = document.querySelector('#' + key);\n",
              "        const charts = await google.colab.kernel.invokeFunction(\n",
              "            'suggestCharts', [key], {});\n",
              "      }\n",
              "    </script>\n",
              "\n",
              "      <script>\n",
              "\n",
              "function displayQuickchartButton(domScope) {\n",
              "  let quickchartButtonEl =\n",
              "    domScope.querySelector('#df-23e07b58-93d6-4ee3-be4c-e399a270dac7 button.colab-df-quickchart');\n",
              "  quickchartButtonEl.style.display =\n",
              "    google.colab.kernel.accessAllowed ? 'block' : 'none';\n",
              "}\n",
              "\n",
              "        displayQuickchartButton(document);\n",
              "      </script>\n",
              "      <style>\n",
              "    .colab-df-container {\n",
              "      display:flex;\n",
              "      flex-wrap:wrap;\n",
              "      gap: 12px;\n",
              "    }\n",
              "\n",
              "    .colab-df-convert {\n",
              "      background-color: #E8F0FE;\n",
              "      border: none;\n",
              "      border-radius: 50%;\n",
              "      cursor: pointer;\n",
              "      display: none;\n",
              "      fill: #1967D2;\n",
              "      height: 32px;\n",
              "      padding: 0 0 0 0;\n",
              "      width: 32px;\n",
              "    }\n",
              "\n",
              "    .colab-df-convert:hover {\n",
              "      background-color: #E2EBFA;\n",
              "      box-shadow: 0px 1px 2px rgba(60, 64, 67, 0.3), 0px 1px 3px 1px rgba(60, 64, 67, 0.15);\n",
              "      fill: #174EA6;\n",
              "    }\n",
              "\n",
              "    [theme=dark] .colab-df-convert {\n",
              "      background-color: #3B4455;\n",
              "      fill: #D2E3FC;\n",
              "    }\n",
              "\n",
              "    [theme=dark] .colab-df-convert:hover {\n",
              "      background-color: #434B5C;\n",
              "      box-shadow: 0px 1px 3px 1px rgba(0, 0, 0, 0.15);\n",
              "      filter: drop-shadow(0px 1px 2px rgba(0, 0, 0, 0.3));\n",
              "      fill: #FFFFFF;\n",
              "    }\n",
              "  </style>\n",
              "\n",
              "      <script>\n",
              "        const buttonEl =\n",
              "          document.querySelector('#df-74180cc2-74e5-4329-8267-76a839edbcef button.colab-df-convert');\n",
              "        buttonEl.style.display =\n",
              "          google.colab.kernel.accessAllowed ? 'block' : 'none';\n",
              "\n",
              "        async function convertToInteractive(key) {\n",
              "          const element = document.querySelector('#df-74180cc2-74e5-4329-8267-76a839edbcef');\n",
              "          const dataTable =\n",
              "            await google.colab.kernel.invokeFunction('convertToInteractive',\n",
              "                                                     [key], {});\n",
              "          if (!dataTable) return;\n",
              "\n",
              "          const docLinkHtml = 'Like what you see? Visit the ' +\n",
              "            '<a target=\"_blank\" href=https://colab.research.google.com/notebooks/data_table.ipynb>data table notebook</a>'\n",
              "            + ' to learn more about interactive tables.';\n",
              "          element.innerHTML = '';\n",
              "          dataTable['output_type'] = 'display_data';\n",
              "          await google.colab.output.renderOutput(dataTable, element);\n",
              "          const docLink = document.createElement('div');\n",
              "          docLink.innerHTML = docLinkHtml;\n",
              "          element.appendChild(docLink);\n",
              "        }\n",
              "      </script>\n",
              "    </div>\n",
              "  </div>\n"
            ]
          },
          "metadata": {},
          "execution_count": 233
        }
      ],
      "source": [
        "new_dataset.groupby('fraud').mean()"
      ]
    },
    {
      "cell_type": "code",
      "execution_count": null,
      "metadata": {
        "id": "BL1UPwKRBCH0"
      },
      "outputs": [],
      "source": [
        "X = new_dataset.drop(columns='fraud', axis=1)\n",
        "Y = new_dataset['fraud']"
      ]
    },
    {
      "cell_type": "code",
      "execution_count": null,
      "metadata": {
        "colab": {
          "base_uri": "https://localhost:8080/"
        },
        "id": "DJCX2im-BMHj",
        "outputId": "3e0ee03d-2788-4cd2-8183-6c4f90d6760b"
      },
      "outputs": [
        {
          "output_type": "stream",
          "name": "stdout",
          "text": [
            "        step       customer  age gender  zipcodeOri       merchant  \\\n",
            "55493     21  'C1582366224'  5.0    'M'       28007   'M348934600'   \n",
            "50526     19   'C585290792'  4.0    'M'       28007    'M85975013'   \n",
            "44381     17  'C1645579872'  5.0    'F'       28007   'M348934600'   \n",
            "93488     34   'C106333716'  3.0    'F'       28007  'M1823072687'   \n",
            "15220      6  'C1421006824'  2.0    'F'       28007   'M348934600'   \n",
            "...      ...            ...  ...    ...         ...            ...   \n",
            "102533    37  'C1994736634'  4.0    'F'       28007   'M980657600'   \n",
            "102553    37   'C297432139'  2.0    'F'       28007   'M855959430'   \n",
            "102554    37  'C1269288419'  3.0    'M'       28007   'M855959430'   \n",
            "102658    37  'C1404684380'  5.0    'F'       28007   'M480139044'   \n",
            "102659    37   'C375459759'  2.0    'F'       28007   'M480139044'   \n",
            "\n",
            "        zipMerchant             category  amount  \n",
            "55493         28007  'es_transportation'   52.88  \n",
            "50526         28007            'es_food'   70.37  \n",
            "44381         28007  'es_transportation'   37.47  \n",
            "93488         28007  'es_transportation'   44.42  \n",
            "15220         28007  'es_transportation'    1.18  \n",
            "...             ...                  ...     ...  \n",
            "102533        28007   'es_sportsandtoys'   62.40  \n",
            "102553        28007           'es_hyper'  390.99  \n",
            "102554        28007           'es_hyper'  153.99  \n",
            "102658        28007          'es_health'  408.29  \n",
            "102659        28007          'es_health'  669.91  \n",
            "\n",
            "[8708 rows x 9 columns]\n"
          ]
        }
      ],
      "source": [
        "print(X)"
      ]
    },
    {
      "cell_type": "code",
      "execution_count": null,
      "metadata": {
        "colab": {
          "base_uri": "https://localhost:8080/"
        },
        "id": "0FG0dLlVBW7u",
        "outputId": "1a89b65b-0af7-4828-82d6-94ef0e71cddc"
      },
      "outputs": [
        {
          "output_type": "stream",
          "name": "stdout",
          "text": [
            "55493     0.0\n",
            "50526     0.0\n",
            "44381     0.0\n",
            "93488     0.0\n",
            "15220     0.0\n",
            "         ... \n",
            "102533    1.0\n",
            "102553    1.0\n",
            "102554    1.0\n",
            "102658    1.0\n",
            "102659    1.0\n",
            "Name: fraud, Length: 8708, dtype: float64\n"
          ]
        }
      ],
      "source": [
        "print(Y)"
      ]
    },
    {
      "cell_type": "code",
      "execution_count": null,
      "metadata": {
        "id": "vynpk9fqBZD1"
      },
      "outputs": [],
      "source": [
        "X_train, X_test, Y_train, Y_test = train_test_split(X, Y, test_size=0.2, stratify=Y, random_state=2)"
      ]
    },
    {
      "cell_type": "code",
      "execution_count": null,
      "metadata": {
        "colab": {
          "base_uri": "https://localhost:8080/"
        },
        "id": "6ZRzqlZDBegg",
        "outputId": "706d36ef-b12a-43d2-82fd-105916448588"
      },
      "outputs": [
        {
          "output_type": "stream",
          "name": "stdout",
          "text": [
            "(8708, 9) (6966, 9) (1742, 9)\n"
          ]
        }
      ],
      "source": [
        "print(X.shape, X_train.shape, X_test.shape)"
      ]
    },
    {
      "cell_type": "code",
      "execution_count": null,
      "metadata": {
        "id": "4cAYuSiVIVZb"
      },
      "outputs": [],
      "source": [
        "from sklearn.preprocessing import OneHotEncoder\n",
        "from sklearn.compose import ColumnTransformer\n",
        "from sklearn.linear_model import LogisticRegression\n",
        "from sklearn.metrics import accuracy_score\n",
        "\n",
        "# ... (previous code)\n",
        "\n",
        "# Step 1: Extract unique categories from both training and test datasets\n",
        "unique_categories_train = {}\n",
        "unique_categories_test = {}\n",
        "\n",
        "for column in categorical_columns:\n",
        "    unique_categories_train[column] = X_train[column].unique()\n",
        "    unique_categories_test[column] = X_test[column].unique()\n",
        "\n",
        "# Step 2: Handle unknown categories using a mapping strategy\n",
        "unknown_category_mapping = {'customer': 'UNKNOWN_CATEGORY', 'gender': 'UNKNOWN_CATEGORY','merchant': 'UNKNOWN_CATEGORY','category': 'UNKNOWN_CATEGORY' }\n",
        "\n",
        "for column in categorical_columns:\n",
        "    X_train[column] = X_train[column].apply(lambda x: x if x in unique_categories_train[column] else unknown_category_mapping.get(column, x))\n",
        "    X_test[column] = X_test[column].apply(lambda x: x if x in unique_categories_train[column] else unknown_category_mapping.get(column, x))\n",
        "\n",
        "# Remove 'UNKNOWN_CATEGORY' values from the dataset\n",
        "X_train = X_train[X_train['customer'] != 'UNKNOWN_CATEGORY']\n",
        "X_test = X_test[X_test['customer'] != 'UNKNOWN_CATEGORY']\n",
        "\n",
        "# Step 3: Preprocessing using OneHotEncoder\n",
        "preprocessor = ColumnTransformer(\n",
        "    transformers=[('cat', OneHotEncoder(handle_unknown='ignore'), categorical_columns)],\n",
        "    remainder='passthrough'\n",
        ")\n",
        "\n",
        "# Fit and transform on training data\n",
        "X_train_encoded = preprocessor.fit_transform(X_train)\n",
        "\n",
        "# Transform only on test data (do not fit again)\n",
        "X_test_encoded = preprocessor.transform(X_test)\n",
        "\n",
        "# ... (rest of the code)\n"
      ]
    },
    {
      "cell_type": "code",
      "execution_count": null,
      "metadata": {
        "id": "KCGM1bbGBgHm"
      },
      "outputs": [],
      "source": [
        "model = LogisticRegression()"
      ]
    },
    {
      "cell_type": "code",
      "execution_count": null,
      "metadata": {
        "id": "yDMvL7yVBqBp",
        "colab": {
          "base_uri": "https://localhost:8080/",
          "height": 74
        },
        "outputId": "d91be058-20db-41e1-815a-9b84a34200db"
      },
      "outputs": [
        {
          "output_type": "execute_result",
          "data": {
            "text/plain": [
              "LogisticRegression()"
            ],
            "text/html": [
              "<style>#sk-container-id-5 {color: black;background-color: white;}#sk-container-id-5 pre{padding: 0;}#sk-container-id-5 div.sk-toggleable {background-color: white;}#sk-container-id-5 label.sk-toggleable__label {cursor: pointer;display: block;width: 100%;margin-bottom: 0;padding: 0.3em;box-sizing: border-box;text-align: center;}#sk-container-id-5 label.sk-toggleable__label-arrow:before {content: \"▸\";float: left;margin-right: 0.25em;color: #696969;}#sk-container-id-5 label.sk-toggleable__label-arrow:hover:before {color: black;}#sk-container-id-5 div.sk-estimator:hover label.sk-toggleable__label-arrow:before {color: black;}#sk-container-id-5 div.sk-toggleable__content {max-height: 0;max-width: 0;overflow: hidden;text-align: left;background-color: #f0f8ff;}#sk-container-id-5 div.sk-toggleable__content pre {margin: 0.2em;color: black;border-radius: 0.25em;background-color: #f0f8ff;}#sk-container-id-5 input.sk-toggleable__control:checked~div.sk-toggleable__content {max-height: 200px;max-width: 100%;overflow: auto;}#sk-container-id-5 input.sk-toggleable__control:checked~label.sk-toggleable__label-arrow:before {content: \"▾\";}#sk-container-id-5 div.sk-estimator input.sk-toggleable__control:checked~label.sk-toggleable__label {background-color: #d4ebff;}#sk-container-id-5 div.sk-label input.sk-toggleable__control:checked~label.sk-toggleable__label {background-color: #d4ebff;}#sk-container-id-5 input.sk-hidden--visually {border: 0;clip: rect(1px 1px 1px 1px);clip: rect(1px, 1px, 1px, 1px);height: 1px;margin: -1px;overflow: hidden;padding: 0;position: absolute;width: 1px;}#sk-container-id-5 div.sk-estimator {font-family: monospace;background-color: #f0f8ff;border: 1px dotted black;border-radius: 0.25em;box-sizing: border-box;margin-bottom: 0.5em;}#sk-container-id-5 div.sk-estimator:hover {background-color: #d4ebff;}#sk-container-id-5 div.sk-parallel-item::after {content: \"\";width: 100%;border-bottom: 1px solid gray;flex-grow: 1;}#sk-container-id-5 div.sk-label:hover label.sk-toggleable__label {background-color: #d4ebff;}#sk-container-id-5 div.sk-serial::before {content: \"\";position: absolute;border-left: 1px solid gray;box-sizing: border-box;top: 0;bottom: 0;left: 50%;z-index: 0;}#sk-container-id-5 div.sk-serial {display: flex;flex-direction: column;align-items: center;background-color: white;padding-right: 0.2em;padding-left: 0.2em;position: relative;}#sk-container-id-5 div.sk-item {position: relative;z-index: 1;}#sk-container-id-5 div.sk-parallel {display: flex;align-items: stretch;justify-content: center;background-color: white;position: relative;}#sk-container-id-5 div.sk-item::before, #sk-container-id-5 div.sk-parallel-item::before {content: \"\";position: absolute;border-left: 1px solid gray;box-sizing: border-box;top: 0;bottom: 0;left: 50%;z-index: -1;}#sk-container-id-5 div.sk-parallel-item {display: flex;flex-direction: column;z-index: 1;position: relative;background-color: white;}#sk-container-id-5 div.sk-parallel-item:first-child::after {align-self: flex-end;width: 50%;}#sk-container-id-5 div.sk-parallel-item:last-child::after {align-self: flex-start;width: 50%;}#sk-container-id-5 div.sk-parallel-item:only-child::after {width: 0;}#sk-container-id-5 div.sk-dashed-wrapped {border: 1px dashed gray;margin: 0 0.4em 0.5em 0.4em;box-sizing: border-box;padding-bottom: 0.4em;background-color: white;}#sk-container-id-5 div.sk-label label {font-family: monospace;font-weight: bold;display: inline-block;line-height: 1.2em;}#sk-container-id-5 div.sk-label-container {text-align: center;}#sk-container-id-5 div.sk-container {/* jupyter's `normalize.less` sets `[hidden] { display: none; }` but bootstrap.min.css set `[hidden] { display: none !important; }` so we also need the `!important` here to be able to override the default hidden behavior on the sphinx rendered scikit-learn.org. See: https://github.com/scikit-learn/scikit-learn/issues/21755 */display: inline-block !important;position: relative;}#sk-container-id-5 div.sk-text-repr-fallback {display: none;}</style><div id=\"sk-container-id-5\" class=\"sk-top-container\"><div class=\"sk-text-repr-fallback\"><pre>LogisticRegression()</pre><b>In a Jupyter environment, please rerun this cell to show the HTML representation or trust the notebook. <br />On GitHub, the HTML representation is unable to render, please try loading this page with nbviewer.org.</b></div><div class=\"sk-container\" hidden><div class=\"sk-item\"><div class=\"sk-estimator sk-toggleable\"><input class=\"sk-toggleable__control sk-hidden--visually\" id=\"sk-estimator-id-5\" type=\"checkbox\" checked><label for=\"sk-estimator-id-5\" class=\"sk-toggleable__label sk-toggleable__label-arrow\">LogisticRegression</label><div class=\"sk-toggleable__content\"><pre>LogisticRegression()</pre></div></div></div></div></div>"
            ]
          },
          "metadata": {},
          "execution_count": 241
        }
      ],
      "source": [
        "model.fit(X_train_encoded, Y_train)"
      ]
    },
    {
      "cell_type": "code",
      "execution_count": null,
      "metadata": {
        "id": "5TuF99h9Brib"
      },
      "outputs": [],
      "source": [
        "# accuracy on training data\n",
        "X_train_prediction = model.predict(X_train_encoded)\n",
        "training_data_accuracy = accuracy_score(X_train_prediction, Y_train)"
      ]
    },
    {
      "cell_type": "code",
      "execution_count": null,
      "metadata": {
        "id": "FeTgiCyFEEZV",
        "colab": {
          "base_uri": "https://localhost:8080/"
        },
        "outputId": "9053cf43-05f1-4d12-e9d8-94ac58d191ac"
      },
      "outputs": [
        {
          "output_type": "stream",
          "name": "stdout",
          "text": [
            "Accuracy on Training data :  0.9496124031007752\n"
          ]
        }
      ],
      "source": [
        "print('Accuracy on Training data : ', training_data_accuracy)"
      ]
    },
    {
      "cell_type": "code",
      "execution_count": null,
      "metadata": {
        "id": "VnraOGLBGlp5",
        "colab": {
          "base_uri": "https://localhost:8080/"
        },
        "outputId": "cd257afd-955b-48e8-8dc7-0b63fad9c1fd"
      },
      "outputs": [
        {
          "output_type": "stream",
          "name": "stdout",
          "text": [
            "Test Data Accuracy: 0.9481037924151696\n"
          ]
        }
      ],
      "source": [
        "X_test_encoded = X_test_encoded.toarray()\n",
        "Y_test_prediction = model.predict(X_test_encoded)\n",
        "Y_test = Y_test[X_test.index]\n",
        "test_data_accuracy = accuracy_score(Y_test_prediction, Y_test)\n",
        "print(\"Test Data Accuracy:\", test_data_accuracy)"
      ]
    },
    {
      "cell_type": "code",
      "execution_count": null,
      "metadata": {
        "id": "eHM8CvXXRsDG",
        "colab": {
          "base_uri": "https://localhost:8080/",
          "height": 390
        },
        "outputId": "ec9ea495-26b7-491f-99bc-93b1eaedb78c"
      },
      "outputs": [
        {
          "output_type": "error",
          "ename": "KeyboardInterrupt",
          "evalue": "ignored",
          "traceback": [
            "\u001b[0;31m---------------------------------------------------------------------------\u001b[0m",
            "\u001b[0;31mKeyboardInterrupt\u001b[0m                         Traceback (most recent call last)",
            "\u001b[0;32m<ipython-input-245-31c7146dfc81>\u001b[0m in \u001b[0;36m<cell line: 29>\u001b[0;34m()\u001b[0m\n\u001b[1;32m     27\u001b[0m         \u001b[0;32mreturn\u001b[0m \u001b[0;34m'Fraud Transaction'\u001b[0m\u001b[0;34m\u001b[0m\u001b[0;34m\u001b[0m\u001b[0m\n\u001b[1;32m     28\u001b[0m \u001b[0;34m\u001b[0m\u001b[0m\n\u001b[0;32m---> 29\u001b[0;31m \u001b[0mstep\u001b[0m \u001b[0;34m=\u001b[0m \u001b[0minput\u001b[0m\u001b[0;34m(\u001b[0m\u001b[0;34m\"Enter step: \"\u001b[0m\u001b[0;34m)\u001b[0m\u001b[0;34m\u001b[0m\u001b[0;34m\u001b[0m\u001b[0m\n\u001b[0m\u001b[1;32m     30\u001b[0m \u001b[0mcustomer\u001b[0m \u001b[0;34m=\u001b[0m \u001b[0minput\u001b[0m\u001b[0;34m(\u001b[0m\u001b[0;34m\"Enter customer ID: \"\u001b[0m\u001b[0;34m)\u001b[0m\u001b[0;34m\u001b[0m\u001b[0;34m\u001b[0m\u001b[0m\n\u001b[1;32m     31\u001b[0m \u001b[0mage\u001b[0m \u001b[0;34m=\u001b[0m \u001b[0minput\u001b[0m\u001b[0;34m(\u001b[0m\u001b[0;34m\"Enter age: \"\u001b[0m\u001b[0;34m)\u001b[0m\u001b[0;34m\u001b[0m\u001b[0;34m\u001b[0m\u001b[0m\n",
            "\u001b[0;32m/usr/local/lib/python3.10/dist-packages/ipykernel/kernelbase.py\u001b[0m in \u001b[0;36mraw_input\u001b[0;34m(self, prompt)\u001b[0m\n\u001b[1;32m    849\u001b[0m                 \u001b[0;34m\"raw_input was called, but this frontend does not support input requests.\"\u001b[0m\u001b[0;34m\u001b[0m\u001b[0;34m\u001b[0m\u001b[0m\n\u001b[1;32m    850\u001b[0m             )\n\u001b[0;32m--> 851\u001b[0;31m         return self._input_request(str(prompt),\n\u001b[0m\u001b[1;32m    852\u001b[0m             \u001b[0mself\u001b[0m\u001b[0;34m.\u001b[0m\u001b[0m_parent_ident\u001b[0m\u001b[0;34m,\u001b[0m\u001b[0;34m\u001b[0m\u001b[0;34m\u001b[0m\u001b[0m\n\u001b[1;32m    853\u001b[0m             \u001b[0mself\u001b[0m\u001b[0;34m.\u001b[0m\u001b[0m_parent_header\u001b[0m\u001b[0;34m,\u001b[0m\u001b[0;34m\u001b[0m\u001b[0;34m\u001b[0m\u001b[0m\n",
            "\u001b[0;32m/usr/local/lib/python3.10/dist-packages/ipykernel/kernelbase.py\u001b[0m in \u001b[0;36m_input_request\u001b[0;34m(self, prompt, ident, parent, password)\u001b[0m\n\u001b[1;32m    893\u001b[0m             \u001b[0;32mexcept\u001b[0m \u001b[0mKeyboardInterrupt\u001b[0m\u001b[0;34m:\u001b[0m\u001b[0;34m\u001b[0m\u001b[0;34m\u001b[0m\u001b[0m\n\u001b[1;32m    894\u001b[0m                 \u001b[0;31m# re-raise KeyboardInterrupt, to truncate traceback\u001b[0m\u001b[0;34m\u001b[0m\u001b[0;34m\u001b[0m\u001b[0m\n\u001b[0;32m--> 895\u001b[0;31m                 \u001b[0;32mraise\u001b[0m \u001b[0mKeyboardInterrupt\u001b[0m\u001b[0;34m(\u001b[0m\u001b[0;34m\"Interrupted by user\"\u001b[0m\u001b[0;34m)\u001b[0m \u001b[0;32mfrom\u001b[0m \u001b[0;32mNone\u001b[0m\u001b[0;34m\u001b[0m\u001b[0;34m\u001b[0m\u001b[0m\n\u001b[0m\u001b[1;32m    896\u001b[0m             \u001b[0;32mexcept\u001b[0m \u001b[0mException\u001b[0m \u001b[0;32mas\u001b[0m \u001b[0me\u001b[0m\u001b[0;34m:\u001b[0m\u001b[0;34m\u001b[0m\u001b[0;34m\u001b[0m\u001b[0m\n\u001b[1;32m    897\u001b[0m                 \u001b[0mself\u001b[0m\u001b[0;34m.\u001b[0m\u001b[0mlog\u001b[0m\u001b[0;34m.\u001b[0m\u001b[0mwarning\u001b[0m\u001b[0;34m(\u001b[0m\u001b[0;34m\"Invalid Message:\"\u001b[0m\u001b[0;34m,\u001b[0m \u001b[0mexc_info\u001b[0m\u001b[0;34m=\u001b[0m\u001b[0;32mTrue\u001b[0m\u001b[0;34m)\u001b[0m\u001b[0;34m\u001b[0m\u001b[0;34m\u001b[0m\u001b[0m\n",
            "\u001b[0;31mKeyboardInterrupt\u001b[0m: Interrupted by user"
          ]
        }
      ],
      "source": [
        "import numpy as np\n",
        "\n",
        "def predict_transaction(step, customer, age, gender, zipcodeOri, merchant, zipMerchant, category, amount, model, preprocessor):\n",
        "    input_data = {\n",
        "        'step': [int(step)],\n",
        "        'customer': [customer],\n",
        "        'age': [int(age)],\n",
        "        'gender': [gender],\n",
        "        'zipcodeOri': [int(zipcodeOri)],\n",
        "        'merchant': [merchant],\n",
        "        'zipMerchant': [zipMerchant],  # Keep this as string\n",
        "        'category': [category],\n",
        "        'amount': [float(amount)]\n",
        "    }\n",
        "\n",
        "    input_df = pd.DataFrame(input_data)\n",
        "\n",
        "    categorical_columns = ['customer', 'gender', 'merchant', 'category','age', 'zipcodeOri', 'step', 'amount',\"zipMerchant\"]\n",
        "    input_encoded = preprocessor.transform(input_df[categorical_columns])\n",
        "\n",
        "    #input_data_combined = np.concatenate([input_encoded, input_df[['age', 'zipcodeOri', 'step', 'amount']].values], axis=1)\n",
        "\n",
        "    prediction = model.predict(input_encoded)\n",
        "    if prediction[0] == 0:\n",
        "        return 'Legit Transaction'\n",
        "    else:\n",
        "        return 'Fraud Transaction'\n",
        "\n",
        "step = input(\"Enter step: \")\n",
        "customer = input(\"Enter customer ID: \")\n",
        "age = input(\"Enter age: \")\n",
        "gender = input(\"Enter gender: \")\n",
        "zipcodeOri = input(\"Enter zipcodeOri: \")\n",
        "merchant = input(\"Enter merchant ID: \")\n",
        "zipMerchant = input(\"Enter zipMerchant: \")\n",
        "category = input(\"Enter category: \")\n",
        "\n",
        "amount = input(\"Enter amount: \")\n",
        "\n",
        "result = predict_transaction(step,customer, age, gender, zipcodeOri, merchant, zipMerchant, category, amount, model, preprocessor)\n",
        "print(\"Predicted Transaction Type:\", result)\n"
      ]
    },
    {
      "cell_type": "code",
      "execution_count": null,
      "metadata": {
        "id": "zV6nsQDbMnif"
      },
      "outputs": [],
      "source": []
    }
  ],
  "metadata": {
    "colab": {
      "provenance": []
    },
    "kernelspec": {
      "display_name": "Python 3",
      "name": "python3"
    },
    "language_info": {
      "name": "python"
    }
  },
  "nbformat": 4,
  "nbformat_minor": 0
}