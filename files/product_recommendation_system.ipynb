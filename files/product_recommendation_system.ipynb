{
  "cells": [
    {
      "cell_type": "code",
      "execution_count": null,
      "metadata": {
        "id": "xqpHECnssPTR"
      },
      "outputs": [],
      "source": [
        "import numpy as np\n",
        "import pandas as pd\n",
        "import matplotlib.pyplot as plt\n",
        "import seaborn as sns\n",
        "import difflib\n",
        "from sklearn.feature_extraction.text import TfidfVectorizer\n",
        "from sklearn.metrics.pairwise import cosine_similarity\n",
        "from IPython.display import display, Image"
      ]
    },
    {
      "cell_type": "code",
      "execution_count": null,
      "metadata": {
        "id": "s5rz7_sasjgf"
      },
      "outputs": [],
      "source": [
        "amazon_data = pd.read_csv(\"/content/amazon.csv\")"
      ]
    },
    {
      "cell_type": "code",
      "execution_count": null,
      "metadata": {
        "colab": {
          "base_uri": "https://localhost:8080/",
          "height": 538
        },
        "id": "ePodxhCMspM4",
        "outputId": "069cad1e-d164-4bce-a9b8-7079ce6ce1c7"
      },
      "outputs": [
        {
          "output_type": "execute_result",
          "data": {
            "text/plain": [
              "   product_id                                       product_name  \\\n",
              "0  B07JW9H4J1  Wayona Nylon Braided USB to Lightning Fast Cha...   \n",
              "1  B098NS6PVG  Ambrane Unbreakable 60W / 3A Fast Charging 1.5...   \n",
              "2  B096MSW6CT  Sounce Fast Phone Charging Cable & Data Sync U...   \n",
              "3  B08HDJ86NZ  boAt Deuce USB 300 2 in 1 Type-C & Micro USB S...   \n",
              "4  B08CF3B7N1  Portronics Konnect L 1.2M Fast Charging 3A 8 P...   \n",
              "\n",
              "                                            category discounted_price  \\\n",
              "0  Computers&Accessories|Accessories&Peripherals|...             ₹399   \n",
              "1  Computers&Accessories|Accessories&Peripherals|...             ₹199   \n",
              "2  Computers&Accessories|Accessories&Peripherals|...             ₹199   \n",
              "3  Computers&Accessories|Accessories&Peripherals|...             ₹329   \n",
              "4  Computers&Accessories|Accessories&Peripherals|...             ₹154   \n",
              "\n",
              "  actual_price discount_percentage rating rating_count  \\\n",
              "0       ₹1,099                 64%    4.2       24,269   \n",
              "1         ₹349                 43%    4.0       43,994   \n",
              "2       ₹1,899                 90%    3.9        7,928   \n",
              "3         ₹699                 53%    4.2       94,363   \n",
              "4         ₹399                 61%    4.2       16,905   \n",
              "\n",
              "                                       about_product  \\\n",
              "0  High Compatibility : Compatible With iPhone 12...   \n",
              "1  Compatible with all Type C enabled devices, be...   \n",
              "2  【 Fast Charger& Data Sync】-With built-in safet...   \n",
              "3  The boAt Deuce USB 300 2 in 1 cable is compati...   \n",
              "4  [CHARGE & SYNC FUNCTION]- This cable comes wit...   \n",
              "\n",
              "                                             user_id  \\\n",
              "0  AG3D6O4STAQKAY2UVGEUV46KN35Q,AHMY5CWJMMK5BJRBB...   \n",
              "1  AECPFYFQVRUWC3KGNLJIOREFP5LQ,AGYYVPDD7YG7FYNBX...   \n",
              "2  AGU3BBQ2V2DDAMOAKGFAWDDQ6QHA,AESFLDV2PT363T2AQ...   \n",
              "3  AEWAZDZZJLQUYVOVGBEUKSLXHQ5A,AG5HTSFRRE6NL3M5S...   \n",
              "4  AE3Q6KSUK5P75D5HFYHCRAOLODSA,AFUGIFH5ZAFXRDSZH...   \n",
              "\n",
              "                                           user_name  \\\n",
              "0  Manav,Adarsh gupta,Sundeep,S.Sayeed Ahmed,jasp...   \n",
              "1  ArdKn,Nirbhay kumar,Sagar Viswanathan,Asp,Plac...   \n",
              "2  Kunal,Himanshu,viswanath,sai niharka,saqib mal...   \n",
              "3  Omkar dhale,JD,HEMALATHA,Ajwadh a.,amar singh ...   \n",
              "4  rahuls6099,Swasat Borah,Ajay Wadke,Pranali,RVK...   \n",
              "\n",
              "                                           review_id  \\\n",
              "0  R3HXWT0LRP0NMF,R2AJM3LFTLZHFO,R6AQJGUP6P86,R1K...   \n",
              "1  RGIQEG07R9HS2,R1SMWZQ86XIN8U,R2J3Y1WL29GWDE,RY...   \n",
              "2  R3J3EQQ9TZI5ZJ,R3E7WBGK7ID0KV,RWU79XKQ6I1QF,R2...   \n",
              "3  R3EEUZKKK9J36I,R3HJVYCLYOY554,REDECAZ7AMPQC,R1...   \n",
              "4  R1BP4L2HH9TFUP,R16PVJEXKV6QZS,R2UPDB81N66T4P,R...   \n",
              "\n",
              "                                        review_title  \\\n",
              "0  Satisfied,Charging is really fast,Value for mo...   \n",
              "1  A Good Braided Cable for Your Type C Device,Go...   \n",
              "2  Good speed for earlier versions,Good Product,W...   \n",
              "3  Good product,Good one,Nice,Really nice product...   \n",
              "4  As good as original,Decent,Good one for second...   \n",
              "\n",
              "                                      review_content  \\\n",
              "0  Looks durable Charging is fine tooNo complains...   \n",
              "1  I ordered this cable to connect my phone to An...   \n",
              "2  Not quite durable and sturdy,https://m.media-a...   \n",
              "3  Good product,long wire,Charges good,Nice,I bou...   \n",
              "4  Bought this instead of original apple, does th...   \n",
              "\n",
              "                                            img_link  \\\n",
              "0  https://m.media-amazon.com/images/W/WEBP_40237...   \n",
              "1  https://m.media-amazon.com/images/W/WEBP_40237...   \n",
              "2  https://m.media-amazon.com/images/W/WEBP_40237...   \n",
              "3  https://m.media-amazon.com/images/I/41V5FtEWPk...   \n",
              "4  https://m.media-amazon.com/images/W/WEBP_40237...   \n",
              "\n",
              "                                        product_link  \n",
              "0  https://www.amazon.in/Wayona-Braided-WN3LG1-Sy...  \n",
              "1  https://www.amazon.in/Ambrane-Unbreakable-Char...  \n",
              "2  https://www.amazon.in/Sounce-iPhone-Charging-C...  \n",
              "3  https://www.amazon.in/Deuce-300-Resistant-Tang...  \n",
              "4  https://www.amazon.in/Portronics-Konnect-POR-1...  "
            ],
            "text/html": [
              "\n",
              "  <div id=\"df-b8f38bff-6ebb-4777-bd26-96dc5c8b2035\" class=\"colab-df-container\">\n",
              "    <div>\n",
              "<style scoped>\n",
              "    .dataframe tbody tr th:only-of-type {\n",
              "        vertical-align: middle;\n",
              "    }\n",
              "\n",
              "    .dataframe tbody tr th {\n",
              "        vertical-align: top;\n",
              "    }\n",
              "\n",
              "    .dataframe thead th {\n",
              "        text-align: right;\n",
              "    }\n",
              "</style>\n",
              "<table border=\"1\" class=\"dataframe\">\n",
              "  <thead>\n",
              "    <tr style=\"text-align: right;\">\n",
              "      <th></th>\n",
              "      <th>product_id</th>\n",
              "      <th>product_name</th>\n",
              "      <th>category</th>\n",
              "      <th>discounted_price</th>\n",
              "      <th>actual_price</th>\n",
              "      <th>discount_percentage</th>\n",
              "      <th>rating</th>\n",
              "      <th>rating_count</th>\n",
              "      <th>about_product</th>\n",
              "      <th>user_id</th>\n",
              "      <th>user_name</th>\n",
              "      <th>review_id</th>\n",
              "      <th>review_title</th>\n",
              "      <th>review_content</th>\n",
              "      <th>img_link</th>\n",
              "      <th>product_link</th>\n",
              "    </tr>\n",
              "  </thead>\n",
              "  <tbody>\n",
              "    <tr>\n",
              "      <th>0</th>\n",
              "      <td>B07JW9H4J1</td>\n",
              "      <td>Wayona Nylon Braided USB to Lightning Fast Cha...</td>\n",
              "      <td>Computers&amp;Accessories|Accessories&amp;Peripherals|...</td>\n",
              "      <td>₹399</td>\n",
              "      <td>₹1,099</td>\n",
              "      <td>64%</td>\n",
              "      <td>4.2</td>\n",
              "      <td>24,269</td>\n",
              "      <td>High Compatibility : Compatible With iPhone 12...</td>\n",
              "      <td>AG3D6O4STAQKAY2UVGEUV46KN35Q,AHMY5CWJMMK5BJRBB...</td>\n",
              "      <td>Manav,Adarsh gupta,Sundeep,S.Sayeed Ahmed,jasp...</td>\n",
              "      <td>R3HXWT0LRP0NMF,R2AJM3LFTLZHFO,R6AQJGUP6P86,R1K...</td>\n",
              "      <td>Satisfied,Charging is really fast,Value for mo...</td>\n",
              "      <td>Looks durable Charging is fine tooNo complains...</td>\n",
              "      <td>https://m.media-amazon.com/images/W/WEBP_40237...</td>\n",
              "      <td>https://www.amazon.in/Wayona-Braided-WN3LG1-Sy...</td>\n",
              "    </tr>\n",
              "    <tr>\n",
              "      <th>1</th>\n",
              "      <td>B098NS6PVG</td>\n",
              "      <td>Ambrane Unbreakable 60W / 3A Fast Charging 1.5...</td>\n",
              "      <td>Computers&amp;Accessories|Accessories&amp;Peripherals|...</td>\n",
              "      <td>₹199</td>\n",
              "      <td>₹349</td>\n",
              "      <td>43%</td>\n",
              "      <td>4.0</td>\n",
              "      <td>43,994</td>\n",
              "      <td>Compatible with all Type C enabled devices, be...</td>\n",
              "      <td>AECPFYFQVRUWC3KGNLJIOREFP5LQ,AGYYVPDD7YG7FYNBX...</td>\n",
              "      <td>ArdKn,Nirbhay kumar,Sagar Viswanathan,Asp,Plac...</td>\n",
              "      <td>RGIQEG07R9HS2,R1SMWZQ86XIN8U,R2J3Y1WL29GWDE,RY...</td>\n",
              "      <td>A Good Braided Cable for Your Type C Device,Go...</td>\n",
              "      <td>I ordered this cable to connect my phone to An...</td>\n",
              "      <td>https://m.media-amazon.com/images/W/WEBP_40237...</td>\n",
              "      <td>https://www.amazon.in/Ambrane-Unbreakable-Char...</td>\n",
              "    </tr>\n",
              "    <tr>\n",
              "      <th>2</th>\n",
              "      <td>B096MSW6CT</td>\n",
              "      <td>Sounce Fast Phone Charging Cable &amp; Data Sync U...</td>\n",
              "      <td>Computers&amp;Accessories|Accessories&amp;Peripherals|...</td>\n",
              "      <td>₹199</td>\n",
              "      <td>₹1,899</td>\n",
              "      <td>90%</td>\n",
              "      <td>3.9</td>\n",
              "      <td>7,928</td>\n",
              "      <td>【 Fast Charger&amp; Data Sync】-With built-in safet...</td>\n",
              "      <td>AGU3BBQ2V2DDAMOAKGFAWDDQ6QHA,AESFLDV2PT363T2AQ...</td>\n",
              "      <td>Kunal,Himanshu,viswanath,sai niharka,saqib mal...</td>\n",
              "      <td>R3J3EQQ9TZI5ZJ,R3E7WBGK7ID0KV,RWU79XKQ6I1QF,R2...</td>\n",
              "      <td>Good speed for earlier versions,Good Product,W...</td>\n",
              "      <td>Not quite durable and sturdy,https://m.media-a...</td>\n",
              "      <td>https://m.media-amazon.com/images/W/WEBP_40237...</td>\n",
              "      <td>https://www.amazon.in/Sounce-iPhone-Charging-C...</td>\n",
              "    </tr>\n",
              "    <tr>\n",
              "      <th>3</th>\n",
              "      <td>B08HDJ86NZ</td>\n",
              "      <td>boAt Deuce USB 300 2 in 1 Type-C &amp; Micro USB S...</td>\n",
              "      <td>Computers&amp;Accessories|Accessories&amp;Peripherals|...</td>\n",
              "      <td>₹329</td>\n",
              "      <td>₹699</td>\n",
              "      <td>53%</td>\n",
              "      <td>4.2</td>\n",
              "      <td>94,363</td>\n",
              "      <td>The boAt Deuce USB 300 2 in 1 cable is compati...</td>\n",
              "      <td>AEWAZDZZJLQUYVOVGBEUKSLXHQ5A,AG5HTSFRRE6NL3M5S...</td>\n",
              "      <td>Omkar dhale,JD,HEMALATHA,Ajwadh a.,amar singh ...</td>\n",
              "      <td>R3EEUZKKK9J36I,R3HJVYCLYOY554,REDECAZ7AMPQC,R1...</td>\n",
              "      <td>Good product,Good one,Nice,Really nice product...</td>\n",
              "      <td>Good product,long wire,Charges good,Nice,I bou...</td>\n",
              "      <td>https://m.media-amazon.com/images/I/41V5FtEWPk...</td>\n",
              "      <td>https://www.amazon.in/Deuce-300-Resistant-Tang...</td>\n",
              "    </tr>\n",
              "    <tr>\n",
              "      <th>4</th>\n",
              "      <td>B08CF3B7N1</td>\n",
              "      <td>Portronics Konnect L 1.2M Fast Charging 3A 8 P...</td>\n",
              "      <td>Computers&amp;Accessories|Accessories&amp;Peripherals|...</td>\n",
              "      <td>₹154</td>\n",
              "      <td>₹399</td>\n",
              "      <td>61%</td>\n",
              "      <td>4.2</td>\n",
              "      <td>16,905</td>\n",
              "      <td>[CHARGE &amp; SYNC FUNCTION]- This cable comes wit...</td>\n",
              "      <td>AE3Q6KSUK5P75D5HFYHCRAOLODSA,AFUGIFH5ZAFXRDSZH...</td>\n",
              "      <td>rahuls6099,Swasat Borah,Ajay Wadke,Pranali,RVK...</td>\n",
              "      <td>R1BP4L2HH9TFUP,R16PVJEXKV6QZS,R2UPDB81N66T4P,R...</td>\n",
              "      <td>As good as original,Decent,Good one for second...</td>\n",
              "      <td>Bought this instead of original apple, does th...</td>\n",
              "      <td>https://m.media-amazon.com/images/W/WEBP_40237...</td>\n",
              "      <td>https://www.amazon.in/Portronics-Konnect-POR-1...</td>\n",
              "    </tr>\n",
              "  </tbody>\n",
              "</table>\n",
              "</div>\n",
              "    <div class=\"colab-df-buttons\">\n",
              "\n",
              "  <div class=\"colab-df-container\">\n",
              "    <button class=\"colab-df-convert\" onclick=\"convertToInteractive('df-b8f38bff-6ebb-4777-bd26-96dc5c8b2035')\"\n",
              "            title=\"Convert this dataframe to an interactive table.\"\n",
              "            style=\"display:none;\">\n",
              "\n",
              "  <svg xmlns=\"http://www.w3.org/2000/svg\" height=\"24px\" viewBox=\"0 -960 960 960\">\n",
              "    <path d=\"M120-120v-720h720v720H120Zm60-500h600v-160H180v160Zm220 220h160v-160H400v160Zm0 220h160v-160H400v160ZM180-400h160v-160H180v160Zm440 0h160v-160H620v160ZM180-180h160v-160H180v160Zm440 0h160v-160H620v160Z\"/>\n",
              "  </svg>\n",
              "    </button>\n",
              "\n",
              "  <style>\n",
              "    .colab-df-container {\n",
              "      display:flex;\n",
              "      gap: 12px;\n",
              "    }\n",
              "\n",
              "    .colab-df-convert {\n",
              "      background-color: #E8F0FE;\n",
              "      border: none;\n",
              "      border-radius: 50%;\n",
              "      cursor: pointer;\n",
              "      display: none;\n",
              "      fill: #1967D2;\n",
              "      height: 32px;\n",
              "      padding: 0 0 0 0;\n",
              "      width: 32px;\n",
              "    }\n",
              "\n",
              "    .colab-df-convert:hover {\n",
              "      background-color: #E2EBFA;\n",
              "      box-shadow: 0px 1px 2px rgba(60, 64, 67, 0.3), 0px 1px 3px 1px rgba(60, 64, 67, 0.15);\n",
              "      fill: #174EA6;\n",
              "    }\n",
              "\n",
              "    .colab-df-buttons div {\n",
              "      margin-bottom: 4px;\n",
              "    }\n",
              "\n",
              "    [theme=dark] .colab-df-convert {\n",
              "      background-color: #3B4455;\n",
              "      fill: #D2E3FC;\n",
              "    }\n",
              "\n",
              "    [theme=dark] .colab-df-convert:hover {\n",
              "      background-color: #434B5C;\n",
              "      box-shadow: 0px 1px 3px 1px rgba(0, 0, 0, 0.15);\n",
              "      filter: drop-shadow(0px 1px 2px rgba(0, 0, 0, 0.3));\n",
              "      fill: #FFFFFF;\n",
              "    }\n",
              "  </style>\n",
              "\n",
              "    <script>\n",
              "      const buttonEl =\n",
              "        document.querySelector('#df-b8f38bff-6ebb-4777-bd26-96dc5c8b2035 button.colab-df-convert');\n",
              "      buttonEl.style.display =\n",
              "        google.colab.kernel.accessAllowed ? 'block' : 'none';\n",
              "\n",
              "      async function convertToInteractive(key) {\n",
              "        const element = document.querySelector('#df-b8f38bff-6ebb-4777-bd26-96dc5c8b2035');\n",
              "        const dataTable =\n",
              "          await google.colab.kernel.invokeFunction('convertToInteractive',\n",
              "                                                    [key], {});\n",
              "        if (!dataTable) return;\n",
              "\n",
              "        const docLinkHtml = 'Like what you see? Visit the ' +\n",
              "          '<a target=\"_blank\" href=https://colab.research.google.com/notebooks/data_table.ipynb>data table notebook</a>'\n",
              "          + ' to learn more about interactive tables.';\n",
              "        element.innerHTML = '';\n",
              "        dataTable['output_type'] = 'display_data';\n",
              "        await google.colab.output.renderOutput(dataTable, element);\n",
              "        const docLink = document.createElement('div');\n",
              "        docLink.innerHTML = docLinkHtml;\n",
              "        element.appendChild(docLink);\n",
              "      }\n",
              "    </script>\n",
              "  </div>\n",
              "\n",
              "\n",
              "<div id=\"df-c8ae81a1-330f-4acb-b43d-98db02530b4b\">\n",
              "  <button class=\"colab-df-quickchart\" onclick=\"quickchart('df-c8ae81a1-330f-4acb-b43d-98db02530b4b')\"\n",
              "            title=\"Suggest charts\"\n",
              "            style=\"display:none;\">\n",
              "\n",
              "<svg xmlns=\"http://www.w3.org/2000/svg\" height=\"24px\"viewBox=\"0 0 24 24\"\n",
              "     width=\"24px\">\n",
              "    <g>\n",
              "        <path d=\"M19 3H5c-1.1 0-2 .9-2 2v14c0 1.1.9 2 2 2h14c1.1 0 2-.9 2-2V5c0-1.1-.9-2-2-2zM9 17H7v-7h2v7zm4 0h-2V7h2v10zm4 0h-2v-4h2v4z\"/>\n",
              "    </g>\n",
              "</svg>\n",
              "  </button>\n",
              "\n",
              "<style>\n",
              "  .colab-df-quickchart {\n",
              "      --bg-color: #E8F0FE;\n",
              "      --fill-color: #1967D2;\n",
              "      --hover-bg-color: #E2EBFA;\n",
              "      --hover-fill-color: #174EA6;\n",
              "      --disabled-fill-color: #AAA;\n",
              "      --disabled-bg-color: #DDD;\n",
              "  }\n",
              "\n",
              "  [theme=dark] .colab-df-quickchart {\n",
              "      --bg-color: #3B4455;\n",
              "      --fill-color: #D2E3FC;\n",
              "      --hover-bg-color: #434B5C;\n",
              "      --hover-fill-color: #FFFFFF;\n",
              "      --disabled-bg-color: #3B4455;\n",
              "      --disabled-fill-color: #666;\n",
              "  }\n",
              "\n",
              "  .colab-df-quickchart {\n",
              "    background-color: var(--bg-color);\n",
              "    border: none;\n",
              "    border-radius: 50%;\n",
              "    cursor: pointer;\n",
              "    display: none;\n",
              "    fill: var(--fill-color);\n",
              "    height: 32px;\n",
              "    padding: 0;\n",
              "    width: 32px;\n",
              "  }\n",
              "\n",
              "  .colab-df-quickchart:hover {\n",
              "    background-color: var(--hover-bg-color);\n",
              "    box-shadow: 0 1px 2px rgba(60, 64, 67, 0.3), 0 1px 3px 1px rgba(60, 64, 67, 0.15);\n",
              "    fill: var(--button-hover-fill-color);\n",
              "  }\n",
              "\n",
              "  .colab-df-quickchart-complete:disabled,\n",
              "  .colab-df-quickchart-complete:disabled:hover {\n",
              "    background-color: var(--disabled-bg-color);\n",
              "    fill: var(--disabled-fill-color);\n",
              "    box-shadow: none;\n",
              "  }\n",
              "\n",
              "  .colab-df-spinner {\n",
              "    border: 2px solid var(--fill-color);\n",
              "    border-color: transparent;\n",
              "    border-bottom-color: var(--fill-color);\n",
              "    animation:\n",
              "      spin 1s steps(1) infinite;\n",
              "  }\n",
              "\n",
              "  @keyframes spin {\n",
              "    0% {\n",
              "      border-color: transparent;\n",
              "      border-bottom-color: var(--fill-color);\n",
              "      border-left-color: var(--fill-color);\n",
              "    }\n",
              "    20% {\n",
              "      border-color: transparent;\n",
              "      border-left-color: var(--fill-color);\n",
              "      border-top-color: var(--fill-color);\n",
              "    }\n",
              "    30% {\n",
              "      border-color: transparent;\n",
              "      border-left-color: var(--fill-color);\n",
              "      border-top-color: var(--fill-color);\n",
              "      border-right-color: var(--fill-color);\n",
              "    }\n",
              "    40% {\n",
              "      border-color: transparent;\n",
              "      border-right-color: var(--fill-color);\n",
              "      border-top-color: var(--fill-color);\n",
              "    }\n",
              "    60% {\n",
              "      border-color: transparent;\n",
              "      border-right-color: var(--fill-color);\n",
              "    }\n",
              "    80% {\n",
              "      border-color: transparent;\n",
              "      border-right-color: var(--fill-color);\n",
              "      border-bottom-color: var(--fill-color);\n",
              "    }\n",
              "    90% {\n",
              "      border-color: transparent;\n",
              "      border-bottom-color: var(--fill-color);\n",
              "    }\n",
              "  }\n",
              "</style>\n",
              "\n",
              "  <script>\n",
              "    async function quickchart(key) {\n",
              "      const quickchartButtonEl =\n",
              "        document.querySelector('#' + key + ' button');\n",
              "      quickchartButtonEl.disabled = true;  // To prevent multiple clicks.\n",
              "      quickchartButtonEl.classList.add('colab-df-spinner');\n",
              "      try {\n",
              "        const charts = await google.colab.kernel.invokeFunction(\n",
              "            'suggestCharts', [key], {});\n",
              "      } catch (error) {\n",
              "        console.error('Error during call to suggestCharts:', error);\n",
              "      }\n",
              "      quickchartButtonEl.classList.remove('colab-df-spinner');\n",
              "      quickchartButtonEl.classList.add('colab-df-quickchart-complete');\n",
              "    }\n",
              "    (() => {\n",
              "      let quickchartButtonEl =\n",
              "        document.querySelector('#df-c8ae81a1-330f-4acb-b43d-98db02530b4b button');\n",
              "      quickchartButtonEl.style.display =\n",
              "        google.colab.kernel.accessAllowed ? 'block' : 'none';\n",
              "    })();\n",
              "  </script>\n",
              "</div>\n",
              "    </div>\n",
              "  </div>\n"
            ]
          },
          "metadata": {},
          "execution_count": 239
        }
      ],
      "source": [
        "amazon_data.head()"
      ]
    },
    {
      "cell_type": "code",
      "execution_count": null,
      "metadata": {
        "id": "3FT-TphxE33P"
      },
      "outputs": [],
      "source": [
        "amazon_data['index'] = range(len(amazon_data))\n",
        "amazon_data.to_csv('/content/amazon_new.csv', index=False)"
      ]
    },
    {
      "cell_type": "code",
      "execution_count": null,
      "metadata": {
        "colab": {
          "base_uri": "https://localhost:8080/",
          "height": 538
        },
        "id": "zJJ0esk8FlWO",
        "outputId": "c2e69fec-f02b-4fa3-ca6f-e43d72c6c00f"
      },
      "outputs": [
        {
          "output_type": "execute_result",
          "data": {
            "text/plain": [
              "   product_id                                       product_name  \\\n",
              "0  B07JW9H4J1  Wayona Nylon Braided USB to Lightning Fast Cha...   \n",
              "1  B098NS6PVG  Ambrane Unbreakable 60W / 3A Fast Charging 1.5...   \n",
              "2  B096MSW6CT  Sounce Fast Phone Charging Cable & Data Sync U...   \n",
              "3  B08HDJ86NZ  boAt Deuce USB 300 2 in 1 Type-C & Micro USB S...   \n",
              "4  B08CF3B7N1  Portronics Konnect L 1.2M Fast Charging 3A 8 P...   \n",
              "\n",
              "                                            category discounted_price  \\\n",
              "0  Computers&Accessories|Accessories&Peripherals|...             ₹399   \n",
              "1  Computers&Accessories|Accessories&Peripherals|...             ₹199   \n",
              "2  Computers&Accessories|Accessories&Peripherals|...             ₹199   \n",
              "3  Computers&Accessories|Accessories&Peripherals|...             ₹329   \n",
              "4  Computers&Accessories|Accessories&Peripherals|...             ₹154   \n",
              "\n",
              "  actual_price discount_percentage rating rating_count  \\\n",
              "0       ₹1,099                 64%    4.2       24,269   \n",
              "1         ₹349                 43%    4.0       43,994   \n",
              "2       ₹1,899                 90%    3.9        7,928   \n",
              "3         ₹699                 53%    4.2       94,363   \n",
              "4         ₹399                 61%    4.2       16,905   \n",
              "\n",
              "                                       about_product  \\\n",
              "0  High Compatibility : Compatible With iPhone 12...   \n",
              "1  Compatible with all Type C enabled devices, be...   \n",
              "2  【 Fast Charger& Data Sync】-With built-in safet...   \n",
              "3  The boAt Deuce USB 300 2 in 1 cable is compati...   \n",
              "4  [CHARGE & SYNC FUNCTION]- This cable comes wit...   \n",
              "\n",
              "                                             user_id  \\\n",
              "0  AG3D6O4STAQKAY2UVGEUV46KN35Q,AHMY5CWJMMK5BJRBB...   \n",
              "1  AECPFYFQVRUWC3KGNLJIOREFP5LQ,AGYYVPDD7YG7FYNBX...   \n",
              "2  AGU3BBQ2V2DDAMOAKGFAWDDQ6QHA,AESFLDV2PT363T2AQ...   \n",
              "3  AEWAZDZZJLQUYVOVGBEUKSLXHQ5A,AG5HTSFRRE6NL3M5S...   \n",
              "4  AE3Q6KSUK5P75D5HFYHCRAOLODSA,AFUGIFH5ZAFXRDSZH...   \n",
              "\n",
              "                                           user_name  \\\n",
              "0  Manav,Adarsh gupta,Sundeep,S.Sayeed Ahmed,jasp...   \n",
              "1  ArdKn,Nirbhay kumar,Sagar Viswanathan,Asp,Plac...   \n",
              "2  Kunal,Himanshu,viswanath,sai niharka,saqib mal...   \n",
              "3  Omkar dhale,JD,HEMALATHA,Ajwadh a.,amar singh ...   \n",
              "4  rahuls6099,Swasat Borah,Ajay Wadke,Pranali,RVK...   \n",
              "\n",
              "                                           review_id  \\\n",
              "0  R3HXWT0LRP0NMF,R2AJM3LFTLZHFO,R6AQJGUP6P86,R1K...   \n",
              "1  RGIQEG07R9HS2,R1SMWZQ86XIN8U,R2J3Y1WL29GWDE,RY...   \n",
              "2  R3J3EQQ9TZI5ZJ,R3E7WBGK7ID0KV,RWU79XKQ6I1QF,R2...   \n",
              "3  R3EEUZKKK9J36I,R3HJVYCLYOY554,REDECAZ7AMPQC,R1...   \n",
              "4  R1BP4L2HH9TFUP,R16PVJEXKV6QZS,R2UPDB81N66T4P,R...   \n",
              "\n",
              "                                        review_title  \\\n",
              "0  Satisfied,Charging is really fast,Value for mo...   \n",
              "1  A Good Braided Cable for Your Type C Device,Go...   \n",
              "2  Good speed for earlier versions,Good Product,W...   \n",
              "3  Good product,Good one,Nice,Really nice product...   \n",
              "4  As good as original,Decent,Good one for second...   \n",
              "\n",
              "                                      review_content  \\\n",
              "0  Looks durable Charging is fine tooNo complains...   \n",
              "1  I ordered this cable to connect my phone to An...   \n",
              "2  Not quite durable and sturdy,https://m.media-a...   \n",
              "3  Good product,long wire,Charges good,Nice,I bou...   \n",
              "4  Bought this instead of original apple, does th...   \n",
              "\n",
              "                                            img_link  \\\n",
              "0  https://m.media-amazon.com/images/W/WEBP_40237...   \n",
              "1  https://m.media-amazon.com/images/W/WEBP_40237...   \n",
              "2  https://m.media-amazon.com/images/W/WEBP_40237...   \n",
              "3  https://m.media-amazon.com/images/I/41V5FtEWPk...   \n",
              "4  https://m.media-amazon.com/images/W/WEBP_40237...   \n",
              "\n",
              "                                        product_link  index  \n",
              "0  https://www.amazon.in/Wayona-Braided-WN3LG1-Sy...      0  \n",
              "1  https://www.amazon.in/Ambrane-Unbreakable-Char...      1  \n",
              "2  https://www.amazon.in/Sounce-iPhone-Charging-C...      2  \n",
              "3  https://www.amazon.in/Deuce-300-Resistant-Tang...      3  \n",
              "4  https://www.amazon.in/Portronics-Konnect-POR-1...      4  "
            ],
            "text/html": [
              "\n",
              "  <div id=\"df-1bae991d-c7b3-4675-8fa2-3d4a42e7a3d9\" class=\"colab-df-container\">\n",
              "    <div>\n",
              "<style scoped>\n",
              "    .dataframe tbody tr th:only-of-type {\n",
              "        vertical-align: middle;\n",
              "    }\n",
              "\n",
              "    .dataframe tbody tr th {\n",
              "        vertical-align: top;\n",
              "    }\n",
              "\n",
              "    .dataframe thead th {\n",
              "        text-align: right;\n",
              "    }\n",
              "</style>\n",
              "<table border=\"1\" class=\"dataframe\">\n",
              "  <thead>\n",
              "    <tr style=\"text-align: right;\">\n",
              "      <th></th>\n",
              "      <th>product_id</th>\n",
              "      <th>product_name</th>\n",
              "      <th>category</th>\n",
              "      <th>discounted_price</th>\n",
              "      <th>actual_price</th>\n",
              "      <th>discount_percentage</th>\n",
              "      <th>rating</th>\n",
              "      <th>rating_count</th>\n",
              "      <th>about_product</th>\n",
              "      <th>user_id</th>\n",
              "      <th>user_name</th>\n",
              "      <th>review_id</th>\n",
              "      <th>review_title</th>\n",
              "      <th>review_content</th>\n",
              "      <th>img_link</th>\n",
              "      <th>product_link</th>\n",
              "      <th>index</th>\n",
              "    </tr>\n",
              "  </thead>\n",
              "  <tbody>\n",
              "    <tr>\n",
              "      <th>0</th>\n",
              "      <td>B07JW9H4J1</td>\n",
              "      <td>Wayona Nylon Braided USB to Lightning Fast Cha...</td>\n",
              "      <td>Computers&amp;Accessories|Accessories&amp;Peripherals|...</td>\n",
              "      <td>₹399</td>\n",
              "      <td>₹1,099</td>\n",
              "      <td>64%</td>\n",
              "      <td>4.2</td>\n",
              "      <td>24,269</td>\n",
              "      <td>High Compatibility : Compatible With iPhone 12...</td>\n",
              "      <td>AG3D6O4STAQKAY2UVGEUV46KN35Q,AHMY5CWJMMK5BJRBB...</td>\n",
              "      <td>Manav,Adarsh gupta,Sundeep,S.Sayeed Ahmed,jasp...</td>\n",
              "      <td>R3HXWT0LRP0NMF,R2AJM3LFTLZHFO,R6AQJGUP6P86,R1K...</td>\n",
              "      <td>Satisfied,Charging is really fast,Value for mo...</td>\n",
              "      <td>Looks durable Charging is fine tooNo complains...</td>\n",
              "      <td>https://m.media-amazon.com/images/W/WEBP_40237...</td>\n",
              "      <td>https://www.amazon.in/Wayona-Braided-WN3LG1-Sy...</td>\n",
              "      <td>0</td>\n",
              "    </tr>\n",
              "    <tr>\n",
              "      <th>1</th>\n",
              "      <td>B098NS6PVG</td>\n",
              "      <td>Ambrane Unbreakable 60W / 3A Fast Charging 1.5...</td>\n",
              "      <td>Computers&amp;Accessories|Accessories&amp;Peripherals|...</td>\n",
              "      <td>₹199</td>\n",
              "      <td>₹349</td>\n",
              "      <td>43%</td>\n",
              "      <td>4.0</td>\n",
              "      <td>43,994</td>\n",
              "      <td>Compatible with all Type C enabled devices, be...</td>\n",
              "      <td>AECPFYFQVRUWC3KGNLJIOREFP5LQ,AGYYVPDD7YG7FYNBX...</td>\n",
              "      <td>ArdKn,Nirbhay kumar,Sagar Viswanathan,Asp,Plac...</td>\n",
              "      <td>RGIQEG07R9HS2,R1SMWZQ86XIN8U,R2J3Y1WL29GWDE,RY...</td>\n",
              "      <td>A Good Braided Cable for Your Type C Device,Go...</td>\n",
              "      <td>I ordered this cable to connect my phone to An...</td>\n",
              "      <td>https://m.media-amazon.com/images/W/WEBP_40237...</td>\n",
              "      <td>https://www.amazon.in/Ambrane-Unbreakable-Char...</td>\n",
              "      <td>1</td>\n",
              "    </tr>\n",
              "    <tr>\n",
              "      <th>2</th>\n",
              "      <td>B096MSW6CT</td>\n",
              "      <td>Sounce Fast Phone Charging Cable &amp; Data Sync U...</td>\n",
              "      <td>Computers&amp;Accessories|Accessories&amp;Peripherals|...</td>\n",
              "      <td>₹199</td>\n",
              "      <td>₹1,899</td>\n",
              "      <td>90%</td>\n",
              "      <td>3.9</td>\n",
              "      <td>7,928</td>\n",
              "      <td>【 Fast Charger&amp; Data Sync】-With built-in safet...</td>\n",
              "      <td>AGU3BBQ2V2DDAMOAKGFAWDDQ6QHA,AESFLDV2PT363T2AQ...</td>\n",
              "      <td>Kunal,Himanshu,viswanath,sai niharka,saqib mal...</td>\n",
              "      <td>R3J3EQQ9TZI5ZJ,R3E7WBGK7ID0KV,RWU79XKQ6I1QF,R2...</td>\n",
              "      <td>Good speed for earlier versions,Good Product,W...</td>\n",
              "      <td>Not quite durable and sturdy,https://m.media-a...</td>\n",
              "      <td>https://m.media-amazon.com/images/W/WEBP_40237...</td>\n",
              "      <td>https://www.amazon.in/Sounce-iPhone-Charging-C...</td>\n",
              "      <td>2</td>\n",
              "    </tr>\n",
              "    <tr>\n",
              "      <th>3</th>\n",
              "      <td>B08HDJ86NZ</td>\n",
              "      <td>boAt Deuce USB 300 2 in 1 Type-C &amp; Micro USB S...</td>\n",
              "      <td>Computers&amp;Accessories|Accessories&amp;Peripherals|...</td>\n",
              "      <td>₹329</td>\n",
              "      <td>₹699</td>\n",
              "      <td>53%</td>\n",
              "      <td>4.2</td>\n",
              "      <td>94,363</td>\n",
              "      <td>The boAt Deuce USB 300 2 in 1 cable is compati...</td>\n",
              "      <td>AEWAZDZZJLQUYVOVGBEUKSLXHQ5A,AG5HTSFRRE6NL3M5S...</td>\n",
              "      <td>Omkar dhale,JD,HEMALATHA,Ajwadh a.,amar singh ...</td>\n",
              "      <td>R3EEUZKKK9J36I,R3HJVYCLYOY554,REDECAZ7AMPQC,R1...</td>\n",
              "      <td>Good product,Good one,Nice,Really nice product...</td>\n",
              "      <td>Good product,long wire,Charges good,Nice,I bou...</td>\n",
              "      <td>https://m.media-amazon.com/images/I/41V5FtEWPk...</td>\n",
              "      <td>https://www.amazon.in/Deuce-300-Resistant-Tang...</td>\n",
              "      <td>3</td>\n",
              "    </tr>\n",
              "    <tr>\n",
              "      <th>4</th>\n",
              "      <td>B08CF3B7N1</td>\n",
              "      <td>Portronics Konnect L 1.2M Fast Charging 3A 8 P...</td>\n",
              "      <td>Computers&amp;Accessories|Accessories&amp;Peripherals|...</td>\n",
              "      <td>₹154</td>\n",
              "      <td>₹399</td>\n",
              "      <td>61%</td>\n",
              "      <td>4.2</td>\n",
              "      <td>16,905</td>\n",
              "      <td>[CHARGE &amp; SYNC FUNCTION]- This cable comes wit...</td>\n",
              "      <td>AE3Q6KSUK5P75D5HFYHCRAOLODSA,AFUGIFH5ZAFXRDSZH...</td>\n",
              "      <td>rahuls6099,Swasat Borah,Ajay Wadke,Pranali,RVK...</td>\n",
              "      <td>R1BP4L2HH9TFUP,R16PVJEXKV6QZS,R2UPDB81N66T4P,R...</td>\n",
              "      <td>As good as original,Decent,Good one for second...</td>\n",
              "      <td>Bought this instead of original apple, does th...</td>\n",
              "      <td>https://m.media-amazon.com/images/W/WEBP_40237...</td>\n",
              "      <td>https://www.amazon.in/Portronics-Konnect-POR-1...</td>\n",
              "      <td>4</td>\n",
              "    </tr>\n",
              "  </tbody>\n",
              "</table>\n",
              "</div>\n",
              "    <div class=\"colab-df-buttons\">\n",
              "\n",
              "  <div class=\"colab-df-container\">\n",
              "    <button class=\"colab-df-convert\" onclick=\"convertToInteractive('df-1bae991d-c7b3-4675-8fa2-3d4a42e7a3d9')\"\n",
              "            title=\"Convert this dataframe to an interactive table.\"\n",
              "            style=\"display:none;\">\n",
              "\n",
              "  <svg xmlns=\"http://www.w3.org/2000/svg\" height=\"24px\" viewBox=\"0 -960 960 960\">\n",
              "    <path d=\"M120-120v-720h720v720H120Zm60-500h600v-160H180v160Zm220 220h160v-160H400v160Zm0 220h160v-160H400v160ZM180-400h160v-160H180v160Zm440 0h160v-160H620v160ZM180-180h160v-160H180v160Zm440 0h160v-160H620v160Z\"/>\n",
              "  </svg>\n",
              "    </button>\n",
              "\n",
              "  <style>\n",
              "    .colab-df-container {\n",
              "      display:flex;\n",
              "      gap: 12px;\n",
              "    }\n",
              "\n",
              "    .colab-df-convert {\n",
              "      background-color: #E8F0FE;\n",
              "      border: none;\n",
              "      border-radius: 50%;\n",
              "      cursor: pointer;\n",
              "      display: none;\n",
              "      fill: #1967D2;\n",
              "      height: 32px;\n",
              "      padding: 0 0 0 0;\n",
              "      width: 32px;\n",
              "    }\n",
              "\n",
              "    .colab-df-convert:hover {\n",
              "      background-color: #E2EBFA;\n",
              "      box-shadow: 0px 1px 2px rgba(60, 64, 67, 0.3), 0px 1px 3px 1px rgba(60, 64, 67, 0.15);\n",
              "      fill: #174EA6;\n",
              "    }\n",
              "\n",
              "    .colab-df-buttons div {\n",
              "      margin-bottom: 4px;\n",
              "    }\n",
              "\n",
              "    [theme=dark] .colab-df-convert {\n",
              "      background-color: #3B4455;\n",
              "      fill: #D2E3FC;\n",
              "    }\n",
              "\n",
              "    [theme=dark] .colab-df-convert:hover {\n",
              "      background-color: #434B5C;\n",
              "      box-shadow: 0px 1px 3px 1px rgba(0, 0, 0, 0.15);\n",
              "      filter: drop-shadow(0px 1px 2px rgba(0, 0, 0, 0.3));\n",
              "      fill: #FFFFFF;\n",
              "    }\n",
              "  </style>\n",
              "\n",
              "    <script>\n",
              "      const buttonEl =\n",
              "        document.querySelector('#df-1bae991d-c7b3-4675-8fa2-3d4a42e7a3d9 button.colab-df-convert');\n",
              "      buttonEl.style.display =\n",
              "        google.colab.kernel.accessAllowed ? 'block' : 'none';\n",
              "\n",
              "      async function convertToInteractive(key) {\n",
              "        const element = document.querySelector('#df-1bae991d-c7b3-4675-8fa2-3d4a42e7a3d9');\n",
              "        const dataTable =\n",
              "          await google.colab.kernel.invokeFunction('convertToInteractive',\n",
              "                                                    [key], {});\n",
              "        if (!dataTable) return;\n",
              "\n",
              "        const docLinkHtml = 'Like what you see? Visit the ' +\n",
              "          '<a target=\"_blank\" href=https://colab.research.google.com/notebooks/data_table.ipynb>data table notebook</a>'\n",
              "          + ' to learn more about interactive tables.';\n",
              "        element.innerHTML = '';\n",
              "        dataTable['output_type'] = 'display_data';\n",
              "        await google.colab.output.renderOutput(dataTable, element);\n",
              "        const docLink = document.createElement('div');\n",
              "        docLink.innerHTML = docLinkHtml;\n",
              "        element.appendChild(docLink);\n",
              "      }\n",
              "    </script>\n",
              "  </div>\n",
              "\n",
              "\n",
              "<div id=\"df-84ee0aaa-82be-47b1-91f2-9ccad8693157\">\n",
              "  <button class=\"colab-df-quickchart\" onclick=\"quickchart('df-84ee0aaa-82be-47b1-91f2-9ccad8693157')\"\n",
              "            title=\"Suggest charts\"\n",
              "            style=\"display:none;\">\n",
              "\n",
              "<svg xmlns=\"http://www.w3.org/2000/svg\" height=\"24px\"viewBox=\"0 0 24 24\"\n",
              "     width=\"24px\">\n",
              "    <g>\n",
              "        <path d=\"M19 3H5c-1.1 0-2 .9-2 2v14c0 1.1.9 2 2 2h14c1.1 0 2-.9 2-2V5c0-1.1-.9-2-2-2zM9 17H7v-7h2v7zm4 0h-2V7h2v10zm4 0h-2v-4h2v4z\"/>\n",
              "    </g>\n",
              "</svg>\n",
              "  </button>\n",
              "\n",
              "<style>\n",
              "  .colab-df-quickchart {\n",
              "      --bg-color: #E8F0FE;\n",
              "      --fill-color: #1967D2;\n",
              "      --hover-bg-color: #E2EBFA;\n",
              "      --hover-fill-color: #174EA6;\n",
              "      --disabled-fill-color: #AAA;\n",
              "      --disabled-bg-color: #DDD;\n",
              "  }\n",
              "\n",
              "  [theme=dark] .colab-df-quickchart {\n",
              "      --bg-color: #3B4455;\n",
              "      --fill-color: #D2E3FC;\n",
              "      --hover-bg-color: #434B5C;\n",
              "      --hover-fill-color: #FFFFFF;\n",
              "      --disabled-bg-color: #3B4455;\n",
              "      --disabled-fill-color: #666;\n",
              "  }\n",
              "\n",
              "  .colab-df-quickchart {\n",
              "    background-color: var(--bg-color);\n",
              "    border: none;\n",
              "    border-radius: 50%;\n",
              "    cursor: pointer;\n",
              "    display: none;\n",
              "    fill: var(--fill-color);\n",
              "    height: 32px;\n",
              "    padding: 0;\n",
              "    width: 32px;\n",
              "  }\n",
              "\n",
              "  .colab-df-quickchart:hover {\n",
              "    background-color: var(--hover-bg-color);\n",
              "    box-shadow: 0 1px 2px rgba(60, 64, 67, 0.3), 0 1px 3px 1px rgba(60, 64, 67, 0.15);\n",
              "    fill: var(--button-hover-fill-color);\n",
              "  }\n",
              "\n",
              "  .colab-df-quickchart-complete:disabled,\n",
              "  .colab-df-quickchart-complete:disabled:hover {\n",
              "    background-color: var(--disabled-bg-color);\n",
              "    fill: var(--disabled-fill-color);\n",
              "    box-shadow: none;\n",
              "  }\n",
              "\n",
              "  .colab-df-spinner {\n",
              "    border: 2px solid var(--fill-color);\n",
              "    border-color: transparent;\n",
              "    border-bottom-color: var(--fill-color);\n",
              "    animation:\n",
              "      spin 1s steps(1) infinite;\n",
              "  }\n",
              "\n",
              "  @keyframes spin {\n",
              "    0% {\n",
              "      border-color: transparent;\n",
              "      border-bottom-color: var(--fill-color);\n",
              "      border-left-color: var(--fill-color);\n",
              "    }\n",
              "    20% {\n",
              "      border-color: transparent;\n",
              "      border-left-color: var(--fill-color);\n",
              "      border-top-color: var(--fill-color);\n",
              "    }\n",
              "    30% {\n",
              "      border-color: transparent;\n",
              "      border-left-color: var(--fill-color);\n",
              "      border-top-color: var(--fill-color);\n",
              "      border-right-color: var(--fill-color);\n",
              "    }\n",
              "    40% {\n",
              "      border-color: transparent;\n",
              "      border-right-color: var(--fill-color);\n",
              "      border-top-color: var(--fill-color);\n",
              "    }\n",
              "    60% {\n",
              "      border-color: transparent;\n",
              "      border-right-color: var(--fill-color);\n",
              "    }\n",
              "    80% {\n",
              "      border-color: transparent;\n",
              "      border-right-color: var(--fill-color);\n",
              "      border-bottom-color: var(--fill-color);\n",
              "    }\n",
              "    90% {\n",
              "      border-color: transparent;\n",
              "      border-bottom-color: var(--fill-color);\n",
              "    }\n",
              "  }\n",
              "</style>\n",
              "\n",
              "  <script>\n",
              "    async function quickchart(key) {\n",
              "      const quickchartButtonEl =\n",
              "        document.querySelector('#' + key + ' button');\n",
              "      quickchartButtonEl.disabled = true;  // To prevent multiple clicks.\n",
              "      quickchartButtonEl.classList.add('colab-df-spinner');\n",
              "      try {\n",
              "        const charts = await google.colab.kernel.invokeFunction(\n",
              "            'suggestCharts', [key], {});\n",
              "      } catch (error) {\n",
              "        console.error('Error during call to suggestCharts:', error);\n",
              "      }\n",
              "      quickchartButtonEl.classList.remove('colab-df-spinner');\n",
              "      quickchartButtonEl.classList.add('colab-df-quickchart-complete');\n",
              "    }\n",
              "    (() => {\n",
              "      let quickchartButtonEl =\n",
              "        document.querySelector('#df-84ee0aaa-82be-47b1-91f2-9ccad8693157 button');\n",
              "      quickchartButtonEl.style.display =\n",
              "        google.colab.kernel.accessAllowed ? 'block' : 'none';\n",
              "    })();\n",
              "  </script>\n",
              "</div>\n",
              "    </div>\n",
              "  </div>\n"
            ]
          },
          "metadata": {},
          "execution_count": 241
        }
      ],
      "source": [
        "amazon_data.head()"
      ]
    },
    {
      "cell_type": "code",
      "execution_count": null,
      "metadata": {
        "colab": {
          "base_uri": "https://localhost:8080/"
        },
        "id": "lQXREQZIt7q-",
        "outputId": "401d3926-5c9f-4c8e-f6f1-c9eee6a39d5c"
      },
      "outputs": [
        {
          "output_type": "execute_result",
          "data": {
            "text/plain": [
              "product_id             0\n",
              "product_name           0\n",
              "category               0\n",
              "discounted_price       0\n",
              "actual_price           0\n",
              "discount_percentage    0\n",
              "rating                 0\n",
              "rating_count           2\n",
              "about_product          0\n",
              "user_id                0\n",
              "user_name              0\n",
              "review_id              0\n",
              "review_title           0\n",
              "review_content         0\n",
              "img_link               0\n",
              "product_link           0\n",
              "index                  0\n",
              "dtype: int64"
            ]
          },
          "metadata": {},
          "execution_count": 242
        }
      ],
      "source": [
        "amazon_data.isnull().sum()"
      ]
    },
    {
      "cell_type": "code",
      "execution_count": null,
      "metadata": {
        "colab": {
          "base_uri": "https://localhost:8080/"
        },
        "id": "NtDFQ7s4xNfe",
        "outputId": "c51849b8-d900-4b09-9d2a-cf000963cdd2"
      },
      "outputs": [
        {
          "output_type": "execute_result",
          "data": {
            "text/plain": [
              "product_id             object\n",
              "product_name           object\n",
              "category               object\n",
              "discounted_price       object\n",
              "actual_price           object\n",
              "discount_percentage    object\n",
              "rating                 object\n",
              "rating_count           object\n",
              "about_product          object\n",
              "user_id                object\n",
              "user_name              object\n",
              "review_id              object\n",
              "review_title           object\n",
              "review_content         object\n",
              "img_link               object\n",
              "product_link           object\n",
              "index                   int64\n",
              "dtype: object"
            ]
          },
          "metadata": {},
          "execution_count": 243
        }
      ],
      "source": [
        "amazon_data.dtypes"
      ]
    },
    {
      "cell_type": "code",
      "execution_count": null,
      "metadata": {
        "colab": {
          "base_uri": "https://localhost:8080/"
        },
        "id": "GRX83JNfxQ8l",
        "outputId": "dc405b20-d9fc-479d-8539-62db8af6f2c8"
      },
      "outputs": [
        {
          "output_type": "execute_result",
          "data": {
            "text/plain": [
              "array(['24,269', '43,994', '7,928', ..., '468', '8,031', '6,987'],\n",
              "      dtype=object)"
            ]
          },
          "metadata": {},
          "execution_count": 244
        }
      ],
      "source": [
        "amazon_data.rating_count.values"
      ]
    },
    {
      "cell_type": "code",
      "execution_count": null,
      "metadata": {
        "id": "RBlFbXPZ1b3E"
      },
      "outputs": [],
      "source": [
        "amazon_data['discounted_price'] = amazon_data['discounted_price'].str.replace('[^\\d.]', '', regex=True)\n",
        "amazon_data['discounted_price'] = pd.to_numeric(amazon_data['discounted_price'], errors='coerce')\n"
      ]
    },
    {
      "cell_type": "code",
      "execution_count": null,
      "metadata": {
        "id": "AdLm5otm1hM9"
      },
      "outputs": [],
      "source": [
        "amazon_data['actual_price'] = amazon_data['actual_price'].str.replace('[^\\d.]', '', regex=True)\n",
        "amazon_data['actual_price'] = pd.to_numeric(amazon_data['actual_price'], errors='coerce')"
      ]
    },
    {
      "cell_type": "code",
      "execution_count": null,
      "metadata": {
        "id": "7xz2V6op19lm"
      },
      "outputs": [],
      "source": [
        "amazon_data['discount_percentage'] = amazon_data['discount_percentage'].str.replace('[^\\d.]', '', regex=True)\n",
        "amazon_data['discounted_percentage'] = pd.to_numeric(amazon_data['discount_percentage'], errors='coerce')"
      ]
    },
    {
      "cell_type": "code",
      "execution_count": null,
      "metadata": {
        "id": "rak6nxtS2Fmd"
      },
      "outputs": [],
      "source": [
        "amazon_data['rating'] = amazon_data['rating'].str.replace('[^\\d.]', '', regex=True)\n",
        "amazon_data['rating'] = pd.to_numeric(amazon_data['rating'], errors='coerce')"
      ]
    },
    {
      "cell_type": "code",
      "execution_count": null,
      "metadata": {
        "id": "HwJS776G2TC1"
      },
      "outputs": [],
      "source": [
        "amazon_data['rating_count'] = amazon_data['rating_count'].str.replace('[^\\d.]', '', regex=True)\n",
        "amazon_data['rating_count'] = pd.to_numeric(amazon_data['rating_count'], errors='coerce')"
      ]
    },
    {
      "cell_type": "code",
      "execution_count": null,
      "metadata": {
        "colab": {
          "base_uri": "https://localhost:8080/"
        },
        "id": "5_ZnY4sH3Syf",
        "outputId": "6b0a9fca-ed6e-4c46-88a7-9fcffc69c654"
      },
      "outputs": [
        {
          "output_type": "execute_result",
          "data": {
            "text/plain": [
              "product_id                object\n",
              "product_name              object\n",
              "category                  object\n",
              "discounted_price         float64\n",
              "actual_price             float64\n",
              "discount_percentage       object\n",
              "rating                   float64\n",
              "rating_count             float64\n",
              "about_product             object\n",
              "user_id                   object\n",
              "user_name                 object\n",
              "review_id                 object\n",
              "review_title              object\n",
              "review_content            object\n",
              "img_link                  object\n",
              "product_link              object\n",
              "index                      int64\n",
              "discounted_percentage      int64\n",
              "dtype: object"
            ]
          },
          "metadata": {},
          "execution_count": 250
        }
      ],
      "source": [
        "amazon_data.dtypes"
      ]
    },
    {
      "cell_type": "code",
      "execution_count": null,
      "metadata": {
        "id": "YjGC4b-B3aId"
      },
      "outputs": [],
      "source": [
        "amazon_data = amazon_data.dropna(subset=['rating_count','rating'])"
      ]
    },
    {
      "cell_type": "code",
      "execution_count": null,
      "metadata": {
        "colab": {
          "base_uri": "https://localhost:8080/"
        },
        "id": "rNZOGLEe5pHA",
        "outputId": "767ef775-cf27-423e-de36-8b30127886a7"
      },
      "outputs": [
        {
          "output_type": "execute_result",
          "data": {
            "text/plain": [
              "product_id               0\n",
              "product_name             0\n",
              "category                 0\n",
              "discounted_price         0\n",
              "actual_price             0\n",
              "discount_percentage      0\n",
              "rating                   0\n",
              "rating_count             0\n",
              "about_product            0\n",
              "user_id                  0\n",
              "user_name                0\n",
              "review_id                0\n",
              "review_title             0\n",
              "review_content           0\n",
              "img_link                 0\n",
              "product_link             0\n",
              "index                    0\n",
              "discounted_percentage    0\n",
              "dtype: int64"
            ]
          },
          "metadata": {},
          "execution_count": 252
        }
      ],
      "source": [
        "amazon_data.isnull().sum()"
      ]
    },
    {
      "cell_type": "code",
      "execution_count": null,
      "metadata": {
        "colab": {
          "base_uri": "https://localhost:8080/"
        },
        "id": "wlIZmHze6Fv_",
        "outputId": "83775b87-84c7-427b-d532-a233e8c3be27"
      },
      "outputs": [
        {
          "output_type": "stream",
          "name": "stdout",
          "text": [
            "['product_name', 'category', 'about_product', 'img_link', 'product_link', 'review_title', 'review_content']\n"
          ]
        }
      ],
      "source": [
        "#selecting relevant features for recommendation\n",
        "\n",
        "selected_features = ['product_name', 'category', 'about_product',  'img_link', 'product_link', 'review_title', 'review_content']\n",
        "print(selected_features)"
      ]
    },
    {
      "cell_type": "code",
      "execution_count": null,
      "metadata": {
        "id": "vSDD9-Cq66ZX"
      },
      "outputs": [],
      "source": [
        "combined_features = amazon_data['product_name']+' '+amazon_data['category']+' '+amazon_data['about_product']+' '+amazon_data['img_link']+' '+amazon_data['product_link']+' '+amazon_data['review_title']+' '+amazon_data['review_content']"
      ]
    },
    {
      "cell_type": "code",
      "execution_count": null,
      "metadata": {
        "colab": {
          "base_uri": "https://localhost:8080/"
        },
        "id": "WXe9y5D08K3x",
        "outputId": "631ae8cc-b433-4339-af2d-fa7ce0c20fc7"
      },
      "outputs": [
        {
          "output_type": "stream",
          "name": "stdout",
          "text": [
            "0       Wayona Nylon Braided USB to Lightning Fast Cha...\n",
            "1       Ambrane Unbreakable 60W / 3A Fast Charging 1.5...\n",
            "2       Sounce Fast Phone Charging Cable & Data Sync U...\n",
            "3       boAt Deuce USB 300 2 in 1 Type-C & Micro USB S...\n",
            "4       Portronics Konnect L 1.2M Fast Charging 3A 8 P...\n",
            "                              ...                        \n",
            "1460    Noir Aqua - 5pcs PP Spun Filter + 1 Spanner | ...\n",
            "1461    Prestige Delight PRWO Electric Rice Cooker (1 ...\n",
            "1462    Bajaj Majesty RX10 2000 Watts Heat Convector R...\n",
            "1463    Havells Ventil Air DSP 230mm Exhaust Fan (Pist...\n",
            "1464    Borosil Jumbo 1000-Watt Grill Sandwich Maker (...\n",
            "Length: 1462, dtype: object\n"
          ]
        }
      ],
      "source": [
        "print(combined_features)"
      ]
    },
    {
      "cell_type": "code",
      "execution_count": null,
      "metadata": {
        "id": "9iql5rEBAU-q"
      },
      "outputs": [],
      "source": [
        "#converting text data to feature vectors\n",
        "\n",
        "vectorizer = TfidfVectorizer()"
      ]
    },
    {
      "cell_type": "code",
      "execution_count": null,
      "metadata": {
        "id": "Ex1kZjtfAZec"
      },
      "outputs": [],
      "source": [
        "feature_vectors = vectorizer.fit_transform(combined_features)"
      ]
    },
    {
      "cell_type": "code",
      "execution_count": null,
      "metadata": {
        "colab": {
          "base_uri": "https://localhost:8080/"
        },
        "id": "otGkM9waAbfC",
        "outputId": "0051025f-7126-4b8a-d353-195c7b0df1a7"
      },
      "outputs": [
        {
          "output_type": "stream",
          "name": "stdout",
          "text": [
            "  (0, 18408)\t0.03496229029388053\n",
            "  (0, 9717)\t0.056901923510898955\n",
            "  (0, 8300)\t0.04794171586359642\n",
            "  (0, 17859)\t0.04075430760701405\n",
            "  (0, 4939)\t0.06286938083246783\n",
            "  (0, 12067)\t0.02137178487353487\n",
            "  (0, 10300)\t0.0380759006069192\n",
            "  (0, 20410)\t0.03564630720550761\n",
            "  (0, 4562)\t0.023536445816634978\n",
            "  (0, 13122)\t0.037666279165049055\n",
            "  (0, 15430)\t0.023781692063806096\n",
            "  (0, 12073)\t0.048798116255466886\n",
            "  (0, 22403)\t0.024827718009943885\n",
            "  (0, 9065)\t0.03978485297567247\n",
            "  (0, 22563)\t0.02503400224014921\n",
            "  (0, 22810)\t0.049476023553574\n",
            "  (0, 11942)\t0.03496229029388053\n",
            "  (0, 4009)\t0.040505683595649496\n",
            "  (0, 10668)\t0.08669569463830067\n",
            "  (0, 3784)\t0.07533024494325112\n",
            "  (0, 17608)\t0.03921084927687743\n",
            "  (0, 22856)\t0.03483761770631129\n",
            "  (0, 15888)\t0.041200131700667705\n",
            "  (0, 20983)\t0.029038928400018923\n",
            "  (0, 19169)\t0.07054111354575454\n",
            "  :\t:\n",
            "  (1461, 16995)\t0.09130377556642583\n",
            "  (1461, 19583)\t0.009710499460347743\n",
            "  (1461, 17292)\t0.009710499460347743\n",
            "  (1461, 17669)\t0.009710499460347743\n",
            "  (1461, 9791)\t0.009710499460347743\n",
            "  (1461, 12669)\t0.019420998920695487\n",
            "  (1461, 22906)\t0.009710499460347743\n",
            "  (1461, 13308)\t0.009710499460347743\n",
            "  (1461, 20722)\t0.02443941687175333\n",
            "  (1461, 22517)\t0.01830108898999337\n",
            "  (1461, 12598)\t0.019420998920695487\n",
            "  (1461, 8234)\t0.009710499460347743\n",
            "  (1461, 4600)\t0.019420998920695487\n",
            "  (1461, 14567)\t0.009730432069728444\n",
            "  (1461, 12429)\t0.019420998920695487\n",
            "  (1461, 12557)\t0.016690046995638575\n",
            "  (1461, 13097)\t0.089327278715724\n",
            "  (1461, 13176)\t0.03346198166953561\n",
            "  (1461, 21003)\t0.07967393338295733\n",
            "  (1461, 16752)\t0.019157712317650687\n",
            "  (1461, 13141)\t0.05013788815096057\n",
            "  (1461, 15658)\t0.010527104970756556\n",
            "  (1461, 11143)\t0.04918717950676572\n",
            "  (1461, 4676)\t0.02945184798319277\n",
            "  (1461, 21249)\t0.07994679631078101\n"
          ]
        }
      ],
      "source": [
        "print(feature_vectors)"
      ]
    },
    {
      "cell_type": "code",
      "execution_count": null,
      "metadata": {
        "id": "3ROGMyVrAdPm"
      },
      "outputs": [],
      "source": [
        "similarity = cosine_similarity(feature_vectors)"
      ]
    },
    {
      "cell_type": "code",
      "execution_count": null,
      "metadata": {
        "colab": {
          "base_uri": "https://localhost:8080/"
        },
        "id": "2dEfQ7OcAgye",
        "outputId": "b9d202ac-f00b-415b-e838-69f32ddcb5d3"
      },
      "outputs": [
        {
          "output_type": "stream",
          "name": "stdout",
          "text": [
            "[[1.         0.30436002 0.39138057 ... 0.10614627 0.09005262 0.06182727]\n",
            " [0.30436002 1.         0.27192787 ... 0.10340259 0.07802083 0.08618333]\n",
            " [0.39138057 0.27192787 1.         ... 0.12199997 0.09571374 0.06512801]\n",
            " ...\n",
            " [0.10614627 0.10340259 0.12199997 ... 1.         0.14136632 0.10342093]\n",
            " [0.09005262 0.07802083 0.09571374 ... 0.14136632 1.         0.05887601]\n",
            " [0.06182727 0.08618333 0.06512801 ... 0.10342093 0.05887601 1.        ]]\n"
          ]
        }
      ],
      "source": [
        "print(similarity)"
      ]
    },
    {
      "cell_type": "code",
      "execution_count": null,
      "metadata": {
        "colab": {
          "base_uri": "https://localhost:8080/"
        },
        "id": "iqGsagAIAieJ",
        "outputId": "294d976b-cdd7-4c75-c17e-6ecaa3fc09e2"
      },
      "outputs": [
        {
          "output_type": "stream",
          "name": "stdout",
          "text": [
            "(1462, 1462)\n"
          ]
        }
      ],
      "source": [
        "print(similarity.shape)"
      ]
    },
    {
      "cell_type": "markdown",
      "metadata": {
        "id": "SF1qiFdtQo2o"
      },
      "source": [
        "chnages"
      ]
    },
    {
      "cell_type": "code",
      "execution_count": null,
      "metadata": {
        "colab": {
          "base_uri": "https://localhost:8080/"
        },
        "id": "GMTBmV44QqTl",
        "outputId": "a53d3c3d-e389-4b03-ecc0-e84d4ee234a0"
      },
      "outputs": [
        {
          "name": "stdout",
          "output_type": "stream",
          "text": [
            "Enter keywords for your product: Amazon Basics 16-Gauge Speaker Wire - 50 Feet\n"
          ]
        }
      ],
      "source": [
        "input_keywords = input(\"Enter keywords for your product: \")"
      ]
    },
    {
      "cell_type": "code",
      "execution_count": null,
      "metadata": {
        "id": "-fDqjb-cQt6B"
      },
      "outputs": [],
      "source": [
        "input_vector = vectorizer.transform([input_keywords])"
      ]
    },
    {
      "cell_type": "code",
      "execution_count": null,
      "metadata": {
        "id": "GyIaeEL4QwIw"
      },
      "outputs": [],
      "source": [
        "input_similarity = cosine_similarity(input_vector, feature_vectors)[0]"
      ]
    },
    {
      "cell_type": "code",
      "execution_count": null,
      "metadata": {
        "id": "CG33mqOiQ2Wm"
      },
      "outputs": [],
      "source": [
        "similar_product_indices = np.argsort(input_similarity)[::-1]"
      ]
    },
    {
      "cell_type": "code",
      "execution_count": null,
      "metadata": {
        "id": "KBau-fdBQ6vp"
      },
      "outputs": [],
      "source": [
        "# print('Products suggested for you:\\n')\n",
        "# i = 1\n",
        "# for index in similar_product_indices:\n",
        "#     if i < 10:\n",
        "#         title = amazon_data.loc[index, 'product_name']\n",
        "#         img_link = amazon_data.loc[index, 'img_link']\n",
        "#         product_link = amazon_data.loc[index, 'product_link']\n",
        "#         print(i, '.', title)\n",
        "#         print('   Image Link:', img_link)\n",
        "#         print('   Product Link:', product_link)\n",
        "#         print()\n",
        "#         i += 1"
      ]
    },
    {
      "cell_type": "markdown",
      "metadata": {
        "id": "P3lzHiOuKAom"
      },
      "source": [
        "Product recommendation system"
      ]
    },
    {
      "cell_type": "code",
      "execution_count": null,
      "metadata": {
        "id": "1p1aufIUR-nR"
      },
      "outputs": [],
      "source": [
        "# input_keywords = input(\"Enter keywords for your product: \")\n",
        "\n",
        "# input_vector = vectorizer.transform([input_keywords])\n",
        "\n",
        "# input_similarity = cosine_similarity(input_vector, feature_vectors)[0]\n",
        "\n",
        "# similar_product_indices = np.argsort(input_similarity)[::-1]\n",
        "\n",
        "# print('Products suggested for you:\\n')\n",
        "# i = 1\n",
        "# for index in similar_product_indices:\n",
        "#     if i < 10:\n",
        "#         img_link = amazon_data.loc[index, 'img_link']\n",
        "#         product_link = amazon_data.loc[index, 'product_link']\n",
        "\n",
        "#         display(Image(url=img_link))\n",
        "#         print(i, '.', title)\n",
        "#         print('   Image Link:', img_link)\n",
        "#         print('   Product Link:', product_link)\n",
        "#         print()\n",
        "#         i += 1\n",
        "\n",
        "\n",
        "\n"
      ]
    },
    {
      "cell_type": "markdown",
      "metadata": {
        "id": "rZf5JFJ5SX0y"
      },
      "source": [
        "For exact product name use below code:\n",
        "\n",
        "product_name = input(\"Enter your product name: \");\n",
        "\n",
        "list_of_all_product_names = amazon_data['product_name'].tolist()\n",
        "print(list_of_all_product_names)\n",
        "\n",
        "find_close_match = difflib.get_close_matches(product_name, list_of_all_product_names)\n",
        "print(find_close_match)\n",
        "\n",
        "close_match = find_close_match[0]\n",
        "print(close_match)\n",
        "\n",
        "index_of_the_product = amazon_data[amazon_data.product_name == close_match]['index'].values[0]\n",
        "print(index_of_the_product)\n",
        "\n",
        "similarity_score = list(enumerate(similarity[index_of_the_product]))\n",
        "print(similarity_score)\n",
        "\n",
        "\n",
        "sorted_similar_products = sorted(similarity_score, key = lambda x:x[1], reverse = True)\n",
        "print(sorted_similar_products)\n",
        "\n",
        "\n",
        "print('Products suggested for you : \\n')\n",
        "\n",
        "i = 1\n",
        "amazon_data = amazon_data.reset_index(drop=True)\n",
        "for product in sorted_similar_products:\n",
        "  index = product[0]\n",
        "  title_from_index = amazon_data[amazon_data.index==index]['product_name'].values[0]\n",
        "  if (i<30):\n",
        "    print(i, '.',title_from_index)\n",
        "    i+=1"
      ]
    },
    {
      "cell_type": "code",
      "execution_count": null,
      "metadata": {
        "colab": {
          "base_uri": "https://localhost:8080/",
          "height": 1000
        },
        "id": "WFATAyU2BbWI",
        "outputId": "d4c5d898-96a8-4b9f-b612-cd2bb89e904f"
      },
      "outputs": [
        {
          "output_type": "stream",
          "name": "stdout",
          "text": [
            "Enter your product name: Amazon Basics 16-Gauge Speaker Wire - 50 Feet\n",
            "['Wayona Nylon Braided USB to Lightning Fast Charging and Data Sync Cable Compatible for iPhone 13, 12,11, X, 8, 7, 6, 5, iPad Air, Pro, Mini (3 FT Pack of 1, Grey)', 'Ambrane Unbreakable 60W / 3A Fast Charging 1.5m Braided Type C Cable for Smartphones, Tablets, Laptops & other Type C devices, PD Technology, 480Mbps Data Sync, Quick Charge 3.0 (RCT15A, Black)', 'Sounce Fast Phone Charging Cable & Data Sync USB Cable Compatible for iPhone 13, 12,11, X, 8, 7, 6, 5, iPad Air, Pro, Mini & iOS Devices', 'boAt Deuce USB 300 2 in 1 Type-C & Micro USB Stress Resistant, Tangle-Free, Sturdy Cable with 3A Fast Charging & 480mbps Data Transmission, 10000+ Bends Lifespan and Extended 1.5m Length(Martian Red)', 'Portronics Konnect L 1.2M Fast Charging 3A 8 Pin USB Cable with Charge & Sync Function for iPhone, iPad (Grey)', 'pTron Solero TB301 3A Type-C Data and Fast Charging Cable, Made in India, 480Mbps Data Sync, Strong and Durable 1.5-Meter Nylon Braided USB Cable for Type-C Devices for Charging Adapter (Black)', 'boAt Micro USB 55 Tangle-free, Sturdy Micro USB Cable with 3A Fast Charging & 480mbps Data Transmission (Black)', 'MI Usb Type-C Cable Smartphone (Black)', 'TP-Link USB WiFi Adapter for PC(TL-WN725N), N150 Wireless Network Adapter for Desktop - Nano Size WiFi Dongle Compatible with Windows 11/10/7/8/8.1/XP/ Mac OS 10.9-10.15 Linux Kernel 2.6.18-4.4.3', 'Ambrane Unbreakable 60W / 3A Fast Charging 1.5m Braided Micro USB Cable for Smartphones, Tablets, Laptops & Other Micro USB Devices, 480Mbps Data Sync, Quick Charge 3.0 (RCM15, Black)', 'Portronics Konnect L POR-1081 Fast Charging 3A Type-C Cable 1.2Meter with Charge & Sync Function for All Type-C Devices (Grey)', 'boAt Rugged v3 Extra Tough Unbreakable Braided Micro USB Cable 1.5 Meter (Black)', 'AmazonBasics Flexible Premium HDMI Cable (Black, 4K@60Hz, 18Gbps), 3-Foot', 'Portronics Konnect CL 20W POR-1067 Type-C to 8 Pin USB 1.2M Cable with Power Delivery & 3A Quick Charge Support, Nylon Braided for All Type-C and 8 Pin Devices, Green', 'Portronics Konnect L 1.2M POR-1401 Fast Charging 3A 8 Pin USB Cable with Charge & Sync Function (White)', 'MI Braided USB Type-C Cable for Charging Adapter (Red)', 'MI 80 cm (32 inches) 5A Series HD Ready Smart Android LED TV L32M7-5AIN (Black)', 'Ambrane Unbreakable 60W / 3A Fast Charging 1.5m Braided Type C to Type C Cable for Smartphones, Tablets, Laptops & Other Type C Devices, PD Technology, 480Mbps Data Sync (RCTT15, Black)', 'boAt Type C A325 Tangle-free, Sturdy Type C Cable with 3A Rapid Charging & 480mbps Data Transmission(Black)', 'LG 80 cm (32 inches) HD Ready Smart LED TV 32LM563BPTC (Dark Iron Gray)', 'Duracell USB Lightning Apple Certified (Mfi) Braided Sync & Charge Cable For Iphone, Ipad And Ipod. Fast Charging Lightning Cable, 3.9 Feet (1.2M) - Black', 'tizum HDMI to VGA Adapter Cable 1080P for Projector, Computer, Laptop, TV, Projectors & TV', 'Samsung 80 cm (32 Inches) Wondertainment Series HD Ready LED Smart TV UA32T4340BKXXL (Glossy Black)', 'Flix Micro Usb Cable For Smartphone (Black)', 'Acer 80 cm (32 inches) I Series HD Ready Android Smart LED TV AR32AR2841HDFL (Black)', 'Tizum High Speed HDMI Cable with Ethernet | Supports 3D 4K | for All HDMI Devices Laptop Computer Gaming Console TV Set Top Box (1.5 Meter/ 5 Feet)', 'OnePlus 80 cm (32 inches) Y Series HD Ready LED Smart Android TV 32Y1 (Black)', 'Ambrane Unbreakable 3 in 1 Fast Charging Braided Multipurpose Cable for Speaker with 2.1 A Speed - 1.25 meter, Black', 'Duracell USB C To Lightning Apple Certified (Mfi) Braided Sync & Charge Cable For Iphone, Ipad And Ipod. Fast Charging Lightning Cable, 3.9 Feet (1.2M) - Black', 'boAt A400 USB Type-C to USB-A 2.0 Male Data Cable, 2 Meter (Black)', 'AmazonBasics USB 2.0 - A-Male to A-Female Extension Cable for Personal Computer, Printer (Black, 9.8 Feet/3 Meters)', 'Ambrane 60W / 3A Type C Fast Charging Unbreakable 1.5m L Shaped Braided Cable, PD Technology, 480Mbps Data Transfer for Smartphones, Tablet, Laptops & other type c devices (ABLC10, Black)', 'Zoul USB C 60W Fast Charging 3A 6ft/2M Long Type C Nylon Braided Data Cable Quick Charger Cable QC 3.0 for Samsung Galaxy M31S M30 S10 S9 S20 Plus, Note 10 9 8, A20e A40 A50 A70 (2M, Grey)', 'Samsung Original Type C to C Cable - 3.28 Feet (1 Meter), White', 'pTron Solero T351 3.5Amps Fast Charging Type-C to Type-C PD Data & Charging USB Cable, Made in India, 480Mbps Data Sync, Durable 1 Meter Long Cable for Type-C Smartphones, Tablets & Laptops (Black)', 'pTron Solero MB301 3A Micro USB Data & Charging Cable, Made in India, 480Mbps Data Sync, Strong & Durable 1.5-Meter Nylon Braided USB Cable for Micro USB Devices - (Black)', 'Amazonbasics Nylon Braided Usb-C To Lightning Cable, Fast Charging Mfi Certified Smartphone, Iphone Charger (6-Foot, Dark Grey)', 'Sounce 65W OnePlus Dash Warp Charge Cable, 6.5A Type-C to USB C PD Data Sync Fast Charging Cable Compatible with One Plus 8T/ 9/ 9R/ 9 pro/ 9RT/ 10R/ Nord & for All Type C Devices – Red, 1 Meter', 'OnePlus 126 cm (50 inches) Y Series 4K Ultra HD Smart Android LED TV 50Y1S Pro (Black)', 'Duracell Type C To Type C 5A (100W) Braided Sync & Fast Charging Cable, 3.9 Feet (1.2M). USB C to C Cable, Supports PD & QC 3.0 Charging, 5 GBPS Data Transmission – Black', 'AmazonBasics USB 2.0 Cable - A-Male to B-Male - for Personal Computer, Printer- 6 Feet (1.8 Meters), Black', 'Mi 108 cm (43 inches) Full HD Android LED TV 4C | L43M6-INC (Black)', 'Wayona Nylon Braided 3A Lightning to USB A Syncing and Fast Charging Data Cable for iPhone, Ipad (3 FT Pack of 1, Black)', 'TP-Link Nano AC600 USB Wi-Fi Adapter(Archer T2U Nano)- 2.4G/5G Dual Band Wireless Network Adapter for PC Desktop Laptop, Mini Travel Size, Supports Windows 11,10, 8.1, 8, 7, XP/Mac OS 10.9-10.15', 'FLiX (Beetel USB to Micro USB PVC Data Sync & 2A Fast Charging Cable, Made in India, 480Mbps Data Sync, Solid Cable, 1 Meter Long USB Cable for Micro USB Devices (White)(XCD-M11)', 'Wecool Nylon Braided Multifunction Fast Charging Cable For Android Smartphone, Ios And Type C Usb Devices, 3 In 1 Charging Cable, 3A, (3 Feet) (Black)', 'D-Link DWA-131 300 Mbps Wireless Nano USB Adapter (Black)', 'Amazon Basics High-Speed HDMI Cable, 6 Feet - Supports Ethernet, 3D, 4K video,Black', '7SEVEN® Compatible for Samsung Smart 4K Ultra HD TV Monitor Remote Control Replacement of Original Samsung TV Remote for LED OLED UHD QLED and Suitable for 6 7 8 Series Samsung TV with Hot Keys BN59-01259E', 'Amazonbasics Micro Usb Fast Charging Cable For Android Smartphone,Personal Computer,Printer With Gold Plated Connectors (6 Feet, Black)', 'TP-Link AC600 600 Mbps WiFi Wireless Network USB Adapter for Desktop PC with 2.4GHz/5GHz High Gain Dual Band 5dBi Antenna Wi-Fi, Supports Windows 11/10/8.1/8/7/XP, Mac OS 10.15 and earlier (Archer T2U Plus)', 'AmazonBasics Micro USB Fast Charging Cable for Android Phones with Gold Plated Connectors (3 Feet, Black)', 'AmazonBasics New Release Nylon USB-A to Lightning Cable Cord, Fast Charging MFi Certified Charger for Apple iPhone, iPad (6-Ft, Rose Gold)', 'VW 80 cm (32 inches) Frameless Series HD Ready LED TV VW32A (Black)', 'Ambrane Unbreakable 3A Fast Charging Braided Type C Cable    1.5 Meter (RCT15, Blue) Supports QC 2.0/3.0 Charging', 'Tata Sky Universal Remote', 'TP-LINK WiFi Dongle 300 Mbps Mini Wireless Network USB Wi-Fi Adapter for PC Desktop Laptop(Supports Windows 11/10/8.1/8/7/XP, Mac OS 10.9-10.15 and Linux, WPS, Soft AP Mode, USB 2.0) (TL-WN823N),Black', 'OnePlus 80 cm (32 inches) Y Series HD Ready Smart Android LED TV 32 Y1S (Black)', 'Wecool Unbreakable 3 in 1 Charging Cable with 3A Speed, Fast Charging Multi Purpose Cable 1.25 Mtr Long, Type C cable, Micro Usb Cable and Cable for iPhone, White', 'Portronics Konnect L 1.2Mtr, Fast Charging 3A Micro USB Cable with Charge & Sync Function (Grey)', 'Airtel DigitalTV DTH Television, Setup Box Remote Compatible for SD and HD Recording (Black)', 'Samsung 108 cm (43 inches) Crystal 4K Neo Series Ultra HD Smart LED TV UA43AUE65AKXXL (Black)', 'Lapster 1.5 mtr USB 2.0 Type A Male to USB A Male Cable for computer and laptop', 'AmazonBasics USB Type-C to USB Type-C 2.0 Cable - 3 Feet Laptop (0.9 Meters) - White', 'Redmi 80 cm (32 inches) Android 11 Series HD Ready Smart LED TV | L32M6-RA/L32M7-RA (Black)', 'Amazon Basics High-Speed HDMI Cable, 6 Feet (2-Pack),Black', 'Portronics Konnect L 20W PD Quick Charge Type-C to 8-Pin USB Mobile Charging Cable, 1.2M, Tangle Resistant, Fast Data Sync(Grey)', 'Acer 80 cm (32 inches) N Series HD Ready TV AR32NSV53HD (Black)', \"Model-P4 6 Way Swivel Tilt Wall Mount 32-55-inch Full Motion Cantilever for LED,LCD and Plasma TV's\", 'Amazon Basics USB Type-C to USB-A 2.0 Male Fast Charging Cable for Laptop - 3 Feet (0.9 Meters), Black', 'oraimo 65W Type C to C Fast Charging Cable USB C to USB C Cable High Speed Syncing, Nylon Braided 1M length with LED Indicator Compatible For Laptop, Macbook, Samsung Galaxy S22 S20 S10 S20Fe S21 S21 Ultra A70 A51 A71 A50S M31 M51 M31S M53 5G', 'CEDO 65W OnePlus Dash Warp Charge Cable, USB A to Type C Data Sync Fast Charging Cable Compatible with One Plus 3 /3T /5 /5T /6 /6T /7 /7T /7 pro & for All Type C Devices - 1 Meter, Red', 'Redmi 108 cm (43 inches) 4K Ultra HD Android Smart LED TV X43 | L43R7-7AIN (Black)', 'Pinnaclz Original Combo of 2 Micro USB Fast Charging Cable, USB Charging Cable for Data Transfer Perfect for Android Smart Phones White 1.2 Meter Made in India (Pack of 2)', 'boAt Type C A750 Stress Resistant, Tangle-free, Sturdy Flat Cable with 6.5A Fast Charging & 480Mbps Data Transmission, 10000+ Bends Lifespan and Extended 1.5m Length(Rebellious Black)', 'Ambrane 2 in 1 Type-C & Micro USB Cable with 60W / 3A Fast Charging, 480 mbps High Data, PD Technology & Quick Charge 3.0, Compatible with All Type-C & Micro USB Devices (ABDC-10, Black)', 'Ambrane 60W / 3A Fast Charging Output Cable with Type-C to USB for Mobile, Neckband, True Wireless Earphone Charging, 480mbps Data Sync Speed, 1m Length (ACT - AZ10, Black)', 'TCL 80 cm (32 inches) HD Ready Certified Android Smart LED TV 32S5205 (Black)', 'SWAPKART Fast Charging Cable and Data Sync USB Cable Compatible for iPhone 6/6S/7/7+/8/8+/10/11, 12, 13 Pro max iPad Air/Mini, iPod and iOS Devices (White)', 'Firestick Remote', 'Wayona Usb Nylon Braided Data Sync And Charging Cable For Iphone, Ipad Tablet (Red, Black)', 'Flix (Beetel) Usb To Type C Pvc Data Sync And 2A 480Mbps Data Sync, Tough Fast Charging Long Cable For Usb Type C Devices, Charging Adapter (White, 1 Meter) - Xcd-C12', 'SKYWALL 81.28 cm (32 inches) HD Ready Smart LED TV 32SWELS-PRO (Black)', 'boAt A 350 Type C Cable for Smartphone, Charging Adapter (1.5m, Carbon Black)', 'Wayona Usb Type C Fast Charger Cable Fast Charging Usb C Cable/Cord Compatible For Samsung Galaxy S10E S10 S9 S8 Plus S10+,Note 10 Note 9 Note 8,S20,M31S,M40,Realme X3,Pixel 2 Xl (3 Ft Pack Of 1,Grey)', 'OnePlus 108 cm (43 inches) Y Series 4K Ultra HD Smart Android LED TV 43Y1S Pro (Black)', 'Acer 127 cm (50 inches) I Series 4K Ultra HD Android Smart LED TV AR50AR2851UDFL (Black)', 'Samsung 108 cm (43 inches) Crystal 4K Series Ultra HD Smart LED TV UA43AUE60AKLXL (Black)', 'Lapster 65W compatible for OnePlus Dash Warp Charge Cable , type c to c cable fast charging Data Sync Cable Compatible with One Plus 10R / 9RT/ 9 pro/ 9R/ 8T/ 9/ Nord & for All Type C Devices – Red, 1 Meter', 'Wayona Nylon Braided (2 Pack) Lightning Fast Usb Data Cable Fast Charger Cord For Iphone, Ipad Tablet (3 Ft Pack Of 2, Grey)', 'Gizga Essentials USB WiFi Adapter for PC, 150 Mbps Wireless Network Adapter for Desktop - Nano Size WiFi Dongle Compatible with Windows, Mac OS & Linux Kernel | WPA/WPA2 Encryption Standards| Black', 'OnePlus 108 cm (43 inches) Y Series Full HD Smart Android LED TV 43 Y1S (Black)', 'boAt Deuce USB 300 2 in 1 Type-C & Micro USB Stress Resistant, Sturdy Cable with 3A Fast Charging & 480mbps Data Transmission, 10000+ Bends Lifespan and Extended 1.5m Length(Mercurial Black)', 'Lapster USB 3.0 A to Micro B SuperSpeed for hard disk cable - short cable', 'TCL 100 cm (40 inches) Full HD Certified Android R Smart LED TV 40S6505 (Black)', 'ZEBRONICS ZEB-USB150WF1 WiFi USB Mini Adapter Supports 150 Mbps Wireless Data, Comes with Advanced Security WPA/WPA2 encryption Standards', 'LOHAYA Remote Compatible for Mi Smart LED TV 4A Remote Control (32\"/43\") [ Compatible for Mi Tv Remote Control ] [ Compatible for Mi Smart LED Tv Remote Control ]', 'Gilary Multi Charging Cable, 3 in 1 Nylon Braided Fast Charging Cable for iPhone Micro USB Type C Mobile Phone | Colour May Vary |', 'TP-Link UE300 USB 3.0 to RJ45 Gigabit Ethernet Network Adapter - Plug and Play', 'Wayona Type C to Lightning MFI Certified 20W Fast charging Nylon Braided USB C Cable for iPhone 14, 14 Pro, 14 Pro Max, 14 Plus, 13, 13 Pro, 13 Pro Max, 13 Mini, 12, 12 Pro, 11, 11 Pro Max iPhone 12 Mini, X, 8 (2M, Grey)', 'Dealfreez Case Compatible with Fire TV Stick 3rd Gen 2021 Full Wrap Silicone Remote Cover Anti-Lost with Loop (D-Black)', 'Amazon Basics New Release Nylon USB-A to Lightning Cable Cord, Fast Charging MFi Certified Charger for Apple iPhone, iPad (3-Ft, Rose Gold)', 'Isoelite Remote Compatible for Samsung LED/LCD Remote Control Works with All Samsung LED/LCD TV Model No :- BN59-607A (Please Match The Image with Your Old Remote)', 'MI 100 cm (40 inches) 5A Series Full HD Smart Android LED TV with 24W Dolby Audio & Metal Bezel-Less Frame (Black) (2022 Model)', 'Wayona Nylon Braided USB Data Sync and Fast Charging 3A Short Power Bank Cable For iPhones, iPad Air, iPad mini, iPod Nano and iPod Touch (Grey)', 'Wayona Type C To Type C Long Fast Charging Cable Type C Charger Cord Compatible With Samsung S22 S20 S20 Fe 2022 S22 Ultra S21 Ultra A70 A51 A53 A33 A73 M51 M31 M33 M53 (Grey, 2M, 65W, 6Ft)', 'Wayona Nylon Braided 2M / 6Ft Fast Charge Usb To Lightning Data Sync And Charging Cable For Iphone, Ipad Tablet (6 Ft Pack Of 1, Grey)', 'CROSSVOLT Compatible Dash/Warp Data Sync Fast Charging Cable Supported for All C Type Devices (Cable)', 'VU 139 cm (55 inches) The GloLED Series 4K Smart LED Google TV 55GloLED (Grey)', 'PTron Solero T241 2.4A Type-C Data & Charging USB Cable, Made in India, 480Mbps Data Sync, Durable 1-Meter Long USB Cable for Type-C USB Devices for Charging Adapter (Black)', 'Croma 80 cm (32 Inches) HD Ready LED TV (CREL7369, Black) (2021 Model)', 'boAt Laptop, Smartphone Type-c A400 Male Data Cable (Carbon Black)', 'LG 80 cm (32 inches) HD Ready Smart LED TV 32LQ576BPSA (Ceramic Black)', 'boAt Type C A750 Stress Resistant, Tangle-free, Sturdy Flat Cable with 6.5A Fast Charging & 480Mbps Data Transmission, 10000+ Bends Lifespan and Extended 1.5m Length(Radiant Red)', 'Cotbolt Silicone Protective Case Cover for LG an MR21GA Magic Remote Shockproof for LG Smart TV Remote 2021 Protective Skin Waterproof Anti Lost (Black) (Remote Not Included)', 'Portronics Konnect L POR-1403 Fast Charging 3A Type-C Cable 1.2 Meter with Charge & Sync Function for All Type-C Devices (White)', 'Electvision Remote Control Compatible with Amazon Fire tv Stick (Pairing Manual Will be Back Side Remote Control)(P)', 'King Shine Multi Retractable 3.0A Fast Charger Cord, Multiple Charging Cable 4Ft/1.2m 3-in-1 USB Charge Cord Compatible with Phone/Type C/Micro USB for All Android and iOS Smartphones (Random Colour)', 'Lapster 5 pin mini usb cable, usb b cable,camera cable usb2.0 for External HDDS/Card Readers/Camera etc.', 'Portronics Konnect Spydr 31 3-in-1 Multi Functional Cable with 3.0A Output, Tangle Resistant, 1.2M Length, Nylon Braided(Zebra)', 'Belkin Apple Certified Lightning To Type C Cable, Tough Unbreakable Braided Fast Charging For Iphone, Ipad, Air Pods, 3.3 Feet (1 Meters)    White', 'Remote Control Compatible for Amazon Fire Tv Stick Remote Control [ 3rd Gen ](Not Compatible for Fire TV Edition Smart TV) from basesailor', 'VW 80 cm (32 inches) Playwall Frameless Series HD Ready Android Smart LED TV VW3251 (Black)', 'Hisense 108 cm (43 inches) 4K Ultra HD Smart Certified Android LED TV 43A6GE (Black)', 'Redmi 126 cm (50 inches) 4K Ultra HD Android Smart LED TV X50 | L50M6-RA (Black)', 'AmazonBasics 6-Feet DisplayPort (not USB port) to HDMI Cable Black', 'AmazonBasics 3 Feet High Speed HDMI Male to Female 2.0 Extension Cable', 'iFFALCON 80 cm (32 inches) HD Ready Smart LED TV\\xa032F53 (Black)', '7SEVEN® Compatible Lg Smart Tv Remote Suitable for Any LG LED OLED LCD UHD Plasma Android Television and AKB75095303 replacement of Original Lg Tv Remote Control', 'AmazonBasics 3.5mm to 2-Male RCA Adapter Cable For Tablet, Smartphone (Black, 15 feet)', 'Acer 109 cm (43 inches) I Series 4K Ultra HD Android Smart LED TV AR43AR2851UDFL (Black)', 'Wayona Usb Type C 65W 6Ft/2M Long Fast Charging Cable Compatible For Samsung S22 S20 Fe S21 Ultra A33 A53 A01 A73 A70 A51 M33 M53 M51 M31(2M, Black)', 'Saifsmart Outlet Wall Mount Hanger Holder for Dot 3rd Gen, Compact Bracket Case Plug and Built-in Cable Management for Kitchen Bathroom, Bedroom (Black)', 'MI 2-in-1 USB Type C Cable (Micro USB to Type C) 30cm for Smartphone, Headphone, Laptop (White)', 'AmazonBasics New Release ABS USB-A to Lightning Cable Cord, Fast Charging MFi Certified Charger for Apple iPhone, iPad Tablet (3-Ft, White)', 'LG 108 cm (43 inches) 4K Ultra HD Smart LED TV 43UQ7500PSF (Ceramic Black)', 'pTron Solero 331 3.4Amps Multifunction Fast Charging Cable, 3-in-1 USB Cable Micro USB/Type-C/iOS, Made in India, Durable & Strong & Tangle-free 118cm in Length (Black)', '10k 8k 4k HDMI Cable, Certified 48Gbps 1ms Ultra High Speed HDMI 2.1 Cable 4k 120Hz 144Hz 2k 165Hz 8k 60Hz Dynamic HDR ARC eARC DTS:X Compatible for Mac Gaming PC Soundbar TV Monitor Laptop PS5 4 Xbox', \"LRIPL Compatible Sony Bravia LCD/led Remote Works with Almost All Sony led/LCD tv's\", 'boAt Type-c A400 Type-c to USB A Cable for All Type C Phones (Lg nexus 5x), 1Mtr(Black)', 'Zoul Type C to Type C Fast Charging Cable 65W 2M/6ft USB C Nylon Braided Cord Compatible with MacBook Oneplus 9 9R Samsung Galaxy S21 Ultra S20+ (2M, Black)', 'TP-LINK AC1300 Archer T3U Plus High Gain USB 3.0 Wi-Fi Dongle, Wireless Dual Band MU-MIMO WiFi Adapter with High Gain Antenna, Supports Windows 11/10/8.1/8/7/XP/MacOS', 'LRIPL Mi Remote Control with Netflix & Prime Video Button Compatible for Mi 4X LED Android Smart TV 4A Remote Control (32\"/43\") with Voice Command (Pairing Required)', 'TP-Link Nano USB WiFi Dongle 150Mbps High Gain Wireless Network Wi-Fi Adapter for PC Desktop and Laptops, Supports Windows 10/8.1/8/7/XP, Linux, Mac OS X (TL-WN722N)', 'Kodak 80 cm (32 inches) HD Ready Certified Android LED TV 32HDX7XPRO (Black)', 'Airtel DigitalTV DTH Remote SD/HD/HD Recording Compatible for Television (Shining Black )', 'AmazonBasics New Release Nylon USB-A to Lightning Cable Cord, MFi Certified Charger for Apple iPhone, iPad, Silver, 6-Ft', 'Ambrane Fast 100W Output Cable with Type-C to Type-C for Mobile, Laptop, Macbook & Table Charging, 480mbps Data Sync Speed, Braided Cable, 1.5m Length (ABCC-100, Black-Grey)', 'BlueRigger Digital Optical Audio Toslink Cable (3.3 Feet / 1 Meter) With 8 Channel (7.1) Audio Support (for Home Theatre, Xbox, Playstation etc.)', 'Duracell Type-C To Micro 1.2M braided Sync & Charge Cable, USB C to Micro Fast Charge Compatible for fast data transmission (Black)', 'VU 138 cm (55 inches) Premium Series 4K Ultra HD Smart IPS LED TV 55UT (Black)', 'Zoul USB Type C Fast Charging 3A Nylon Braided Data Cable Quick Charger Cable QC 3.0 for Samsung Galaxy M31s M30 S10 S9 S20 Plus, Note 10 9 8, A20e A40 A50 A70 (1M, Grey)', 'Samsung 80 cm (32 inches) Wondertainment Series HD Ready LED Smart TV UA32TE40AAKBXL (Titan Gray)', 'MI Xiaomi USB Type C HYperCharge Cable 6A 100cm Sturdy and Durable Black Supports 120W HyperCharging', 'GENERIC Ultra-Mini Bluetooth CSR 4.0 USB Dongle Adapter for Windows Computer ( Black:Golden)', '7SEVEN® Compatible for Tata Sky Remote Original Set Top\\xa0HD Box and Suitable for SD Tata Play setup Box Remote Control', 'Belkin Apple Certified Lightning To Type C Cable, Fast Charging For Iphone, Ipad, Air Pods, 3.3 Feet (1 Meters)    White', 'EGate i9 Pro-Max 1080p Native Full HD Projector 4k Support | 3600 L (330 ANSI ) | 150\" (381 cm) Large Screen | VGA, AV, HDMI, SD Card, USB, Audio Out | (E03i31 / E04i32) Black', 'ZEBRONICS HAA2021 HDMI version 2.1 cable with 8K @ 60Hz, 4K @ 120Hz, eARC & CEC support, 3D compatible, 2 meters length, 48Gbps max and Gold-plated connectors', '7SEVEN® Compatible for Sony Bravia LCD LED UHD OLED QLED 4K Ultra HD TV remote control with YouTube and NETFLIX Hotkeys. Universal Replacement for Original Sony Smart Android tv Remote Control', 'AmazonBasics Digital Optical Coax to Analog RCA Audio Converter Adapter with Fiber Cable', 'Wayona Type C Cable Nylon Braided USB C QC 3.0 Fast Charging Short Power Bank Cable for Samsung Galaxy S10e/S10+/S10/S9/S9+/Note 9/S8/Note 8, LG G7 G5 G6, Moto G6 G7 (0.25M, Black)', 'Pinnaclz Original Combo of 2 USB Type C Fast Charging Cable, USB C Data Cable for Charging and Data Transfer Smart Phones White 1.2 Meter Made in India (Pack of 2)', 'Ambrane BCL-15 Lightning Cable for Smartphone (1.5m Black)', 'Belkin USB C to USB-C Fast Charging Type C Cable, 60W PD, 3.3 feet (1 meter) for Laptop, Personal Computer, Tablet, Smartphone - Black, USB-IF Certified', 'LOHAYA Television Remote Compatible with Samsung Smart LED/LCD/HD TV Remote Control [ Compatible for All Samsung Tv Remote Control ]', 'Wayona Nylon Braided Lightning USB Data Sync & 3A Charging Cable for iPhones, iPad Air, iPad Mini, iPod Nano and iPod Touch (3 FT Pack of 1, Grey)', 'Electvision Remote Control Compatible with Kodak/Thomson Smart led tv (Without Voice) Before Placing Order for verification Contact Our coustmer Care 7738090464', 'Acer 80 cm (32 inches) S Series HD Ready Android Smart LED TV AR32AR2841HDSB (Black)', 'realme 10W Fast Charging Micro-USB Cable (Braided, Black)', 'TP-Link AC1300 USB WiFi Adapter (Archer T3U) - 2.4G/5G Dual Band Mini Wireless Network Adapter for PC Desktop, MU-MIMO Wi-Fi Dongle, USB 3.0, Supports Windows 11,10, 8.1, 8, 7, XP/Mac OS 10.15 and earlier', 'Acer 139 cm (55 inches) I Series 4K Ultra HD Android Smart LED TV AR55AR2851UDFL (Black)', 'Ambrane 60W / 3A Fast Charging Output Cable with Micro to USB for Mobile, Neckband, True Wireless Earphone Charging, 480mbps Data Sync Speed, 1m Length (ACM - AZ1, Black)', 'Wayona USB Type C 65W Fast Charging 2M/6Ft Long Flash Charge Cable 3A QC 3.0 Data Cable Compatible with Samsung Galaxy S21 S10 S9 S8, iQOO Z3, Vivo, Note 10 9 8, A20e A40 A50 A70, Moto G7 G8 (2M, Grey)', 'Syncwire LTG to USB Cable for Fast Charging Compatible with Phone 5/ 5C/ 5S/ 6/ 6S/ 7/8/ X/XR/XS Max/ 11/12/ 13 Series and Pad Air/Mini, Pod & Other Devices (1.1 Meter, White)', 'Skadioo WiFi Adapter for pc | Car Accessories, WiFi Dongle for pc | USB WiFi Adapter for pc | Wi-Fi Receiver 2.4GHz, 802.11b/g/n UNano Size WiFi Dongle Compatible Adapter,WiFi dongle for pc', 'FLiX (Beetel USB to Type C PVC Data Sync & 15W(3A) TPE Fast Charging Cable, Made in India, 480Mbps Data Sync, 1 Meter Long cable for all Andriod & all Type C Devices (Black)(XCD - FPC02)', \"Zoul USB C to USB C Fast Charging Cable 65W Type C to Type C Nylon Braided Cord Compatible with Macbook Oneplus 9 10R Samsung Galaxy S22 S21 Ultra Z Flip3 Macbook Air/Pro M1 Google Pixel 11'' iPad Pro 2020/2018 (2M, Grey)\", 'FLiX (Beetel Flow USB to Micro USB PVC Data Sync & 12W(2.4A) Fast Charging Cable,Made in India,480Mbps Data Sync,Solid Cable,1 Meter Long cable for all Andriod & Micro USB Devices (Black)(XCD-FPM01)', '7SEVEN® Bluetooth Voice Command Remote for Xiaomi Redmi Mi Smart TV with Netflix & Prime Video Hot Keys XMRM-00A', 'Sony TV - Remote Compatible for Sony LED Remote Control Works with Sony LED TV by Trend Trail Speed tech & Remote hi Remote & REO India only', 'Storite USB 3.0 Cable A to Micro B high Speed Upto 5 Gbps Data Transfer Cable for Portable External Hard Drive - (20cm), Black', 'boAt LTG 500 Apple MFI Certified for iPhone, iPad and iPod 2Mtr Data Cable(Space Grey)', 'AmazonBasics USB C to Lightning Aluminum with Nylon Braided MFi Certified Charging Cable (Grey, 1.2 meter)', 'AmazonBasics Double Braided Nylon USB Type-C to Type-C 2.0 Cable Smartphone (Dark Grey, 3 feet)', 'Amazon Basics USB 3.0 Cable - A Male to Micro B - 6 Feet (1.8 Meters), Black', 'AmazonBasics USB C to Lightning Aluminum with Nylon Braided MFi Certified Charging Cable (Grey, 1.8 meter)', 'Wayona Usb C 65W Fast Charging Cable Compatible For Tablets Samsung S22 S20 S10 S20Fe S21 S21 Ultra A70 A51 A71 A50S M31 M51 M31S M53 5G (1M, Black)', 'Karbonn 80 cm (32 inches) Millenium Bezel-Less Series HD Ready Smart LED TV KJW32SKHD (Phantom Black)', 'BlueRigger Digital Optical Audio Toslink Cable (6 Feet / 1.8 Meter) With 8 Channel (7.1) Audio Support (for Home Theatre, Xbox, Playstation etc.)', 'VW 60 cm (24 inches) Premium Series HD Ready LED TV VW24A (Black)', 'Amazon Basics USB A to Lightning MFi Certified Charging Cable (White, 1.2 meter)', 'Samsung 138 cm (55 inches) Crystal 4K Neo Series Ultra HD Smart LED TV UA55AUE65AKXXL (Black)', 'LOHAYA Television Remote Compatible for VU LED LCD HD Tv Remote Control Model No :- EN2B27V', 'Duracell Micro USB 3A Braided Sync & Fast Charging Cable, 3.9 Feet (1.2M). Supports QC 2.0/3.0 Charging, High Speed Data Transmission - Black', 'Zebronics CU3100V Fast charging Type C cable with QC 18W support, 3A max capacity, 1 meter braided cable, Data transfer and Superior durability (Braided Black + White)', 'FLiX (Beetel) USB to iPhone Lightning Textured Pattern Data Sync & 2A Fast Charging Cable, Made in India, 480Mbps Data Sync, Tough Cable, 1 Meter Long USB Cable for Apple Devices (Black)(XCD-L102)', 'MI 108 cm (43 inches) 5A Series Full HD Smart Android LED TV L43M7-EAIN (Black)', 'Belkin Apple Certified Lightning to USB Charge and Sync Cable for iPhone, iPad, Air Pods, 39.6 inch (100cm) – Black', 'Time Office Scanner Replacement Cable for Startek FM220U (Type C) Ivory', 'Caldipree Silicone Case Cover Compatible for 2022 Samsung Smart TV Remote QLED TV BN68-13897A TM2280E (2022-BLACK)', 'Storite USB 2.0 A to Mini 5 pin B Cable for External HDDS/Camera/Card Readers 35cm', 'Universal Remote Control for All Sony TV for All LCD LED and Bravia TVs Remote', 'Cotbolt Silicone Case Cover Compatible for Samsung BN59-01312A QLED 8K 4K Smart TV Remote Shockproof Protective Remote Cover (Black)', 'BlueRigger High Speed HDMI Cable with Ethernet - Supports 3D, 4K 60Hz and Audio Return - Latest Version (3 Feet / 0.9 Meter)', 'Amkette 30 Pin to USB Charging & Data Sync Cable for iPhone 3G/3GS/4/4s/iPad 1/2/3, iPod Nano 5th/6th Gen and iPod Touch 3rd/4th Gen -1.5m (Black)', 'TCL 80 cm (32 inches) HD Ready Certified Android Smart LED TV 32S615 (Black)', 'POPIO Type C Dash Charging USB Data Cable for OnePlus Devices', 'MYVN LTG to USB for\\xa0Fast Charging & Data Sync USB Cable Compatible for iPhone 5/5s/6/6S/7/7+/8/8+/10/11, iPad Air/Mini, iPod and iOS Devices (1 M)', 'Tata Sky Universal Remote Compatible for SD/HD', 'WZATCO Pixel | Portable LED Projector | Native 720p with Full HD 1080P Support | 2000 Lumens (200 ANSI) | 176\" Large Screen | Projector for Home and Outdoor | Compatible with TV Stick, PC, PS4', '7SEVEN® Compatible Tata Sky Remote Control Replacement of Original dth SD HD tata Play Set top Box Remote - IR Learning Universal Remote for Any Brand TV - Pairing Must', 'AmazonBasics USB 2.0 Extension Cable for Personal Computer, Printer, 2-Pack - A-Male to A-Female - 3.3 Feet (1 Meter, Black)', 'Amazon Basics USB C to Lightning TPE MFi Certified Charging Cable (White, 1.2 meter)', 'Crypo™ Universal Remote Compatible with Tata Sky Universal HD & SD Set top Box (Also Works with All TV)', 'Karbonn 80 cm (32 Inches) Millennium Series HD Ready LED TV KJW32NSHDF (Phantom Black) with Bezel-Less Design', 'OnePlus 138.7 cm (55 inches) U Series 4K LED Smart Android TV 55U1S (Black)', 'Posh 1.5 Meter High Speed Gold Plated HDMI Male to Female Extension Cable (Black)', 'Amazon Basics HDMI Coupler,Black', 'boAt LTG 550v3 Lightning Apple MFi Certified Cable with Spaceship Grade Aluminium Housing,Stress Resistance, Rapid 2.4A Charging & 480mbps Data Sync, 1m Length & 10000+ Bends Lifespan(Mercurial Black)', 'Wayona Nylon Braided Usb Syncing And Charging Cable Sync And Charging Cable For Iphone, Ipad (3 Ft, Black) - Pack Of 2', 'Astigo Compatible Remote for Airtel Digital Set Top Box (Pairing Required with TV Remote)', \"Caprigo Heavy Duty TV Wall Mount Stand for 12 to 27 inches LED/LCD/Monitor Screen's, Full Motion Rotatable Universal TV & Monitor Wall Mount Bracket with Swivel & Tilt Adjustments (Single Arm - M416)\", 'Portronics Konnect L 60W PD Type C to Type C Mobile Charging Cable, 1.2M, Fast Data Sync, Tangle Resistant, TPE+Nylon Braided(Grey)', 'TATA SKY HD Connection with 1 month basic package and free installation', 'Remote Compatible for Samsung LED/LCD Remote Control Works with Samsung LED/LCD TV by Trend Trail', 'SoniVision SA-D10 SA-D100 SA-D40 Home Theater Systems Remote Compatible with Sony RM-ANU156', 'Rts™ High Speed 3D Full HD 1080p Support (10 Meters) HDMI Male to HDMI Male Cable TV Lead 1.4V for All Hdmi Devices- Black (10M - 30 FEET)', 'boAt LTG 500 Apple MFI Certified for iPhone, iPad and iPod 2Mtr Data Cable(Metallic Silver)', 'Agaro Blaze USBA to micro +Type C 2in1 Braided 1.2M Cable', 'AmazonBasics 6 Feet DisplayPort to DisplayPort Cable - (Not HDMI Cable) (Gold)', 'MI 108 cm (43 inches) 5X Series 4K Ultra HD LED Smart Android TV L43M6-ES (Grey)', 'Sansui 140cm (55 inches) 4K Ultra HD Certified Android LED TV with Dolby Audio & Dolby Vision JSW55ASUHD (Mystique Black)', 'LOHAYA LCD/LED Remote Compatible for Sony Bravia Smart LCD LED UHD OLED QLED 4K Ultra HD TV Remote Control with YouTube & Netflix Function [ Compatible for Sony Tv Remote Control ]', 'Zebronics CU3100V Fast charging Type C cable with QC 18W support, 3A max capacity, 1 meter braided cable, Data transfer and Superior durability (Braided Black )', 'Belkin USB C to USB-C Fast Charging Type C Cable, 60W PD, 3.3 feet (1 meter) for Laptop, Personal Computer, Tablet, Smartphone - White, USB-IF Certified', '7SEVEN® TCL Remote Control Smart TV RC802V Remote Compatible for TCL TV Remote Original 55EP680 40A325 49S6500 55P8S 55P8 50P8 65P8 40S6500 43S6500FS 49S6800FS 49S6800 49S6510FS(Without Voice Function/Google Assistant and Non-Bluetooth remote)', 'Wayona 3in1 Nylon Braided 66W USB Fast Charging Cable with Type C, Lightening and Micro USB Port, Compatible with iPhone, iPad, Samsung Galaxy, OnePlus, Mi, Oppo, Vivo, iQOO, Xiaomi (1M, Black)', 'Hi-Mobiler iPhone Charger Lightning Cable,2 Pack Apple MFi Certified USB iPhone Fast Chargering Cord,Data Sync Transfer for 13/12/11 Pro Max Xs X XR 8 7 6 5 5s iPad iPod More Model Cell Phone Cables', 'Amazon Basics 16-Gauge Speaker Wire - 50 Feet', 'Ambrane 60W / 3A Fast Charging Output Cable with Type-C to USB for Mobile, Neckband, True Wireless Earphone Charging, 480mbps Data Sync Speed, 1m Length (ACT - AZ10, White)', 'Wayona Usb Type C To Usb Nylon Braided Quick Charger Fast Charging Short Cable For Smartphone (Samsung Galaxy S21/S20/S10/S9/S9+/Note 9/S8/Note 8, Lg G7 G5 G6, Moto G6 G7) (0.25M,Grey)', 'Caprigo Heavy Duty TV Wall Mount Bracket for 14 to 32 Inch LED/HD/Smart TV’s, Universal Fixed TV Wall Mount Stand (M452)', 'Smashtronics® - Case for Firetv Remote, Fire Stick Remote Cover Case, Silicone Cover for TV Firestick 4K/TV 2nd Gen(3rd Gen) Remote Control - Light Weight/Anti Slip/Shockproof (Black)', 'Electvision Remote Control for led Smart tv Compatible with VU Smart Led (Without Voice)', 'Boat A 350 Type C Cable 1.5m(Jet Black)', 'pTron Solero M241 2.4A Micro USB Data & Charging Cable, Made in India, 480Mbps Data Sync, Durable 1-Meter Long USB Cable for Micro USB Devices (White)', 'AmazonBasics USB Type-C to USB Type-C 2.0 Cable for Charging Adapter, Smartphone - 9 Feet (2.7 Meters) - White', 'Croma 3A Fast charge 1m Type-C to All Type-C Phones sync and charge cable, Made in India, 480Mbps Data transfer rate, Tested Durability with 8000+ bends (12 months warranty) - CRCMA0106sTC10, Black', 'Sony Bravia 164 cm (65 inches) 4K Ultra HD Smart LED Google TV KD-65X74K (Black)', '7SEVEN® Compatible for Mi tv Remote Control Original Suitable with Smart Android 4K LED Non Voice Command Xiaomi Redmi Remote of 4A Model 32 43 55 65 inches', '7SEVEN® Compatible Vu Smart Tv Remote Control Suitable for Original 4K Android LED Ultra HD UHD Vu Tv Remote with Non Voice Feature without google assistant', 'Storite High Speed Micro USB 3.0 Cable A to Micro B for External & Desktop Hard Drives 45cm', 'FLiX (Beetel) 3in1 (Type C|Micro|Iphone Lightening) Textured Pattern 3A Fast Charging Cable with QC & PD Support for Type C,Micro USB & Lightning Iphone Cable,Made in India,1.5 Meter Long Cable(T101)', 'SVM Products Unbreakable Set Top Box Stand with Dual Remote Holder (Black)', 'VU 164 cm (65 inches) The GloLED Series 4K Smart LED Google TV 65GloLED (Grey)', 'CableCreation RCA to 3.5mm Male Audio Cable, 3.5mm to 2RCA Cable Male RCA Cable,Y Splitter Stereo Jack Cable for Home Theater,Subwoofer, Receiver, Speakers and More (3Feet/0.9Meter,Black)', 'Wayona USB Type C Fast Charging Cable Charger Cord 3A QC 3.0 Data Cable Compatible with Samsung Galaxy S10e S10 S9 S8 S20 Plus, Note 10 9 8, M51 A40 A50 A70, Moto G7 G8 (1M, Grey)', 'boAt Rugged V3 Braided Micro USB Cable (Pearl White)', 'Amazon Basics USB A to Lightning PVC Molded Nylon MFi Certified Charging Cable (Black, 1.2 meter)', 'AmazonBasics - High-Speed Male to Female HDMI Extension Cable - 6 Feet', 'Wayona Nylon Braided Usb Type C 3Ft 1M 3A Fast Charger Cable For Samsung Galaxy S9 S8 (Wc3Cb1, Black)', 'Belkin Apple Certified Lightning to USB Charge and Sync Tough Braided Cable for iPhone, iPad, Air Pods, 3.3 feet (1 meters) – Black', '7SEVEN Compatible LG TV Remote Suitable for LG Non Magic Smart tv Remote Control (Mouse & Voice Non-Support) MR20GA Prime Video and Netflix Hotkeys', 'Realme Smart TV Stick 4K', 'Acer 100 cm (40 inches) P Series Full HD Android Smart LED TV AR40AR2841FDFL (Black)', 'Lapster usb 2.0 mantra cable, mantra mfs 100 data cable (black)', 'AmazonBasics High-Speed Braided HDMI Cable - 3 Feet - Supports Ethernet, 3D, 4K and Audio Return (Black)', 'Cubetek 3 in 1 LCD Display V5.0 Bluetooth Transmitter Receiver, Bypass Audio Adapter with Aux, Optical, Dual Link Support for TV, Home Stereo, PC, Headphones, Speakers, Model: CB-BT27', 'KRISONS Thunder Speaker, Multimedia Home Theatre, Floor Standing Speaker, LED Display with Bluetooth, FM, USB, Micro SD Card, AUX Connectivity', 'Acer 139 cm (55 inches) H Series 4K Ultra HD Android Smart LED TV AR55AR2851UDPRO (Black)', 'Dealfreez Case Compatible for Fire TV Stick 4K All Alexa Voice Remote Shockproof Silicone Anti-Lost Cover with Loop (C-Black)', 'Wayona Type C to Lightning MFI Certified 20W Fast charging Nylon Braided USB C Cable for iPhone 14 Pro, 14 Pro Max, 14, 14 Plus, 13, 13 Pro, 13 Pro Max, 13 Mini, 12, 12 Pro, 11, 11 Pro Max, iPhone 12 Mini (2M, Black)', 'VW 80 cm (32 inches) HD Ready Android Smart LED TV VW32PRO (Black)', 'Airtel Digital TV HD Set Top Box with 1 Month Basic Pack with Recording + Free Standard Installation', 'LOHAYA Voice Assistant Remote Compatible for Airtel Xstream Set-Top Box Remote Control with Netflix Function (Black) (Non - Voice)', 'Samsung 138 cm (55 inches) Crystal 4K Series Ultra HD Smart LED TV UA55AUE60AKLXL (Black)', 'Amazon Brand - Solimo 3A Fast Charging Tough Type C USB Data Cable\\xa0 – 1 Meter', 'Mi 100 cm (40 inches) Horizon Edition Full HD Android LED TV 4A | L40M6-EI (Black)', 'Astigo Compatible Remote Control for Mi Smart LED 4A (43\"/32\")', 'Toshiba 108 cm (43 inches) V Series Full HD Smart Android LED TV 43V35KP (Silver)', 'Lenovo USB A to Type-C Tangle-free\\xa0\\xa0Aramid fiber braided\\xa01.2m cable with 4A Fast charging & 480 MBPS data transmission, certified 10000+ bend lifespan, Metallic Grey', 'LG 139 cm (55 inches) 4K Ultra HD Smart LED TV 55UQ7500PSF (Ceramic Black)', 'Tata Sky Digital TV HD Setup Box Remote', 'pTron Solero T241 2.4A Type-C Data & Charging USB Cable, Made in India, 480Mbps Data Sync, Durable 1-Meter Long USB Cable for Smartphone, Type-C USB Devices (White)', 'VU 108 cm (43 inches) Premium Series Full HD Smart LED TV 43GA (Black)', 'Storite Super Speed USB 3.0 Male to Male Cable for Hard Drive Enclosures, Laptop Cooling Pad, DVD Players(60cm,Black)', 'Kodak 80 cm (32 Inches) HD Ready LED TV Kodak 32HDX900S (Black)', 'AmazonBasics Double Braided Nylon USB Type-C to Type-C 2.0 Cable, Charging Adapter, Smartphone 6 feet, Dark Grey', 'Firestick Remote', 'AmazonBasics 10.2 Gbps High-Speed 4K HDMI Cable with Braided Cord (10-Foot, Dark Grey)', 'Hisense 126 cm (50 inches) Bezelless Series 4K Ultra HD Smart LED Google TV 50A6H (Black)', 'Tuarso 8K HDMI 2.1 Cable 48Gbps , 1.5 Meter High-Speed Braided HDMI Cable ( 8K@60HZ、4K@120HZ、2K@240HZ ) HDMI 2.1 Cable Compatible with Monitors , Television , Laptops , Projectors , Game Consoles and more with HDMI Ports Device', 'AmazonBasics USB Type-C to Micro-B 2.0 Cable - 6 Inches (15.2 Centimeters) - White', 'Kodak 139 cm (55 inches) 4K Ultra HD Smart LED TV 55CA0909 (Black)', 'Smashtronics® - Case for Firetv Remote, Fire Stick Remote Cover Case, Silicone Cover for TV Firestick 4K/TV 2nd Gen(3rd Gen) Remote Control - Light Weight/Anti Slip/Shockproof (Black)', '7SEVEN® Suitable Sony Tv Remote Original Bravia for Smart Android Television Compatible for Any Model of LCD LED OLED UHD 4K Universal Sony Remote Control', 'PROLEGEND® PL-T002 Universal TV Stand Table Top for Most 22 to 65 inch LCD Flat Screen TV, VESA up to 800 by 400mm', 'WANBO X1 Pro (Upgraded) | Native 1080P Full HD | Android 9 | Projector for Home | LED Cinema | 350ANSI | 3900 lumens | WiFi Bluetooth | HDMI ARC | Dolby DTS | 4D Keystone Correction (Global Version)', 'Lava Charging Adapter Elements D3 2A Fast Charging Speed Usb Type C Data Cable, White', 'TIZUM High Speed HDMI Cable Aura -Gold Plated-High Speed Data 10.2Gbps, 3D, 4K, HD 1080P (10 Ft/ 3 M)', 'Technotech High Speed HDMI Cable 5 Meter V1.4 - Supports Full HD 1080p (Color May Vary)', 'NK STAR 950 Mbps USB WiFi Adapter Wireless Network Receiver Dongle for Desktop Laptop, (Support- Windows XP/7/8/10 & MAC OS) NOt Support to DVR and HDTV', 'LS LAPSTER Quality Assured USB 2.0 morpho cable, morpho device cable for Mso 1300 E3/E2/E Biometric Finger Print Scanner morpho USB cable (Black)', 'Amazon Basics 10.2 Gbps High-Speed 4K HDMI Cable with Braided Cord, 1.8 Meter, Dark Grey', 'Kodak 126 cm (50 inches) Bezel-Less Design Series 4K Ultra HD Smart Android LED TV 50UHDX7XPROBL (Black)', 'ZORBES® Wall Adapter Holder for Alexa Echo Dot 4th Generation,A Space-Saving Solution with Cord Management for Your Smart Home Speakers -White (Holder Only)', 'Sansui 80cm (32 inches) HD Ready Smart LED TV JSY32SKHD (BLACK) With Bezel-less Design', 'Synqe USB Type C Fast Charging Cable 2M Charger Cord Data Cable Compatible with Samsung Galaxy M51,Galaxy M31S, S10e S10 S9 S20 Plus, Note10 9 8,M40 A50 A70, Redmi Note 9, Moto G7, Poco F1 (2M, Grey)', 'MI 80 cm (32 inches) HD Ready Smart Android LED TV 5A Pro | L32M7-EAIN (Black)', 'Bestor ® 8K Hdmi 2.1 Cable 48Gbps 9.80Ft/Ultra High Speed Hdmi Braided Cord For Roku Tv/Ps5/Hdtv/Blu-Ray Projector, Laptop, Television, Personal Computer, Xbox, Ps4, Ps5, Ps4 Pro (1 M, Grey)', 'Irusu Play VR Plus Virtual Reality Headset with Headphones for Gaming (Black)', 'Amazon Brand - Solimo Fast Charging Braided Type C Data Cable Seam, Suitable For All Supported Mobile Phones (1 Meter, Black)', 'Synqe USB C to USB C 60W Nylon Braided Fast Charging Type C to Type C Cable Compatible with Samsung Galaxy Note 20/Ultra, S20 S22 S21 S20 FE A73 A53 A33 (2M, Black)', 'Shopoflux Silicone Remote Cover for Mi Smart TV and Mi TV Stick/MI Box S / 3S / MI 4X / 4A Smart LED TV (Black)', 'EYNK Extra Long Micro USB Fast Charging USB Cable | Micro USB Data Cable | Quick Fast Charging Cable | Charger Sync Cable | High Speed Transfer Android Smartphones V8 Cable (2.4 Amp, 3m,) (White)', 'LUNAGARIYA®, Protective Case Compatible with JIO Settop Box Remote Control,PU Leather Cover Holder (Before Placing Order,Please Compare The Dimensions of The Product with Your Remote)', '7SEVEN® Compatible with Fire Tv Stick Remote with Voice Command Feature Suitable for Second Generation Amazon Fire Tv Stick Remote Only - Pairing Must', 'PRUSHTI COVER AND BAGS, Protective Case for Airtel Xstream settop Box Remote Remote Control Pouch Cover Holder PU Leather Cover Holder(only Cover for Selling Purpose)', 'Aine HDMI Male to VGA Female Video Converter Adapter Cable (Black)', 'Mi 80 cm (32 inches) HD Ready Android Smart LED TV 4A PRO | L32M5-AL (Black)', 'Storite USB 2.0 A to Mini 5 pin B Cable for External HDDS/Camera/Card Readers (150cm - 1.5M)', 'TCL 108 cm (43 inches) 4K Ultra HD Certified Android Smart LED TV 43P615 (Black)', 'OnePlus 163.8 cm (65 inches) U Series 4K LED Smart Android TV 65U1S (Black)', 'AmazonBasics 108 cm (43 inches) 4K Ultra HD Smart LED Fire TV AB43U20PS (Black)', 'Kodak 80 cm (32 inches) HD Ready Certified Android Smart LED TV 32HDX7XPROBL (Black)', 'Synqe Type C to Type C Short Fast Charging 60W Cable Compatible with Samsung Galaxy Z Fold3 5G, Z Flip3 5G, S22 5G, S22 Ultra, S21, S20, S20FE, A52, A73, A53 (0.25M, Black)', 'Airtel DigitalTV HD Setup Box Remote', 'Airtel Digital TV HD Set Top Box with FTA Pack | Unlimited Entertainment + Recording Feature + Free Standard Installation (6 Months Pack)', 'ESR USB C to Lightning Cable, 10 ft (3 m), MFi-Certified, Braided Nylon Power Delivery Fast Charging for iPhone 14/14 Plus/14 Pro/14 Pro Max, iPhone 13/12/11/X/8 Series, Use with Type-C Chargers, Black', 'MI 138.8 cm (55 inches) 5X Series 4K Ultra HD LED Smart Android TV L55M6-ES (Grey)', 'Storite USB Extension Cable USB 3.0 Male to Female Extension Cable High Speed 5GBps Extension Cable Data Transfer for Keyboard, Mouse, Flash Drive, Hard Drive, Printer and More- 1.5M - Blue', 'Fire-Boltt Ninja Call Pro Plus 1.83\" Smart Watch with Bluetooth Calling, AI Voice Assistance, 100 Sports Modes IP67 Rating, 240*280 Pixel High Resolution', 'Fire-Boltt Phoenix Smart Watch with Bluetooth Calling 1.3\",120+ Sports Modes, 240*240 PX High Res with SpO2, Heart Rate Monitoring & IP67 Rating', 'boAt Wave Call Smart Watch, Smart Talk with Advanced Dedicated Bluetooth Calling Chip, 1.69” HD Display with 550 NITS & 70% Color Gamut, 150+ Watch Faces, Multi-Sport Modes,HR,SpO2, IP68(Active Black)', 'MI Power Bank 3i 20000mAh Lithium Polymer 18W Fast Power Delivery Charging | Input- Type C | Micro USB| Triple Output | Sandstone Black', 'Redmi A1 (Light Blue, 2GB RAM, 32GB Storage) | Segment Best AI Dual Cam | 5000mAh Battery | Leather Texture Design | Android 12', 'OnePlus Nord 2T 5G (Jade Fog, 8GB RAM, 128GB Storage)', 'OnePlus Nord 2T 5G (Gray Shadow, 8GB RAM, 128GB Storage)', 'Redmi A1 (Black, 2GB RAM, 32GB Storage) | Segment Best AI Dual Cam | 5000mAh Battery | Leather Texture Design | Android 12', 'Redmi A1 (Light Green, 2GB RAM 32GB ROM) | Segment Best AI Dual Cam | 5000mAh Battery | Leather Texture Design | Android 12', 'SanDisk Ultra® microSDXC™ UHS-I Card, 64GB, 140MB/s R, 10 Y Warranty, for Smartphones', 'Noise Pulse Go Buzz Smart Watch Bluetooth Calling with 1.69\" Display, 550 NITS, 150+ Cloud Watch Face, SPo2, Heart Rate Tracking, 100 Sports Mode with Auto Detection, Longer Battery (Jet Black)', 'Nokia 105 Single SIM, Keypad Mobile Phone with Wireless FM Radio | Charcoal', 'boAt Wave Lite Smartwatch with 1.69\" HD Display, Sleek Metal Body, HR & SpO2 Level Monitor, 140+ Watch Faces, Activity Tracker, Multiple Sports Modes, IP68 & 7 Days Battery Life(Active Black)', 'JBL C100SI Wired In Ear Headphones with Mic, JBL Pure Bass Sound, One Button Multi-function Remote, Angled Buds for Comfort fit (Black)', 'Samsung Galaxy M04 Dark Blue, 4GB RAM, 64GB Storage | Upto 8GB RAM with RAM Plus | MediaTek Helio P35 | 5000 mAh Battery', 'PTron Tangentbeat in-Ear Bluetooth 5.0 Wireless Headphones with Mic, Enhanced Bass, 10mm Drivers, Clear Calls, Snug-Fit, Fast Charging, Magnetic Buds, Voice Assistant & IPX4 Wireless Neckband (Black)', 'Redmi 10A (Charcoal Black, 4GB RAM, 64GB Storage) | 2 Ghz Octa Core Helio G25 | 5000 mAh Battery | Finger Print Sensor | Upto 5GB RAM with RAM Booster', 'pTron Bullet Pro 36W PD Quick Charger, 3 Port Fast Car Charger Adapter - Compatible with All Smartphones & Tablets (Black)', 'boAt Bassheads 100 in Ear Wired Earphones with Mic(Taffy Pink)', 'SanDisk Ultra® microSDXC™ UHS-I Card, 128GB, 140MB/s R, 10 Y Warranty, for Smartphones', 'Samsung Galaxy M04 Light Green, 4GB RAM, 64GB Storage | Upto 8GB RAM with RAM Plus | MediaTek Helio P35 | 5000 mAh Battery', 'MI 10000mAh Lithium Ion, Lithium Polymer Power Bank Pocket Pro with 22.5 Watt Fast Charging, Dual Input Ports(Micro-USB and Type C), Triple Output Ports, (Black)', 'Mi 10000mAH Li-Polymer, Micro-USB and Type C Input Port, Power Bank 3i with 18W Fast Charging (Midnight Black)', 'ELV Car Mount Adjustable Car Phone Holder Universal Long Arm, Windshield for Smartphones - Black', 'Samsung 25W USB Travel Adapter for Cellular Phones - White', 'Noise ColorFit Pulse Grand Smart Watch with 1.69\"(4.29cm) HD Display, 60 Sports Modes, 150 Watch Faces, Fast Charge, Spo2, Stress, Sleep, Heart Rate Monitoring & IP68 Waterproof (Jet Black)', 'Fire-Boltt Ninja 3 Smartwatch Full Touch 1.69 & 60 Sports Modes with IP68, Sp02 Tracking, Over 100 Cloud based watch faces - Black', 'Samsung Galaxy M33 5G (Mystique Green, 8GB, 128GB Storage) | 6000mAh Battery | Upto 16GB RAM with RAM Plus | Travel Adapter to be Purchased Separately', 'SanDisk Ultra microSD UHS-I Card 32GB, 120MB/s R', 'Samsung Galaxy M13 (Aqua Green, 6GB, 128GB Storage) | 6000mAh Battery | Upto 12GB RAM with RAM Plus', 'Fire-Boltt Ninja Call Pro Plus 1.83\" Smart Watch with Bluetooth Calling, AI Voice Assistance, 100 Sports Modes IP67 Rating, 240*280 Pixel High Resolution', \"Fire-Boltt India's No 1 Smartwatch Brand Talk 2 Bluetooth Calling Smartwatch with Dual Button, Hands On Voice Assistance, 60 Sports Modes, in Built Mic & Speaker with IP68 Rating\", 'Samsung Galaxy M33 5G (Emerald Brown, 6GB, 128GB Storage) | 6000mAh Battery | Upto 12GB RAM with RAM Plus | Travel Adapter to be Purchased Separately', 'iQOO vivo Z6 5G (Chromatic Blue, 6GB RAM, 128GB Storage) | Snapdragon 695-6nm Processor | 120Hz FHD+ Display | 5000mAh Battery', 'Fire-Boltt Ninja Call Pro Plus 1.83\" Smart Watch with Bluetooth Calling, AI Voice Assistance, 100 Sports Modes IP67 Rating, 240*280 Pixel High Resolution', 'Wayona Nylon Braided USB to Lightning Fast Charging and Data Sync Cable Compatible for iPhone 13, 12,11, X, 8, 7, 6, 5, iPad Air, Pro, Mini (3 FT Pack of 1, Grey)', 'Redmi 9 Activ (Carbon Black, 4GB RAM, 64GB Storage) | Octa-core Helio G35 | 5000 mAh Battery', 'Redmi 9A Sport (Coral Green, 2GB RAM, 32GB Storage) | 2GHz Octa-core Helio G25 Processor | 5000 mAh Battery', 'Fire-Boltt Ninja Call Pro Plus 1.83\" Smart Watch with Bluetooth Calling, AI Voice Assistance, 100 Sports Modes IP67 Rating, 240*280 Pixel High Resolution', 'Redmi 10A (Sea Blue, 4GB RAM, 64GB Storage) | 2 Ghz Octa Core Helio G25 | 5000 mAh Battery | Finger Print Sensor | Upto 5GB RAM with RAM Booster', 'AGARO Blaze USB 3.0 to USB Type C OTG Adapter', 'Fire-Boltt Visionary 1.78\" AMOLED Bluetooth Calling Smartwatch with 368*448 Pixel Resolution 100+ Sports Mode, TWS Connection, Voice Assistance, SPO2 & Heart Rate Monitoring', 'Noise ColorFit Pro 4 Advanced Bluetooth Calling Smart Watch with 1.72\" TruView Display, Fully-Functional Digital Crown, 311 PPI, 60Hz Refresh Rate, 500 NITS Brightness (Charcoal Black)', 'Ambrane Unbreakable 60W / 3A Fast Charging 1.5m Braided Type C Cable for Smartphones, Tablets, Laptops & other Type C devices, PD Technology, 480Mbps Data Sync, Quick Charge 3.0 (RCT15A, Black)', \"iQOO Z6 Lite 5G by vivo (Stellar Green, 6GB RAM, 128GB Storage) | World's First Snapdragon 4 Gen 1 | 120Hz Refresh Rate | 5000mAh Battery | Travel Adapter to be Purchased Separately\", 'Sounce Fast Phone Charging Cable & Data Sync USB Cable Compatible for iPhone 13, 12,11, X, 8, 7, 6, 5, iPad Air, Pro, Mini & iOS Devices', 'Fire-Boltt Ninja Call Pro Plus 1.83\" Smart Watch with Bluetooth Calling, AI Voice Assistance, 100 Sports Modes IP67 Rating, 240*280 Pixel High Resolution', 'Redmi 10A (Slate Grey, 4GB RAM, 64GB Storage) | 2 Ghz Octa Core Helio G25 | 5000 mAh Battery | Finger Print Sensor | Upto 5GB RAM with RAM Booster', 'Duracell 38W Fast Car Charger Adapter with Dual Output. Quick Charge, Type C PD 20W & Qualcomm Certified 3.0 Compatible for iPhone, All Smartphones, Tablets & More (Copper & Black)', 'realme narzo 50 (Speed Blue, 4GB RAM+64GB Storage) Helio G96 Processor | 50MP AI Triple Camera | 120Hz Ultra Smooth Display', 'WeCool Bluetooth Extendable Selfie Sticks with Wireless Remote and Tripod Stand, 3-in-1 Multifunctional Selfie Stick with Tripod Stand Compatible with iPhone/OnePlus/Samsung/Oppo/Vivo and All Phones', 'Fire-Boltt Phoenix Smart Watch with Bluetooth Calling 1.3\",120+ Sports Modes, 240*240 PX High Res with SpO2, Heart Rate Monitoring & IP67 Rating', 'OPPO A74 5G (Fantastic Purple,6GB RAM,128GB Storage) with No Cost EMI/Additional Exchange Offers', 'Redmi Note 11 Pro + 5G (Stealth Black, 6GB RAM, 128GB Storage) | 67W Turbo Charge | 120Hz Super AMOLED Display | Additional Exchange Offers | Charger Included', 'Samsung Original 25W USB Travel Lightning Adapter for Cellular Phones, Black', 'realme Buds Classic Wired in Ear Earphones with Mic (Black)', 'Noise ColorFit Pulse Grand Smart Watch with 1.69\" HD Display, 60 Sports Modes, 150 Watch Faces, Spo2 Monitoring, Call Notification, Quick Replies to Text & Calls (Rose Pink)', 'boAt Wave Call Smart Watch, Smart Talk with Advanced Dedicated Bluetooth Calling Chip, 1.69” HD Display with 550 NITS & 70% Color Gamut, 150+ Watch Faces, Multi-Sport Modes, HR, SpO2, IP68(Mauve)', 'boAt Deuce USB 300 2 in 1 Type-C & Micro USB Stress Resistant, Tangle-Free, Sturdy Cable with 3A Fast Charging & 480mbps Data Transmission, 10000+ Bends Lifespan and Extended 1.5m Length(Martian Red)', 'Portronics Konnect L 1.2M Fast Charging 3A 8 Pin USB Cable with Charge & Sync Function for iPhone, iPad (Grey)', 'iQOO Neo 6 5G (Dark Nova, 8GB RAM, 128GB Storage) | Snapdragon® 870 5G | 80W FlashCharge', 'boAt Xtend Smartwatch with Alexa Built-in, 1.69” HD Display, Multiple Watch Faces, Stress Monitor, Heart & SpO2 Monitoring, 14 Sports Modes, Sleep Monitor, 5 ATM & 7 Days Battery(Charcoal Black)', 'Tygot Bluetooth Extendable Selfie Sticks with Wireless Remote and Tripod Stand, 3-in-1 Multifunctional Selfie Stick with Tripod Stand Compatible with iPhone/OnePlus/Samsung/Oppo/Vivo and All Phones', 'Samsung EVO Plus 128GB microSDXC UHS-I U3 130MB/s Full HD & 4K UHD Memory Card with Adapter (MB-MC128KA), Blue', 'Portronics Adapto 20 Type C 20W Fast PD/Type C Adapter Charger with Fast Charging for iPhone 12/12 Pro/12 Mini/12 Pro Max/11/XS/XR/X/8/Plus, iPad Pro/Air/Mini, Galaxy 10/9/8 (Adapter Only) White', 'Samsung Galaxy M13 5G (Aqua Green, 6GB, 128GB Storage) | 5000mAh Battery | Upto 12GB RAM with RAM Plus', 'boAt Bassheads 100 in Ear Wired Earphones with Mic(Furious Red)', 'iQOO Z6 44W by vivo (Lumina Blue, 4GB RAM, 128GB Storage) | 6.44\" FHD+ AMOLED Display | 50% Charge in just 27 mins | in-Display Fingerprint Scanning', 'Fire-Boltt Gladiator 1.96\" Biggest Display Smart Watch with Bluetooth Calling, Voice Assistant &123 Sports Modes, 8 Unique UI Interactions, SpO2, 24/7 Heart Rate Tracking', 'pTron Solero TB301 3A Type-C Data and Fast Charging Cable, Made in India, 480Mbps Data Sync, Strong and Durable 1.5-Meter Nylon Braided USB Cable for Type-C Devices for Charging Adapter (Black)', 'STRIFF PS2_01 Multi Angle Mobile/Tablet Tabletop Stand. Phone Holder for iPhone, Android, Samsung, OnePlus, Xiaomi. Portable, Foldable Cell Phone Stand. Perfect for Bed, Office, Home & Desktop (Black)', 'Samsung Galaxy Buds Live Bluetooth Truly Wireless in Ear Earbuds with Mic, Upto 21 Hours Playtime, Mystic Black', 'OnePlus Nord 2T 5G (Jade Fog, 12GB RAM, 256GB Storage)', 'Sounce Spiral Charger Cable Protector Data Cable Saver Charging Cord Protective Cable Cover Headphone MacBook Laptop Earphone Cell Phone Set of 3 (Cable Protector (12 Units))', 'PTron Boom Ultima 4D Dual Driver, in-Ear Gaming Wired Headphones with in-line Mic, Volume Control & Passive Noise Cancelling Boom 3 Earphones - (Dark Blue)', 'Samsung Galaxy M13 (Aqua Green, 4GB, 64GB Storage) | 6000mAh Battery | Upto 8GB RAM with RAM Plus', 'OnePlus 10R 5G (Forest Green, 8GB RAM, 128GB Storage, 80W SuperVOOC)', 'Samsung Galaxy M33 5G (Emerald Brown, 6GB, 128GB Storage) | 6000mAh Battery | Upto 12GB RAM with RAM Plus | Travel Adapter to be Purchased Separately', 'Ambrane Mobile Holding Stand, 180° Perfect View, Height Adjustment, Wide Compatibility, Multipurpose, Anti-Skid Design (Twistand, Black)', 'Ambrane 10000mAh Slim Power Bank, 20W Fast Charging, Dual Output, Type C PD (Input & Output), Quick Charge, Li-Polymer, Multi-Layer Protection for iPhone, Anrdoid & Other Devices (Stylo 10K, Black)', 'Nokia 105 Single SIM, Keypad Mobile Phone with Wireless FM Radio | Blue', 'PTron Tangent Lite Bluetooth 5.0 Earphones with Mic, Hi-Fi Stereo Sound Neckband, 8Hrs Playtime, Lightweight Snug-fit in-Ear Headphones, IPX4 Water Resistant, Fast Charge & Voice Assistant (Black)', 'Samsung EVO Plus 64GB microSDXC UHS-I U1 130MB/s Full HD & 4K UHD Memory Card with Adapter (MB-MC64KA), Blue', 'Ambrane 20000mAh Power Bank with 20W Fast Charging, Triple Output, Power Delivery, Type C Input, Made in India, Multi-Layer Protection, Li-Polymer + Type C Cable (Stylo-20k, Black)', 'boAt Micro USB 55 Tangle-free, Sturdy Micro USB Cable with 3A Fast Charging & 480mbps Data Transmission (Black)', 'Samsung Galaxy M13 (Midnight Blue, 4GB, 64GB Storage) | 6000mAh Battery | Upto 8GB RAM with RAM Plus', 'boAt Xtend Smartwatch with Alexa Built-in, 1.69” HD Display, Multiple Watch Faces, Stress Monitor, Heart & SpO2 Monitoring, 14 Sports Modes, Sleep Monitor, 5 ATM & 7 Days Battery(Pitch Black)', 'boAt Wave Call Smart Watch, Smart Talk with Advanced Dedicated Bluetooth Calling Chip, 1.69” HD Display with 550 NITS & 70% Color Gamut, 150+ Watch Faces, Multi-Sport Modes, HR, SpO2, IP68(Deep Blue)', 'MI Usb Type-C Cable Smartphone (Black)', 'Ambrane Unbreakable 60W / 3A Fast Charging 1.5m Braided Micro USB Cable for Smartphones, Tablets, Laptops & Other Micro USB Devices, 480Mbps Data Sync, Quick Charge 3.0 (RCM15, Black)', 'MI Xiaomi 22.5W Fast USB Type C Charger Combo for Tablets - White', 'Samsung Galaxy M13 5G (Aqua Green, 6GB, 128GB Storage) | 5000mAh Battery | Upto 12GB RAM with RAM Plus', 'Gizga Essentials Spiral Cable Protector Cord Saver for Mac Charger, iPhone Charger, Wire Protector, Lightweight Durable Flexible Wire Winder for Charging Cables, Data Cables, Earphones, Pack of 10', 'Redmi Note 11 (Space Black, 4GB RAM, 64GB Storage)|90Hz FHD+ AMOLED Display | Qualcomm® Snapdragon™ 680-6nm | 33W Charger Included', 'Portronics Konnect L POR-1081 Fast Charging 3A Type-C Cable 1.2Meter with Charge & Sync Function for All Type-C Devices (Grey)', 'Redmi Note 11 Pro + 5G (Phantom White, 8GB RAM, 128GB Storage) | 67W Turbo Charge | 120Hz Super AMOLED Display | Additional Exchange Offers | Charger Included', 'USB Charger, Oraimo Elite Dual Port 5V/2.4A Wall Charger, USB Wall Charger Adapter for iPhone 11/Xs/XS Max/XR/X/8/7/6/Plus, iPad Pro/Air 2/Mini 3/Mini 4, Samsung S4/S5, and More', 'Goldmedal Curve Plus 202042 Plastic Spice 3-Pin 240V Universal Travel Adaptor (White)', 'WeCool C1 Car Mobile Holder with One Click Technology,360° Rotational, Strong Suction Cup,Compatible with 4 to 6 Inch Devices, Wildshield and Dashboard Mobile Holder for Car, and Use', 'HP 32GB Class 10 MicroSD Memory Card (U1 TF Card\\xa032GB)', 'iQOO Z6 44W by vivo (Lumina Blue, 6GB RAM, 128GB Storage) | 6.44\" FHD+ AMOLED Display | 50% Charge in just 27 mins | in-Display Fingerprint Scanning', \"iQOO Z6 Lite 5G by vivo (Mystic Night, 6GB RAM, 128GB Storage) | World's First Snapdragon 4 Gen 1 | 120Hz Refresh Rate | 5000mAh Battery | Travel Adapter to be Purchased Separately\", 'Redmi Note 11 Pro + 5G (Stealth Black, 8GB RAM, 256GB Storage) | 67W Turbo Charge | 120Hz Super AMOLED Display | Additional Exchange Offers | Charger Included', 'boAt Bassheads 242 in Ear Wired Earphones with Mic(Active Black)', 'Portronics MODESK POR-122 Universal Mobile Tabletop Holder (Black)', 'realme narzo 50i (Mint Green, 2GB RAM+32GB Storage) Octa Core Processor | 6.5\" inch Large Display', 'MI 10000mAh 3i Lithium Polymer Power Bank Dual Input(Micro-USB and Type C) and Output Ports 18W Fast Charging (Metallic Blue)', 'Nokia 105 Plus Single SIM, Keypad Mobile Phone with Wireless FM Radio, Memory Card Slot and MP3 Player | Red', 'iQOO Z6 44W by vivo (Raven Black, 4GB RAM, 128GB Storage) | 6.44\" FHD+ AMOLED Display | 50% Charge in just 27 mins | in-Display Fingerprint Scanning', 'boAt Rugged v3 Extra Tough Unbreakable Braided Micro USB Cable 1.5 Meter (Black)', 'Ambrane 10000mAh Slim Power Bank, 20W Fast Charging, Dual Output, Type C PD (Input & Output), Quick Charge, Li-Polymer, Multi-Layer Protection for iPhone, Anrdoid & Other Devices (Stylo 10K, Green)', 'Samsung Galaxy M13 (Stardust Brown, 6GB, 128GB Storage) | 6000mAh Battery | Upto 12GB RAM with RAM Plus', 'OPPO A74 5G (Fluid Black, 6GB RAM, 128GB Storage) with No Cost EMI/Additional Exchange Offers', 'Spigen EZ Fit Tempered Glass Screen Protector Guard for iPhone 14/13/13 Pro - 2 Pack', 'Noise ColorFit Pulse Smartwatch with 3.56 cm (1.4\") Full Touch HD Display, SpO2, Heart Rate, Sleep Monitors & 10-Day Battery - Jet Black', 'Nokia 105 Plus Single SIM, Keypad Mobile Phone with Wireless FM Radio, Memory Card Slot and MP3 Player | Charcoal', 'iQOO Z6 Pro 5G by vivo (Legion Sky, 8GB RAM, 128GB Storage) | Snapdragon 778G 5G | 66W FlashCharge | 1300 nits Peak Brightness | HDR10+', 'MI 33W SonicCharge 2.0 USB Charger for Cellular Phones - White', 'OPPO A31 (Mystery Black, 6GB RAM, 128GB Storage) with No Cost EMI/Additional Exchange Offers', 'iQOO vivo Z6 5G (Chromatic Blue, 8GB RAM, 128GB Storage) | Snapdragon 695-6nm Processor | 120Hz FHD+ Display | 5000mAh Battery', 'Portronics Konnect CL 20W POR-1067 Type-C to 8 Pin USB 1.2M Cable with Power Delivery & 3A Quick Charge Support, Nylon Braided for All Type-C and 8 Pin Devices, Green', 'Motorola a10 Dual Sim keypad Mobile with 1750 mAh Battery, Expandable Storage Upto 32GB, Wireless FM with Recording - Rose Gold', 'Portronics Konnect L 1.2M POR-1401 Fast Charging 3A 8 Pin USB Cable with Charge & Sync Function (White)', 'boAt Wave Lite Smartwatch with 1.69\" HD Display, Heart Rate & SpO2 Level Monitor, Multiple Watch Faces, Activity Tracker, Multiple Sports Modes & IP68 (Deep Blue)', 'boAt Wave Call Smart Watch, Smart Talk with Advanced Dedicated Bluetooth Calling Chip, 1.69” HD Display with 550 NITS & 70% Color Gamut, 150+ Watch Faces, Multi-Sport Modes,HR,SpO2(Caribbean Green)', 'Spigen EZ Fit Tempered Glass Screen Protector for iPhone 14 Pro Max - 2 Pack (Sensor Protection)', 'KINGONE Upgraded Stylus Pen, iPad Pencil, Ultra High Precision & Sensitivity, Palm Rejection, Prevents False ON/Off Touch, Power Display, Tilt Sensitivity, Magnetic Adsorption for iPad 2018 and Later', 'Portronics CarPower Mini Car Charger with Dual Output, Fast Charging (Type C PD 18W + QC 3.0A) Compatible with All Smartphones(Black)', 'boAt Newly Launched Wave Electra with 1.81\" HD Display, Smart Calling with Ultra-Seamless BT Calling Chip,20 Built-In Watch Faces,100 + Sports Modes,Menu Personalization,In-Built Games(Charcoal Black)', 'PTron Newly Launched Force X10 Bluetooth Calling Smartwatch with 1.7\" Full Touch Color Display, Real Heart Rate Monitor, SpO2, Watch Faces, 5 Days Runtime, Fitness Trackers & IP68 Waterproof (Pink)', 'MI Braided USB Type-C Cable for Charging Adapter (Red)', 'iQOO vivo Z6 5G (Dynamo Black, 6GB RAM, 128GB Storage) | Snapdragon 695-6nm Processor | 120Hz FHD+ Display | 5000mAh Battery', 'Samsung Ehs64 Ehs64Avfwecinu Hands-Free Wired In Ear Earphones With Mic With Remote Note (White)', 'Duracell USB Lightning Apple Certified (Mfi) Braided Sync & Charge Cable For Iphone, Ipad And Ipod. Fast Charging Lightning Cable, 3.9 Feet (1.2M) - Black', 'Spigen EZ Fit Tempered Glass Screen Protector for iPhone 14 Pro - 2 Pack (Sensor Protection)', 'Samsung Galaxy M04 Dark Blue, 4GB RAM, 128GB Storage | Upto 8GB RAM with RAM Plus | MediaTek Helio P35 | 5000 mAh Battery', 'Ambrane Unbreakable 60W / 3A Fast Charging 1.5m Braided Type C to Type C Cable for Smartphones, Tablets, Laptops & Other Type C Devices, PD Technology, 480Mbps Data Sync (RCTT15, Black)', 'SWAPKART Flexible Mobile Tabletop Stand, Metal Built, Heavy Duty Foldable Lazy Bracket Clip Mount Multi Angle Clamp for All Smartphones (Pack of 1), Multi Color', 'boAt Type C A325 Tangle-free, Sturdy Type C Cable with 3A Rapid Charging & 480mbps Data Transmission(Black)', 'Redmi 9A Sport (Carbon Black, 2GB RAM, 32GB Storage) | 2GHz Octa-core Helio G25 Processor | 5000 mAh Battery', 'Fire-Boltt Ring 3 Smart Watch 1.8 Biggest Display with Advanced Bluetooth Calling Chip, Voice Assistance,118 Sports Modes, in Built Calculator & Games, SpO2, Heart Rate Monitoring', 'Amozo Ultra Hybrid Camera and Drop Protection Back Cover Case for iPhone 13 (TPU + Polycarbonate | Crystal Transparent)', 'ELV Aluminum Adjustable Mobile Phone Foldable Tabletop Stand Dock Mount for All Smartphones, Tabs, Kindle, iPad (Black)', 'Tecno Spark 9 (Sky Mirror, 6GB RAM,128GB Storage) | 11GB Expandable RAM | Helio G37 Gaming Processor', 'Flix Micro Usb Cable For Smartphone (Black)', 'JBL C100SI Wired In Ear Headphones with Mic, JBL Pure Bass Sound, One Button Multi-function Remote, Premium Metallic Finish, Angled Buds for Comfort fit (Red)', 'Tukzer Capacitive Stylus Pen for Touch Screens Devices, Fine Point, Lightweight Metal Body with Magnetism Cover Cap for Smartphones/Tablets/iPad/iPad Pro/iPhone (Grey)', 'Samsung Galaxy M13 5G (Aqua Green, 6GB, 128GB Storage) | 5000mAh Battery | Upto 12GB RAM with RAM Plus', 'Tukzer Capacitive Stylus Pen for Touch Screens Devices, Fine Point, Lightweight Metal Body with Magnetism Cover Cap for Smartphones/Tablets/iPad/iPad Pro/iPhone (White)', 'Mi 10W Wall Charger for Mobile Phones with Micro USB Cable (Black)', \"Fire-Boltt India's No 1 Smartwatch Brand Talk 2 Bluetooth Calling Smartwatch with Dual Button, Hands On Voice Assistance, 60 Sports Modes, in Built Mic & Speaker with IP68 Rating\", 'STRIFF 12 Pieces Highly Flexible Silicone Micro USB Protector, Mouse Cable Protector, Suit for All Cell Phones, Computers and Chargers (White)', 'FLiX (Beetel) USB to Type C PVC Data Sync & 2A Smartphone Fast Charging Cable, Made in India, 480Mbps Data Sync, Tough Cable, 1 Meter Long USB Cable for USB Type C Devices Black XCD-C12', 'Noise ColorFit Pro 4 Alpha Bluetooth Calling Smart Watch with 1.78 AMOLED Display, Tru Sync, 60hz Refresh Rate, instacharge, Gesture Control, Functional 360 Digital Crown (Jet Black)', 'Elv Mobile Phone Mount Tabletop Holder for Phones and Tablets - Black', 'iQOO Z6 44W by vivo (Raven Black, 6GB RAM, 128GB Storage) | 6.44\" FHD+ AMOLED Display | 50% Charge in just 27 mins | in-Display Fingerprint Scanning', 'Redmi 11 Prime 5G (Meadow Green, 4GB RAM 64GB ROM) | Prime Design | MTK Dimensity 700 | 50 MP Dual Cam | 5000mAh | 7 Band 5G', 'Noise Pulse Buzz 1.69\" Bluetooth Calling Smart Watch with Call Function, 150 Watch Faces, 60 Sports Modes, Spo2 & Heart Rate Monitoring, Calling Smart Watch for Men & Women - Rose Pink', 'PTron Newly Launched Force X10 Bluetooth Calling Smartwatch with 1.7\" Full Touch Display, Real Heart Rate Monitor, SpO2, Watch Faces, 5 Days Runtime, Health/Fitness Trackers & IP68 Waterproof (Black)', 'Portronics CLAMP X Car-Vent Mobile Holder 360 Degree Rotational(Black)', 'pTron Volta Dual Port 12W Smart USB Charger Adapter, Multi-Layer Protection, Made in India, BIS Certified, Fast Charging Power Adaptor Without Cable for All iOS & Android Devices (Black)', 'boAt Flash Edition Smart Watch with Activity Tracker, Multiple Sports Modes, 1.3\" Screen, 170+ Watch Faces, Sleep Monitor, Gesture, Camera & Music Control, IP68 & 7 Days Battery Life(Lightning Black)', 'boAt Wave Lite Smartwatch with 1.69 Inches(4.29cm) HD Display, Heart Rate & SpO2 Level Monitor, Multiple Watch Faces, Activity Tracker, Multiple Sports Modes & IP68 (Scarlet Red)', 'iQOO Z6 Pro 5G by vivo (Phantom Dusk, 8GB RAM, 128GB Storage) | Snapdragon 778G 5G | 66W FlashCharge | 1300 nits Peak Brightness | HDR10+', 'Samsung Galaxy M32 Prime Edition (Light Blue, 4GB RAM, 64GB)', 'Redmi Note 11T 5G (Matte Black, 6GB RAM, 128GB ROM)| Dimensity 810 5G | 33W Pro Fast Charging | Charger Included | Additional Exchange Offers|Get 2 Months of YouTube Premium Free!', 'iQOO Z6 Pro 5G by vivo (Legion Sky, 6GB RAM, 128GB Storage) | Snapdragon 778G 5G | 66W FlashCharge | 1300 nits Peak Brightness | HDR10+', 'Redmi Note 11 (Horizon Blue, 6GB RAM, 64GB Storage)|90Hz FHD+ AMOLED Display | Qualcomm® Snapdragon™ 680-6nm | 33W Charger Included', \"Noise Pulse 2 Max Advanced Bluetooth Calling Smart Watch with 1.85'' TFT and 550 Nits Brightness, Smart DND, 10 Days Battery, 100 Sports Mode, Smartwatch for Men and Women - (Jet Black)\", 'boAt A400 USB Type-C to USB-A 2.0 Male Data Cable, 2 Meter (Black)', 'Duracell USB C To Lightning Apple Certified (Mfi) Braided Sync & Charge Cable For Iphone, Ipad And Ipod. Fast Charging Lightning Cable, 3.9 Feet (1.2M) - Black', 'Myvn 30W Warp/20W Dash Charging Usb Type C Charger Cable Compatible For Cellular Phones Oneplus 8T 8 8Pro 7 Pro / 7T / 7T Pro Nord And Oneplus 3 / 3T / 5 / 5T / 6 / 6T / 7', 'PTron Newly Launched Force X10 Bluetooth Calling Smartwatch with 1.7\" Full Touch Color Display, Real Heart Rate Monitor, SpO2, Watch Faces, 5 Days Runtime, Fitness Trackers & IP68 Waterproof (Blue)', 'SanDisk Ultra® microSDXC™ UHS-I Card, 256GB, 150MB/s R, 10 Y Warranty, for Smartphones', 'Fire-Boltt Phoenix Smart Watch with Bluetooth Calling 1.3\",120+ Sports Modes, 240*240 PX High Res with SpO2, Heart Rate Monitoring & IP67 Rating', 'Redmi Note 11 (Space Black, 6GB RAM, 64GB Storage) | 90Hz FHD+ AMOLED Display | Qualcomm® Snapdragon™ 680-6nm | 33W Charger Included', 'Noise ColorFit Pro 2 Full Touch Control Smart Watch with 35g Weight & Upgraded LCD Display (Deep Wine)', 'Redmi Note 11T 5G (Aquamarine Blue, 6GB RAM, 128GB ROM)| Dimensity 810 5G | 33W Pro Fast Charging | Charger Included | Additional Exchange Offers| Get 2 Months of YouTube Premium Free!', 'Newly Launched Boult Dive+ with 1.85\" HD Display, Bluetooth Calling Smartwatch, 500 Nits Brightness, 7 Days Battery Life, 150+ Watch Faces, 100+ Sport Modes, IP68 Waterproof Smart Watch (Jet Black)', 'OnePlus Nord Watch with 1.78” AMOLED Display, 60 Hz Refresh Rate, 105 Fitness Modes, 10 Days Battery, SPO2, Heart Rate, Stress Monitor, Women Health Tracker & Multiple Watch Face [Midnight Black]', 'pTron Solero MB301 3A Micro USB Data & Charging Cable, Made in India, 480Mbps Data Sync, Strong & Durable 1.5-Meter Nylon Braided USB Cable for Micro USB Devices - (Black)', 'Noise Agile 2 Buzz Bluetooth Calling Smart Watch with 1.28\" TFT Display,Dual Button,in-Built Mic & Speaker,AI Voice Assistant, Health Suite,in-Built Games, 100 Watch Faces-(Jet Black)', 'Motorola a10 Dual Sim keypad Mobile with 1750 mAh Battery, Expandable Storage Upto 32GB, Wireless FM with Recording - Dark Blue', 'Fire-Boltt Ninja 3 Smartwatch Full Touch 1.69 \" & 60 Sports Modes with IP68, Sp02 Tracking, Over 100 Cloud based watch faces ( Silver )', 'Amazonbasics Nylon Braided Usb-C To Lightning Cable, Fast Charging Mfi Certified Smartphone, Iphone Charger (6-Foot, Dark Grey)', 'Flix (Beetel) Bolt 2.4 12W Dual USB Smart Charger, Made in India, Bis Certified, Fast Charging Power Adaptor with 1 Meter USB to Type C Cable for Cellular Phones (White)(Xwc-64D)', 'Kyosei Advanced Tempered Glass Compatible with Google Pixel 6a with Military-Grade Anti-Explosion Edge-to-Edge Coverage Screen Protector Guard', 'STRIFF 12 Pieces Highly Flexible Silicone Micro USB Protector, Mouse Cable Protector, Suit for All Cell Phones, Computers and Chargers (Black)', 'Redmi 11 Prime 5G (Thunder Black, 4GB RAM, 64GB Storage) | Prime Design | MTK Dimensity 700 | 50 MP Dual Cam | 5000mAh | 7 Band 5G', 'Samsung Original EHS64 Wired in Ear Earphones with Mic, Black', 'STRIFF Multi Angle Tablet/Mobile Stand. Holder for iPhone, Android, Samsung, OnePlus, Xiaomi. Portable,Foldable Stand.Perfect for Bed,Office, Home,Gift and Desktop (Black)', 'boAt Newly Launched Wave Electra with 1.81\" HD Display, Smart Calling Ultra-Seamless BT Calling Chip, 20 Built-in Watch Faces, 100 + Sports Modes, Menu Personalization, in-Built Games(Cherry Blossom)', 'WeCool B1 Mobile Holder for Bikes or Bike Mobile Holder for Maps and GPS Navigation, one Click Locking, Firm Gripping, Anti Shake and Stable Cradle Clamp with 360° Rotation Bicycle Phone Mount', 'Sounce 360 Adjustable Mobile Phone Holder, Universal Phone Holder Clip Lazy Bracket Flexible Gooseneck Clamp Long Arms Mount for Mobile Tabletop Stand for Bedroom, Office, Bathroom, White', 'OpenTech® Military-Grade Tempered Glass Screen Protector Compatible for iPhone 13/13 Pro / 14 with Edge to Edge Coverage and Easy Installation kit (6.1 Inches)', 'EN LIGNE Adjustable Cell Phone Stand, Foldable Portable Phone Stand Phone Holder for Desk, Desktop Tablet Stand Compatible with Mobile Phone/iPad/Tablet (Black)', 'Tecno Spark 8T (Turquoise Cyan, 4GB RAM,64GB Storage) | 50MP AI Camera | 7GB Expandable RAM', 'URBN 20000 mAh Lithium_Polymer 22.5W Super Fast Charging Ultra Compact Power Bank with Quick Charge & Power Delivery, Type C Input/Output, Made in India, Type C Cable Included (Camo)', 'Redmi Note 11T 5G (Stardust White, 6GB RAM, 128GB ROM)| Dimensity 810 5G | 33W Pro Fast Charging | Charger Included | Additional Exchange Offers|Get 2 Months of YouTube Premium Free!', 'OnePlus 10T 5G (Moonstone Black, 8GB RAM, 128GB Storage)', 'Nokia 150 (2020) (Cyan)', 'Noise ColorFit Ultra SE Smart Watch with 1.75\"(4.3cm) HD Display, Aluminium Alloy Body, 60 Sports Modes, Spo2, Lightweight, Stock Market Info, Calls & SMS Reply (Vintage Brown)', 'boAt Rockerz 400 Bluetooth On Ear Headphones With Mic With Upto 8 Hours Playback & Soft Padded Ear Cushions(Grey/Green)', 'SanDisk Ultra microSD UHS-I Card 64GB, 120MB/s R', 'iPhone Original 20W C Type Fast PD Charger Compatible with I-Phone13/13 mini/13pro/13 pro Max I-Phone 12/12 Pro/12mini/12 Pro Max, I-Phone11/11 Pro/11 Pro Max 2020 (Only Adapter)', 'LIRAMARK Webcam Cover Slide, Ultra Thin Laptop Camera Cover Slide Blocker for Computer MacBook Pro iMac PC Tablet (Pack of 3)', 'AmazonBasics New Release Nylon USB-A to Lightning Cable Cord, Fast Charging MFi Certified Charger for Apple iPhone, iPad (6-Ft, Rose Gold)', 'Nokia 8210 4G Volte keypad Phone with Dual SIM, Big Display, inbuilt MP3 Player & Wireless FM Radio | Blue', 'Sounce Protective Case Cover Compatible Boat Xtend Overall Protective Case TPU HD Clear Ultra-Thin Cover with Unbreakable Screen Guard', 'Samsung Galaxy M53 5G (Deep Ocean Blue, 6GB, 128GB Storage) | 108MP | sAmoled+ 120Hz | 12GB RAM with RAM Plus | Travel Adapter to be Purchased Separately', 'iQOO 9 SE 5G (Sunset Sierra, 8GB RAM, 128GB Storage) | Qualcomm Snapdragon 888 | 66W Flash Charge', 'SHREENOVA ID116 Plus Bluetooth Fitness Smart Watch for Men Women and Kids Activity Tracker (Black)', 'POCO C31 (Shadow Gray, 64 GB) (4 GB RAM)', 'Noise_Colorfit Smart Watch Charger 2 Pin USB Fast Charger Magnetic Charging Cable Adapter (Smart Watch Charger 2 pin)', 'POPIO Tempered Glass Screen Protector Compatible for iPhone 12 / iPhone 12 Pro with Case Friendly Edge to Edge Coverage and Easy Installation kit, Pack of 1', '10WeRun Id-116 Bluetooth Smartwatch Wireless Fitness Band for Boys, Girls, Men, Women & Kids | Sports Gym Watch for All Smart Phones I Heart Rate and spo2 Monitor', 'Tokdis MX-1 Pro Bluetooth Calling Smartwatch - 1.69” LCD Display, Multiple Watch Faces, Sleep Monitor, Heart & SpO2 Monitoring, Multiple Sports Modes, Water Resistant', 'URBN 20000 mAh lithium_polymer Power Bank with 12 Watt Fast Charging, Camo', 'Sounce Gold Plated 3.5 mm Headphone Splitter for Computer 2 Male to 1 Female 3.5mm Headphone Mic Audio Y Splitter Cable Smartphone Headset to PC Adapter – (Black,20cm)', 'Noise ColorFit Ultra 2 Buzz 1.78\" AMOLED Bluetooth Calling Watch with 368*448px Always On Display, Premium Metallic Finish, 100+ Watch Faces, 100+ Sports Modes, Health Suite (Jet Black)', 'Redmi Note 11 (Horizon Blue, 6GB RAM, 64GB Storage)|90Hz FHD+ AMOLED Display | Qualcomm® Snapdragon™ 680-6nm | 33W Charger Included', 'Spigen Ultra Hybrid Back Cover Case Compatible with iPhone 14 Pro max (TPU + Poly Carbonate | Crystal Clear)', 'Oraimo 18W USB & Type-C Dual Output Super Fast Charger Wall Adapter PE2.0&Quick Charge 3.0 & Power Delivery 3.0 Compatible for iPhone 13/13 Mini/13 Pro Max/12/12 Pro Max, iPad Mini/Pro, Pixel, Galaxy, Airpods Pro', 'LAPSTER 12pcs Spiral Cable Protectors for Charger, Wires, Data Charger Cable Protector for Computers, Cell Phones etc.(Grey)', 'MI REDMI 9i Sport (Carbon Black, 64 GB) (4 GB RAM)', 'Fire-Boltt Ninja 3 Smartwatch Full Touch 1.69 \" & 60 Sports Modes with IP68, Sp02 Tracking, Over 100 Cloud based watch faces ( Green )', 'Lava A1 Josh 21(Blue Silver) -Dual Sim,Call Blink Notification,Military Grade Certified with 4 Day Battery Backup, Keypad Mobile', 'POPIO Tempered Glass Compatible for iPhone 13 / iPhone 13 Pro/iPhone 14 (Transparent) Edge to Edge Full Screen Coverage with Installation Kit, Pack of 2', 'Amazon Basics USB Type-C to USB-A 2.0 Male Fast Charging Cable for Laptop - 3 Feet (0.9 Meters), Black', 'Amozo Ultra Hybrid Camera and Drop Protection Back Cover Case for iPhone 13 (Polycarbonate| Back Transparent - Sides Black)', 'Pinnaclz Original Combo of 2 Micro USB Fast Charging Cable, USB Charging Cable for Data Transfer Perfect for Android Smart Phones White 1.2 Meter Made in India (Pack of 2)', 'FLiX Usb Charger,Flix (Beetel) Bolt 2.4 Dual Poart,5V/2.4A/12W Usb Wall Charger Fast Charging,Adapter For Android/Iphone 11/Xs/Xs Max/Xr/X/8/7/6/Plus,Ipad Pro/Air 2/Mini 3/4,Samsung S4/S5 & More-Black', 'Redmi 9A Sport (Coral Green, 3GB RAM, 32GB Storage) | 2GHz Octa-core Helio G25 Processor | 5000 mAh Battery', 'Prolet Classic Bumper Case Cover for Samsung Galaxy Watch 4 44mm TPU Plated Full Screen Protector (Black)', 'Samsung Galaxy S20 FE 5G (Cloud Navy, 8GB RAM, 128GB Storage) with No Cost EMI & Additional Exchange Offers', 'Ambrane 2 in 1 Type-C & Micro USB Cable with 60W / 3A Fast Charging, 480 mbps High Data, PD Technology & Quick Charge 3.0, Compatible with All Type-C & Micro USB Devices (ABDC-10, Black)', 'Ambrane 60W / 3A Fast Charging Output Cable with Type-C to USB for Mobile, Neckband, True Wireless Earphone Charging, 480mbps Data Sync Speed, 1m Length (ACT - AZ10, Black)', 'WeCool S5 Long Selfie Stick, with Large Reinforced Tripod Stand up to 61 Inch / 156 Cms, Ultra Long Multi Function Bluetooth Selfie Stick with 1/4 Screw Compatible with Gopro, Camera, and Ring Light', 'POCO C31 (Royal Blue, 64 GB) (4 GB RAM)', 'Noise ColorFit Pulse Grand Smart Watch with 1.69\"(4.29cm) HD Display, 60 Sports Modes, 150 Watch Faces, Fast Charge, Spo2, Stress, Sleep, Heart Rate Monitoring & IP68 Waterproof (Electric Blue)', 'Fire-Boltt Visionary 1.78\" AMOLED Bluetooth Calling Smartwatch with 368*448 Pixel Resolution 100+ Sports Mode, TWS Connection, Voice Assistance, SPO2 & Heart Rate Monitoring', 'Amazon Basics 2 Amp USB Wall Charger & Micro USB Cable (White)', 'Mobilife Bluetooth Extendable Selfie Stick with Tripod Stand and Wireless Remote,3-in-1 Multifunctional Selfie Stick Tripod for iPhone Samsung Mi Realme Oppo Vivo Google More,Black', 'Ambrane 27000mAh Power Bank, 20W Fast Charging, Triple Output, Type C PD (Input & Output), Quick Charge, Li-Polymer, Multi-Layer Protection for iPhone, Smartphones & Other Devices (Stylo Pro, Black)', 'STRIFF Wall Mount Phone Holder Wall Mount with Adhesive Strips, Charging Holder Compatible with iPhone, Smartphone and Mini Tablet (Pack of 1) (White)', 'Fire-Boltt Tank 1.85\" Bluetooth Calling Smart Watch, 123 Sports Mode, 8 UI Interactions, Built in Speaker & Mic, 7 Days Battery & Fire-Boltt Health Suite', 'Elv Aluminium Adjustable Mobile Phone Foldable Holder Tabletop Stand Dock Mount for All Smartphones, Tabs, Kindle, iPad (Moonlight Silver)', 'Samsung Galaxy M13 5G (Stardust Brown, 6GB, 128GB Storage) | 5000mAh Battery | Upto 12GB RAM with RAM Plus', 'DYAZO USB 3.0 Type C Female to USB A Male Connector/Converter/Adapter Compatible for Samsung Galaxy Note s 20 10 Plus Ultra,Google Pixel 4 5 3 2 & Other Type-c Devices', 'KINGONE Wireless Charging Pencil (2nd Generation) for iPad with Magnetic and Tilt Sensitive, Palm Rejection, Compatible with Apple iPad Pro 11 inch 1/2/3/4, iPad Pro 12.9 Inch 3/4/5/6, iPad Air 4/5, mini6', 'boAt BassHeads 100 in-Ear Wired Headphones with Mic (Black)', 'boAt Airdopes 141 Bluetooth Truly Wireless in Ear Earbuds with mic, 42H Playtime, Beast Mode(Low Latency Upto 80ms) for Gaming, ENx Tech, ASAP Charge, IWP, IPX4 Water Resistance (Bold Black)', 'Fire-Boltt Phoenix Smart Watch with Bluetooth Calling 1.3\",120+ Sports Modes, 240*240 PX High Res with SpO2, Heart Rate Monitoring & IP67 Rating', 'boAt Wave Call Smart Watch, Smart Talk with Advanced Dedicated Bluetooth Calling Chip, 1.69” HD Display with 550 NITS & 70% Color Gamut, 150+ Watch Faces, Multi-Sport Modes,HR,SpO2, IP68(Active Black)', 'SanDisk Cruzer Blade 32GB USB Flash Drive', 'Logitech B170 Wireless Mouse, 2.4 GHz with USB Nano Receiver, Optical Tracking, 12-Months Battery Life, Ambidextrous, PC/Mac/Laptop - Black', 'Storio Kids Toys LCD Writing Tablet 8.5Inch E-Note Pad Best Birthday Gift for Girls Boys, Multicolor (SC1667)', 'boAt Airdopes 121v2 in-Ear True Wireless Earbuds with Upto 14 Hours Playback, 8MM Drivers, Battery Indicators, Lightweight Earbuds & Multifunction Controls (Active Black, with Mic)', 'SKE Bed Study Table Portable Wood Multifunction Laptop-Table Lapdesk for Children Bed Foldabe Table Work with Tablet Slot & Cup Holder Brown Black', 'SanDisk Ultra® microSDXC™ UHS-I Card, 64GB, 140MB/s R, 10 Y Warranty, for Smartphones', 'Noise Pulse Go Buzz Smart Watch Bluetooth Calling with 1.69\" Display, 550 NITS, 150+ Cloud Watch Face, SPo2, Heart Rate Tracking, 100 Sports Mode with Auto Detection, Longer Battery (Jet Black)', 'boAt Rockerz 255 Pro+ in-Ear Bluetooth Neckband with Upto 40 Hours Playback, ASAP  Charge, IPX7, Dual Pairing, BT v5.0, with Mic (Active Black)', 'STRIFF Adjustable Laptop Tabletop Stand Patented Riser Ventilated Portable Foldable Compatible with MacBook Notebook Tablet Tray Desk Table Book with Free Phone Stand (Black)', 'ZEBRONICS Zeb-Bro in Ear Wired Earphones with Mic, 3.5mm Audio Jack, 10mm Drivers, Phone/Tablet Compatible(Black)', 'JBL C100SI Wired In Ear Headphones with Mic, JBL Pure Bass Sound, One Button Multi-function Remote, Angled Buds for Comfort fit (Black)', 'boAt Rockerz 450 Bluetooth On Ear Headphones with Mic, Upto 15 Hours Playback, 40MM Drivers, Padded Ear Cushions, Integrated Controls and Dual Modes(Luscious Black)', 'boAt Wave Lite Smartwatch with 1.69\" HD Display, Sleek Metal Body, HR & SpO2 Level Monitor, 140+ Watch Faces, Activity Tracker, Multiple Sports Modes, IP68 & 7 Days Battery Life(Active Black)', 'JBL C50HI, Wired in Ear Headphones with Mic, One Button Multi-Function Remote, Lightweight & Comfortable fit (Black)', 'LAPSTER Spiral Charger Spiral Charger Cable Protectors for Wires Data Cable Saver Charging Cord Protective Cable Cover Set of 3 (12 Pieces)', 'pTron Bullet Pro 36W PD Quick Charger, 3 Port Fast Car Charger Adapter - Compatible with All Smartphones & Tablets (Black)', 'HP v236w USB 2.0 64GB Pen Drive, Metal', 'HP X1000 Wired USB Mouse with 3 Handy Buttons, Fast-Moving Scroll Wheel and Optical Sensor works on most Surfaces (H2C21AA, Black/Grey)', 'Portronics Toad 23 Wireless Optical Mouse with 2.4GHz, USB Nano Dongle, Optical Orientation, Click Wheel, Adjustable DPI(Black)', 'Noise ColorFit Pulse Grand Smart Watch with 1.69\"(4.29cm) HD Display, 60 Sports Modes, 150 Watch Faces, Fast Charge, Spo2, Stress, Sleep, Heart Rate Monitoring & IP68 Waterproof (Jet Black)', 'Fire-Boltt Ninja 3 Smartwatch Full Touch 1.69 & 60 Sports Modes with IP68, Sp02 Tracking, Over 100 Cloud based watch faces - Black', 'Boult Audio BassBuds X1 in-Ear Wired Earphones with 10mm Extra Bass Driver and HD Sound with mic(Black)', 'Dell KB216 Wired Multimedia USB Keyboard with Super Quite Plunger Keys with Spill-Resistant – Black', \"Fire-Boltt India's No 1 Smartwatch Brand Talk 2 Bluetooth Calling Smartwatch with Dual Button, Hands On Voice Assistance, 60 Sports Modes, in Built Mic & Speaker with IP68 Rating\", 'Dell MS116 1000Dpi USB Wired Optical Mouse, Led Tracking, Scrolling Wheel, Plug and Play.', 'Boya ByM1 Auxiliary Omnidirectional Lavalier Condenser Microphone with 20ft Audio Cable (Black)', 'Wayona Nylon Braided USB to Lightning Fast Charging and Data Sync Cable Compatible for iPhone 13, 12,11, X, 8, 7, 6, 5, iPad Air, Pro, Mini (3 FT Pack of 1, Grey)', 'Duracell Ultra Alkaline AA Battery, 8 Pcs', 'Classmate Octane Neon- Blue Gel Pens(Pack of 5)|Smooth Writing Pen|Attractive body colour for Boys & Girls|Waterproof ink for smudge free writing|Preferred by Students for Exam|Study at home essential', '3M Scotch Double Sided Heavy Duty Tape(1m holds 4.5Kgs) for indoor hanging applications (Photo frames, Mirrors, Key Holders, Car Interiors, Extension Boards, Wall decoration, etc)(L: 3m, W: 24mm)', 'boAt Bassheads 152 in Ear Wired Earphones with Mic(Active Black)', 'Fire-Boltt Visionary 1.78\" AMOLED Bluetooth Calling Smartwatch with 368*448 Pixel Resolution 100+ Sports Mode, TWS Connection, Voice Assistance, SPO2 & Heart Rate Monitoring', 'boAt BassHeads 122 Wired Earphones with Heavy Bass, Integrated Controls and Mic (Gun Metal)', 'Dell USB Wireless Keyboard and Mouse Set- KM3322W, Anti-Fade & Spill-Resistant Keys, up to 36 Month Battery Life, 3Y Advance Exchange Warranty, Black', 'Ambrane Unbreakable 60W / 3A Fast Charging 1.5m Braided Type C Cable for Smartphones, Tablets, Laptops & other Type C devices, PD Technology, 480Mbps Data Sync, Quick Charge 3.0 (RCT15A, Black)', 'Sounce Fast Phone Charging Cable & Data Sync USB Cable Compatible for iPhone 13, 12,11, X, 8, 7, 6, 5, iPad Air, Pro, Mini & iOS Devices', 'Noise ColorFit Pro 4 Advanced Bluetooth Calling Smart Watch with 1.72\" TruView Display, Fully-Functional Digital Crown, 311 PPI, 60Hz Refresh Rate, 500 NITS Brightness (Charcoal Black)', 'Seagate Expansion 1TB External HDD - USB 3.0 for Windows and Mac with 3 yr Data Recovery Services, Portable Hard Drive (STKM1000400)', 'HP w100 480P 30 FPS Digital Webcam with Built-in Mic, Plug and Play Setup, Wide-Angle View for Video Calling on Skype, Zoom, Microsoft Teams and Other Apps (Black)', 'ZEBRONICS Zeb-Dash Plus 2.4GHz High Precision Wireless Mouse with up to 1600 DPI, Power Saving Mode, Nano Receiver and Plug & Play Usage - USB', 'boAt Deuce USB 300 2 in 1 Type-C & Micro USB Stress Resistant, Tangle-Free, Sturdy Cable with 3A Fast Charging & 480mbps Data Transmission, 10000+ Bends Lifespan and Extended 1.5m Length(Martian Red)', 'Zebronics Zeb-Companion 107 USB Wireless Keyboard and Mouse Set with Nano Receiver (Black)', 'SYVO WT 3130 Aluminum Tripod (133CM), Universal Lightweight Tripod with Mobile Phone Holder Mount & Carry Bag for All Smart Phones, Gopro, Cameras - Brown', 'Boult Audio Airbass Z20 True Wireless, 40H Battery Life, Zen ENC Mic, Type-C Lightning Boult Fast Charging (10Mins=100Mins), BoomX Tech Bass, ENC, IPX5 in Ear Earbuds with mic (Green)', 'Portronics Konnect L 1.2M Fast Charging 3A 8 Pin USB Cable with Charge & Sync Function for iPhone, iPad (Grey)', 'SanDisk Ultra Flair 64GB USB 3.0 Pen Drive, Multicolor', 'boAt Xtend Smartwatch with Alexa Built-in, 1.69” HD Display, Multiple Watch Faces, Stress Monitor, Heart & SpO2 Monitoring, 14 Sports Modes, Sleep Monitor, 5 ATM & 7 Days Battery(Charcoal Black)', 'Tygot Bluetooth Extendable Selfie Sticks with Wireless Remote and Tripod Stand, 3-in-1 Multifunctional Selfie Stick with Tripod Stand Compatible with iPhone/OnePlus/Samsung/Oppo/Vivo and All Phones', 'boAt Rockerz 330 in-Ear Bluetooth Neckband with Upto 30 Hours Playtime, ASAP  Charge, Signature Sound, Dual Pairing & IPX5 with Mic (Active Black)', 'Casio FX-991ES Plus-2nd Edition Scientific Calculator, Black', 'TP-Link AC750 Wifi Range Extender | Up to 750Mbps | Dual Band WiFi Extender, Repeater, Wifi Signal Booster, Access Point| Easy Set-Up | Extends Wifi to Smart Home & Alexa Devices (RE200)', 'boAt Bassheads 242 in Ear Wired Earphones with Mic(Blue)', 'DIGITEK® (DTR 260 GT) Gorilla Tripod/Mini 33 cm (13 Inch) Tripod for Mobile Phone with Phone Mount & Remote, Flexible Gorilla Stand for DSLR & Action Cameras', 'Samsung EVO Plus 128GB microSDXC UHS-I U3 130MB/s Full HD & 4K UHD Memory Card with Adapter (MB-MC128KA), Blue', 'pTron Solero TB301 3A Type-C Data and Fast Charging Cable, Made in India, 480Mbps Data Sync, Strong and Durable 1.5-Meter Nylon Braided USB Cable for Type-C Devices for Charging Adapter (Black)', 'HP 805 Black Original Ink Cartridge', 'Sounce Spiral Charger Cable Protector Data Cable Saver Charging Cord Protective Cable Cover Headphone MacBook Laptop Earphone Cell Phone Set of 3 (Cable Protector (12 Units))', 'GIZGA essentials Universal Silicone Keyboard Protector Skin for 15.6-inches Laptop (5 x 6 x 3 inches)', 'SanDisk Ultra 128 GB USB 3.0 Pen Drive (Black)', 'Boult Audio ZCharge Bluetooth Wireless in Ear Earphones with Mic, 40H Playtime and Super Fast Charging, Environmental Noise Cancellation for Pro+ Calling and IPX5 Water Resistant (Black)', 'Dell WM118 Wireless Mouse, 2.4 Ghz with USB Nano Receiver, Optical Tracking, 12-Months Battery Life, Ambidextrous, Pc/Mac/Laptop - Black.', 'Boult Audio AirBass PowerBuds with Inbuilt Powerbank, 120H Total Playtime, IPX7 Fully Waterproof, Lightning Boult Type-C Fast Charging, Low Latency Gaming, TWS Earbuds with Pro+ Calling Mic (Black)', 'Eveready 1015 Carbon Zinc AA Battery - 10 Pieces', 'Zebronics Zeb-Transformer-M Optical USB Gaming Mouse with LED Effect(Black)', 'PIDILITE Fevicryl Acrylic Colours Sunflower Kit (10 Colors x 15 ml) DIY Paint, Rich Pigment, Non-Craking Paint for Canvas, Wood, Leather, Earthenware, Metal, Diwali Gifts for Diwali', 'STRIFF Mpad Mouse Mat 230X190X3mm Gaming Mouse Pad, Non-Slip Rubber Base, Waterproof Surface, Premium-Textured, Compatible with Laser and Optical Mice(Universe Black)', 'Gizga Essentials Hard Drive Case Shell, 6.35cm/2.5-inch, Portable Storage Organizer Bag for Earphone USB Cable Power Bank Mobile Charger Digital Gadget Hard Disk, Water Resistance Material, Black', 'Boult Audio FXCharge with ENC, 32H Playtime, 5min=7H Type C Fast Charging, Zen ENC, 14.2 mm BoomX Rich Bass, IPX5, Bluetooth Wireless in Ear Earphones Neckband with mic (Black)', 'Boult Audio Probass Curve Bluetooth Wireless in Ear Earphones with Mic with Ipx5 Water Resistant, 12H Battery Life & Extra Bass (Black)', 'Ambrane 20000mAh Power Bank with 20W Fast Charging, Triple Output, Power Delivery, Type C Input, Made in India, Multi-Layer Protection, Li-Polymer + Type C Cable (Stylo-20k, Black)', 'boAt Micro USB 55 Tangle-free, Sturdy Micro USB Cable with 3A Fast Charging & 480mbps Data Transmission (Black)', 'Casio FX-82MS 2nd Gen Non-Programmable Scientific Calculator, 240 Functions and 2-line Display, Black', 'Tygot 10 Inches Big LED Ring Light for Camera, Phone tiktok YouTube Video Shooting and Makeup, 10\" inch Ring Light with 7 Feet Long Foldable and Lightweight Tripod Stand', 'HP X200 Wireless Mouse with 2.4 GHz Wireless connectivity, Adjustable DPI up to 1600, ambidextrous Design, and 18-Month Long Battery Life. 3-Years Warranty (6VY95AA)', 'Oakter Mini UPS for 12V WiFi Router Broadband Modem | Backup Upto 4 Hours | WiFi Router UPS Power Backup During Power Cuts | UPS for 12V Router Broadband Modem | Current Surge & Deep Discharge Protection', 'TP-Link Archer AC1200 Archer C6 Wi-Fi Speed Up to 867 Mbps/5 GHz + 400 Mbps/2.4 GHz, 5 Gigabit Ports, 4 External Antennas, MU-MIMO, Dual Band, WiFi Coverage with Access Point Mode, Black', 'boAt Rockerz 550 Over Ear Bluetooth Headphones with Upto 20 Hours Playback, 50MM Drivers, Soft Padded Ear Cushions and Physical Noise Isolation, Without Mic (Black)', 'Xiaomi Mi Wired in Ear Earphones with Mic Basic with Ultra Deep Bass & Aluminum Alloy Sound Chamber (Black)', 'Zodo 8. 5 inch LCD E-Writer Electronic Writing Pad/Tablet Drawing Board (Paperless Memo Digital Tablet)', 'Zebronics ZEB-KM2100 Multimedia USB Keyboard Comes with 114 Keys Including 12 Dedicated Multimedia Keys & with Rupee Key', 'MI Usb Type-C Cable Smartphone (Black)', 'ZEBRONICS Zeb-Comfort Wired USB Mouse, 3-Button, 1000 DPI Optical Sensor, Plug & Play, for Windows/Mac, Black', 'boAt Rockerz 370 On Ear Bluetooth Headphones with Upto 12 Hours Playtime, Cozy Padded Earcups and Bluetooth v5.0, with Mic (Buoyant Black)', 'ZEBRONICS Zeb-Astra 20 Wireless BT v5.0 Portable Speaker with 10W RMS Output, TWS, 10H Backup Approx, Built in Rechargeable Battery FM Radio, AUX, mSD, USB, Call Function and Dual 52mm Drivers Multi', 'Gizga Essentials Spiral Cable Protector Cord Saver for Mac Charger, iPhone Charger, Wire Protector, Lightweight Durable Flexible Wire Winder for Charging Cables, Data Cables, Earphones, Pack of 10', 'Portronics Konnect L POR-1081 Fast Charging 3A Type-C Cable 1.2Meter with Charge & Sync Function for All Type-C Devices (Grey)', 'Panasonic CR-2032/5BE Lithium Coin Battery - Pack of 5', 'MemeHo® Smart Standard Multi-Purpose Laptop Table with Dock Stand/Study Table/Bed Table/Foldable and Portable/Ergonomic & Rounded Edges/Non-Slip Legs/Engineered Wood with Cup Holder (Black)', 'SanDisk Ultra Dual Drive Go USB Type C Pendrive for Mobile (Black, 128 GB, 5Y - SDDDC3-128G-I35)', 'boAt Xtend Smartwatch with Alexa Built-in, 1.69” HD Display, Multiple Watch Faces, Stress Monitor, Heart & SpO2 Monitoring, 14 Sports Modes, Sleep Monitor, 5 ATM & 7 Days Battery(Pitch Black)', 'Tizum Mouse Pad/ Computer Mouse Mat with Anti-Slip Rubber Base | Smooth Mouse Control | Spill-Resistant Surface for Laptop, Notebook, MacBook, Gaming, Laser/ Optical Mouse, 9.4”x 7.9”, Multicolored', 'Epson 003 65 ml for EcoTank L1110/L3100/L3101/L3110/L3115/L3116/L3150/L3151/L3152/L3156/L5190 Black Ink Bottle', 'ZEBRONICS Zeb-Thunder Bluetooth Wireless Over Ear Headphone FM, mSD, 9 hrs Playback with Mic (Black)', 'Quantum QHM-7406 Full-Sized Keyboard with (₹) Rupee Symbol, Hotkeys and 3-pieces LED function for Desktop/Laptop/Smart TV Spill-Resistant Wired USB Keyboard with 10 million keystrokes lifespan (Black)', 'STRIFF Laptop Tabletop Stand, Fold-Up, Adjustable, Ventilated, Portable Holder for Desk, Aluminum Foldable Laptop Ergonomic Compatibility with up to 15.6-inch Laptop, All Mac, Tab, and Mobile (Silver)', 'Logitech M221 Wireless Mouse, Silent Buttons, 2.4 GHz with USB Mini Receiver, 1000 DPI Optical Tracking, 18-Month Battery Life, Ambidextrous PC / Mac / Laptop - Charcoal Grey', 'AmazonBasics Flexible Premium HDMI Cable (Black, 4K@60Hz, 18Gbps), 3-Foot', 'Classmate Soft Cover 6 Subject Spiral Binding Notebook, Single Line, 300 Pages', 'HP 32GB Class 10 MicroSD Memory Card (U1 TF Card\\xa032GB)', 'HP 150 Wireless USB Mouse with Ergonomic and ambidextrous Design, 1600 DPI Optical Tracking, 2.4 GHz Wireless connectivity, Dual-Function Scroll Wheel and 12 Month Long Battery Life. 3-Years Warranty.', 'Duracell Rechargeable AA 1300mAh Batteries, 4Pcs', 'Portronics Konnect CL 20W POR-1067 Type-C to 8 Pin USB 1.2M Cable with Power Delivery & 3A Quick Charge Support, Nylon Braided for All Type-C and 8 Pin Devices, Green', 'boAt Airdopes 181 in-Ear True Wireless Earbuds with ENx  Tech, Beast  Mode(Low Latency Upto 60ms) for Gaming, with Mic, ASAP  Charge, 20H Playtime, Bluetooth v5.2, IPX4 & IWP (Cool Grey)', 'TP-Link USB Bluetooth Adapter for PC, 5.0 Bluetooth Dongle Receiver (UB500) Supports Windows 11/10/8.1/7 for Desktop, Laptop, Mouse, Keyboard, Printers, Headsets, Speakers, PS4/ Xbox Controllers', 'Portronics Konnect L 1.2M POR-1401 Fast Charging 3A 8 Pin USB Cable with Charge & Sync Function (White)', 'SanDisk Ultra Dual Drive Luxe USB Type C Flash Drive (Silver, 128 GB, 5Y - SDDDC4-128G-I35)', 'Noise ColorFit Pulse Smartwatch with 3.56 cm (1.4\") Full Touch HD Display, SpO2, Heart Rate, Sleep Monitors & 10-Day Battery - Jet Black', 'rts [2 Pack] Mini USB C Type C Adapter Plug, Type C Female to USB A Male Charger Charging Cable Adapter Converter compatible for iPhone, Samsung S20 ultra/S21/S10/S8/S9/MacBook Pro iPad Silver', 'HP 682 Black Original Ink Cartridge', 'Logitech H111 Wired On Ear Headphones With Mic Black', 'Digitek DTR 550 LW (67 Inch) Tripod For DSLR, Camera |Operating Height: 5.57 Feet | Maximum Load Capacity up to 4.5kg | Portable Lightweight Aluminum Tripod with 360 Degree Ball Head | Carry Bag Included (Black) (DTR 550LW)', 'MI Braided USB Type-C Cable for Charging Adapter (Red)', 'Duracell USB Lightning Apple Certified (Mfi) Braided Sync & Charge Cable For Iphone, Ipad And Ipod. Fast Charging Lightning Cable, 3.9 Feet (1.2M) - Black', 'TP-Link TL-WA850RE Single_Band 300Mbps RJ45 Wireless Range Extender, Broadband/Wi-Fi Extender, Wi-Fi Booster/Hotspot with 1 Ethernet Port, Plug and Play, Built-in Access Point Mode, White', 'COI Note Pad/Memo Book with Sticky Notes & Clip Holder with Pen for Gifting', 'Fujifilm Instax Mini Single Pack 10 Sheets Instant Film for Fuji Instant Cameras', 'Fire-Boltt Ring 3 Smart Watch 1.8 Biggest Display with Advanced Bluetooth Calling Chip, Voice Assistance,118 Sports Modes, in Built Calculator & Games, SpO2, Heart Rate Monitoring', 'Samsung Galaxy Watch4 Bluetooth(4.4 cm, Black, Compatible with Android only)', 'Noise Buds Vs104 Bluetooth Truly Wireless in Ear Earbuds with Mic, 30-Hours of Playtime, Instacharge, 13Mm Driver and Hyper Sync (Charcoal Black)', 'Duracell Ultra Alkaline AAA Battery, 8 Pcs', 'JBL C200SI, Premium in Ear Wired Earphones with Mic, Signature Sound, One Button Multi-Function Remote, Angled Earbuds for Comfort fit (Blue)', 'Acer EK220Q 21.5 Inch (54.61 cm) Full HD (1920x1080) VA Panel LCD Monitor with LED Back Light I 250 Nits I HDMI, VGA Ports I Eye Care Features Like Bluelight Shield, Flickerless & Comfy View (Black)', 'E-COSMOS 5V 1.2W Portable Flexible USB LED Light (Colors May Vary, Small) - Set of 2 Pieces', 'boAt Dual Port Rapid Car Charger (Qualcomm Certified) with Quick Charge 3.0 + Free Micro USB Cable - (Black)', 'Zebronics ZEB-COUNTY 3W Wireless Bluetooth Portable Speaker With Supporting Carry Handle, USB, SD Card, AUX, FM & Call Function. (Green)', 'KINGONE Upgraded Stylus Pen, iPad Pencil, Ultra High Precision & Sensitivity, Palm Rejection, Prevents False ON/Off Touch, Power Display, Tilt Sensitivity, Magnetic Adsorption for iPad 2018 and Later', 'LG 80 cm (32 inches) HD Ready Smart LED TV 32LM563BPTC (Dark Iron Gray)', 'Zebronics Wired Keyboard and Mouse Combo with 104 Keys and a USB Mouse with 1200 DPI - JUDWAA 750', 'JBL Tune 215BT, 16 Hrs Playtime with Quick Charge, in Ear Bluetooth Wireless Earphones with Mic, 12.5mm Premium Earbuds with Pure Bass, BT 5.0, Dual Pairing, Type C & Voice Assistant Support (Black)', 'Gizga Essentials Professional 3-in-1 Cleaning Kit for Camera, Lens, Binocular, Laptop, TV, Monitor, Smartphone, Tablet (Includes: Cleaning Liquid 100ml, Plush Microfiber Cloth, Dust Removal Brush)', 'SanDisk Ultra Dual 64 GB USB 3.0 OTG Pen Drive (Black)', 'TP-Link Tapo 360° 2MP 1080p Full HD Pan/Tilt Home Security Wi-Fi Smart Camera| Alexa Enabled| 2-Way Audio| Night Vision| Motion Detection| Sound and Light Alarm| Indoor CCTV (Tapo C200) White', 'boAt Airdopes 171 in Ear Bluetooth True Wireless Earbuds with Upto 13 Hours Battery, IPX4, Bluetooth v5.0, Dual Tone Finish with Mic (Mysterious Blue)', 'Duracell Plus AAA Rechargeable Batteries (750 mAh) Pack of 4', 'tizum HDMI to VGA Adapter Cable 1080P for Projector, Computer, Laptop, TV, Projectors & TV', 'Samsung 80 cm (32 Inches) Wondertainment Series HD Ready LED Smart TV UA32T4340BKXXL (Glossy Black)', 'Logitech B100 Wired USB Mouse, 3 yr Warranty, 800 DPI Optical Tracking, Ambidextrous PC/Mac/Laptop - Black', 'Noise Pulse Buzz 1.69\" Bluetooth Calling Smart Watch with Call Function, 150 Watch Faces, 60 Sports Modes, Spo2 & Heart Rate Monitoring, Calling Smart Watch for Men & Women - Jet Black', 'Classmate 2100117 Soft Cover 6 Subject Spiral Binding Notebook, Single Line, 300 Pages', 'Flix Micro Usb Cable For Smartphone (Black)', 'AirCase Rugged Hard Drive Case for 2.5-inch Western Digital, Seagate, Toshiba, Portable Storage Shell for Gadget Hard Disk USB Cable Power Bank Mobile Charger Earphone, Waterproof (Black)', 'Noise Buds VS402 Truly Wireless in Ear Earbuds, 35-Hours of Playtime, Instacharge, Quad Mic with ENC, Hyper Sync, Low Latency, 10mm Driver, Bluetooth v5.3 and Breathing LED Lights (Neon Black)', 'JBL Go 2, Wireless Portable Bluetooth Speaker with Mic, JBL Signature Sound, Vibrant Color Options with IPX7 Waterproof & AUX (Blue)', 'Tizum High Speed HDMI Cable with Ethernet | Supports 3D 4K | for All HDMI Devices Laptop Computer Gaming Console TV Set Top Box (1.5 Meter/ 5 Feet)', 'Robustrion Tempered Glass Screen Protector for iPad 10.2 inch 9th Gen Generation 2021 8th Gen 2020 7th Gen 2019', 'Redgear Pro Wireless Gamepad with 2.4GHz Wireless Technology, Integrated Dual Intensity Motor, Illuminated Keys for PC(Compatible with Windows 7/8/8.1/10 only)', 'Logitech M235 Wireless Mouse, 1000 DPI Optical Tracking, 12 Month Life Battery, Compatible with Windows, Mac, Chromebook/PC/Laptop', 'STRIFF 12 Pieces Highly Flexible Silicone Micro USB Protector, Mouse Cable Protector, Suit for All Cell Phones, Computers and Chargers (White)', 'TP-link N300 WiFi Wireless Router TL-WR845N | 300Mbps Wi-Fi Speed | Three 5dBi high gain Antennas | IPv6 Compatible | AP/RE/WISP Mode | Parental Control | Guest Network', 'Logitech MK240 Nano Wireless USB Keyboard and Mouse Set, 12 Function Keys 2.4GHz Wireless, 1000DPI, Spill-Resistant Design, PC/Mac, Black/Chartreuse Yellow', 'Callas Multipurpose Foldable Laptop Table with Cup Holder | Drawer | Mac Holder | Table Holder Study Table, Breakfast Table, Foldable and Portable/Ergonomic & Rounded Edges/Non-Slip Legs (WA-27-Black)', 'Casio MJ-12D 150 Steps Check and Correct Desktop Calculator', 'Tukzer Capacitive Stylus Pen for Touch Screens Devices, Fine Point, Lightweight Metal Body with Magnetism Cover Cap for Smartphones/Tablets/iPad/iPad Pro/iPhone (Grey)', 'Amazon Basics Multipurpose Foldable Laptop Table with Cup Holder, Brown', 'Kanget [2 Pack] Type C Female to USB A Male Charger | Charging Cable Adapter Converter compatible for iPhone 14, 13, 12,11 Pro Max/Mini/XR/XS/X/SE, Samsung S20 ultra/S21/S10/S8/S9/MacBook Pro iPad (Grey)', 'Amazon Basics Magic Slate 8.5-inch LCD Writing Tablet with Stylus Pen, for Drawing, Playing, Noting by Kids & Adults, Black', 'Zebronics ZEB-90HB USB Hub, 4 Ports, Pocket Sized, Plug & Play, for Laptop & Computers', 'Noise ColorFit Pro 2 Full Touch Control Smart Watch with 35g Weight & Upgraded LCD Display,IP68 Waterproof,Heart Rate Monitor,Sleep & Step Tracker,Call & Message Alerts & Long Battery Life (Jet Black)', 'Zebronics Zeb Buds C2 in Ear Type C Wired Earphones with Mic, Braided 1.2 Metre Cable, Metallic Design, 10mm Drivers, in Line Mic & Volume Controller (Blue)', 'Redgear A-15 Wired Gaming Mouse with Upto 6400 DPI, RGB & Driver Customization for PC(Black)', 'JBL Commercial CSLM20B Auxiliary Omnidirectional Lavalier Microphone with Battery for Content Creation, Voiceover/Dubbing, Recording (Black,Small)', \"Fire-Boltt India's No 1 Smartwatch Brand Ring Bluetooth Calling with SpO2 & 1.7” Metal Body with Blood Oxygen Monitoring, Continuous Heart Rate, Full Touch & Multiple Watch Faces\", 'Eveready Red 1012 AAA Batteries - Pack of 10', 'SanDisk Extreme microSD UHS I Card 128GB for 4K Video on Smartphones,Action Cams 190MB/s Read,90MB/s Write', 'Portronics MPORT 31C 4-in-1 USB Hub (Type C to 4 USB-A Ports) with Fast Data Transfer', 'Infinity (JBL Fuze Pint, Wireless Ultra Portable Mini Speaker with Mic, Deep Bass, Dual Equalizer, Bluetooth 5.0 with Voice Assistant Support for Mobiles (Black)', 'AirCase Protective Laptop Bag Sleeve fits Upto 13.3\" Laptop/ MacBook, Wrinkle Free, Padded, Waterproof Light Neoprene case Cover Pouch, for Men & Women, Black- 6 Months Warranty', 'Brand Conquer 6 in 1 with OTG, SD Card Reader, USB Type C, USB 3.0 and Micro USB, for Memory Card | Portable Card Reader | Compatible with TF, SD, Micro SD, SDHC, SDXC, MMC, RS-MMC, Micro SDXC', 'TP-Link AC750 Dual Band Wireless Cable Router, 4 10/100 LAN + 10/100 WAN Ports, Support Guest Network and Parental Control, 750Mbps Speed Wi-Fi, 3 Antennas (Archer C20) Blue, 2.4 GHz', 'Parker Quink Ink Bottle, Blue', 'STRIFF Laptop Stand Adjustable Laptop Computer Stand Multi-Angle Stand Phone Stand Portable Foldable Laptop Riser Notebook Holder Stand Compatible for 9 to 15.6” Laptops Black(Black)', 'Logitech MK215 Wireless Keyboard and Mouse Combo for Windows, 2.4 GHz Wireless, Compact Design, 2-Year Battery Life(Keyboard),5 Month Battery Life(Mouse) PC/Laptop- Black', 'boAt Bassheads 225 in Ear Wired Earphones with Mic(Blue)', 'Luxor 5 Subject Single Ruled Notebook - A4, 70 GSM, 300 pages', 'Duracell Chhota Power AA Battery Set of 10 Pcs', 'Zebronics Zeb-Transformer Gaming Keyboard and Mouse Combo (USB, Braided Cable)', 'SanDisk Ultra 64 GB USB Pen Drives (SDDDC2-064G-I35, Black, Silver)', 'Parker Classic Gold Gold Trim Ball Pen', 'boAt Flash Edition Smart Watch with Activity Tracker, Multiple Sports Modes, 1.3\" Screen, 170+ Watch Faces, Sleep Monitor, Gesture, Camera & Music Control, IP68 & 7 Days Battery Life(Lightning Black)', 'Tarkan Portable Folding Laptop Desk for Bed, Lapdesk with Handle, Drawer, Cup & Mobile/Tablet Holder for Study, Eating, Work (Black)', 'Ambrane Unbreakable 3 in 1 Fast Charging Braided Multipurpose Cable for Speaker with 2.1 A Speed - 1.25 meter, Black', 'Quantum RJ45 Ethernet Patch Cable/LAN Router Cable with Heavy Duty Gold Plated Connectors Supports Hi-Speed Gigabit Upto 1000Mbps, Waterproof and Durable,1-Year Warranty-32.8 Feet (10 Meters)(White)', 'HP USB Wireless Spill Resistance Keyboard and Mouse Set with 10m Working Range 2.4G Wireless Technology / 3 Years Warranty (4SC12PA), Black', 'boAt A400 USB Type-C to USB-A 2.0 Male Data Cable, 2 Meter (Black)', 'HUMBLE Dynamic Lapel Collar Mic Voice Recording Filter Microphone for Singing Youtube SmartPhones, Black', 'Boult Audio Omega with 30dB ANC+ ENC, 32H Playtime, 45ms Latency Gaming Mode, Quad Mic Zen ENC, 3 Equalizer Modes, ANC, Type-C Fast Charging, IPX5 True Wireless in Ear Bluetooth Earbuds (Black)', 'STRIFF UPH2W Multi Angle Tablet/Mobile Stand. Holder for iPhone, Android, Samsung, OnePlus, Xiaomi. Portable,Foldable Stand.Perfect for Bed,Office, Home,Gift and Desktop (White)', 'Amazon Basics Wireless Mouse | 2.4 GHz Connection, 1600 DPI | Type - C Adapter | Upto 12 Months of Battery Life | Ambidextrous Design | Suitable for PC/Mac/Laptop', 'Crucial RAM 8GB DDR4 3200MHz CL22 (or 2933MHz or 2666MHz) Laptop Memory CT8G4SFRA32A', 'APC Back-UPS BX600C-IN 600VA / 360W, 230V, UPS System, an Ideal Power Backup & Protection for Home Office, Desktop PC & Home Electronics', 'Luxor 5 Subject Single Ruled Notebook - A5 Size, 70 GSM, 300 Pages', 'Zebronics Zeb-Jaguar Wireless Mouse, 2.4GHz with USB Nano Receiver, High Precision Optical Tracking, 4 Buttons, Plug & Play, Ambidextrous, for PC/Mac/Laptop (Black+Grey)', 'Boult Audio Truebuds with 30H Playtime, IPX7 Waterproof, Lightning Boult™ Type C Fast Charging (10 Min=100Mins), BoomX™ Tech Rich Bass, Pro+ Calling HD Mic, Touch Controls in Ear Earbuds TWS (Grey)', 'Wembley LCD Writing Pad/Tab | Writing, Drawing, Reusable, Portable Pad with Colorful Letters | 9 Inch Graphic Tablet (Assorted)', 'Gizga Essentials Multi-Purpose Portable & Foldable Wooden Desk for Bed Tray, Laptop Table, Study Table (Black)', 'E-COSMOS Plug in LED Night Light Mini USB LED Light Flexible USB LED Ambient Light Mini USB LED Light, LED Portable car Bulb, Indoor, Outdoor, Reading, Sleep (4 pcs)', 'Duracell USB C To Lightning Apple Certified (Mfi) Braided Sync & Charge Cable For Iphone, Ipad And Ipod. Fast Charging Lightning Cable, 3.9 Feet (1.2M) - Black', 'Noise Buds VS201 V2 in-Ear Truly Wireless Earbuds with Dual Equalizer | with Mic | Total 14-Hour Playtime | Full Touch Control | IPX5 Water Resistance and Bluetooth v5.1 (Olive Green)', 'Lapster Gel Mouse pad with Wrist Rest , Gaming Mouse Pad with Lycra Cloth Nonslip for Laptop , Computer, , Home & Office (Black)', 'Gizga Essentials Earphone Carrying Case, Multi-Purpose Pocket Storage Travel Organizer for Earphones, Headset, Pen Drives, SD Cards, Shock-Proof Ballistic Nylon, Soft Fabric, Mesh Pocket, Green', 'SanDisk Ultra SDHC UHS-I Card 32GB 120MB/s R for DSLR Cameras, for Full HD Recording, 10Y Warranty', 'DIGITEK® (DRL-14C) Professional (31cm) Dual Temperature LED Ring Light with Tripod Stand & Mini Tripod for YouTube, Photo-Shoot, Video Shoot, Live Stream, Makeup, Vlogging & More', 'Classmate Long Notebook - 140 Pages, Single Line, 297mm x 210mm (Pack of 12)', 'Lenovo 300 Wired Plug & Play USB Mouse, High Resolution 1600 DPI Optical Sensor, 3-Button Design with clickable Scroll Wheel, Ambidextrous, Ergonomic Mouse for Comfortable All-Day Grip (GX30M39704)', 'Dyazo 6 Angles Adjustable Aluminum Ergonomic Foldable Portable Tabletop Laptop/Desktop Riser Stand Holder Compatible for MacBook, HP, Dell, Lenovo & All Other Notebook (Silver)', 'Western Digital WD 2TB My Passport Portable Hard Disk Drive, USB 3.0 with\\xa0 Automatic Backup, 256 Bit AES Hardware Encryption,Password Protection,Compatible with Windows and Mac, External HDD-Black', 'Logitech C270 Digital HD Webcam with Widescreen HD Video Calling, HD Light Correction, Noise-Reducing Mic, for Skype, FaceTime, Hangouts, WebEx, PC/Mac/Laptop/MacBook/Tablet - (Black, HD 720p/30fps)', 'Portronics MPORT 31 4 Ports USB Hub (USB A to 4 USB-A Ports 4 in 1 Connector USB HUB(Grey)', 'AirCase Protective Laptop Bag Sleeve fits Upto 15.6\" Laptop/ MacBook, Wrinkle Free, Padded, Waterproof Light Neoprene case Cover Pouch, for Men & Women, Black- 6 Months Warranty', 'Zinq Five Fan Cooling Pad and Laptop Stand with Dual Height Adjustment and Dual USB Port Extension (Black)', 'Gizga Essentials Webcam Cover, Privacy Protector Webcam Cover Slide, Compatible with Laptop, Desktop, PC, Smartphone, Protect Your Privacy and Security, Strong Adhesive, Set of 3, Black', 'HP Z3700 Wireless Optical Mouse with USB Receiver and 2.4GHz Wireless Connection/ 1200DPI / 16 Months Long Battery Life /Ambidextrous and Slim Design (Modern Gold)', 'MAONO AU-400 Lavalier Auxiliary Omnidirectional Microphone (Black)', 'TABLE MAGIC Multipurpose Laptop Table Mat Finish Top Work at Home Study Table (TM Regular- Black) (Alloy Steel)', 'AmazonBasics USB 2.0 - A-Male to A-Female Extension Cable for Personal Computer, Printer (Black, 9.8 Feet/3 Meters)', 'GIZGA Essentials Portable Tabletop Tablet Stand Mobile Holder, Desktop Stand, Cradle, Dock for iPad, Smartphone, Kindle, E-Reader, Fully Foldable, Adjustable Angle, Anti-Slip Pads, Black', 'boAt Stone 650 10W Bluetooth Speaker with Upto 7 Hours Playback, IPX5 and Integrated Controls (Blue)', 'ESnipe Mart Worldwide Travel Adapter with Build in Dual USB Charger Ports with 125V 6A, 250V Protected Electrical Plug for Laptops, Cameras (White)', 'boAt Stone 180 5W Bluetooth Speaker with Upto 10 Hours Playback, 1.75\" Driver, IPX7 & TWS Feature(Black)', \"Portronics Ruffpad 8.5M Multicolor LCD Writing Pad with Screen 21.5cm (8.5-inch) for Drawing, Playing, Handwriting Gifts for Kids & Adults, India's first notepad to save and share your child's first creatives via Ruffpad app on your Smartphone(Black)\", 'BRUSTRO Copytinta Coloured Craft Paper A4 Size 80 GSM Mixed Bright Colour 40 Sheets Pack (10 cols X 4 Sheets) Double Side Color for Office Printing, Art and Craft.', 'Cuzor 12V Mini ups for WiFi Router | Power Backup up to 4 Hours | Replaceable Battery | Ups for Wi-Fi Router and Modem | Ups for Router up to 2A | ups for uninterrupted wi-fi', 'Crucial BX500 240GB 3D NAND SATA 6.35 cm (2.5-inch) SSD (CT240BX500SSD1)', 'Classmate Pulse Spiral Notebook - 240 mm x 180 mm, Soft Cover, 200 Pages, Unruled', 'Portronics My buddy plus Adjustable Laptop cooling Table (Brown)', 'ZEBRONICS Zeb-Evolve Wireless in Ear Neckband Earphone with Supporting Bluetooth v5.0, Voice Assistant, Rapid Charge, Call Function & Magnetic Earpiece, with mic (Metallic Blue)', 'INOVERA World Map Extended Anti Slip Rubber Gaming Stitched Mouse Pad Desk Mat for Computer Laptop (Black, 900L x 400B x 2H mm)', 'Seagate One Touch 2TB External HDD with Password Protection – Black, for Windows and Mac, with 3 yr Data Recovery Services, and 4 Months Adobe CC Photography (STKY2000400)', 'ZEBRONICS Zeb-Fame 5watts 2.0 Multi Media Speakers with AUX, USB and Volume Control (Black)', 'TVARA LCD Writing Tablet 8.5 Inch E-Note Pad LCD Writing Tablet, Kids Drawing Pad 8.5 Inch Doodle Board, Toddler Boy and Girl Learning Gift for 3 4 5 6 Years Old, Black', 'Ambrane 60W / 3A Type C Fast Charging Unbreakable 1.5m L Shaped Braided Cable, PD Technology, 480Mbps Data Transfer for Smartphones, Tablet, Laptops & other type c devices (ABLC10, Black)', 'Western Digital WD 1.5TB Elements Portable Hard Disk Drive, USB 3.0, Compatible with PC, PS4 and Xbox, External HDD (WDBU6Y0015BBK-WESN)', 'Redgear MP35 Speed-Type Gaming Mousepad (Black/Red)', 'Lenovo 400 Wireless Mouse, 1200DPI Optical Sensor, 2.4GHz Wireless Nano USB, 3-Button (Left,Right,Scroll) Upto 8M Left/Right & 100K Scroll clicks & 1yr Battery, Ambidextrous, Ergonomic GY50R91293', 'Logitech K480 Wireless Multi-Device Keyboard for Windows, macOS, iPadOS, Android or Chrome OS, Bluetooth, Compact, Compatible with PC, Mac, Laptop, Smartphone, Tablet - Black', 'Zoul USB C 60W Fast Charging 3A 6ft/2M Long Type C Nylon Braided Data Cable Quick Charger Cable QC 3.0 for Samsung Galaxy M31S M30 S10 S9 S20 Plus, Note 10 9 8, A20e A40 A50 A70 (2M, Grey)', 'RESONATE RouterUPS CRU12V2A | Zero Drop | UPS for WiFi Router | Mini UPS | Up to 4 Hours PowerBackup | Battery Replacement Program | Router UPS Compatible with 12V <2A Routers, FTTH, Modem, Set Top Box, Alexa, Mini Camera', '3M Post-it Sticky Note Cube, 200 Sheets (4 Colors x 50 Sheets) | 3\" x 3\" Size | For notes, reminders, study, school and organizing', 'OFIXO Multi-Purpose Laptop Table/Study Table/Bed Table/Foldable and Portable Wooden/Writing Desk (Wooden)', 'Fire-Boltt Ninja Calling 1.69\" Bluetooth Calling Smart Watch, Dial Pad, Speaker, AI Voice Assistant with 450 NITS Peak Brightness, Wrist Gaming & 100+ Watch Faces with SpO2, HR, Multiple Sports Mode', 'Airtel AMF-311WW Data Card (Black), 4g Hotspot Support with 2300 Mah Battery', 'Gizga Essentials Laptop Power Cable Cord- 3 Pin Adapter Isi Certified(1 Meter/3.3 Feet)', 'Logitech MK270r USB Wireless Keyboard and Mouse Set for Windows, 2.4 GHz Wireless, Spill-resistant Design, 8 Multimedia & Shortcut Keys, 2-Year Battery Life, PC/Laptop- Black', 'DIGITEK® (DTR-200MT) (18 CM) Portable & Flexible Mini Tripod with Mobile Holder & 360 Degree Ball Head, For Smart Phones, Compact Cameras, GoPro, Maximum Operating Height: 7.87 Inch, Maximum Load Upto: 1 kgs', 'FEDUS Cat6 Ethernet Cable, 10 Meter High Speed 550MHZ / 10 Gigabit Speed UTP LAN Cable, Network Cable Internet Cable RJ45 Cable LAN Wire, Patch Computer Cord Gigabit Category 6 Wires for Modem, Router', 'Samsung Original Type C to C Cable - 3.28 Feet (1 Meter), White', 'Kingston DataTraveler Exodia DTX/32 GB Pen Drive USB 3.2 Gen 1 (Multicolor)', 'Duracell Rechargeable AA 2500mAh Batteries, 4 Pcs', 'pTron Solero T351 3.5Amps Fast Charging Type-C to Type-C PD Data & Charging USB Cable, Made in India, 480Mbps Data Sync, Durable 1 Meter Long Cable for Type-C Smartphones, Tablets & Laptops (Black)', 'ENVIE® (AA10004PLNi-CD) AA Rechargeable Batteries, Low Self Discharge, AA 1000mAh Ni-CD (Pack of 4)', 'ZEBRONICS Zeb-Buds 30 3.5Mm Stereo Wired in Ear Earphones with Mic for Calling, Volume Control, Multifunction Button, 14Mm Drivers, Stylish Eartip,1.2 Meter Durable Cable and Lightweight Design(Red)', 'Amazonbasics Nylon Braided Usb-C To Lightning Cable, Fast Charging Mfi Certified Smartphone, Iphone Charger (6-Foot, Dark Grey)', 'Sounce 65W OnePlus Dash Warp Charge Cable, 6.5A Type-C to USB C PD Data Sync Fast Charging Cable Compatible with One Plus 8T/ 9/ 9R/ 9 pro/ 9RT/ 10R/ Nord & for All Type C Devices – Red, 1 Meter', 'LAPSTER Accessories Power Cable Cord 2 Pin Laptop Adapter and Tape Recorder 1.5M', \"Portronics Ruffpad 12E Re-Writable LCD Writing Pad with 30.4cm (12 inch) Writing Area, Single Tap Erase, Smart Lock, Long Battery Life, India's first notepad to save and share your child's first creatives via Ruffpad app on your Smartphone(Black)\", 'Verilux® USB C Hub Multiport Adapter- 6 in 1 Portable Aluminum Type C Hub with 4K HDMI Output, USB 2.0/3.0 Ports, SD/Micro SD Card Reader Compatible for MacBook Pro 2016-2020, MacBook Air 2018-2020, Type-C Devices', 'Zebronics Zeb Wonderbar 10 USB Powered 2.0 Computer Speaker with RGB Lights', 'HP Wired Mouse 100 with 1600 DPI Optical Sensor, USB Plug-and -Play,ambidextrous Design, Built-in Scrolling and 3 Handy Buttons. 3-Years Warranty (6VY96AA)', 'Anjaney Enterprise Smart Multipurpose Foldable Laptop Table with Cup Holder, Study Table, Bed Table, Breakfast Table, Foldable and Portable/Ergonomic & Rounded Edges/Non-Slip (Black)', 'ENVIE ECR-20 Charger for AA & AAA Rechargeable Batteries', 'ProElite Faux Leather Smart Flip Case Cover for Apple iPad 10.2\" 9th Gen (2021) / 8th Gen / 7th Gen with Stylus Pen, Black', 'Classmate Pulse 6 Subject Notebook - Unruled, 300 Pages, Spiral Binding, 240mm*180mm', 'Pentonic Multicolor Ball Point Pen, Pack of 10', 'Duracell Type C To Type C 5A (100W) Braided Sync & Fast Charging Cable, 3.9 Feet (1.2M). USB C to C Cable, Supports PD & QC 3.0 Charging, 5 GBPS Data Transmission – Black', 'AmazonBasics USB 2.0 Cable - A-Male to B-Male - for Personal Computer, Printer- 6 Feet (1.8 Meters), Black', 'Logitech Pebble M350 Wireless Mouse with Bluetooth or USB - Silent, Slim Computer Mouse with Quiet Click for Laptop, Notebook, PC and Mac - Graphite', 'Apsara Platinum Pencils Value Pack - Pack of 20', 'Zebronics Zeb-Power Wired USB Mouse, 3-Button, 1200 DPI Optical Sensor, Plug & Play, for Windows/Mac', 'Ant Esports GM320 RGB Optical Wired Gaming Mouse | 8 Programmable Buttons | 12800 DPI', 'Wecool Nylon Braided Multifunction Fast Charging Cable For Android Smartphone, Ios And Type C Usb Devices, 3 In 1 Charging Cable, 3A, (3 Feet) (Black)', 'Pilot V7 Liquid Ink Roller Ball Pen (2 Blue + 1 Black)', 'boAt Airdopes 191G True Wireless Earbuds with ENx™ Tech Equipped Quad Mics, Beast™ Mode(Low Latency- 65ms) for Gaming, 2x6mm Dual Drivers, 30H Playtime, IPX5, IWP™, Appealing Case LEDs(Sport Blue)', 'Boult Audio BassBuds Oak in-Ear Wired Earphones with 10mm Extra Bass Driver and HD Sound with mic(Brown)', 'IT2M Designer Mouse Pad for Laptop/Computer (9.2 X 7.6 Inches, 12788)', 'Noise ColorFit Ultra Buzz Bluetooth Calling Smart Watch with 1.75\" HD Display, 320x385 px Resolution, 100 Sports Modes, Stock Market Info Smartwatch for Men & Women (Olive Green)', 'Lapster Caddy for ssd and HDD, Optical Bay 2nd Hard Drive Caddy, Caddy 9.5mm for Laptop', 'SanDisk Extreme SD UHS I 64GB Card for 4K Video for DSLR and Mirrorless Cameras 170MB/s Read & 80MB/s Write', 'Fire-Boltt Ring Pro Bluetooth Calling, 1.75” 320*385px High Res, IP68 & SpO2 Monitoring, Pin Code Locking Functionality & Split Screen Access, Built in Mic & Speaker for HD Calls, Black, Free Size', 'Lenovo 600 Bluetooth 5.0 Silent Mouse: Compact, Portable, Dongle-Free Multi-Device connectivity with Microsoft Swift Pair | 3-Level Adjustable DPI up to 2400 | Battery Life: up to 1 yr', 'Boult Audio Airbass Propods X TWS Bluetooth Truly Wireless in Ear Earbuds with Mic, 32H Playtime, Fast Charging Type-C, Ipx5 Water Resistant, Touch Controls and Voice Assistant (Red)', 'Classmate Soft Cover 6 Subject Spiral Binding Notebook, Unruled, 300 Pages', 'TP-Link Nano AC600 USB Wi-Fi Adapter(Archer T2U Nano)- 2.4G/5G Dual Band Wireless Network Adapter for PC Desktop Laptop, Mini Travel Size, Supports Windows 11,10, 8.1, 8, 7, XP/Mac OS 10.9-10.15', 'LS LAPSTER Quality Assured Universal Silicone 15.6\" Keyboard Protector Skin|| Keyboard Dust Cover|| Keyboard Skin for 15.6\" Laptop| 15.6\" Keyguard| (3.93 x 11.81 x 0.39 inches)', 'KLAM LCD Writing Tablet Screenwriting Toys Board Smart Digital E-Note Pad 8.5 Inch Light Weight Magic Slate for Drawing Playing Noting by Kids and Adults Best Birthday Gift Girls Boys, Multicolor', 'CP PLUS 2MP Full HD Smart Wi-fi CCTV Security Camera | 360° with Pan Tilt | Two Way Talk | Cloud Monitor | Motion Detect | Night Vision | Supports SD Card (Up to 128 GB) | Alexa & Ok Google | CP-E21A', 'HP Deskjet 2331 Colour Printer, Scanner and Copier for Home/Small Office, Compact Size, Reliable, Easy Set-Up Through Smart App On Your Pc Connected Through USB, Ideal for Home.', 'D-Link DIR-615 Wi-fi Ethernet-N300 Single_band 300Mbps Router, Mobile App Support, Router | AP | Repeater | Client Modes(Black)', 'RPM Euro Games Gaming Mousepad Speed Type Extended Large (Size - 800 mm x 300 mm x 3 mm)', 'Wacom One by CTL-472/K0-CX Digital Drawing Graphics Pen Tablet (Red & Black) Small (6-inch x 3.5-inch)(15x8cm) | Battery Free Cordless Pen with 2048 Pressure Level', 'Lenovo 300 FHD Webcam with Full Stereo Dual Built-in mics | FHD 1080P 2.1 Megapixel CMOS Camera |Privacy Shutter | Ultra-Wide 95 Lens | 360 Rotation | Flexible Mount, Plug-n-Play | Cloud Grey', 'Parker Quink Ink Bottle (Black)', 'Sony WI-C100 Wireless Headphones with Customizable Equalizer for Deep Bass & 25 Hrs Battery, DSEE-Upscale, Splash Proof, 360RA, Fast Pair, in-Ear Bluetooth Headset with mic for Phone Calls (Black)', 'Zebronics, ZEB-NC3300 USB Powered Laptop Cooling Pad with Dual Fan, Dual USB Port and Blue LED Lights', 'D-Link DWA-131 300 Mbps Wireless Nano USB Adapter (Black)', 'Tukzer Gel Mouse Pad Wrist Rest Memory-Foam Ergonomic Mousepad| Cushion Wrist Support & Pain Relief| Suitable for Gaming, Computer, Laptop, Home & Office Non-Slip Rubber Base (Blue)', 'Infinity (JBL Glide 510, 72 Hrs Playtime with Quick Charge, Wireless On Ear Headphone with Mic, Deep Bass, Dual Equalizer, Bluetooth 5.0 with Voice Assistant Support (Black)', 'Robustrion Smart Trifold Hard Back Flip Stand Case Cover for Apple iPad 10.2 Cover iPad 9th Generation Cover 2021 8th Gen 2020 7th Gen 2019 Generation Case - Black', 'Amazonbasics Micro Usb Fast Charging Cable For Android Smartphone,Personal Computer,Printer With Gold Plated Connectors (6 Feet, Black)', 'Logitech M331 Silent Plus Wireless Mouse, 2.4GHz with USB Nano Receiver, 1000 DPI Optical Tracking, 3 Buttons, 24 Month Life Battery, PC/Mac/Laptop - Black', 'Camel Artist Acrylic Color Box - 9ml Tubes, 12 Shades', 'LIRAMARK Webcam Cover Slide, Ultra Thin Laptop Camera Cover Slide Blocker for Computer MacBook Pro iMac PC Tablet (Pack of 3)', 'Portronics Key2 Combo Multimedia USB Wireless Keyboard and Mouse Set with 2.4 GHz Wireless Technology, Soft & Silent Button, Compact Size (Grey)', 'SupCares Laptop Stand 7 Height Adjustable, Aluminium, Ventilated, Foldable, Portable Laptop Holder for Desk & Table Mount Upto 15.6 inch Laptop with Carry Pouch (Silver)', 'ZEBRONICS Zeb-Sound Bomb N1 True Wireless in Ear Earbuds with Mic ENC, Gaming Mode (up to 50ms), up to 18H Playback, BT V5.2, Fidget Case, Voice Assistant, Splash Proof, Type C (Midnight Black)', 'Western Digital WD Green SATA 240GB Internal SSD Solid State Drive - SATA 6Gb/s 2.5 inches - WDS240G3G0A', 'Classmate Octane Neon- 25 Blue Gel Pens | Smooth Writing Pens| Water-proof Ink For Smudge-free Writing| Preferred By Students For Exam & Class Notes| Study At Home Essential', 'TP-Link AC600 600 Mbps WiFi Wireless Network USB Adapter for Desktop PC with 2.4GHz/5GHz High Gain Dual Band 5dBi Antenna Wi-Fi, Supports Windows 11/10/8.1/8/7/XP, Mac OS 10.15 and earlier (Archer T2U Plus)', 'Classmate Octane Colour Burst-Multicolour Gel Pens (Pack of 10) | Gold & Silver Glitter Sparkle Pens|10 colour ink shades for art lovers and kids|Fun at home essentials', 'Tukzer Stylus Pen, iPad Pencil with Palm Rejection Tilt Sensor| 2nd Gen for 2018-2022 iPad 6/7/8/9th Gen; iPad 10.2\", Pro 12.9/11\", Mini 6/5th, Air 5/4/3rd, Precise for Writing/Drawing (3 Spare Tips)', 'Logitech G102 USB Light Sync Gaming Mouse with Customizable RGB Lighting, 6 Programmable Buttons, Gaming Grade Sensor, 8K DPI Tracking, 16.8mn Color, Light Weight - Black', 'AmazonBasics New Release Nylon USB-A to Lightning Cable Cord, Fast Charging MFi Certified Charger for Apple iPhone, iPad (6-Ft, Rose Gold)', 'Zebronics ZEB-VITA Wireless Bluetooth 10W Portable Bar Speaker With Supporting USB, SD Card, AUX, FM, TWS & Call Function', 'Lapster USB 3.0 sata Cable for 2.5 inch SSD and HDD , USB 3.0 to SATA III Hard Driver Adapter , sata to USB Cable-(Blue)', 'URBN 10000 mAh Lithium Power Bank UPR10K with 12 Watt Fast Charging, Blue', 'Qubo Smart Cam 360 from Hero Group | Made in India | 2MP 1080p Full HD | CCTV Wi-Fi Camera | 360 Degree Coverage| Two Way Talk | Mobile App Connectivity | Night Vision | Cloud & SD Card Recording', 'Duracell CR2025 3V Lithium Coin Battery, 5 pcs, 2025 Coin Button Cell Battery, DL2025', 'Camel Fabrica Acrylic Ultra Color - 15ml each, 10 Shades', 'Lenovo GX20L29764 65W Laptop Adapter/Charger with Power Cord for Select Models of Lenovo (Round pin) (Black)', 'Hp Wired On Ear Headphones With Mic With 3.5 Mm Drivers, In-Built Noise Cancelling, Foldable And Adjustable For Laptop/Pc/Office/Home/ 1 Year Warranty (B4B09Pa)', 'Redragon K617 Fizz 60% Wired RGB Gaming Keyboard, 61 Keys Compact Mechanical Keyboard w/White and Grey Color Keycaps, Linear Red Switch, Pro Driver/Software Supported', 'Ambrane Unbreakable 3A Fast Charging Braided Type C Cable    1.5 Meter (RCT15, Blue) Supports QC 2.0/3.0 Charging', 'HP GT 53 XL Cartridge Ink', 'Noise ColorFit Ultra Smart Watch with 1.75\" HD Display, Aluminium Alloy Body, 60 Sports Modes, Spo2, Lightweight, Stock Market Info, Calls & SMS Reply (Space Blue)', 'Zebronics Zeb-JUKEBAR 3900, 80W Multimedia soundbar with subwoofer Supporting Bluetooth, HDMI(ARC), Coaxial Input, AUX, USB & Remote Control (Black)', 'boAt Bassheads 102 Wired in Ear Earphones with Mic (Mint Green)', 'Duracell CR2016 3V Lithium Coin Battery, 5 pcs, 2016 Coin Button Cell Battery, DL2016', 'MI 360° Home Security Wireless Camera 2K Pro with Bluetooth Gateway BLE 4.2 l Dual Band Wi-fi Connection l 3 Million 1296p| Full Color in Low-Light | AI Human Detection, White', 'ZEBRONICS Zeb-100HB 4 Ports USB Hub for Laptop, PC Computers, Plug & Play, Backward Compatible - Black', 'Boult Audio Bass Buds Q2 Lightweight Stereo Wired Over Ear Headphones Set with Mic with Deep Bass, Comfortable Ear Cushions, & Long Cord (Black)', 'ESR Screen Protector Compatible with iPad Pro 11 Inch (2022/2021/2020/2018) and iPad Air 5/4 (2022/2020, 10.9 Inch), Tempered-Glass Film with Alignment Frame, Scratch Resistant, HD Clarity, 2 Pack', 'boAt Rockerz 400 Bluetooth On Ear Headphones With Mic With Upto 8 Hours Playback & Soft Padded Ear Cushions(Grey/Green)', 'Parker Vector Standard Chrome Trim Ball Pen (Ink - Black)', 'Silicone Rubber Earbuds Tips, Eartips, Earpads, Earplugs, for Replacement in Earphones and Bluetooth Medium Size (10 Pcs Black)', 'Canon PIXMA MG2577s All-in-One Inkjet Colour Printer with 1 Additional Colour Cartridge', 'Samsung 24-inch(60.46cm) FHD Monitor, IPS, 75 Hz, Bezel Less Design, AMD FreeSync, Flicker Free, HDMI, D-sub, (LF24T350FHWXXL, Dark Blue Gray)', 'AirCase Protective Laptop Bag Sleeve fits Upto 14.1\" Laptop/ MacBook, Wrinkle Free, Padded, Waterproof Light Neoprene case Cover Pouch, for Men & Women, Black- 6 Months Warranty', 'Faber-Castell Connector Pen Set - Pack of 25 (Assorted)', 'Wecool Unbreakable 3 in 1 Charging Cable with 3A Speed, Fast Charging Multi Purpose Cable 1.25 Mtr Long, Type C cable, Micro Usb Cable and Cable for iPhone, White', 'Zinq UPS for Router, Mini UPS for 12V WiFi Router Broadband Modem with Upto 4 Hours Power Backup, Upto 2Amp, Works with Existing Adapter, Also Works with Set-top Box, Smart Camera, CCTV (Black)', 'SaleOn™ Portable Storage Organizer Bag for Earphone USB Cable Power Bank Mobile Charger Digital Gadget Hard Disk, Water Resistance Material - Dark Grey', 'Portronics Konnect L 1.2Mtr, Fast Charging 3A Micro USB Cable with Charge & Sync Function (Grey)', 'RPM Euro Games Laptop/PC Controller Wired for Windows - 7, 8, 8.1, 10 and XP, Ps3(Upgraded with XYAB Buttons)', 'realme Buds Wireless in Ear Bluetooth Earphones with mic, 11.2mm Bass Boost Driver, Magnetic Fast Pair, Fast Charging and 12 Hrs Playtime (Yellow)', 'TVARA LCD Writing Tablet, 8.5\" Inch Colorful Toddler Doodle Board Drawing Tablet, Erasable Reusable Electronic Drawing Pads, Educational and Learning Tool for 3-6 Years Old Boy and Girls Mix Colors', 'Wings Phantom Pro Earphones Gaming Earbuds with LED Battery Indicator, 50ms Low Latency, Bluetooth 5.3, 40 Hours Playtime, MEMs Mic, IPX4 Resist, 12mm Driver, 500mah case, Headphones, (Black TWS)', 'Robustrion [Anti-Scratch] & [Smudge Proof] [S Pen Compatible] Premium Tempered Glass Screen Protector for Samsung Tab S6 Lite 10.4 inch SM-P610/615 [Bubble Free]', 'Cablet 2.5 Inch SATA USB 3.0 HDD/SSD Portable External Enclosure for 7mm and 9.5mm, Tool-Free Design, Supports UASP Max 6TB', 'SanDisk 1TB Extreme Portable SSD 1050MB/s R, 1000MB/s W,Upto 2 Meter Drop Protection with IP55 Water/dust Resistance, HW Encryption, PC,MAC & TypeC Smartphone Compatible, 5Y Warranty, External SSD', 'ZEBRONICS Zeb-Warrior II 10 watts 2.0 Multimedia Speaker with RGB Lights, USB Powered, AUX Input, Volume Control Pod for PC, Laptops, Desktop', 'TP-Link UE300C USB Type-C to RJ45 Gigabit Ethernet Network Adapter/RJ45 LAN Wired Adapter for Ultrabook, Chromebook, Laptop, Desktop, Plug & Play, USB 3.0, Foldable and Portable Design', 'Lapster 1.5 mtr USB 2.0 Type A Male to USB A Male Cable for computer and laptop', 'Wecool Moonwalk M1 ENC True Wireless in Ear Earbuds with Mic, Titanium Drivers for Rich Bass Experience, 40+ Hours Play Time, Type C Fast Charging, Low Latency, BT 5.3, IPX5, Deep Bass (Black)', 'HP 330 Wireless Black Keyboard and Mouse Set with Numeric Keypad, 2.4GHz Wireless Connection and 1600 DPI, USB Receiver, LED Indicators , Black(2V9E6AA)', 'RC PRINT GI 790 Ink Refill for Canon G1000, G1010, G1100, G2000, G2002, G2010, G2012, G2100, G3000, G3010, G3012, G3100, G4000, G4010', 'Redgear Cloak Wired RGB Wired Over Ear Gaming Headphones with Mic for PC', 'AmazonBasics USB Type-C to USB Type-C 2.0 Cable - 3 Feet Laptop (0.9 Meters) - White', 'Wayona Type C To Type C 65W/3.25A Nylon Braided Fast Charging Cable Compatible For Laptop, Macbook, Samsung Galaxy M33 M53 M51 S20 Ultra, A71, A53, A51, Ipad Pro 2018 (1M, Grey)', \"Amazfit GTS2 Mini (New Version) Smart Watch with Always-on AMOLED Display, Alexa Built-in, SpO2, 14 Days' Battery Life, 68 Sports Modes, GPS, HR, Sleep & Stress Monitoring (Meteor Black)\", 'Tabelito® Polyester Foam, Nylon Hybrid laptopss Bag Sleeve Case Cover Pouch for laptopss Apple/Dell/Lenovo/ Asus/ Hp/Samsung/Mi/MacBook/Ultrabook/Thinkpad/Ideapad/Surfacepro (15.6 inches /39.6cm, Blue) laptopsss', 'Robustrion Anti-Scratch & Smudge Proof Tempered Glass Screen Protector for Xiaomi Mi Pad 5 11 inch', 'Portronics Ruffpad 15 Re-Writable LCD Screen 38.1cm (15-inch) Writing Pad for Drawing, Playing, Handwriting Gifts for Kids & Adults (Grey)', 'DIGITEK® (DLS-9FT) Lightweight & Portable Aluminum Alloy Light Stand for Ring Light, Reflector, Flash Units, Diffuser, Portrait, Softbox, Studio Lighting & More Ideal for Outdoor & Indoor Shoots', 'Classmate Pulse 1 Subject Notebook - 240mm x 180mm , Soft Cover, 180 Pages, Single Line, Pack of 4', 'Scarters Mouse Pad, Desk Mat Extended for Work from Home/Office/Gaming | Vegan PU Leather | Anti-Skid, Anti-Slip, Reversible Splash-Proof – Deskspread ~ Navy Blue & Yellow', 'Casio MJ-120D 150 Steps Check and Correct Desktop Calculator with Tax Keys, Black', 'Redmi 80 cm (32 inches) Android 11 Series HD Ready Smart LED TV | L32M6-RA/L32M7-RA (Black)', 'Gizga Essentials Laptop Bag Sleeve Case Cover Pouch with Handle for 14.1 Inch Laptop for Men & Women, Padded Laptop Compartment, Premium Zipper Closure, Water Repellent Nylon Fabric, Grey', 'Parker Vector Camouflage Gift Set - Roller Ball Pen & Parker Logo Keychain (Black Body, Blue Ink), 2 Piece Set', 'TP-Link AC1200 Archer A6 Smart WiFi, 5GHz Gigabit Dual Band MU-MIMO Wireless Internet Router, Long Range Coverage by 4 Antennas, Qualcomm Chipset', 'CEDO 65W OnePlus Dash Warp Charge Cable, USB A to Type C Data Sync Fast Charging Cable Compatible with One Plus 3 /3T /5 /5T /6 /6T /7 /7T /7 pro & for All Type C Devices - 1 Meter, Red', 'HP Deskjet 2723 AIO Printer, Copy, Scan, WiFi, Bluetooth, USB, Simple Setup Smart App, Ideal for Home.', 'Oraimo 18W USB & Type-C Dual Output Super Fast Charger Wall Adapter PE2.0&Quick Charge 3.0 & Power Delivery 3.0 Compatible for iPhone 13/13 Mini/13 Pro Max/12/12 Pro Max, iPad Mini/Pro, Pixel, Galaxy, Airpods Pro', 'Xiaomi Mi 4A Dual_Band Ethernet 1200Mbps Speed Router| 2.4GHz & 5GHz Frequency|128MB RAM | DualCore 4 Thread CPU|4 Omni Directional Antenna|Mi Wi-Fi app-Parental Control & Anti Hacking|Repeater, White', 'SLOVIC® Tripod Mount Adapter| Tripod Mobile Holder|Tripod Phone Mount(Made in India)| Smartphone Clip Clipper 360 Degree for Taking Magic Video Shots & Pictures.', 'Sounce Gold Plated 3.5 mm Headphone Splitter for Computer 2 Male to 1 Female 3.5mm Headphone Mic Audio Y Splitter Cable Smartphone Headset to PC Adapter – (Black,20cm)', 'Orico 2.5\"(6.3cm) USB 3.0 HDD Enclosure Case Cover for SATA SSD HDD | SATA SSD HDD Enclosure High Speed USB 3.0 | Tool Free Installation | Black', 'Logitech G402 Hyperion Fury USB Wired Gaming Mouse, 4,000 DPI, Lightweight, 8 Programmable Buttons, Compatible for PC/Mac - Black', 'Panasonic Eneloop BQ-CC55N Advanced, Smart and Quick Charger for AA & AAA Rechargeable Batteries, White', 'Logitech K380 Wireless Multi-Device Keyboard for Windows, Apple iOS, Apple TV Android or Chrome, Bluetooth, Compact Space-Saving Design, PC/Mac/Laptop/Smartphone/Tablet (Dark Grey)', 'Canon PIXMA E477 All-in-One Wireless Ink Efficient Colour Printer (White/Blue)', 'Portronics Konnect L 20W PD Quick Charge Type-C to 8-Pin USB Mobile Charging Cable, 1.2M, Tangle Resistant, Fast Data Sync(Grey)', 'Redgear Cosmo 7,1 Usb Gaming Wired Over Ear Headphones With Mic With Virtual Surround Sound,50Mm Driver, Rgb Leds & Remote Control(Black)', 'Belkin Essential Series 4-Socket Surge Protector Universal Socket with 5ft Heavy Duty Cable (Grey)', 'Classmate Long Book - Unruled, 160 Pages, 314 mm x 194 mm - Pack Of 3', 'Artis AR-45W-MG2 45 Watts MG2 Laptop Adapter/Charger Compatible with MB Air 13” & MB Air 11” (14.5 V, 3.1 A) Connector: MG2 (T Tip Connector)', 'Imou 360° 1080P Full HD Security Camera, Human Detection, Motion Tracking, 2-Way Audio, Night Vision, Dome Camera with WiFi & Ethernet Connection, Alexa Google Assistant, Up to 256GB SD Card Support', 'Amazon Basics USB Type-C to USB-A 2.0 Male Fast Charging Cable for Laptop - 3 Feet (0.9 Meters), Black', 'E-COSMOS 5V 1.2W Portable Flexible USB LED Light (Colours May Vary, Small, EC-POF1)', 'Xiaomi Pad 5| Qualcomm Snapdragon 860| 120Hz Refresh Rate| 6GB, 128GB| 2.5K+ Display (10.95-inch/27.81cm)|1 Billion Colours| Dolby Vision Atmos| Quad Speakers| Wi-Fi| Gray', 'Sennheiser CX 80S in-Ear Wired Headphones with in-line One-Button Smart Remote with Microphone Black', 'HB Plus Folding Height Adjustable Aluminum Foldable Portable Adjustment Desktop Laptop Holder Riser Stand', 'oraimo 65W Type C to C Fast Charging Cable USB C to USB C Cable High Speed Syncing, Nylon Braided 1M length with LED Indicator Compatible For Laptop, Macbook, Samsung Galaxy S22 S20 S10 S20Fe S21 S21 Ultra A70 A51 A71 A50S M31 M51 M31S M53 5G', 'HP 65W AC Laptops Charger Adapter 4.5mm for HP Pavilion Black (Without Power Cable)', 'Tukzer Fully Foldable Tabletop Desktop Tablet Mobile Stand Holder - Angle & Height Adjustable for Desk, Cradle, Dock, Compatible with Smartphones & Tablets (White)', 'Gizga Essentials Cable Organiser, Cord Management System for PC, TV, Home Theater, Speaker & Cables, Reusable Cable Organizer for Desk, WFH Accessories, Organizer Tape Roll, Reusable Cable Ties Strap', 'Pinnaclz Original Combo of 2 Micro USB Fast Charging Cable, USB Charging Cable for Data Transfer Perfect for Android Smart Phones White 1.2 Meter Made in India (Pack of 2)', 'Camel Oil Pastel with Reusable Plastic Box - 50 Shades', 'boAt Type C A750 Stress Resistant, Tangle-free, Sturdy Flat Cable with 6.5A Fast Charging & 480Mbps Data Transmission, 10000+ Bends Lifespan and Extended 1.5m Length(Rebellious Black)', 'HP M270 Backlit USB Wired Gaming Mouse with 6 Buttons, 4-Speed Customizable 2400 DPI, Ergonomic Design, Breathing LED Lighting, Metal Scroll Wheel, Lightweighted / 3 Years Warranty (7ZZ87AA), Black', 'Foxin FTC 12A / Q2612A Black Laser Toner Cartridge Compatible with Laserjet 1020,M1005,1018,1010,1012,1015,1020 Plus,1022,3015,3020,3030,3050, 3050Z, 3052,3055 (Black)', 'Robustrion [Anti-Scratch] & [Smudge Proof] [Bubble Free] Premium Tempered Glass Screen Protector Guard for Samsung Galaxy Tab A8 10.5 inch [SM-X200/X205/X207] 2022', 'PC SQUARE Laptop Tabletop Stand/ Computer Tablet Stand 6 Angles Adjustable Aluminum Ergonomic Foldable Portable Desktop Holder Compatible with MacBook, HP, Dell, Lenovo & All Other Notebook (Silver)', 'Ambrane 2 in 1 Type-C & Micro USB Cable with 60W / 3A Fast Charging, 480 mbps High Data, PD Technology & Quick Charge 3.0, Compatible with All Type-C & Micro USB Devices (ABDC-10, Black)', 'Lenovo 130 Wireless Compact Mouse, 1K DPI Optical sensor, 2.4GHz Wireless NanoUSB, 10m range, 3button(left,right,scroll) upto 3M left/right clicks, 10 month battery, Ambidextrous, Ergonomic GY51C12380', 'Ambrane 60W / 3A Fast Charging Output Cable with Type-C to USB for Mobile, Neckband, True Wireless Earphone Charging, 480mbps Data Sync Speed, 1m Length (ACT - AZ10, Black)', 'Pilot Frixion Clicker Roller Pen (Blue), (9000019529)', 'ZEBRONICS Aluminium Alloy Laptop Stand, Compatible with 9-15.6 inch Laptops, 7 Angles Adjustable, Anti Slip Silicon Rubber Pads, Foldable, Velvet Pouch Inside, Zeb-NS2000 (Dark Grey)', 'HP K500F Backlit Membrane Wired Gaming Keyboard with Mixed Color Lighting, Metal Panel with Logo Lighting, 26 Anti-Ghosting Keys, and Windows Lock Key / 3 Years Warranty(7ZZ97AA)', 'GIZGA Club-laptop Neoprene Reversible for 15.6-inches Laptop Sleeve - Black-Red', 'Inventis 5V 1.2W Portable Flexible USB LED Light Lamp (Colors may vary)', 'TP-Link TL-WA855RE 300 Mbps Wi-Fi Range Extender (White)', 'boAt Stone 250 Portable Wireless Speaker with 5W RMS Immersive Audio, RGB LEDs, Up to 8HRS Playtime, IPX7 Water Resistance, Multi-Compatibility Modes(Black)', 'SWAPKART Fast Charging Cable and Data Sync USB Cable Compatible for iPhone 6/6S/7/7+/8/8+/10/11, 12, 13 Pro max iPad Air/Mini, iPod and iOS Devices (White)', 'Offbeat® - DASH 2.4GHz Wireless + Bluetooth 5.1 Mouse, Multi-Device Dual Mode Slim Rechargeable Silent Click Buttons Wireless Bluetooth Mouse, 3 Adjustable DPI, Works on 2 devices at the same time with a switch button for Windows/Mac/Android/Ipad/Smart TV', 'Classmate Drawing Book - Unruled, 40 Pages, 210 mm x 297 mm - Pack Of 4', 'HP GK320 Wired Full Size RGB Backlight Mechanical Gaming Keyboard, 4 LED Indicators, Mechanical Switches, Double Injection Key Caps, and Windows Lock Key(4QN01AA)', 'Parker Moments Vector Timecheck Gold Trim Roller Ball Pen (Black)', 'Camlin Elegante Fountain Pen - Black/Blue/Red', 'CARECASE® Optical Bay 2nd Hard Drive Caddy, 9.5 mm CD/DVD Drive Slot for SSD and HDD', 'WeCool S5 Long Selfie Stick, with Large Reinforced Tripod Stand up to 61 Inch / 156 Cms, Ultra Long Multi Function Bluetooth Selfie Stick with 1/4 Screw Compatible with Gopro, Camera, and Ring Light', 'Canon E4570 All-in-One Wi-Fi Ink Efficient Colour Printer with FAX/ADF/Duplex Printing (Black)- Smart Speaker Compatible, Standard', 'Crucial P3 500GB PCIe 3.0 3D NAND NVMe M.2 SSD, up to 3500MB/s - CT500P3SSD8', 'Wayona Usb Type C Fast Charger Cable Fast Charging Usb C Cable/Cord Compatible For Samsung Galaxy S10E S10 S9 S8 Plus S10+,Note 10 Note 9 Note 8,S20,M31S,M40,Realme X3,Pixel 2 Xl (3 Ft Pack Of 1,Grey)', 'HP v222w 64GB USB 2.0 Pen Drive (Silver)', 'Duracell Ultra Alkaline D Battery, 2 Pcs', 'BESTOR® LCD Writing Tablet/pad 12 inches | Electronic Writing Scribble Board for Kids | Kids Learning Toy | Portable Ruff for LCD Paperless Memo Digital Tablet Notepad E-Writer/Writing/Drawing Pad Home/School/Office (Black)', 'Lenovo IdeaPad 3 11th Gen Intel Core i3 15.6\" FHD Thin & Light Laptop(8GB/512GB SSD/Windows 11/Office 2021/2Yr Warranty/3months Xbox Game Pass/Platinum Grey/1.7Kg), 81X800LGIN', 'boAt BassHeads 900 On-Ear Wired Headphones with Mic (White)', 'Zebronics Astra 10 Portable Wireless BT v5.0 Speaker, 10W RMS Power, 15* Hours Backup, 2.25\" Drive Size, up to 6.4\" Mobile Holder Support, Carry Handle, USB, mSD, AUX Input and FM Radio with Antenna', 'KINGONE Wireless Charging Pencil (2nd Generation) for iPad with Magnetic and Tilt Sensitive, Palm Rejection, Compatible with Apple iPad Pro 11 inch 1/2/3/4, iPad Pro 12.9 Inch 3/4/5/6, iPad Air 4/5, mini6', 'Lapster 65W compatible for OnePlus Dash Warp Charge Cable , type c to c cable fast charging Data Sync Cable Compatible with One Plus 10R / 9RT/ 9 pro/ 9R/ 8T/ 9/ Nord & for All Type C Devices – Red, 1 Meter', 'Gizga Essentials USB WiFi Adapter for PC, 150 Mbps Wireless Network Adapter for Desktop - Nano Size WiFi Dongle Compatible with Windows, Mac OS & Linux Kernel | WPA/WPA2 Encryption Standards| Black', 'SWAPKART Portable Flexible Adjustable Eye Protection USB LED Desk Light Table Lamp for Reading, Working on PC, Laptop, Power Bank, Bedroom ( Multicolour )', 'Infinity (JBL Fuze 100, Wireless Portable Bluetooth Speaker with Mic, Deep Bass, Dual Equalizer, IPX7 Waterproof, Rugged Fabric Design (Black)', 'Pigeon by Stovekraft Amaze Plus Electric Kettle (14289) with Stainless Steel Body, 1.5 litre, used for boiling Water, making tea and coffee, instant noodles, soup etc. 1500 Watt (Silver)', 'USHA Quartz Room Heater with Overheating Protection (3002, Ivory, 800 Watts)', 'Amazon Brand - Solimo 2000/1000 Watts Room Heater with Adjustable Thermostat (ISI certified, White colour, Ideal for small to medium room/area)', 'StyleHouse Lint Remover for Woolen Clothes, Electric Lint Remover, Best Lint Shaver for Clothes', 'beatXP Kitchen Scale Multipurpose Portable Electronic Digital Weighing Scale | Weight Machine With Back light LCD Display | White |10 kg | 2 Year Warranty |', 'Glun Multipurpose Portable Electronic Digital Weighing Scale Weight Machine (10 Kg - with Back Light)', 'Pigeon Polypropylene Mini Handy and Compact Chopper with 3 Blades for Effortlessly Chopping Vegetables and Fruits for Your Kitchen (12420, Green, 400 ml)', 'Prestige 1.5 Litre Kettle 1500-watts, Red', 'Bajaj RHX-2 800-Watt Room Heater (White)', 'Prestige Electric Kettle PKOSS - 1500watts, Steel (1.5Ltr), Black', 'Pigeon by Stovekraft Cruise 1800 watt Induction Cooktop (Black)', 'Prestige PKGSS 1.7L 1500W Electric Kettle (Stainless Steel)', 'SHOPTOSHOP Electric Lint Remover, Best Lint Shaver for Clothes,Lint Remover for Woolen Clothes ,Lint Remover for Sweaters', 'Orpat OEH-1260 2000-Watt Fan Heater (Grey)', 'PRO365 Indo Mocktails/Coffee Foamer/Cappuccino/Lemonade/Milk Frother (6 Months Warranty)', 'Bajaj DX-6 1000W Dry Iron with Advance Soleplate and Anti-bacterial German Coating Technology, White', 'Croma 500W Mixer Grinder with 3 Stainless Steel Leak-proof Jars, 3 speed & Pulse function, 2 years warranty (CRAK4184, White & Purple)', 'Havells Instanio 3-Litre Instant Geyser (White/Blue)', 'Morphy Richards OFR Room Heater, 09 Fin 2000 Watts Oil Filled Room Heater , ISI Approved (OFR 9 Grey)', 'Havells Aqua Plus 1.2 litre Double Wall Kettle / 304 Stainless Steel Inner Body / Cool touch outer body / Wider mouth/ 2 Year warranty (Black, 1500 Watt)', 'Bajaj Splendora 3 Litre 3KW IWH Instant Water Heater (Geyser), White', 'KENT 16052 Elegant Electric Glass Kettle 1.8L 2000 W | Blue LED Illumination | Borosilicate Glass Body | Boil Drying Protection | Used as Boiler | Milk | Tea | Water & Soup | 1 Year Warranty', 'Bajaj New Shakti Neo 15L Vertical Storage Water Heater (Geyser 15 litres) 4 Star BEE Rated Heater For Water Heating with Titanium Armour, Swirl Flow Technology, Glasslined Tank (White), 1 Yr Warranty', 'Lifelong LLMG23 Power Pro 500-Watt Mixer Grinder with 3 Jars (Liquidizing, Wet Grinding and Chutney Jar), Stainless Steel blades, 1 Year Warranty (Black)', 'Bajaj Majesty DX-11 1000W Dry Iron with Advance Soleplate and Anti-bacterial German Coating Technology, White and Blue', 'Bajaj Rex 500W Mixer Grinder with Nutri-Pro Feature, 3 Jars, White', 'Lifelong LLEK15 Electric Kettle 1.5L with Stainless Steel Body, Easy and Fast Boiling of Water for Instant Noodles, Soup, Tea etc. (1 Year Warranty, Silver)', 'Lifelong LLQH922 Regalia 800 W (ISI Certified) Quartz Room Heater with 2 Power settings, Overheating Protection, 2 Rod Heater (1 Year Warranty, White)', 'R B Nova Lint/Fabric Shaver for Cloths, Lint Remover for Woolen Sweaters, Blankets, Jackets/Burr Remover Pill Remover from Carpets, Pack of 1', 'Bajaj Immersion Rod Water Heater 1500 Watts, Silver', 'INALSA Electric Kettle 1.5 Litre with Stainless Steel Body - Absa|Auto Shut Off & Boil Dry Protection Safety Features| Cordless Base & Cord Winder|Hot Water Kettle |Water Heater Jug', 'Prestige PIC 20 1600 Watt Induction Cooktop with Push button (Black)', 'Pigeon Healthifry Digital Air Fryer, 360° High Speed Air Circulation Technology 1200 W with Non-Stick 4.2 L Basket - Green', 'PrettyKrafts Laundry Basket for clothes with Lid & Handles, Toys Organiser, 75 Ltr Black & Grey', 'Philips GC1905 1440-Watt Steam Iron with Spray (Blue)', 'Havells Immersion HB15 1500 Watt (White Blue)', 'AGARO LR2007 Lint Remover, Rechargeable, for Woolen Sweaters, Blankets, Jackets, Burr Remover, Pill Remover From Carpets, Curtains', 'Pigeon 1.5 litre Hot Kettle and Stainless Steel Water Bottle Combo used for boiling Water, Making Tea and Coffee, Instant Noodles, Soup, 1500 Watt with Auto Shut- off Feature - (Silver)', 'NutriPro Juicer Mixer Grinder - Smoothie Maker - 500 Watts (3 Jars 2 Blades)', 'Philips GC026/30 Fabric Shaver, Lint Remover for Woolen Sweaters, Blankets, Jackets/Burr Remover Pill Remover from Carpets, Curtains (White)', 'Havells Cista Room Heater, White, 2000 Watts', 'AGARO Regal 800 Watts Handheld Vacuum Cleaner, Lightweight & Durable Body, Small/Mini Size ( Black)', 'Philips Viva Collection HD4928/01 2100-Watt Induction Cooktop with Feather Touch Sensor and Crystal Glass Plate (Black)', 'Pigeon By Stovekraft ABS Plastic Acer Plus Induction Cooktop 1800 Watts With Feather Touch Control - Black', 'AGARO Esteem Multi Kettle 1.2 Litre, 600W with 3 Heating Modes & Rapid Boil Technology', 'Bajaj Minor 1000 Watts Radiant Room Heater (Steel, ISI Approved)', 'Butterfly Jet Elite Mixer Grinder, 750W, 4 Jars (Grey)', 'SOFLIN Egg Boiler Electric Automatic Off 7 Egg Poacher for Steaming, Cooking, Boiling and Frying (400 Watts, Blue)', 'Lifelong LLQH925 Dyno Quartz Heater 2 Power settings Tip Over Cut-off Switch 800 Watt Silent operation Power Indicator 2 Rod Room Heater (1 Year Warranty, Grey)', 'Amazon Basics 1500 W Electric Kettle (Stainless Steel Body, 1.5 L)', 'Prestige Sandwich Maker PGMFD 01, Black', 'Orient Electric Fabrijoy DIFJ10BP 1000-Watt Dry Iron, Non-Stick (White and Blue)', 'Lifelong LLFH921 Regalia 2000 W Fan Heater, 3 Air Settings, Room Heater with Overheating Protection, 1 Year Warranty ( White, (ISI Certified, Ideal for small to medium room/area)', 'Philips GC181 Heavy Weight 1000-Watt Dry Iron, Pack of 1', 'Bulfyss USB Rechargeable Lint Remover Fabric Shaver Pet Hair Remover, Effectively and Quickly Remove Fuzz for Clothes, Sweater, Couch, Sofa, Blanket, Curtain, Wool, Cashmere (Grey, 1 Year Warranty)', 'Bajaj DX-7 1000W Dry Iron with Advance Soleplate and Anti-bacterial German Coating Technology, White', 'Bajaj New Shakti Neo 25L Vertical Storage Water Heater (Geyser 25 Litres) 4 Star BEE Rated Heater For Water Heating with Titanium Armour, Swirl Flow Technology, Glasslined Tank(White), 1 Yr Warranty', 'PHILIPS Handheld Garment Steamer STH3000/20 - Compact & Foldable, Convenient Vertical Steaming, 1000 Watt Quick Heat Up, up to 20g/min, Kills 99.9%* Bacteria (Reno Blue), Small', 'Room Heater Warmer Wall-Outlet 400 Watts Electric Handy Room Heater (Room Heaters Home for Bedroom, Reading Books, Work, bathrooms, Rooms, Offices, Home Offices,2022', 'Wonderchef Nutri-blend Mixer, Grinder & Blender | Powerful 400W 22000 RPM motor | Stainless steel Blades | 2 unbreakable jars | 2 Years warranty | Online recipe book by Chef Sanjeev Kapoor | Black', 'USHA Armor AR1100WB 1100 W Dry Iron with Black Weilburger Soleplate (Purple)', 'Butterfly EKN 1.5-Litre Electric Kettle (Silver with Black)', 'Crompton Arno Neo 15-L 5 Star Rated Storage Water Heater (Geyser) with Advanced 3 Level Safety (Grey)', 'Borosil Chef Delite BCH20DBB21 300-Watt Chopper (Black)', 'KENT 16055 Amaze Cool Touch Electric Kettle 1.8 L 1500 W | Plastic Outer & Stainless Steel Inside body | Auto shut off Over heating protection | Multipurpose hot water Kettle | 1 Year Warranty', 'Prestige IRIS Plus 750 watt mixer grinder', 'Simxen Egg Boiler Electric Automatic Off 7 Egg Poacher for Steaming, Cooking Also Boiling and Frying 400 W (Blue, Pink)', 'Amazon Basics 2000/1000 Watt Room Heater with Adjustable Thermostat (ISI certified, White color, Ideal for small to medium room/area)', 'HealthSense Weight Machine for Kitchen, Kitchen Food Weighing Scale for Health, Fitness, Home Baking & Cooking with Hanging Design, Touch Button, Tare Function & 1 Year Warranty – Chef-Mate KS 40', 'Bajaj New Shakti Neo 10L Vertical Storage Water Heater (Geyser 10 Litres) 4 Star BEE Rated Heater For Water Heating with Titanium Armour, Swirl Flow Technology, Glasslined Tank(White), 1 Yr Warranty', 'Bosch Pro 1000W Mixer Grinder MGM8842MIN - Black', 'Bulfyss Stainless Steel Digital Kitchen Weighing Scale & Food Weight Machine for Diet, Nutrition, Health, Fitness, Baking & Cooking (5Kgs, Stainless Steel, 2 Years Warranty)', 'VR 18 Pcs - 3 Different Size Plastic Food Snack Bag Pouch Clip Sealer Large, Medium, Small Plastic Snack Seal Sealing Bag Clips Vacuum Sealer (Set of 18, Multi-Color) (Multicolor)', 'Orient Electric Apex-FX 1200mm Ultra High Speed 400 RPM Ceiling Fan (Brown)', 'PrettyKrafts Folding Laundry Basket for Clothes with Lid & Handle, Toys Organiser, 75 Litre, (Pack of 1), Mushroom Print', 'Bajaj Majesty RX11 2000 Watts Heat Convector Room Heater (White, ISI Approved)', 'Eureka Forbes Trendy Zip 1000 Watts powerful suction vacuum cleaner with resuable dust bag & 5 accessories,1 year warrantycompact,light weight & easy to use (Black)', 'Pigeon by Stovekraft Quartz Electric Kettle (14299) 1.7 Litre with Stainless Steel Body, used for boiling Water, making tea and coffee, instant noodles, soup etc. 1500 Watt (Silver)', 'Maharaja Whiteline Lava Neo 1200-Watts Halogen Heater (White and Red)', 'Crompton Gracee 5-L Instant Water Heater (Geyser)', 'Bajaj DX-2 600W Dry Iron with Advance Soleplate and Anti-bacterial German Coating Technology, Black', 'Bajaj Waterproof 1500 Watts Immersion Rod Heater', 'AGARO Supreme High Pressure Washer, 1800 Watts, 120 Bars, 6.5L/Min Flow Rate, 8 Meters Outlet Hose, Portable, for Car,Bike and Home Cleaning Purpose, Black and Orange', 'Bajaj Deluxe 2000 Watts Halogen Room Heater (Steel, ISI Approved), Multicolor', 'Orpat HHB-100E WOB 250-Watt Hand Blender (White)', 'GILTON Egg Boiler Electric Automatic Off 7 Egg Poacher for Steaming, Cooking Also Boiling and Frying, Multi Color', 'HealthSense Chef-Mate KS 33 Digital Kitchen Weighing Scale & Food Weight Machine for Health, Fitness, Home Baking & Cooking with Free Bowl, 1 Year Warranty & Batteries Included', 'PHILIPS Digital Air Fryer HD9252/90 with Touch Panel, uses up to 90% less fat, 7 Pre-set Menu, 1400W, 4.1 Liter, with Rapid Air Technology (Black), Large', 'Milton Go Electro 2.0 Stainless Steel Electric Kettle, 1 Piece, 2 Litres, Silver | Power Indicator | 1500 Watts | Auto Cut-off | Detachable 360 Degree Connector | Boiler for Water', 'Philips Daily Collection HD2582/00 830-Watt 2-Slice Pop-up Toaster (White)', 'Crompton Insta Comfy 800 Watt Room Heater with 2 Heat Settings(Grey Blue)', 'USHA Heat Convector 812 T 2000-Watt with Instant Heating Feature (Black)', 'Philips HL7756/00 Mixer Grinder, 750W, 3 Jars (Black)', 'Kuber Industries Waterproof Round Non Wovan Laundry Bag/Hamper|Metalic Printed With Handles|Foldable Bin & 45 Liter Capicity|Size 37 x 37 x 49, Pack of 1 (Beige & Brown)-KUBMART11450', 'Lifelong LLMG93 500 Watt Duos Mixer Grinder, 2 Stainless Steel Jar (Liquidizing and Chutney Jar)| ABS Body, Stainless Steel Blades, 3 Speed Options with Whip (1 Year Warranty, Black)', 'IKEA Frother for Milk', 'Crompton Insta Comfort Heater 2000 Watts Heat Convector with Adjustable Thermostats, Hybrid Cyan, Standard (\\u200eACGRH- INSTACOMFORT)', 'Lint Remover Woolen Clothes Lint Extractor Battery Lint Removing Machine Bhur Remover', 'Pigeon Kessel Multipurpose Kettle (12173) 1.2 litres with Stainless Steel Body, used for boiling Water and milk, Tea, Coffee, Oats, Noodles, Soup etc. 600 Watt (Black & Silver)', 'C (DEVICE) Lint Remover for Woolen Clothes, Electric Lint Remover, Best Lint Shaver for Clothes Pack of 1', 'Pigeon by Stovekraft 2 Slice Auto Pop up Toaster. A Smart Bread Toaster for Your Home (750 Watt) (black)', 'Bajaj OFR Room Heater, 13 Fin 2900 Watts Oil Filled Room Heater with 400W PTC Ceramic Fan Heater, ISI Approved (Majesty 13F Plus Black)', 'Luminous Vento Deluxe 150 mm Exhaust Fan for Kitchen, Bathroom with Strong Air Suction, Rust Proof Body and Dust Protection Shutters (2-Year Warranty, White)', 'Wipro Vesta 1.8 litre Cool touch electric Kettle with Auto cut off | Double Layer outer body | Triple Protection - Dry Boil, Steam & Over Heat |Stainless Steel Inner Body | (Black, 1500 Watt)', 'Kitchen Mart Stainless Steel South Indian Filter Coffee Drip Maker, Madras Kappi, Drip Decotion Maker160ml (2 Cup)', 'Ikea 903.391.72 Polypropylene Plastic Solid Bevara Sealing Clip (Multicolour) - 30 Pack, Adjustable', 'HUL Pureit Germkill kit for Classic 23 L water purifier - 1500 L Capacity', 'HUL Pureit Germkill kit for Classic 23 L water purifier - 3000 L Capacity', 'Prestige Iris 750 Watt Mixer Grinder with 3 Stainless Steel Jar + 1 Juicer Jar (White and Blue)', 'Preethi Blue Leaf Diamond MG-214 mixer grinder 750 watt (Blue/White), 3 jars & Flexi Lid, FBT motor with 2yr Guarantee & Lifelong Free Service', 'Themisto 350 Watts Egg Boiler-Blue', 'Butterfly Smart Mixer Grinder, 750W, 4 Jars (Grey)', 'KENT Smart Multi Cooker Cum Kettle 1.2 Liter 800 Watts, Electric Cooker with Steamer & Boiler for Idlis, Instant Noodles, Momos, Eggs, & Steam Vegetables, Inner Stainless Steel & Cool Touch Outer Body', 'InstaCuppa Portable Blender for Smoothie, Milk Shakes, Crushing Ice and Juices, USB Rechargeable Personal Blender Machine for Kitchen with 2000 mAh Rechargeable Battery, 150 Watt Motor, 400 ML', 'USHA EI 1602 1000 W Lightweight Dry Iron with Non-Stick Soleplate (Multi-colour)', 'KENT 16044 Hand Blender Stainless Steel 400 W | Variable Speed Control | Easy to Clean and Store | Low Noise Operation', 'White Feather Portable Heat Sealer Mini Sealing Machine for Food Storage Vacuum Bag, Chip, Plastic, Snack Bags, Package Home Closer Storage Tool (Multicolor) Random Colour', 'Crompton IHL 152 1500-Watt Immersion Water Heater with Copper Heating Element (Black)', 'InstaCuppa Rechargeable Mini Electric Chopper - Stainless Steel Blades, One Touch Operation, for Mincing Garlic, Ginger, Onion, Vegetable, Meat, Nuts, (White, 250 ML, Pack of 1, 45 Watts)', 'Philips PowerPro FC9352/01 Compact Bagless Vacuum Cleaner (Blue)', 'SAIELLIN Electric Lint Remover for Clothes Fabric Shaver Lint Shaver for Woolen Clothes Blanket Jackets Stainless Steel Blades, Clothes and Furniture Lint Roller for Fabrics Portable Lint Shavers (White Orange)', 'Cookwell Bullet Mixer Grinder (5 Jars, 3 Blades, Silver)', 'Prestige PRWO 1.8-2 700-Watts Delight Electric Rice Cooker with 2 Aluminium Cooking Pans - 1.8 Liters, White', 'Swiffer Instant Electric Water Heater Faucet Tap Home-Kitchen Instantaneous Water Heater Tank less for Tap, LED Electric Head Water Heaters Tail Gallon Comfort(3000W) ((Pack of 1))', 'InstaCuppa Portable Blender for Smoothie, Milk Shakes, Crushing Ice and Juices, USB Rechargeable Personal Blender Machine for Kitchen with 4000 mAh Rechargeable Battery, 230 Watt Motor, 500 ML', 'Lifelong LLWH106 Flash 3 Litres Instant Water Heater for Home Use, 8 Bar Pressure,Power On/Off Indicator and Advanced Safety, (3000W, ISI Certified, 2 Years Warranty)', 'Hindware Atlantic Compacto 3 Litre Instant water heater with Stainless Steel Tank, Robust Construction, Pressure Relief Valve And I-thermostat Feature (White And Grey)', 'ATOM Selves-MH 200 GM Digital Pocket Scale', 'Crompton InstaBliss 3-L Instant Water Heater (Geyser) with Advanced 4 Level Safety', 'Croma 1100 W Dry Iron with Weilburger Dual Soleplate Coating (CRSHAH702SIR11, White)', 'Lint Roller with 40 Paper Sheets, 22 x 5 cm (Grey)', 'Portable Lint Remover Pet Fur Remover Clothes Fuzz Remover Pet Hairball Quick Epilator Shaver Removing Dust Pet Hair from Clothing Furniture Perfect for Clothing,Furniture,Couch,Carpet (Standard)', 'atomberg Renesa 1200mm BLDC Motor with Remote 3 Blade Energy Saving Ceiling Fan (Matt Black)', 'Pigeon by Stovekraft Amaze Plus Electric Kettle (14313) with Stainless Steel Body, 1.8 litre, used for boiling Water, making tea and coffee, instant noodles, soup etc. 1500 Watt (Silver)', 'Usha CookJoy (CJ1600WPC) 1600 Watt Induction cooktop (Black)', 'Reffair AX30 [MAX] Portable Air Purifier for Car, Home & Office | Smart Ionizer Function | H13 Grade True HEPA Filter [Internationally Tested] Aromabuds Fragrance Option - Black', '!!1000 Watt/2000-Watt Room Heater!! Fan Heater!!Pure White!!HN-2500!!Made in India!!', 'Eureka Forbes Wet & Dry Ultimo 1400 Watts Multipurpose Vacuum Cleaner,Power Suction & Blower with 20 litres Tank Capacity,6 Accessories,1 Year Warranty,Compact,Light Weight & Easy to use (Red)', 'Activa Heat-Max 2000 Watts Room Heater (White color ) with ABS body', 'PHILIPS HL1655/00 Hand Blender, White Jar 250W', 'Bajaj DX-2 600W Dry Iron with Advance Soleplate and Anti-Bacterial German Coating Technology, Grey', 'V-Guard Zio Instant Water Geyser | 3 Litre | 3000 W Heating | White-Blue | | 2 Year Warranty', 'Homeistic Applience™ Instant Electric Water Heater Faucet Tap For Kitchen And Bathroom Sink Digital Water Heating Tap with Shower Head ABS Body- Shock Proof (Pack Of 1. White)', 'Kitchenwell 18Pc Plastic Food Snack Bag Pouch Clip Sealer for Keeping Food Fresh for Home, Kitchen, Camping Snack Seal Sealing Bag Clips (Multi-Color) | (Pack of 18)|', 'Havells Instanio 10 Litre Storage Water Heater with Flexi Pipe and Free installation (White Blue)', 'Prestige PIC 16.0+ 1900W Induction Cooktop with Soft Touch Push Buttons (Black)', 'AGARO 33398 Rapid 1000-Watt, 10-Litre Wet & Dry Vacuum Cleaner, with Blower Function (Red & Black)', 'KENT 16026 Electric Kettle Stainless Steel 1.8 L | 1500W | Superfast Boiling | Auto Shut-Off | Boil Dry Protection | 360° Rotating Base | Water Level Indicator', 'SKYTONE Stainless Steel Electric Meat Grinders with Bowl 700W Heavy for Kitchen Food Chopper, Meat, Vegetables, Onion , Garlic Slicer Dicer, Fruit & Nuts Blender (2L, 700 Watts)', 'KENT 16088 Vogue Electric Kettle 1.8 Litre 1500 W | Stainless Steel body | Auto shut off over heating protection | 1 Year Warranty', 'Eureka Forbes Supervac 1600 Watts Powerful Suction,bagless Vacuum Cleaner with cyclonic Technology,7 Accessories,1 Year Warranty,Compact,Lightweight & Easy to use (Red)', 'Mi Air Purifier 3 with True HEPA Filter, removes air pollutants, smoke, odor, bacteria & viruses with 99.97% efficiency, coverage area up to 484 sq. ft., Wi-Fi & Voice control - Alexa/GA (white)', 'Tata Swach Bulb 6000-Litre Cartridge, 1 Piece, White, Hollow Fiber Membrane', 'Havells Ambrose 1200mm Ceiling Fan (Gold Mist Wood)', 'PrettyKrafts Laundry Bag / Basket for Dirty Clothes, Folding Round Laundry Bag,Set of 2, Black Wave', 'FABWARE Lint Remover for Clothes - Sticky Lint Roller for Clothes, Furniture, Wool, Coat, Car Seats, Carpet, Fabric, Dust Cleaner, Pet Hair Remover with 1 Handle & 1 Refill Total 60 Sheets & 1 Cover', 'Brayden Fito Atom Rechargeable Smoothie Blender with 2000 mAh Battery and 3.7V Motor with 400ml Tritan Jar (Blue)', 'Bajaj Frore 1200 mm Ceiling Fan (Brown)', 'Venus Digital Kitchen Weighing Scale & Food Weight Machine for Health, Fitness, Home Baking & Cooking Scale, 2 Year Warranty & Battery Included (Weighing Scale Without Bowl) Capacity 10 Kg, 1 Gm', 'Bajaj ATX 4 750-Watt Pop-up Toaster (White)', 'Coway Professional Air Purifier for Home, Longest Filter Life 8500 Hrs, Green True HEPA Filter, Traps 99.99% Virus & PM 0.1 Particles, Warranty 7 Years (AirMega 150 (AP-1019C))', 'KENT Gold Optima Gravity Water Purifier (11016) | UF Technology Based | Non-Electric & Chemical Free | Counter Top | 10L Storage | White', 'HOMEPACK 750W Radiant Room Home Office Heaters For Winter', 'Bajaj Rex 750W Mixer Grinder with Nutri Pro Feature, 4 Jars, White', 'Heart Home Waterproof Round Non Wovan Laundry Bag/Hamper|Metalic Printed With Handles|Foldable Bin & 45 Liter Capicity|Size 37 x 37 x 49, Pack of 1 (Grey & Black)-HEARTXY11447', 'MILTON Smart Egg Boiler 360-Watts (Transparent and Silver Grey), Boil Up to 7 Eggs', 'iBELL SEK15L Premium 1.5 Litre Stainless Steel Electric Kettle,1500W Auto Cut-Off Feature,Silver with Black', 'Tosaa T2STSR Sandwich Gas Toaster Regular (Black)', 'V-Guard Divino 5 Star Rated 15 Litre Storage Water Heater (Geyser) with Advanced Safety Features, White', 'Akiara® - Makes life easy Mini Sewing Machine with Table Set | Tailoring Machine | Hand Sewing Machine with extension table, foot pedal, adapter', 'Usha Steam Pro SI 3713, 1300 W Steam Iron, Powerful steam Output up to 18 g/min, Non-Stick Soleplate (White & Blue)', 'Wonderchef Nutri-blend Complete Kitchen Machine | 22000 RPM Mixer Grinder, Blender, Chopper, Juicer | 400W Powerful motor | SS Blades | 4 Unbreakable Jars | 2 Years Warranty | Online Recipe Book By Chef Sanjeev Kapoor | Black', 'WIDEWINGS Electric Handheld Milk Wand Mixer Frother for Latte Coffee Hot Milk, Milk Frother for Coffee, Egg Beater, Hand Blender, Coffee Beater with Stand', 'Morphy Richards Icon Superb 750W Mixer Grinder, 4 Jars, Silver and Black', 'Philips Handheld Garment Steamer GC360/30 - Vertical & Horizontal Steaming, 1200 Watt, up to 22g/min', 'Vedini Transparent Empty Refillable Reusable Fine Mist Spray Bottle for Perfume, Travel with DIY Sticker Set ( 100ml, Pack of 4)', 'Crompton Sea Sapphira 1200 mm Ultra High Speed 3 Blade Ceiling Fan (Lustre Brown, Pack of 1)', 'Kuber Industries Waterproof Canvas Laundry Bag/Hamper|Metalic Printed With Handles|Foldable Bin & 45 Liter Capicity|Size 37 x 37 x 46, Pack of 1 (Brown)', 'JM SELLER 180 W 2021 Edition Electric Beater High Speed Hand Mixer Egg Beater for Cake Making and Whipping Cream with 7 Speed Control (White) with Free Spatula and Oil Brush', 'Oratech Coffee Frother electric, milk frother electric, coffee beater, cappuccino maker, Coffee Foamer, Mocktail Mixer, Coffee Foam Maker, coffee whisker electric, Froth Maker, coffee stirrers electric, coffee frothers, Coffee Blender, (6 Month Warranty) (Multicolour)', 'Havells Glaze 74W Pearl Ivory Gold Ceiling Fan, Sweep: 1200 Mm', 'Pick Ur Needs® Lint Remover for Clothes High Range Rechargeable Lint Shaver for All Types of Clothes, Fabrics, Blanket with 1 Extra Blade Multicolor (Rechargeable)', 'Rico Japanese Technology Rechargeable Wireless Electric Chopper with Replacement Warranty - Stainless Steel Blades, One Touch Operation, 10 Seconds Chopping, Mincing Vegetable, Meat - 250 ML, 30 Watts', 'Butterfly Smart Wet Grinder, 2L (White) with Coconut Scrapper Attachment, Output - 150 W, Input 260 W', 'AGARO Marvel 9 Liters Oven Toaster Griller, Cake Baking OTG (Black)', 'Philips GC1920/28 1440-Watt Non-Stick Soleplate Steam Iron', 'Havells OFR 13 Wave Fin with PTC Fan Heater 2900 Watts (Black)', 'Bajaj DHX-9 1000W Heavy Weight Dry Iron with Advance Soleplate and Anti-Bacterial German Coating Technology, Ivory', 'Aquasure From Aquaguard Amaze RO+UV+MTDS,7L storage water purifier,suitable for borewell,tanker,municipal water (Grey) from Eureka Forbes', 'ROYAL STEP Portable Electric USB Juice Maker Juicer Bottle Blender Grinder Mixer,6 Blades Rechargeable Bottle with (MULTII) (MULTI COLOUR 6 BLED JUICER MIXER)', 'KENT 16068 Zoom Vacuum Cleaner for Home and Car 130 W | Cordless, Hoseless, Rechargeable HEPA Filters Vacuum Cleaner with Cyclonic Technology | Bagless Design and Multi Nozzle Operation | Blue', 'ENEM Sealing Machine | 12 Inch (300 mm) | 1 Year Warranty | Full Customer Support | Beep Sound Function | Plastic Packing Machine | Plastic Bag Sealing Machine | Heat Sealer Machine | Plastic Sealing Machine | Blue | Made in India', 'Wipro Vesta 1200 Watt GD203 Heavyweight Automatic Dry Iron| Quick Heat Up| Anti bacterial German Weilburger Double Coated Black Soleplate |2 Years Warranty', 'Inalsa Electric Kettle Prism Inox - 1350 W with LED Illumination & Boro-Silicate Body, 1.8 L Capacity along with Cordless Base, 2 Year Warranty (Black)', 'VRPRIME Lint Roller Lint Remover for Clothes, Pet | 360 Sheets Reusable Sticky Easy-Tear Sheet Brush for Clothes, Furniture, Carpet, Dog Fur, Sweater, Dust & Dirt (4 Rolls - 90 Sheet Each Roll)', 'Philips AC1215/20 Air purifier, removes 99.97% airborne pollutants, 4-stage filtration with True HEPA filter (white)', 'Eopora PTC Ceramic Fast Heating Room Heater for Bedroom, 1500/1000 Watts Room Heater for Home, Electric Heater, Electric Fan Heater for Home Office Bedroom (White)', 'Usha Goliath GO1200WG Heavy Weight 1200-Watt Dry Iron, 1.8 Kg(Red)', 'Wipro Vesta Electric Egg Boiler, 360 Watts, 3 Boiling Modes, Stainless Steel Body and Heating Plate, Boils up to 7 Eggs at a time, Automatic Shut Down, White, Standard (VB021070)', 'Philips Viva Collection HR1832/00 1.5-Litre400-Watt Juicer (Ink Black)', 'Kitchenwell Multipurpose Portable Electronic Digital Weighing Scale Weight Machine | Weight Machine | 10 Kg', 'FIGMENT Handheld Milk Frother Rechargeable, 3-Speed Electric Frother for Coffee with 2 Whisks and Coffee Decoration Tool, Coffee Frother Mixer, CRESCENT ENTERPRISES VRW0.50BK (A1)', 'Balzano High Speed Nutri Blender/Mixer/Smoothie Maker - 500 Watt - Silver, 2 Jar', 'Swiss Military VC03 Wireless Car Vacuum Cleaner | Wireless Vacuum Cleaner for Home, Car, Living Room | Wireless Vacuum Cleaner Dust Collection/Lighting Car Pet Hair Vacuum with Powerful Motor', 'Zuvexa USB Rechargeable Electric Foam Maker - Handheld Milk Wand Mixer Frother for Hot Milk, Hand Blender Coffee, Egg Beater (Black)', 'Usha IH2415 1500-Watt Immersion Heater (Silver)', 'ACTIVA Instant 3 LTR 3 KVA SPECIAL Anti Rust Coated Tank Geyser with Full ABS Body with 5 Year Warranty Premium (White)', 'Havells Instanio 1-Litre 3KW Instant Water Heater (Geyser), White Blue', 'Lifelong 2-in1 Egg Boiler and Poacher 500-Watt (Transparent and Silver Grey), Boil 8 eggs, Poach 4 eggs, Easy to clean| 3 Boiling Modes, Stainless Steel Body and Heating Plate, Automatic Turn-Off', 'INDIAS®™ Electro-Instant Water Geyser A.B.S. Body Shock Proof Can be Used in Bathroom, Kitchen, wash Area, Hotels, Hospital etc.', 'AmazonBasics Induction Cooktop 1600 Watt (Black)', 'Sui Generis Electric Handheld Milk Wand Mixer Frother for Latte Coffee Hot Milk, Milk Frother, Electric Coffee Beater, Egg Beater, Latte Maker, Mini Hand Blender Cappuccino Maker (Multicolor)', 'Philips Air Purifier Ac2887/20,Vitashield Intelligent Purification,Long Hepa Filter Life Upto 17000 Hours,Removes 99.9% Airborne Viruses & Bacteria,99.97% Airborne Pollutants,Ideal For Master Bedroom', 'Esquire Laundry Basket Brown, 50 Ltr Capacity(Plastic)', 'PHILIPS Air Fryer HD9200/90, uses up to 90% less fat, 1400W, 4.1 Liter, with Rapid Air Technology (Black), Large', 'Havells Bero Quartz Heater Black 800w 2 Heat Settings 2 Year Product Warranty', 'Philips EasyTouch Plus Standing Garment Steamer GC523/60 - 1600 Watt, 5 Steam Settings, Up to 32 g/min steam, with Double Pole', 'Brayden Chopro, Electric Vegetable Chopper for Kitchen with 500 ML Capacity, 400 Watts Copper Motor and 4 Bi-Level SS Blades (Black)', 'Wonderchef Nutri-blend Mixer, Grinder & Blender | Powerful 400W 22000 RPM motor | Stainless steel Blades | 3 unbreakable jars | 2 Years warranty | Online recipe book by Chef Sanjeev Kapoor | Black', 'Usha Janome Dream Stitch Automatic Zig-Zag Electric Sewing Machine with 14 Stitch Function (White and Blue) with Free Sewing KIT Worth RS 500', 'Black+Decker Handheld Portable Garment Steamer 1500 Watts with Anti Calc (Violet)', 'Personal Size Blender, Portable Blender, Battery Powered USB Blender, with Four Blades, Mini Blender Travel Bottle for Juice, Shakes, and Smoothies (Pink)', 'Sujata Powermatic Plus 900 Watts Juicer Mixer Grinder', 'Sure From Aquaguard Delight NXT RO+UV+UF+Taste Adjuster(MTDS),6L water purifier,8 stages purification,Suitable for borewell,tanker,municipal water(Black) from Eureka Forbes', 'PrettyKrafts Laundry Basket for clothes with Lid & Handles, Toys Organiser, 75 Ltr Grey', 'Dr Trust Electronic Kitchen Digital Scale Weighing Machine (Blue)', 'Tesora - Inspired by you Large Premium Electric Kettle 1.8L, Stainless Steel Inner Body - Auto Power Cut, Boil Dry Protection & Cool Touch Double Wall, Portable | 1500 Watts |1 Year Warranty | (White)', 'AGARO Ace 1600 Watts, 21.5 kPa Suction Power, 21 litres Wet & Dry Stainless Steel Vacuum Cleaner with Blower Function and Washable Dust Bag', 'INALSA Hand Blender 1000 Watt with Chopper, Whisker, 600 ml Multipurpose Jar|Variable Speed And Turbo Speed Function |100% Copper Motor |Low Noise |ANTI-SPLASH TECHNOLOGY|2 Year Warranty', 'akiara - Makes life easy Electric Handy Sewing/Stitch Handheld Cordless Portable White Sewing Machine for Home Tailoring, Hand Machine | Mini Silai | White Hand Machine with Adapter', 'Philips EasySpeed Plus Steam Iron GC2145/20-2200W, Quick Heat Up with up to 30 g/min steam, 110 g steam Boost, Scratch Resistant Ceramic Soleplate, Vertical steam & Drip-Stop', 'INALSA Electric Chopper Bullet- 400 Watts with 100% Pure Copper Motor| Chop, Mince, Puree, Dice | Twin Blade Technology| 900 ml Capacity| One Touch Operation, 1.30mtr Long Power Cord (Black/Silver)', 'Borosil Electric Egg Boiler, 8 Egg Capacity, For Hard, Soft, Medium Boiled Eggs, Steamed Vegetables, Transparent Lid, Stainless Steel Exterior (500 Watts)', 'Wipro Vesta Grill 1000 Watt Sandwich Maker |Dual function-SW Maker&Griller|Non stick Coat -BPA&PTFE Free |Auto Temp Cut-off| Height Control -180ᶿ&105ᶿ |2 year warranty|SS Finish|Standard size', 'Rico IRPRO 1500 Watt Japanese Technology Electric Water Heater Immersion Rod Shockproof Protection & Stainless Steel Heating Element for Instant Heating| ISI Certified 1 Year Replacement Warranty', 'Eureka Forbes Active Clean 700 Watts Powerful Suction & Blower Vacuum Cleaner with Washable HEPA Filter & 6 Accessories,1 Year Warranty,Compact,Light Weight & Easy to use (Red & Black)', 'CSI INTERNATIONAL® Instant Water Geyser, Water Heater, Portable Water Heater, Geyser Made of First Class ABS Plastic 3KW (White)', 'Hindware Atlantic Xceed 5L 3kW Instant Water Heater with Copper Heating Element and High Grade Stainless Steel Tank', 'Morphy Richards New Europa 800-Watt Espresso and Cappuccino 4-Cup Coffee Maker (Black)', 'Lifelong Power - Pro 500 Watt 3 Jar Mixer Grinder with 3 Speed Control and 1100 Watt Dry Non-Stick soleplate Iron Super Combo (White and Grey, 1 Year Warranty)', 'iBELL Castor CTEK15L Premium 1.5 Litre Stainless Steel Electric Kettle,1500W Auto Cut-Off Feature,Silver', 'BAJAJ PYGMY MINI 110 MM 10 W HIGH SPEED OPERATION, USB CHARGING, MULTI-CLIP FUNCTION PERSONAL FAN', 'Crompton InstaGlide 1000-Watts Dry Iron with American Heritage Coating, Pack of 1 Iron', 'Prestige Clean Home Water Purifier Cartridge', 'Morphy Richards Aristo 2000 Watts PTC Room Heater (White)', 'Gadgetronics Digital Kitchen Weighing Scale & Food Weight Machine for Health, Fitness, Home Baking & Cooking (10 KGs,1 Year Warranty & Batteries Included)', 'HUL Pureit Germkill kit for Advanced 23 L water purifier - 3000 L Capacity, Sand, Multicolour', 'Tom & Jerry Folding Laundry Basket for Clothes with Lid & Handle, Toys Organiser, 75 Litre, Green', 'Ikea Little Loved Corner PRODUKT Milk-frother, Coffee/Tea Frother, Handheld Milk Wand Mixer Frother, Black', 'Philips EasySpeed Plus Steam Iron GC2147/30-2400W, Quick Heat up with up to 30 g/min steam, 150g steam Boost, Scratch Resistant Ceramic Soleplate, Vertical steam, Drip-Stop', 'Bajaj New Shakti Neo Plus 15 Litre 4 Star Rated Storage Water Heater (Geyser) with Multiple Safety System, White', 'House of Quirk Reusable Sticky Picker Cleaner Easy-Tear Sheets Travel Pet Hair Lint Rollers Brush (10cm Sheet, Set of 3 Rolls, 180 Sheets, 60 Sheets Each roll Lint Roller Remover, Multicolour)', 'Allin Exporters J66 Ultrasonic Humidifier Cool Mist Air Purifier for Dryness, Cold & Cough Large Capacity for Room, Baby, Plants, Bedroom (2.4 L) (1 Year Warranty)', 'Multifunctional 2 in 1 Electric Egg Boiling Steamer Egg Frying Pan Egg Boiler Electric Automatic Off with Egg Boiler Machine Non-Stick Electric Egg Frying Pan-Tiger Woods (Multy)', 'Maharaja Whiteline Nano Carbon Neo, 500 Watts Room Heater (Black, White), Standard (5200100986)', 'KENT Electric Chopper-B for Kitchen 250 Watt | Chop, Mince, Puree, Whisk, 400 ml Capacity | Stainless Steel Double Chopping Blades | Transparent Chopping Bowl | Anti-Skid | One Touch Operation | Black', 'Crompton Amica 15-L 5 Star Rated Storage Water Heater (Geyser) with Free Installation (White)', 'KENT 16025 Sandwich Grill 700W | Non-Toxic Ceramic Coating | Automatic Temperature Cut-off with LED Indicator | Adjustable Height Control, Metallic Silver, Standard', 'Candes Gloster All in One Silent Blower Fan Room Heater Ideal for Small and Medium Area, 2000 Watts (White)', 'Inalsa Electric Fan Heater Hotty - 2000 Watts Variable Temperature Control Cool/Warm/Hot Air Selector | Over Heat Protection | ISI Certification, White', 'Havells Zella Flap Auto Immersion Rod 1500 Watts', 'iBELL SM1301 3-in-1 Sandwich Maker with Detachable Plates for Toast / Waffle / Grill , 750 Watt (Black)', 'Inalsa Vacuum Cleaner Wet and Dry Micro WD10 with 3in1 Multifunction Wet/Dry/Blowing| 14KPA Suction and Impact Resistant Polymer Tank,(Yellow/Black)', 'MR. BRAND Portable USB Juicer Electric USB Juice Maker Mixer Bottle Blender Grinder Mixer,6 Blades Rechargeable Bottle with (Multi color) (MULTI MIXER 6 BLED)', 'Crompton Hill Briz Deco 1200mm (48 inch) High Speed Designer Ceiling Fan (Smoked Brown)', 'Sujata Powermatic Plus, Juicer Mixer Grinder with Chutney Jar, 900 Watts, 3 Jars (White)', 'Aquadpure Copper + Mineral RO+UV+UF 10 to 12 Liter RO + UV + TDS ADJUSTER Water Purifier with Copper Charge Technology black & copper Best For Home and Office (Made In India)', 'Amazon Basics 650 Watt Drip Coffee Maker with Borosilicate Carafe', 'Crompton Insta Delight Fan Circulator Room Heater with 3 Heat Settings (Slate Grey & Black, 2000 Watt)', '!!HANEUL!!1000 Watt/2000-Watt Room Heater!! Fan Heater!!Pure White!!HN-2500!!Made in India!!Thermoset!!', 'Melbon VM-905 2000-Watt Room Heater (ISI Certified, White Color) Ideal Electric Fan Heater for Small to Medium Room/Area (Plastic Body)', 'Cello Eliza Plastic Laundry Bag/Basket, 50 litres, Light Grey', 'ACTIVA 1200 MM HIGH SPEED 390 RPM BEE APPROVED 5 STAR RATED APSRA CEILING FAN BROWN 2 Years Warranty', 'Shakti Technology S5 High Pressure Car Washer Machine 1900 Watts and Pressure 125 Bar with 10 Meter Hose Pipe', 'AMERICAN MICRONIC- Imported Wet & Dry Vacuum Cleaner, 21 Litre Stainless Steel with Blower & HEPA filter, 1600 Watts 100% Copper Motor 28 KPa suction with washable reusable dust bag (Red/Black/Steel)-AMI-VCD21-1600WDx', 'Demokrazy New Nova Lint Cum Fuzz Remover for All Woolens Sweaters, Blankets, Jackets Remover Pill Remover from Carpets, Curtains (Pack of 1)', 'Instant Pot Air Fryer, Vortex 2QT, Touch Control Panel, 360° EvenCrisp™ Technology, Uses 95 % less Oil, 4-in-1 Appliance: Air Fry, Roast, Bake, Reheat (Vortex 1.97Litre, Black)', 'HUL Pureit Eco Water Saver Mineral RO+UV+MF AS wall mounted/Counter top Black 10L Water Purifier', 'Livpure Glo Star RO+UV+UF+Mineraliser - 7 L Storage Tank, 15 LPH Water Purifier for Home, Black', 'Philips Hi113 1000-Watt Plastic Body Ptfe Coating Dry Iron, Pack of 1', 'Kuber Industries Round Non Woven Fabric Foldable Laundry Basket|Toy Storage Basket|Cloth Storage Basket With Handles| Capicity 45 Ltr (Grey & Black)-KUBMART11446', 'Preethi MGA-502 0.4-Litre Grind and Store Jar (White), stainless steel, Set of 1', 'Usha Aurora 1000 W Dry Iron with Innovative Tail Light Indicator, Weilburger Soleplate (White & Grey)', 'ECOVACS DEEBOT N8 2-in-1 Robotic Vacuum Cleaner, 2022 New Launch, Most Powerful Suction, Covers 2000+ Sq. Ft in One Charge, Advanced dToF Technology with OZMO Mopping (DEEBOT N8) - White', 'Kent Gold, Optima, Gold+ Spare Kit', 'AVNISH Tap Water Purifier Filter Faucet 6 Layer Carbon Activated Dust Chlorine Remover Water Softener for Drinking Cartridge Alkaline Taps for Kitchen Sink Bathroom Wash Basin (6-Layer Filtration)', 'Khaitan ORFin Fan heater for Home and kitchen-K0 2215', 'USHA RapidMix 500-Watt Copper Motor Mixer Grinder with 3 Jars and 5 Years Warranty(Sea Green/White)', 'CSI INTERNATIONAL® Instant Water Geyser, Water Heater, Portable Water Heater, Geyser Made of First Class ABS Plastic 3KW (Red)', 'Havells Gatik Neo 400mm Pedestal Fan (Aqua Blue)', 'INALSA Upright Vacuum Cleaner, 2-in-1,Handheld & Stick for Home & Office Use,800W- with 16KPA Strong Suction & HEPA Filtration|0.8L Dust Tank|Includes Multiple Accessories,(Grey/Black)', \"ROYAL STEP - AMAZON'S BRAND - Portable Electric USB Juice Maker Juicer Bottle Blender Grinder Mixer,4 Blades Rechargeable Bottle with (Multi color) (MULTI)\", 'Nirdambhay Mini Bag Sealer, 2 in 1 Heat Sealer and Cutter Handheld Sealing Machine Portable Bag Resealer Sealer for Plastic Bags Food Storage Snack Fresh Bag Sealer (Including 2 AA Battery)', 'Cello Non-Stick Aluminium Sandwich Gas Toaster(Black)', 'Proven® Copper + Mineral RO+UV+UF 10 to 12 Liter RO + UV + TDS ADJUSTER Water Purifier with Copper Charge Technology black & copper Best For Home and Office (Made In India)', 'Morphy Richards Daisy 1000W Dry Iron with American Heritage Non-Stick Coated Soleplate, White', 'Wipro Vesta 1200 Watt GD201 Lightweight Automatic Dry Iron| Quick Heat Up| Stylish & Sleek |Anti bacterial German Weilburger Double Coated Soleplate |2 Years Warranty', 'Zuvexa Egg Boiler Poacher Automatic Off Steaming, Cooking, Boiling Double Layer 14 Egg Boiler (Multicolor)…', 'AO Smith HSE-VAS-X-015 Storage 15 Litre Vertical Water Heater (Geyser) White 4 Star', 'Havells Festiva 1200mm Dust Resistant Ceiling Fan (Gold Mist)', 'INALSA Vaccum Cleaner Handheld 800W High Powerful Motor- Dura Clean with HEPA Filtration & Strong Powerful 16KPA Suction| Lightweight, Compact & Durable Body|Includes Multiple Accessories,(Grey/Black)', 'iBELL SM1515NEW Sandwich Maker with Floating Hinges, 1000Watt, Panini / Grill / Toast (Black)', 'Aquaguard Aura RO+UV+UF+Taste Adjuster(MTDS) with Active Copper & Zinc 7L water purifier,8 stages of purification,suitable for borewell,tanker,municipal water(Black) from Eureka Forbes', 'Havells Instanio 3-Litre 4.5KW Instant Water Heater (Geyser), White Blue', 'Milk Frother, Immersion Blender Cordlesss Foam Maker USB Rechargeable Small Mixer Handheld with 2 Stainless Whisks，Wisker for Stirring 3-Speed Adjustable Mini Frother for Cappuccino Latte Coffee Egg', 'Panasonic SR-WA22H (E) Automatic Rice Cooker, Apple Green, 2.2 Liters', 'InstaCuppa Milk Frother for Coffee - Handheld Battery-Operated Electric Milk and Coffee Frother, Stainless Steel Whisk and Stand, Portable Foam Maker for Coffee, Cappuccino, Lattes, and Egg Beaters', 'Goodscity Garment Steamer for Clothes, Steam Iron Press - Vertical & Horizontal Steaming up to 22g/min, 1200 Watt, 230 ml Water tank & 30 sec Fast Heating (GC 111)', 'Solidaire 550-Watt Mixer Grinder with 3 Jars (Black) (SLD-550-B)', 'Amazon Basics 300 W Hand Blender with Stainless Steel Stem for Hot/Cold Blending and In-Built Cord Hook, ISI-Marked, Black', 'Orpat HHB-100E 250-Watt Hand Blender (White)', 'HealthSense Rechargeable Lint Remover for Clothes | Fuzz and Fur Remover | Electric Fabric Shaver, Trimmer for Clothes, Carpet, Sofa, Sweaters, Curtains | One-Year Warranty Included - New-Feel LR350', 'AGARO Classic Portable Yogurt Maker, 1.2L Capacity, Electric, Automatic, Grey and White, Medium (33603)', 'AGARO Imperial 240-Watt Slow Juicer with Cold Press Technology', 'Wipro Smartlife Super Deluxe Dry Iron- 1000W', 'AmazonBasics Cylinder Bagless Vacuum Cleaner with Power Suction, Low Sound, High Energy Efficiency and 2 Years Warranty (1.5L, Black)', 'Crompton IHL 251 1500-Watt Immersion Water Heater with Copper Heating Element and IP 68 Protection', 'SaiEllin Room Heater For Home 2000 Watts Room Heater For Bedroom | ISI Approved With 1 Year Warranty | For 250 Sq. Feet Blower Heater & Room Heaters Home For Winters', 'Bajaj Majesty Duetto Gas 6 Ltr Vertical Water Heater ( LPG), White', 'Black + Decker BD BXIR2201IN 2200-Watt Cord & Cordless Steam Iron (Green)', 'Inalsa Hand Blender| Hand Mixer|Beater - Easy Mix, Powerful 250 Watt Motor | Variable 7 Speed Control | 1 Year Warranty | (White/Red)', 'Longway Blaze 2 Rod Quartz Room Heater (White, Gray, 800 watts)', 'Prestige PWG 07 Wet Grinder, 2L (Multicolor) with Coconut Scraper and Atta Kneader Attachments, 200 Watt', 'Pigeon Zest Mixer Grinder 3 Speed Control 750 Watt Powerful Copper Motor with 3 Stainless Steel Jars for Dry Grinding, Wet Grinding and Making Chutney and 3 Polycarbonate lids - Blue', 'Borosil Volcano 13 Fin Oil Filled Radiator Room Heater, 2900 W, Black', 'Crompton Solarium Qube 15-L 5 Star Rated Storage Water Heater (Geyser) with Free Installation and Connection Pipes (White and Black)', 'Singer Aroma 1.8 Liter Electric Kettle High Grade Stainless Steel with Cool and Touch Body and Cordless Base, 1500 watts, Auto Shut Off with Dry Boiling (Silver/Black)', 'Orient Electric Aura Neo Instant 3L Water Heater (Geyser), 5-level Safety Shield, Stainless Steel Tank (White & Turquoise)', 'Crompton Brio 1000-Watts Dry Iron with Weilburger Coating (Sky Blue and White)', 'Butterfly Hero Mixer Grinder, 500W, 3 Jars (Grey)', 'Racold Eterno Pro 25L Vertical 5 Star Storage Water Heater (Geyser) with free Standard Installation and free Installation Pipes', 'LG 1.5 Ton 5 Star AI DUAL Inverter Split AC (Copper, Super Convertible 6-in-1 Cooling, HD Filter with Anti-Virus Protection, 2022 Model, PS-Q19YNZE, White)', 'Eureka Forbes Aquasure Amrit Twin Cartridge (Pack of 2), White', 'Green Tales Heat Seal Mini Food Sealer-Impulse Machine for Sealing Plastic Bags Packaging', 'SaleOn Instant Coal Heater 500W Charcoal Burner Electric Stove Hot Plate - Mix Colors - Pack of 1 - Only Charcoal Heater', 'Sujata Chutney Steel Jar, 400 ml, (White), Stainless Steel', 'KHAITAN AVAANTE KA-2013 1200 Watt 3-Rod Halogen Heater (1200 Watts, Grey)', 'Kenstar 2400 Watts 9 Fins Oil Filled Radiator with PTC Fan Heater (BLACK GOLD)', 'NEXOMS Instant Heating Water Tap Wall Mounted with 3 Pin Indian Plug (16Amp)', 'JIALTO Mini Waffle Maker 4 Inch- 350 Watts: Stainless Steel Non-Stick Electric Iron Machine for Individual Belgian Waffles, Pan Cakes, Paninis or Other Snacks - Aqua blue', 'Candes BlowHot All in One Silent Blower Fan Room Heater (ABS Body, White, Brown) 2000 Watts', 'Ionix Jewellery Scale | Weight Scale | Digital Weight Machine | weight machine for gold | Electronic weighing machines for Jewellery 0.01G to 200G Small Weight Machine for Shop - Silver', 'Kitchen Kit Electric Kettle, 1.8L Stainless Steel Tea Kettle, Fast Boil Water Warmer with Auto Shut Off and Boil Dry Protection Tech', 'Racold Pronto Pro 3Litres 3KW Vertical Instant Water Heater (Geyser)', 'ESN 999 Supreme Quality 1500W Immersion Water Heater Rod (Black)', 'Pajaka® South Indian Filter Coffee Maker 200 ML 2-4 Cup / Mugs / Glass | Madras Kaapi/ Kappi Drip Decoction Maker / Makers / Brewer / Pot or Drip / Dripper Made of Stainless Steel | Non-Electric Machine / Appliances / Utensils Medium Size for Home and Kitchen, Office, Cefe Traditional Item / Product | Used for making Country /Desi Style French Press Espresso Nespresso Expresso Cappuccino Instant Black Coffee | Best flavoured with Grounded Arabica Roasted Crushed Grind Coffee Beans', 'Saiyam Stainless Steel Espresso Maker Stovetop Coffee Percolator Italian Coffee Maker Moka Pot (4 Cup - 200 ml, Silver)', 'KONVIO NEER 10 Inch Spun Filter (PP SPUN) Cartridge Compatible for 10 Inch Pre-Filter Housing of Water Purifier | Pack of 4 Spun', 'Havells Glydo 1000 watt Dry Iron With American Heritage Non Stick Sole Plate, Aerodynamic Design, Easy Grip Temperature Knob & 2 years Warranty. (Charcoal Blue)', 'Raffles Premium Stainless Steel South Indian Coffee Filter/Drip Coffee Maker, 2-3 Cups, 150 ml', 'IONIX Activated Carbon Faucet Water Filters Universal Interface Home Kitchen Faucet Tap Water | Tap filter Multilayer | Clean Purifier Filter Cartridge Five Layer Water Filter-Pack of 1', 'KNYUC MART Mini Electric Handy Room Heater Compact Plug-in, The Wall Outlet 400 Watts, Handy Air Warmer Blower Adjustable Timer Digital Display', 'INKULTURE Stainless_Steel Measuring Cups & Spoon Combo for Dry or Liquid/Kitchen Gadgets for Cooking & Baking Cakes/Measuring Cup Set Combo with Handles (Set of 4 Cups & 4 Spoons)', 'Macmillan Aquafresh 5 Micron PS-05 10\" in PP Spun Filter Candle Set for All Type RO Water Purifier 10 inch (4)', \"Havells D'zire 1000 watt Dry Iron With American Heritage Sole Plate, Aerodynamic Design, Easy Grip Temperature Knob & 2 years Warranty. (Mint)\", 'TE™ Instant Electric Heating Hot and Cold Water Geyser Tap Water with Digital Display (White)', 'ZIGMA WinoteK WinoteK Sun Instant Water Geyser, Water Heater, Portable Water Heater, Geysers Made of First Class ABS Plastic, automatic Reset Model, AE10-3 W (Yellow)', 'KENT 11054 Alkaline Water Filter Pitcher 3.5 L | Chemical-Free Water with Balanced pH Levels 8.0 to 9.5 | Solves Acidity Issue | Equipped with Carbon and Sediment Filter - Grey', 'Sujata Dynamix DX Mixer Grinder, 900W, 3 Jars (White)', 'Lifelong LLMG74 750 Watt Mixer Grinder with 3 Jars (White and Grey)', 'TTK Prestige Limited Orion Mixer Grinder 500 Watts, 3 Jars (1200ml, 1000ml, 500ml) (Red)', 'AGARO Regal Electric Rice Cooker, 3L Ceramic Inner Bowl, Cooks Up to 600 Gms Raw Rice, SS Steamer, Preset Cooking Functions, Preset Timer, Keep Warm Function, LED Display, Black', 'VAPJA® Portable Mini Juicer Cup Blender USB Rechargeable with 4 Blades for Shakes and Smoothies Fruits Vegetables Juice Maker Grinder Mixer Strong Cutting Bottle Sports Travel Outdoors Gym (BOTTLE)', 'Philips HD6975/00 25 Litre Digital Oven Toaster Grill, Grey, 25 liter', 'Usha EI 3710 Heavy Weight 1000-Watt Dry Iron with Golden American Heritage Soleplate, 1.75 Kg(White)', 'Campfire Spring Chef Prolix Instant Portable Water Heater Geyser 1Ltr. for Use Home Stainless Steel Baking Rack | Restaurant | Office | Labs | Clinics | Saloon | with Installation Kit (With MCB)', 'Themisto TH-WS20 Digital Kitchen Weighing Scale Stainless Steel (5Kg)', 'FYA Handheld Vacuum Cleaner Cordless, Wireless Hand Vacuum&Air Blower 2-in-1, Mini Portable Car Vacuum Cleaner with Powerful Suction, USB Rechargeable Vacuum for Pet Hair, Home and Car', 'Lifelong LLSM120G Sandwich Griller , Classic Pro 750 W Sandwich Maker with 4 Slice Non-Stick Fixed Plates for Sandwiches at Home with 1 Year Warranty (Black)', 'Kuber Industries Nylon Mesh Laundry Basket|Sturdy Material & Durable Handles|Netted Lightweight Laundry Bag, Size 36 x 36 x 58, Capicity 30 Ltr (Pink)', 'Bulfyss Plastic Sticky Lint Roller Hair Remover Cleaner Set of 5 Rolls 150 Sheets, 30 Sheets Each roll Lint Roller Remover for Clothes, Furniture, Carpet, Dog Fur, Sweater, Dust & Dirt', 'T TOPLINE 180 W Electric Hand Mixer,Hand Blender , Egg Beater, Cake maker , Beater Cream Mix, Food Blender, Beater for Whipping Cream Beater for Cake With 7 -Speed with spatula and oil brush', 'Empty Mist Trigger Plastic Spray Bottle for Multi use 200ml Pack of 2', 'LONAXA Mini Travel Rechargeable Fruit Juicer - USB Electric Fruit & Vegetable Juice Blender/Grinder for Home and Office Use (Multicolor)…', 'SUJATA Powermatic Plus, Juicer Mixer Grinder, 900 Watts, 2 Jars (White)', 'AGARO Royal Double Layered Kettle, 1.5 Litres, Double Layered Cool Touch , Dry Boiling Protection, Black', 'Cafe JEI French Press Coffee and Tea Maker 600ml with 4 Level Filtration System, Heat Resistant Borosilicate Glass (Black, 600ml)', 'Borosil Prime Grill Sandwich Maker (Grey)', 'Candes 10 Litre Perfecto 5 Star Rated Automatic Instant Storage Electric Water Heater with Special Metal Body Anti Rust Coating With Installation Kit, 2KW Geyser (Ivory)', 'Prestige PSMFB 800 Watt Sandwich Toaster with Fixed Plates, Black', 'iBELL MPK120L Premium Stainless Steel Multi Purpose Kettle/Cooker with Inner Pot 1.2 Litre (Silver)', 'Maharaja Whiteline Odacio Plus 550-Watt Juicer Mixer Grinder with 3 Jars (Black/Silver)', 'Shakti Technology S3 High Pressure Car Washer Machine 1800 Watts and Pressure 120 Bar for Cleaning Car, Bike & Home', 'Cello Quick Boil Popular Electric Kettle 1 Litre 1200 Watts | Stainless Steel body | Boiler for Water, Silver', 'AGARO Glory Cool Mist Ultrasonic Humidifier, 4.5Litres, For Large Area, Room, Home, Office, Adjustable Mist Output, Ceramic Ball Filter, Ultra Quiet, 360° Rotatable Nozzle, Auto Shut Off, Grey', 'Wolpin 1 Lint Roller with 60 Sheets Remove Clothes Lint Dog Hair Dust (19 x 13 cm) Orange', 'Abode Kitchen Essential Measuring Cup & Spoon for Spices | for Cooking and Baking Cake | Multipurpose Tablespoon Cups with Ring Holder | (Black)', 'Sujata Supermix, Mixer Grinder, 900 Watts, 3 Jars (White)', 'CARDEX Digital Kitchen Weighing Machine Multipurpose Electronic Weight Scale With Back Lite LCD Display for Measuring Food, Cake, Vegetable, Fruit (KITCHEN SCALE)', 'V-Guard Zenora RO+UF+MB Water Purifier | Suitable for water with TDS up to 2000 ppm | 8 Stage Purification with World-class RO Membrane and Advanced UF Membrane | Free PAN India Installation & 1-Year Comprehensive Warranty | 7 Litre, Black', 'Bajaj Rex DLX 750 W 4 Jars Mixer Grinder, White and Blue', 'KENT 16051 Hand Blender 300 W | 5 Variable Speed Control | Multiple Beaters & Dough Hooks | Turbo Function', 'Prestige PIC 15.0+ 1900-Watt Induction Cooktop (Black)', 'Aqua d pure Active Copper 12-L RO+UV Water Filter Purifier for Home, Kitchen Fully Automatic UF+TDS Controller', 'PrettyKrafts Laundry Square Shape Basket Bag/Foldable/Multipurpose/Carry Handles/Slanting Lid for Home, Cloth Storage,(Single) Jute Grey', 'Libra Roti Maker Electric Automatic | chapati Maker Electric Automatic | roti Maker Machine with 900 Watts for Making Roti/Chapati/Parathas - Stainless Steel', 'Glen 3 in 1 Electric Multi Cooker - Steam, Cook & Egg Boiler with 350 W (SA 3035MC) - 350 Watts', 'Dynore Stainless Steel Set of 4 Measuring Cup and 4 Measuring Spoon', 'Lint Remover For Clothes With 1 Year Warranty Fabric Shaver Lint Shaver for Woolen Clothes Blanket Jackets Stainless Steel Blades,Bedding, Clothes and Furniture Best Remover for Fabrics Portable Lint Shavers (White Orange)', 'Monitor AC Stand/Heavy Duty Air Conditioner Outdoor Unit Mounting Bracket', 'iBELL Induction Cooktop, 2000W with Auto Shut Off and Overheat Protection, BIS Certified, Black', \"KENT POWP-Sediment Filter 10'' Thread WCAP\", 'LACOPINE Mini Pocket Size Lint Roller (White)', 'iBELL SEK170BM Premium Electric Kettle, 1.7 Litre, Stainless Steel with Coating,1500W Auto Cut-Off, Silver with Black', 'Activa Easy Mix Nutri Mixer Grinder 500 Watt | Long Lasting Shock Proof ABS Body | Heavy Duty Motor With Nano - Grinding Technology', 'Sujata Dynamix, Mixer Grinder, 900 Watts, 3 Jars (White)', 'Wipro Vesta 1380W Cordless Steam Iron Quick heat up with 20gm/ min Steam Burst, Scratch resistant Ceramic soleplate ,Vertical and Horizontal Ironing, Steam burst of upto .8g/ shot', 'Mi Robot Vacuum-Mop P, Best-in-class Laser Navigation in 10-20K INR price band, Intelligent mapping, Robotic Floor Cleaner with 2 in 1 Mopping and Vacuum, App Control (WiFi, Alexa,GA), Strong suction', 'Havells Ventil Air DX 200mm Exhaust Fan (White)', 'AGARO Royal Stand 1000W Mixer with 5L SS Bowl and 8 Speed Setting, Includes Whisking Cone, Mixing Beater & Dough Hook, and Splash Guard, 2 Years Warranty, (Black), Medium (33554)', 'Crompton Highspeed Markle Prime 1200 mm (48 inch) Anti-Dust Ceiling Fan with Energy Efficient 55W Motor (Burgundy)', 'Lifelong LLWM105 750-Watt Belgian Waffle Maker for Home| Makes 2 Square Shape Waffles| Non-stick Plates| Easy to Use\\xa0with Indicator Lights (1 Year Warranty, Black)', 'Kuber Industries Waterproof Round Laundry Bag/Hamper|Polka Dots Print Print with Handles|Foldable Bin & 45 Liter Capicity|Size 37 x 37 x 49, Pack of 1(Black & White)- CTKTC044992', 'Portable, Handy Compact Plug-in Portable Digital Electric Heater Fan Wall-Outlet Handy Air Warmer Blower Adjustable Timer Digital Display Heater for Home/Office/Camper (Black, 400 Watts)', 'Karcher WD3 EU Wet and Dry Vacuum Cleaner, 1000 Watts Powerful Suction, 17 L Capacity, Blower Function, Easy Filter Removal for Home and Garden Cleaning\\xa0 (Yellow/Black)', 'INALSA Air Fryer Digital 4L Nutri Fry - 1400W with Smart AirCrisp Technology| 8-Preset Menu, Touch Control & Digital Display|Variable Temperature & Timer Control|Free Recipe book|2 Yr Warranty (Black)', 'AmazonBasics High Speed 55 Watt Oscillating Pedestal Fan, 400mm Sweep Length, White (Without Remote)', 'Eco Crystal J 5 inch Cartridge (Pack of 2)', 'Borosil Rio 1.5 L Electric Kettle, Stainless Steel Inner Body, Boil Water For Tea, Coffee, Soup, Silver', 'Havells Ambrose 1200mm Ceiling Fan (Pearl White Wood)', 'PHILIPS Drip Coffee Maker HD7432/20, 0.6 L, Ideal for 2-7 cups, Black, Medium', 'Eureka Forbes Euroclean Paper Vacuum Cleaner Dust Bags for Excel, Ace, 300, Jet Models - Set of 10', 'Larrito wooden Cool Mist Humidifiers Essential Oil Diffuser Aroma Air Humidifier with Colorful Change for Car, Office, Babies, humidifiers for home, air humidifier for room (WOODEN HUMIDIFIRE-A)', 'Hilton Quartz Heater 400/800-Watt ISI 2 Rods Multi Mode Heater Long Lasting Quick Heating Extremely Warm (Grey)', 'Syska SDI-07 1000 W Stellar with Golden American Heritage Soleplate Dry Iron (Blue)', 'IKEA Milk Frother for Your Milk, Coffee,(Cold and hot Drinks), Black', 'IONIX Tap filter Multilayer | Activated Carbon Faucet Water Filters Universal Interface Home Kitchen Faucet Tap Water Clean Purifier Filter Cartridge Five Layer Water Filter-Pack of 1', \"Kitchengenix's Mini Waffle Maker 4 Inch- 350 Watts: Stainless Steel Non-Stick Electric Iron Machine for Individual Belgian Waffles, Pan Cakes, Paninis or Other Snacks (Red)\", 'Bajaj HM-01 Powerful 250W Hand Mixer, Black', 'KNOWZA Electric Handheld Milk Wand Mixer Frother for Latte Coffee Hot Milk, Milk Frother for Coffee, Egg Beater, Hand Blender, Coffee Beater (BLACK COFFEE BEATER)', 'Usha Hc 812 T Thermo Fan Room Heater', 'akiara - Makes life easy Mini Sewing Machine for Home Tailoring use | Mini Silai Machine with Sewing Kit Set Sewing Box with Thread Scissors, Needle All in One Sewing Accessories (White & Purple)', 'USHA 1212 PTC with Adjustable Thermostat Fan Heater (Black/Brown, 1500-Watts).', '4 in 1 Handheld Electric Vegetable Cutter Set,Wireless Food Processor Electric Food Chopper for Garlic Chili Pepper Onion Ginger Celery Meat with Brush', 'Philips HD9306/06 1.5-Litre Electric Kettle (Multicolor)', 'Libra Room Heater for Home, Room Heaters Home for Winter, Electric Heater with 2000 Watts Power as per IS Specification for Small to Medium Rooms - FH12 (Grey)', 'NGI Store 2 Pieces Pet Hair Removers for Your Laundry Catcher Lint Remover for Washing Machine Lint Remover Reusable Portable Silica Gel Clothes Washer Dryer Floating Ball', 'Noir Aqua - 5pcs PP Spun Filter + 1 Spanner | for All Types of RO Water purifiers (5 Piece, White, 10 Inch, 5 Micron) - RO Spun Filter Cartridge Sponge Replacement Water Filter Candle', 'Prestige Delight PRWO Electric Rice Cooker (1 L, White)', 'Bajaj Majesty RX10 2000 Watts Heat Convector Room Heater (White, ISI Approved)', 'Havells Ventil Air DSP 230mm Exhaust Fan (Pista Green)', 'Borosil Jumbo 1000-Watt Grill Sandwich Maker (Black)']\n",
            "['Amazon Basics 16-Gauge Speaker Wire - 50 Feet']\n",
            "Amazon Basics 16-Gauge Speaker Wire - 50 Feet\n",
            "239\n",
            "[(0, 0.14956152887656463), (1, 0.2277193522462259), (2, 0.16741636438564464), (3, 0.16082756783199192), (4, 0.24242815434036946), (5, 0.13277620012339506), (6, 0.12005731329737158), (7, 0.17060505518559582), (8, 0.19603137853734207), (9, 0.22230808828014167), (10, 0.21355198883690657), (11, 0.17245054263776133), (12, 0.22135153582476128), (13, 0.17789678846058152), (14, 0.2182522495736724), (15, 0.159219000531037), (16, 0.13568323737189733), (17, 0.22749674648710624), (18, 0.19420566152271052), (19, 0.14090484798763298), (20, 0.1920534671755836), (21, 0.1518485676688624), (22, 0.11641682672921921), (23, 0.17175128217440344), (24, 0.2437734475393899), (25, 0.22517281432795314), (26, 0.22842702034669196), (27, 0.2396200222154099), (28, 0.20505417902050213), (29, 0.174270356976176), (30, 0.19536103583116138), (31, 0.14696691317430804), (32, 0.19110525561122138), (33, 0.18722132924710916), (34, 0.1701857322014681), (35, 0.1234052292074492), (36, 0.2035391003129039), (37, 0.20664799673184217), (38, 0.23034368950127526), (39, 0.20720104557284255), (40, 0.1527815227598469), (41, 0.2564238276671725), (42, 0.14665944842342235), (43, 0.10295151011477358), (44, 0.15906720533339194), (45, 0.16508149152988125), (46, 0.10456871044837582), (47, 0.2190273081120637), (48, 0.10048307655729752), (49, 0.2679861008431944), (50, 0.17916988974022136), (51, 0.2643672734977924), (52, 0.21877473121951369), (53, 0.1846655946909364), (54, 0.14833380781871836), (55, 0.07170735267087441), (56, 0.19551380175806476), (57, 0.22995536630746566), (58, 0.22544023909412014), (59, 0.19225672770013474), (60, 0.08239826138215804), (61, 0.2105908649749066), (62, 0.2193573976131513), (63, 0.1855900727062218), (64, 0.1908658558061871), (65, 0.21977194580469422), (66, 0.2141862558474631), (67, 0.1728761246078548), (68, 0.0741120316352837), (69, 0.15740130182190074), (70, 0.18830414954664934), (71, 0.21112428621597867), (72, 0.16981939431560159), (73, 0.179767004654644), (74, 0.25816118144879996), (75, 0.1848484899889026), (76, 0.18585010393553542), (77, 0.1409564291752666), (78, 0.14679116640469386), (79, 0.15036022516993106), (80, 0.15928598815548914), (81, 0.14715854043865154), (82, 0.14796272277849842), (83, 0.2003134052245744), (84, 0.15672744122417245), (85, 0.2315677441045363), (86, 0.23991599108446954), (87, 0.20743302293279803), (88, 0.1913400373989449), (89, 0.1438587312866251), (90, 0.07146660504697498), (91, 0.23019964310022067), (92, 0.1603975672398817), (93, 0.1411409857909796), (94, 0.17091769081567412), (95, 0.059256864715914355), (96, 0.09596062511098462), (97, 0.2196757720237622), (98, 0.15411989232110718), (99, 0.11608824692748906), (100, 0.08591127288468736), (101, 0.1763509305133419), (102, 0.08266479933288536), (103, 0.1455180949664449), (104, 0.19178388300218915), (105, 0.15597355541728747), (106, 0.15606213717310247), (107, 0.15397135530827138), (108, 0.11013090090388918), (109, 0.13349545397494877), (110, 0.1365391201334708), (111, 0.19425928345756477), (112, 0.14562706364356373), (113, 0.2587799932934785), (114, 0.07721032596247618), (115, 0.19936862417205048), (116, 0.07828733333569457), (117, 0.11301685289521683), (118, 0.21592087738387797), (119, 0.11978767782136772), (120, 0.15544812679470824), (121, 0.08089177295035331), (122, 0.1397528563391615), (123, 0.16316530059815232), (124, 0.1682604937855622), (125, 0.19859028597045533), (126, 0.23666207349925145), (127, 0.1399265736420125), (128, 0.10108151697273153), (129, 0.21662238577406698), (130, 0.23863112342871096), (131, 0.16009562558222165), (132, 0.18139581980106279), (133, 0.1474211358068061), (134, 0.14440553273333434), (135, 0.12281660196297534), (136, 0.1904294991488185), (137, 0.09487631535802514), (138, 0.09471612740906546), (139, 0.19089417798085323), (140, 0.1878853925557541), (141, 0.18244131800524233), (142, 0.12506225345681424), (143, 0.20145252316809717), (144, 0.19937032843395125), (145, 0.09399280958637343), (146, 0.1955629089045337), (147, 0.20440260996161255), (148, 0.16262875599919754), (149, 0.16654764766045035), (150, 0.14708966564196527), (151, 0.19445469493165665), (152, 0.11839633943414547), (153, 0.15578456760331677), (154, 0.10252461181854569), (155, 0.06395422174064487), (156, 0.15719280866815194), (157, 0.21223386172936837), (158, 0.1533735559204762), (159, 0.07544046224264855), (160, 0.15429186142300805), (161, 0.21838496984716912), (162, 0.18371586352326072), (163, 0.17104753482135682), (164, 0.1620859824808293), (165, 0.06563780264090163), (166, 0.18702556916851623), (167, 0.05036726826474577), (168, 0.1650761405352789), (169, 0.14649958047607142), (170, 0.12472960544304684), (171, 0.2388514474819879), (172, 0.19993584893619112), (173, 0.14743761497875904), (174, 0.21388489870465058), (175, 0.1095503574723351), (176, 0.17054351490457292), (177, 0.22675478220192946), (178, 0.16062533201640378), (179, 0.11989402300213539), (180, 0.10214942997387785), (181, 0.14549773731972007), (182, 0.21032306488846342), (183, 0.20988266915339393), (184, 0.168542592324093), (185, 0.18905321661571944), (186, 0.20404728085423304), (187, 0.15759952414547226), (188, 0.14114817212085776), (189, 0.16206188236736957), (190, 0.1904218006844192), (191, 0.12101446402838557), (192, 0.21046175705146614), (193, 0.065148500542601), (194, 0.16199859502593913), (195, 0.13177751835060478), (196, 0.13154586339908014), (197, 0.136192159870691), (198, 0.15933936791769776), (199, 0.10355364682247174), (200, 0.05760318302583195), (201, 0.13563280353312995), (202, 0.09911364340506608), (203, 0.13287297351428512), (204, 0.16863850465563382), (205, 0.18710806601054217), (206, 0.11821498573589449), (207, 0.24757711454720863), (208, 0.17993728590765845), (209, 0.09524694362691288), (210, 0.10054256371320067), (211, 0.09693619752717049), (212, 0.19400838050552255), (213, 0.2439818752812214), (214, 0.08340416478098622), (215, 0.10745801728929112), (216, 0.19233974906116447), (217, 0.12377744682491924), (218, 0.12426131422830039), (219, 0.16502645208955585), (220, 0.15602137192293597), (221, 0.10791136830892128), (222, 0.11436389497904825), (223, 0.23381650530396902), (224, 0.17166219512570513), (225, 0.11121890316018711), (226, 0.08655529548251363), (227, 0.1534582424890293), (228, 0.10949745448042798), (229, 0.17966348953223538), (230, 0.21525620127980177), (231, 0.14048334463228668), (232, 0.12895118892271262), (233, 0.05274315025240324), (234, 0.14021388204183355), (235, 0.197774980329434), (236, 0.10591960251260589), (237, 0.23106554808437443), (238, 0.15794360335247135), (239, 1.0000000000000004), (240, 0.18835802448105496), (241, 0.21903032953815643), (242, 0.09351112556971967), (243, 0.09850116374775734), (244, 0.11746713470365425), (245, 0.19881894976858702), (246, 0.1739858019257871), (247, 0.18204282475173364), (248, 0.14390704098052295), (249, 0.198564211832014), (250, 0.11070184847625854), (251, 0.10114298789050229), (252, 0.2039693728741924), (253, 0.18527371983047064), (254, 0.09136540269096999), (255, 0.11075396297954644), (256, 0.20167460706661192), (257, 0.14223620647649535), (258, 0.1734334143511097), (259, 0.16381293558445784), (260, 0.250234933324684), (261, 0.1865979355346643), (262, 0.1694959817096364), (263, 0.0957350531728567), (264, 0.1565623150410642), (265, 0.23878294167854142), (266, 0.14792359811049272), (267, 0.19741388552759312), (268, 0.2617166108100705), (269, 0.22176839662462797), (270, 0.15958283869115095), (271, 0.12419889763994907), (272, 0.11743836255414873), (273, 0.12800815590051504), (274, 0.1032242278297551), (275, 0.08528642038536141), (276, 0.21054905322279224), (277, 0.14251594369273463), (278, 0.15702982654990563), (279, 0.08161579518719289), (280, 0.15227335187688235), (281, 0.12062791552902796), (282, 0.12329116008817594), (283, 0.07756539542526951), (284, 0.17231089613598186), (285, 0.09583304131765463), (286, 0.13297346876199054), (287, 0.13272337887897412), (288, 0.17137010872793357), (289, 0.15178323845052916), (290, 0.2079678190550694), (291, 0.11715205463436275), (292, 0.1616411522803249), (293, 0.1767004970144013), (294, 0.10791139147466265), (295, 0.0985419742783742), (296, 0.10603134202220592), (297, 0.12164618754173513), (298, 0.08143942555496046), (299, 0.09128791096546521), (300, 0.22135070681946067), (301, 0.08540939326354603), (302, 0.05448360665644705), (303, 0.12708509182715416), (304, 0.1693191732586083), (305, 0.10292281768183485), (306, 0.10908799291002048), (307, 0.12922784161907017), (308, 0.1428306013534832), (309, 0.1345912898937716), (310, 0.17865038080774903), (311, 0.09901594424657892), (312, 0.20761092630747377), (313, 0.1935898068076572), (314, 0.14391750150995591), (315, 0.1647597469445563), (316, 0.11703004321324889), (317, 0.0757073704405756), (318, 0.10175290713165853), (319, 0.14526564274077639), (320, 0.16915429885021338), (321, 0.17401077887587635), (322, 0.08433660829260733), (323, 0.19154677114743138), (324, 0.1599437069321482), (325, 0.10058781069206967), (326, 0.18178055775230864), (327, 0.059011060392370474), (328, 0.11655764702276095), (329, 0.10056904730121363), (330, 0.13784799406194226), (331, 0.1297057924829047), (332, 0.1812975266178743), (333, 0.1958949041487058), (334, 0.15488835318270486), (335, 0.11981813701515383), (336, 0.1369284661152726), (337, 0.1795729532029944), (338, 0.1791651272956751), (339, 0.13722320597536514), (340, 0.13565694956029528), (341, 0.07037341932809989), (342, 0.15491872960481048), (343, 0.10668246939559631), (344, 0.09117911033602477), (345, 0.15423680142208965), (346, 0.14377944142435964), (347, 0.11527182862957233), (348, 0.04465182220861743), (349, 0.11800408465669601), (350, 0.19997129269979175), (351, 0.06973634830036263), (352, 0.1440145637852324), (353, 0.11076040766907826), (354, 0.13232641716555002), (355, 0.13053634654962298), (356, 0.17141941683231415), (357, 0.09662363834633242), (358, 0.11564626938088052), (359, 0.21789923970730704), (360, 0.07496069992412652), (361, 0.15954245620899057), (362, 0.18121399793689283), (363, 0.16962061695548808), (364, 0.21894717677380268), (365, 0.13627270094624663), (366, 0.1811864492099185), (367, 0.1484786656114677), (368, 0.12085249430643687), (369, 0.12234325964152311), (370, 0.18098709307792712), (371, 0.044252510374035846), (372, 0.10866803107808731), (373, 0.19770014438964953), (374, 0.11487332500371651), (375, 0.22584228129895084), (376, 0.15526768219263937), (377, 0.1752262018385779), (378, 0.1811776917656778), (379, 0.04709903234872396), (380, 0.07166254913375791), (381, 0.14395358456066995), (382, 0.14700567444321508), (383, 0.19522748936162432), (384, 0.07695975864753384), (385, 0.17916204835871832), (386, 0.16295786549695562), (387, 0.14540411749901666), (388, 0.09953100664046), (389, 0.15440546509632716), (390, 0.16006722362521783), (391, 0.24116474282331388), (392, 0.1903990139670882), (393, 0.0785176745196353), (394, 0.12729741862470367), (395, 0.12145941779971348), (396, 0.09079644523783424), (397, 0.1612477737821843), (398, 0.1959104379164821), (399, 0.14188663440890398), (400, 0.15736116303037395), (401, 0.13232538128486276), (402, 0.1436516985758569), (403, 0.2358746818961878), (404, 0.17838640782643247), (405, 0.2167258077613735), (406, 0.24078248079455575), (407, 0.15974942557854047), (408, 0.206463046754209), (409, 0.21876554540348134), (410, 0.10193503555747305), (411, 0.10951264596745798), (412, 0.10614911389386636), (413, 0.14384703231208396), (414, 0.1208383198213111), (415, 0.1718900629877441), (416, 0.11858806914395077), (417, 0.15920075229197575), (418, 0.19190985856447468), (419, 0.15453564301871034), (420, 0.17004385829207067), (421, 0.2203423401138343), (422, 0.17054114833947803), (423, 0.1612827270211648), (424, 0.19760454575276912), (425, 0.23618901676853576), (426, 0.20040474611587977), (427, 0.18183823948814834), (428, 0.09800156787663283), (429, 0.08936789062916639), (430, 0.13192162085219153), (431, 0.0511344722276806), (432, 0.14418068506221882), (433, 0.15652772649927182), (434, 0.17352477561053983), (435, 0.1606201405516205), (436, 0.07654777147634727), (437, 0.08326799575311461), (438, 0.1285255419649695), (439, 0.1082807885902366), (440, 0.14524810035729444), (441, 0.17187602439430938), (442, 0.1087177466927369), (443, 0.15874152286105908), (444, 0.08187570964570946), (445, 0.14394938891947748), (446, 0.10336533845186259), (447, 0.10926583401090344), (448, 0.11092454025525593), (449, 0.06841754678459208), (450, 0.12298780475158391), (451, 0.13628440872740472), (452, 0.1763986309701008), (453, 0.08725592882965211), (454, 0.20760905118158382), (455, 0.09083774124276674), (456, 0.1545353439657381), (457, 0.14571746801985505), (458, 0.13257965282187859), (459, 0.13038047863257035), (460, 0.14401744702031063), (461, 0.07317876271648925), (462, 0.15841325147674093), (463, 0.13542201446764096), (464, 0.15163399934687627), (465, 0.190869211207448), (466, 0.16501002740360157), (467, 0.14377632361819515), (468, 0.2268778113713998), (469, 0.11220687584008157), (470, 0.20113140305700258), (471, 0.11834754113075026), (472, 0.1492410502096355), (473, 0.12068646154029844), (474, 0.13395261962423882), (475, 0.0638596998962666), (476, 0.17045906020982576), (477, 0.1346883443028012), (478, 0.12767400160830686), (479, 0.1611781957689821), (480, 0.12981557701763827), (481, 0.07804385899348197), (482, 0.16843592477653785), (483, 0.2516218572546381), (484, 0.1524460271978622), (485, 0.0920903163364709), (486, 0.14506019826312794), (487, 0.1451511876204654), (488, 0.09107758862059691), (489, 0.0995447206299308), (490, 0.07903139137424736), (491, 0.1155737535306292), (492, 0.10387612468655597), (493, 0.16419574658453612), (494, 0.08992890105151886), (495, 0.11024857352298588), (496, 0.1476547610872308), (497, 0.17216025907959837), (498, 0.10994555461498115), (499, 0.23609005632137495), (500, 0.14708318930682907), (501, 0.17378672694392017), (502, 0.20241916027600795), (503, 0.11862388069051558), (504, 0.0767364696376285), (505, 0.06973522729598058), (506, 0.1952490292193988), (507, 0.2360625307638787), (508, 0.07556039098344973), (509, 0.17103520258421923), (510, 0.09160490615886399), (511, 0.1023097667881384), (512, 0.1223546993872058), (513, 0.10292998459423197), (514, 0.08599638436865888), (515, 0.11436262537130015), (516, 0.2030209918541311), (517, 0.11396175384847416), (518, 0.11152698680823357), (519, 0.22089135367514715), (520, 0.08853301069411923), (521, 0.15339298822202949), (522, 0.06907639111269326), (523, 0.1370944633606767), (524, 0.13714041671852734), (525, 0.1567690849456444), (526, 0.1456241734319106), (527, 0.1332276096730386), (528, 0.07537475120446327), (529, 0.15912502381523236), (530, 0.17133569090001985), (531, 0.19243699921560872), (532, 0.14391380963809466), (533, 0.16403318819942334), (534, 0.26396174739364414), (535, 0.07496579737198046), (536, 0.09492245149892416), (537, 0.18944957195861858), (538, 0.21832001443782037), (539, 0.1584251068534144), (540, 0.07719243762936381), (541, 0.17814046856336177), (542, 0.18432998401668857), (543, 0.07329203750644923), (544, 0.07705588262388932), (545, 0.12382623700427065), (546, 0.09271990898646454), (547, 0.09550304735264925), (548, 0.11429432967791552), (549, 0.08496551398819317), (550, 0.23461010217584669), (551, 0.10420604600451475), (552, 0.2359344920520222), (553, 0.1276424569663139), (554, 0.11257626335020035), (555, 0.2082396426041366), (556, 0.06652688714402177), (557, 0.11346940066198098), (558, 0.03556040370808907), (559, 0.14300569368320223), (560, 0.15489773086201122), (561, 0.132023385716843), (562, 0.1789752239772897), (563, 0.09956818763999067), (564, 0.11714603251468565), (565, 0.115047812650768), (566, 0.22330310343234627), (567, 0.18456321545753646), (568, 0.18469191636392382), (569, 0.1404426786150661), (570, 0.07067990329181659), (571, 0.09709905656878717), (572, 0.1973047794494998), (573, 0.1014335284941139), (574, 0.11152558547097911), (575, 0.12018681094746424), (576, 0.12021447625084328), (577, 0.15798752057711252), (578, 0.15540178467060942), (579, 0.16013584242124781), (580, 0.1003910395535391), (581, 0.10929181092919783), (582, 0.2019917791862821), (583, 0.20267483846931714), (584, 0.19568026369567532), (585, 0.15462929485086174), (586, 0.06091462027416513), (587, 0.2250504855838018), (588, 0.10669319331174461), (589, 0.18906489671107254), (590, 0.14275664635810667), (591, 0.07113046402495617), (592, 0.15547373314078172), (593, 0.18056148444525252), (594, 0.13330004927718975), (595, 0.2019264692595344), (596, 0.1485553113948677), (597, 0.12033302058902749), (598, 0.10000021568020957), (599, 0.15932257856833626), (600, 0.19540684504548994), (601, 0.11874239987186239), (602, 0.1533855338699592), (603, 0.09548005344267366), (604, 0.11294628980756671), (605, 0.09714369901712747), (606, 0.11609160268743889), (607, 0.194184003761226), (608, 0.07337019325978061), (609, 0.16444437915130392), (610, 0.12674755323746054), (611, 0.2795194141439721), (612, 0.15004735506031405), (613, 0.1077968162503004), (614, 0.05550714814006303), (615, 0.07095495360461838), (616, 0.26599811881259583), (617, 0.19752425132875215), (618, 0.16362711170682037), (619, 0.10583384427568361), (620, 0.22669319406420196), (621, 0.16592570039535567), (622, 0.11620241799181151), (623, 0.06716584142649182), (624, 0.14949218416298), (625, 0.111420862544866), (626, 0.15983015052898703), (627, 0.11092240872357052), (628, 0.12151854455569326), (629, 0.1730108201242908), (630, 0.2407662871800216), (631, 0.10014874391744774), (632, 0.07848708255416406), (633, 0.12683646693675094), (634, 0.22190926038247832), (635, 0.06969114927226389), (636, 0.12212161902729668), (637, 0.16335559466720878), (638, 0.11241796450533977), (639, 0.12253887351062355), (640, 0.13154838978806752), (641, 0.05813665379416189), (642, 0.21631280522607543), (643, 0.10636430867798245), (644, 0.06559648380754046), (645, 0.2043434681425759), (646, 0.12817611951617877), (647, 0.23608331742203764), (648, 0.044821880579783445), (649, 0.1177918224650707), (650, 0.1249231870489736), (651, 0.12603233314751774), (652, 0.1148221726213437), (653, 0.1323621167355607), (654, 0.18808369561400448), (655, 0.17190253927177657), (656, 0.11920289568200086), (657, 0.07171113807691112), (658, 0.11438618803365627), (659, 0.1004751278425736), (660, 0.12762786763778178), (661, 0.15457392150759636), (662, 0.1913205388459881), (663, 0.17193371022145523), (664, 0.043126562333928746), (665, 0.11916278101744938), (666, 0.169558972382601), (667, 0.10316486981186233), (668, 0.11872337486501798), (669, 0.1615519015037378), (670, 0.19828243248044955), (671, 0.21359207969148436), (672, 0.04420506739478063), (673, 0.1352002350999714), (674, 0.18522800734297157), (675, 0.19181436305326705), (676, 0.08211824011404283), (677, 0.10168407462617982), (678, 0.17530977072001222), (679, 0.11832255163912674), (680, 0.10576542019730599), (681, 0.13937420374260318), (682, 0.22076504376875594), (683, 0.13640534586080305), (684, 0.06079473498026475), (685, 0.1471097192175884), (686, 0.09009453904860787), (687, 0.17575839650228903), (688, 0.1986975976440247), (689, 0.23033860836544257), (690, 0.2079612773980012), (691, 0.12028204332111252), (692, 0.10050462602915751), (693, 0.12962050630784389), (694, 0.07429972437195363), (695, 0.21274844627529146), (696, 0.13854930540473942), (697, 0.15899637886150322), (698, 0.1903203349265742), (699, 0.11073864266110742), (700, 0.10249696402202889), (701, 0.08265273730917605), (702, 0.14902530856591983), (703, 0.13091620155932226), (704, 0.1711177354652862), (705, 0.10186059387838443), (706, 0.13478283719982534), (707, 0.10140613880043574), (708, 0.08968759670181381), (709, 0.08302918335798518), (710, 0.3245024682766151), (711, 0.1323055495413169), (712, 0.14023479645949694), (713, 0.09479720883198851), (714, 0.19433774122406564), (715, 0.1066751939097463), (716, 0.16670582188948058), (717, 0.14823337118303098), (718, 0.14834576960699403), (719, 0.07279472653138863), (720, 0.15087101281186435), (721, 0.11542569063923078), (722, 0.13126824768690024), (723, 0.10105085328831882), (724, 0.09892269395219644), (725, 0.16994784284485864), (726, 0.14650428210450692), (727, 0.1474835829202562), (728, 0.24524953211824027), (729, 0.22435410412451873), (730, 0.07694387502762721), (731, 0.13064767686596376), (732, 0.1552152495639738), (733, 0.2511455277088216), (734, 0.09213836917697193), (735, 0.11256816704352636), (736, 0.10275741539467938), (737, 0.07649305887567655), (738, 0.12774765442849992), (739, 0.16531304990896414), (740, 0.1376998270767345), (741, 0.13134366610759812), (742, 0.16573186967709794), (743, 0.08998398897377792), (744, 0.1807247093355445), (745, 0.16714253559443784), (746, 0.08216937721131173), (747, 0.12233595079086647), (748, 0.05102732980833132), (749, 0.1066976476635389), (750, 0.13706785631215226), (751, 0.21069370218927272), (752, 0.1279536150848969), (753, 0.0798310751136983), (754, 0.14898044283474793), (755, 0.06342979547678586), (756, 0.11319238250129121), (757, 0.11544924711807823), (758, 0.19217869738574783), (759, 0.13965303467896992), (760, 0.0728357478868485), (761, 0.1291550946664218), (762, 0.0910088116408586), (763, 0.09355106546321933), (764, 0.1656449231385199), (765, 0.15985538793118176), (766, 0.2371548434056072), (767, 0.16858355931662813), (768, 0.08818927052951363), (769, 0.17323221491353277), (770, 0.16023228629199904), (771, 0.15631992386306437), (772, 0.06965103738728141), (773, 0.14026062749059234), (774, 0.11283174027117737), (775, 0.14947911765022107), (776, 0.09881545683099215), (777, 0.07529298771359091), (778, 0.15415867278256207), (779, 0.13071102548577385), (780, 0.15959028757902358), (781, 0.06893723798411713), (782, 0.2010027841958489), (783, 0.2495014052990623), (784, 0.09627465512089302), (785, 0.12243912197125148), (786, 0.07643879816434258), (787, 0.1292641011448361), (788, 0.10771289303322738), (789, 0.12698151396835944), (790, 0.14454041542532917), (791, 0.15477810122965616), (792, 0.15002155705544465), (793, 0.1587197409754246), (794, 0.10905332781327826), (795, 0.15861201280270223), (796, 0.1263555091538964), (797, 0.1283632345002338), (798, 0.19887313968044634), (799, 0.1107840664210449), (800, 0.19409315055186716), (801, 0.10984361869228751), (802, 0.21773639651104712), (803, 0.09264679636376626), (804, 0.15992388780209646), (805, 0.07400009602166246), (806, 0.0706866155596912), (807, 0.08837915591232615), (808, 0.14413897030332865), (809, 0.07081791258230566), (810, 0.14384401400998809), (811, 0.11883133910879151), (812, 0.1269360504388268), (813, 0.09114719895995636), (814, 0.18280672962426345), (815, 0.14443936811018282), (816, 0.14632793163792857), (817, 0.09685415973508922), (818, 0.1125853517226672), (819, 0.12493123136841361), (820, 0.1493321523663569), (821, 0.19149845411793043), (822, 0.09038241575676037), (823, 0.057086898364701204), (824, 0.12008055081154609), (825, 0.1241422957999082), (826, 0.09277690285661423), (827, 0.12444833807602887), (828, 0.18054417533265743), (829, 0.11836782950229084), (830, 0.16050822977575646), (831, 0.1850760152590445), (832, 0.0771578272334775), (833, 0.06256753203496299), (834, 0.16937867990650032), (835, 0.05340983373776863), (836, 0.21224127011107286), (837, 0.20342315574339329), (838, 0.20566676947659224), (839, 0.1006620996605154), (840, 0.10935635768074055), (841, 0.16350210974250295), (842, 0.2168328667869743), (843, 0.18048979465846604), (844, 0.12408629725442084), (845, 0.11193770265458271), (846, 0.12747203820815145), (847, 0.10364084276614018), (848, 0.05838334095903394), (849, 0.205619899627876), (850, 0.15164102590996587), (851, 0.11501967220726458), (852, 0.04551126748921293), (853, 0.11169212621238428), (854, 0.13055424189627843), (855, 0.16427283382853225), (856, 0.07752278565391552), (857, 0.13318703653815578), (858, 0.16897807829252426), (859, 0.048348649437678526), (860, 0.09950685286299323), (861, 0.12564294088932815), (862, 0.09993499948524101), (863, 0.14388396378164053), (864, 0.08949140510558887), (865, 0.21141712191518203), (866, 0.08955082618291876), (867, 0.1011912709750929), (868, 0.11386677960023824), (869, 0.07426732830299494), (870, 0.10132133693202788), (871, 0.08521285668825757), (872, 0.07790230585091354), (873, 0.12956389863602236), (874, 0.09759271344240102), (875, 0.15577581671104743), (876, 0.08190150363556356), (877, 0.24360135694467897), (878, 0.12710779026431446), (879, 0.10156907636357812), (880, 0.11305784400313912), (881, 0.21218197812902095), (882, 0.0910391245317261), (883, 0.2676947074741019), (884, 0.13347811888523894), (885, 0.04359118827777631), (886, 0.18943523359923045), (887, 0.133822436455822), (888, 0.13989978008843482), (889, 0.1861782679621561), (890, 0.08835286782200885), (891, 0.04971941037577665), (892, 0.17879089658366443), (893, 0.057898238079546215), (894, 0.08109707002411881), (895, 0.14648029594526207), (896, 0.21854011634123496), (897, 0.20173987161994153), (898, 0.1430002795174492), (899, 0.0915452087872395), (900, 0.14244509568714622), (901, 0.06481705254601454), (902, 0.06845351437851059), (903, 0.102468049732498), (904, 0.15109367328904888), (905, 0.12852305303847172), (906, 0.14564489297858305), (907, 0.04782622850506835), (908, 0.17193272968353274), (909, 0.17839557727210037), (910, 0.1689039289837051), (911, 0.06311982014795625), (912, 0.15545739226986224), (913, 0.08469359205440458), (914, 0.22385733110925993), (915, 0.12401694854451234), (916, 0.26417993145238244), (917, 0.0714354519806053), (918, 0.10742314554351401), (919, 0.08781562254290103), (920, 0.18944175570021765), (921, 0.1271500910848331), (922, 0.1445720313367353), (923, 0.22426745453509586), (924, 0.12388276849960682), (925, 0.16929209993877775), (926, 0.19036594839209148), (927, 0.16060464565695978), (928, 0.24334886439208503), (929, 0.11024647391357849), (930, 0.1381408072494015), (931, 0.11557944452852162), (932, 0.11127455961171953), (933, 0.09372727878741892), (934, 0.17777506279851996), (935, 0.14801702986317722), (936, 0.21835692372986423), (937, 0.1854868267508467), (938, 0.12798956269239659), (939, 0.07671760264719124), (940, 0.20715088137335333), (941, 0.18315016206975437), (942, 0.1650313039220023), (943, 0.18244418491006564), (944, 0.14090000687205434), (945, 0.058476442568394946), (946, 0.1432111610555888), (947, 0.10013855809890405), (948, 0.05196005894230395), (949, 0.10908794031752993), (950, 0.06770444323537803), (951, 0.18936528912055867), (952, 0.12201824646583555), (953, 0.07183484486521166), (954, 0.10725671281825136), (955, 0.20873049962235157), (956, 0.11498707036426521), (957, 0.11232190962076397), (958, 0.10075306059661457), (959, 0.14705640664654634), (960, 0.23476531806825152), (961, 0.1439111359769479), (962, 0.15892083565490717), (963, 0.0678037055883281), (964, 0.18042962459316222), (965, 0.12229900751104744), (966, 0.21339576181218997), (967, 0.21091899848165432), (968, 0.0644047546794069), (969, 0.097154349015506), (970, 0.10994641776376364), (971, 0.14192817946376077), (972, 0.155911186792866), (973, 0.09966999177401563), (974, 0.2596972331093643), (975, 0.17738804874043518), (976, 0.07231337727783752), (977, 0.18815833579330812), (978, 0.028056276762182294), (979, 0.14721719315045928), (980, 0.21152691328438283), (981, 0.17845312296630672), (982, 0.1037809024322314), (983, 0.25752937388683467), (984, 0.08219621480087598), (985, 0.04932426450472771), (986, 0.06600926596246806), (987, 0.07878464420095796), (988, 0.18520071277371292), (989, 0.11604876422294415), (990, 0.18422713052005382), (991, 0.10872992731204198), (992, 0.17397588271520908), (993, 0.10822344550367585), (994, 0.13610559551764725), (995, 0.08706127187881284), (996, 0.14052854552574762), (997, 0.19255168537577264), (998, 0.14587726907306278), (999, 0.13253523300107667), (1000, 0.0615635255320586), (1001, 0.13837492113341968), (1002, 0.05556618290089956), (1003, 0.17471562402314103), (1004, 0.08668226130997957), (1005, 0.1401855982030751), (1006, 0.15724164188691614), (1007, 0.11966599112164053), (1008, 0.15576178590202833), (1009, 0.10318364894189093), (1010, 0.0877247223686719), (1011, 0.09837756533495212), (1012, 0.13564729419683613), (1013, 0.23018509795662123), (1014, 0.19140712257248596), (1015, 0.10898979360144215), (1016, 0.19075520744531202), (1017, 0.07185335604477978), (1018, 0.10151735821733712), (1019, 0.1538699548315198), (1020, 0.2103900934826171), (1021, 0.07397289075306532), (1022, 0.13467738166035198), (1023, 0.144914352342379), (1024, 0.08230021724330228), (1025, 0.1152736389373918), (1026, 0.09349565885096), (1027, 0.1364556193486742), (1028, 0.06353472395410267), (1029, 0.0937667526608051), (1030, 0.08936737612974602), (1031, 0.11398362697436473), (1032, 0.13935491300421785), (1033, 0.1538642326590855), (1034, 0.09388231074274012), (1035, 0.10294325042323985), (1036, 0.09475216140601046), (1037, 0.14958810176504855), (1038, 0.10300394737302386), (1039, 0.1357265218479036), (1040, 0.10927848643881319), (1041, 0.11483887628509411), (1042, 0.11113776614193481), (1043, 0.06872970694663097), (1044, 0.11559481188166357), (1045, 0.09095643414079227), (1046, 0.07133803689259972), (1047, 0.09341222507680605), (1048, 0.11860827915585521), (1049, 0.13273895881027425), (1050, 0.11052312819629234), (1051, 0.09582994876133091), (1052, 0.14222937435777072), (1053, 0.09324285637827681), (1054, 0.19356679677604632), (1055, 0.2108620278910463), (1056, 0.08803322265913954), (1057, 0.1225152288986001), (1058, 0.12611274990638188), (1059, 0.08813699391270854), (1060, 0.10739185105539512), (1061, 0.1524017618503777), (1062, 0.1710683771501095), (1063, 0.08362198694419706), (1064, 0.17096592137282862), (1065, 0.049332962631169555), (1066, 0.0880542810827515), (1067, 0.11884244730571429), (1068, 0.06765913873060644), (1069, 0.11558954253346053), (1070, 0.1488153098205171), (1071, 0.1070990041263523), (1072, 0.11969198073871432), (1073, 0.0702116188234198), (1074, 0.11270731900453768), (1075, 0.09288199647274371), (1076, 0.09485558305531894), (1077, 0.14284758941806136), (1078, 0.09581613501767748), (1079, 0.16206157259794463), (1080, 0.07334895189251565), (1081, 0.10706873348662241), (1082, 0.14706146189412114), (1083, 0.12352219573444741), (1084, 0.10100775874494251), (1085, 0.07000962920457703), (1086, 0.19101687382533383), (1087, 0.10536996816737262), (1088, 0.08826814404319747), (1089, 0.10606089243113835), (1090, 0.18130018448282018), (1091, 0.17380941799477623), (1092, 0.1243685427208282), (1093, 0.12092480473210056), (1094, 0.08757265063617492), (1095, 0.08793441716244019), (1096, 0.1237521305938344), (1097, 0.08691759094483517), (1098, 0.10326342841416869), (1099, 0.08120476236107554), (1100, 0.09147597982180886), (1101, 0.07729581408869969), (1102, 0.1512917727191838), (1103, 0.15095907942617356), (1104, 0.09907739665582882), (1105, 0.12633026846949677), (1106, 0.09585690400711838), (1107, 0.08086946874813286), (1108, 0.12331415588790484), (1109, 0.07250472618720029), (1110, 0.10295347603504078), (1111, 0.17290952966249368), (1112, 0.09349159277594156), (1113, 0.12394119537382275), (1114, 0.07291875928555336), (1115, 0.11228441354304701), (1116, 0.07661311662625614), (1117, 0.07745286137866955), (1118, 0.11076091100673463), (1119, 0.1078150200795018), (1120, 0.09447837185761426), (1121, 0.147641294321841), (1122, 0.12860646942229728), (1123, 0.141675965522922), (1124, 0.06965079738905722), (1125, 0.09898856696160936), (1126, 0.04925346112565164), (1127, 0.033773036450442925), (1128, 0.10169522109153933), (1129, 0.08771469034956086), (1130, 0.08394636347577018), (1131, 0.0759523381360407), (1132, 0.11014318765721677), (1133, 0.13105884396533288), (1134, 0.10244610678799339), (1135, 0.11540209792699198), (1136, 0.059477427590761106), (1137, 0.12947513727371293), (1138, 0.10195934744945107), (1139, 0.19567112960446587), (1140, 0.10455469141006278), (1141, 0.13659527541644614), (1142, 0.07451511041057474), (1143, 0.09271794554886986), (1144, 0.11670972626551303), (1145, 0.13096744627940232), (1146, 0.08465307204132722), (1147, 0.06691538520330818), (1148, 0.14952018387393717), (1149, 0.06184026911206913), (1150, 0.11238369931258704), (1151, 0.10421811079227747), (1152, 0.07862768671796709), (1153, 0.08096829161950064), (1154, 0.07726916715383433), (1155, 0.11521634427555064), (1156, 0.10933402486450015), (1157, 0.12507139803120512), (1158, 0.16143083125388277), (1159, 0.11797352233161233), (1160, 0.06438485028318743), (1161, 0.09912416013496393), (1162, 0.08186113507109968), (1163, 0.12725067755039943), (1164, 0.13929075048287376), (1165, 0.08841450315250811), (1166, 0.07188122952440403), (1167, 0.09926149203476946), (1168, 0.10542717268103306), (1169, 0.12233967974571472), (1170, 0.11831717959847673), (1171, 0.1467597338878752), (1172, 0.11448198581506959), (1173, 0.11379210602508012), (1174, 0.09833254806523067), (1175, 0.09500595345256413), (1176, 0.09195831804916758), (1177, 0.10022623040732064), (1178, 0.12979877985145316), (1179, 0.08466363388868936), (1180, 0.16665066942874615), (1181, 0.08082216934934879), (1182, 0.10074269983691461), (1183, 0.10995692339799056), (1184, 0.10788970136077858), (1185, 0.09788167655162441), (1186, 0.071016248050572), (1187, 0.086091222930032), (1188, 0.10049406425876758), (1189, 0.048709188312742034), (1190, 0.07670480099550239), (1191, 0.14922082473794712), (1192, 0.061203961327564206), (1193, 0.116157638402258), (1194, 0.12904586528344825), (1195, 0.08874444980942892), (1196, 0.055301989012157354), (1197, 0.12897656739667973), (1198, 0.10661414320650964), (1199, 0.08440014624338293), (1200, 0.03780817479046709), (1201, 0.11692676266667629), (1202, 0.1042672494854716), (1203, 0.05958530301149672), (1204, 0.11416843474736749), (1205, 0.1283034933014995), (1206, 0.1087523930708485), (1207, 0.047844284298929625), (1208, 0.14197027144555668), (1209, 0.10130760525143961), (1210, 0.07798623268297439), (1211, 0.12179145870145591), (1212, 0.0801526148132983), (1213, 0.1154063704538281), (1214, 0.09735558965264929), (1215, 0.1768891247634685), (1216, 0.15683618128963173), (1217, 0.09584404320253123), (1218, 0.08599759683936965), (1219, 0.158472248346357), (1220, 0.09357753801365888), (1221, 0.131981938793466), (1222, 0.10298179790545933), (1223, 0.09213509319838714), (1224, 0.15462455934638053), (1225, 0.10340537818935927), (1226, 0.09215157757892502), (1227, 0.10816880825207752), (1228, 0.07388844665989577), (1229, 0.10600023743962558), (1230, 0.12669607249424694), (1231, 0.1374182928173913), (1232, 0.09815327567969218), (1233, 0.13376746703049022), (1234, 0.09845667469377005), (1235, 0.05240203230098656), (1236, 0.15557014621895524), (1237, 0.13098725963911464), (1238, 0.14847515579352696), (1239, 0.08766692479015206), (1240, 0.16594723017196258), (1241, 0.10648408778775276), (1242, 0.10120119744814543), (1243, 0.1834948664970029), (1244, 0.08288532445228346), (1245, 0.16610874937454845), (1246, 0.1558971739244), (1247, 0.1479159159426391), (1248, 0.13011008509722274), (1249, 0.08548307390096756), (1250, 0.060376051832856256), (1251, 0.12886956634095675), (1252, 0.11558872479344537), (1253, 0.08759355007981522), (1254, 0.09525406748438811), (1255, 0.1150305578135956), (1256, 0.15964843032261872), (1257, 0.12916222999726817), (1258, 0.16833730653905227), (1259, 0.08822223456146068), (1260, 0.07422990861763089), (1261, 0.1373966428046754), (1262, 0.07683082271629443), (1263, 0.1071737068932257), (1264, 0.14688629255488547), (1265, 0.07396428226434756), (1266, 0.03673840972411067), (1267, 0.11676496274034287), (1268, 0.10318656933404642), (1269, 0.07916742688365128), (1270, 0.09534228436839755), (1271, 0.10603973773010467), (1272, 0.10874493209113097), (1273, 0.07304976774983749), (1274, 0.09529456901931249), (1275, 0.07741162297991855), (1276, 0.09996933901408325), (1277, 0.11880678146247173), (1278, 0.07325574595578913), (1279, 0.12911580004825612), (1280, 0.10163731866503074), (1281, 0.10304826292345838), (1282, 0.11590148332480682), (1283, 0.14932301703674722), (1284, 0.07663170619610463), (1285, 0.09926155238062412), (1286, 0.1660068495495986), (1287, 0.16926401059644006), (1288, 0.06929622766259737), (1289, 0.11245600650893191), (1290, 0.11035319967268281), (1291, 0.10567015226792548), (1292, 0.08046574560049502), (1293, 0.08570459716997574), (1294, 0.21360530040091635), (1295, 0.13115271257868566), (1296, 0.09488554319311177), (1297, 0.10512467602782788), (1298, 0.08730349187473296), (1299, 0.08304422674568872), (1300, 0.09354619826225553), (1301, 0.08592391823761787), (1302, 0.07817379803066696), (1303, 0.1429945133693375), (1304, 0.04888587180749428), (1305, 0.11355057773702086), (1306, 0.045856293416937505), (1307, 0.13164262395248424), (1308, 0.1337137466607274), (1309, 0.08301363169701244), (1310, 0.1633437721722806), (1311, 0.09587903385338763), (1312, 0.15335572432864583), (1313, 0.1668180286398595), (1314, 0.16005713802728896), (1315, 0.06473774467404707), (1316, 0.06086360115935911), (1317, 0.08403918363383077), (1318, 0.08220281280670552), (1319, 0.07931264628200736), (1320, 0.13588305364923373), (1321, 0.10202223403030745), (1322, 0.16080152625073965), (1323, 0.1270446320289609), (1324, 0.1130967627024656), (1325, 0.07872670919263541), (1326, 0.13808245227731294), (1327, 0.1393326911908359), (1328, 0.03487377396386491), (1329, 0.1393452540272268), (1330, 0.1561347766888706), (1331, 0.10148519485347528), (1332, 0.14529150476618474), (1333, 0.08104994464403362), (1334, 0.08253209089808136), (1335, 0.11362147673642027), (1336, 0.07585078161083234), (1337, 0.13918680197410588), (1338, 0.07289866162805418), (1339, 0.07898562992879864), (1340, 0.08580632490773242), (1341, 0.023179050785894554), (1342, 0.06842717776569823), (1343, 0.1338531933099791), (1344, 0.14416399186144585), (1345, 0.12426299779861728), (1346, 0.11832809379586784), (1347, 0.12723303635285288), (1348, 0.059997863497979566), (1349, 0.09955605728390332), (1350, 0.08689829728018932), (1351, 0.16358331866079484), (1352, 0.1659875434512038), (1353, 0.11802794402840286), (1354, 0.10474803899725775), (1355, 0.07239589747214602), (1356, 0.14471601341453913), (1357, 0.11597263150193901), (1358, 0.12000656015320839), (1359, 0.08594383763100336), (1360, 0.09333909546089743), (1361, 0.06610133980367389), (1362, 0.15204938953804017), (1363, 0.11850942424864912), (1364, 0.10173191591604676), (1365, 0.12336938263341211), (1366, 0.1478393215224404), (1367, 0.06521138815706869), (1368, 0.06425482325690034), (1369, 0.09620600064798303), (1370, 0.07599523718989475), (1371, 0.07354913923261741), (1372, 0.0911455382929847), (1373, 0.06175919640032681), (1374, 0.030840774177586242), (1375, 0.12428686368065206), (1376, 0.0682782248922138), (1377, 0.06318537550148233), (1378, 0.06432945671194726), (1379, 0.10695879136033738), (1380, 0.09104396560116584), (1381, 0.04757948444741189), (1382, 0.1072083514839362), (1383, 0.08239959110594189), (1384, 0.07440981823594799), (1385, 0.13270840885126087), (1386, 0.12635495832236016), (1387, 0.10213083917121611), (1388, 0.10075206854756381), (1389, 0.09051469942200172), (1390, 0.13610508541533792), (1391, 0.05879711588394481), (1392, 0.08521293803492898), (1393, 0.10853420645285264), (1394, 0.08298986525293732), (1395, 0.15659447548847882), (1396, 0.12488727118333807), (1397, 0.15128035578046287), (1398, 0.10142060126152626), (1399, 0.12191453893210359), (1400, 0.12629618419708835), (1401, 0.08177838097166981), (1402, 0.15008916022250995), (1403, 0.10768596839690417), (1404, 0.12252151726990372), (1405, 0.08847331542172528), (1406, 0.09675149677019504), (1407, 0.08407487142301057), (1408, 0.12937612979012064), (1409, 0.06941076669538129), (1410, 0.11552551822527424), (1411, 0.12213244274294967), (1412, 0.07190093774015072), (1413, 0.18152634028061188), (1414, 0.1329883827843441), (1415, 0.07309394775144673), (1416, 0.12212160309072422), (1417, 0.11046791670607954), (1418, 0.08670364248095998), (1419, 0.0924231060579302), (1420, 0.06725327581070052), (1421, 0.0426323492731177), (1422, 0.08965886137564882), (1423, 0.06683570850980124), (1424, 0.11102369777337917), (1425, 0.0795986802966092), (1426, 0.1141080775402005), (1427, 0.1544735922707252), (1428, 0.08592959833100944), (1429, 0.10257290078131957), (1430, 0.07374943408221073), (1431, 0.11577016263851327), (1432, 0.11948471331187933), (1433, 0.09267281338296038), (1434, 0.11478299029647591), (1435, 0.12164338058938318), (1436, 0.06949475120151619), (1437, 0.08806551533721353), (1438, 0.12621051644141668), (1439, 0.09866852947754917), (1440, 0.054900565857766336), (1441, 0.061888600379535766), (1442, 0.10101591433780217), (1443, 0.1521294092988112), (1444, 0.06335603973463606), (1445, 0.12339665630744145), (1446, 0.07133061606402842), (1447, 0.07887953364873983), (1448, 0.07663931277090769), (1449, 0.1467527435673172), (1450, 0.05288176584111431), (1451, 0.08477255772341266), (1452, 0.09244821502602013), (1453, 0.100941347401587), (1454, 0.16789767225360286), (1455, 0.12278011996013369), (1456, 0.0585821008877634), (1457, 0.055627008241309714), (1458, 0.12159399739778809), (1459, 0.10209076040300215), (1460, 0.06577887476420761), (1461, 0.08085574446616065)]\n",
            "[(239, 1.0000000000000004), (710, 0.3245024682766151), (611, 0.2795194141439721), (49, 0.2679861008431944), (883, 0.2676947074741019), (616, 0.26599811881259583), (51, 0.2643672734977924), (916, 0.26417993145238244), (534, 0.26396174739364414), (268, 0.2617166108100705), (974, 0.2596972331093643), (113, 0.2587799932934785), (74, 0.25816118144879996), (983, 0.25752937388683467), (41, 0.2564238276671725), (483, 0.2516218572546381), (733, 0.2511455277088216), (260, 0.250234933324684), (783, 0.2495014052990623), (207, 0.24757711454720863), (728, 0.24524953211824027), (213, 0.2439818752812214), (24, 0.2437734475393899), (877, 0.24360135694467897), (928, 0.24334886439208503), (4, 0.24242815434036946), (391, 0.24116474282331388), (406, 0.24078248079455575), (630, 0.2407662871800216), (86, 0.23991599108446954), (27, 0.2396200222154099), (171, 0.2388514474819879), (265, 0.23878294167854142), (130, 0.23863112342871096), (766, 0.2371548434056072), (126, 0.23666207349925145), (425, 0.23618901676853576), (499, 0.23609005632137495), (647, 0.23608331742203764), (507, 0.2360625307638787), (552, 0.2359344920520222), (403, 0.2358746818961878), (960, 0.23476531806825152), (550, 0.23461010217584669), (223, 0.23381650530396902), (85, 0.2315677441045363), (237, 0.23106554808437443), (38, 0.23034368950127526), (689, 0.23033860836544257), (91, 0.23019964310022067), (1013, 0.23018509795662123), (57, 0.22995536630746566), (26, 0.22842702034669196), (1, 0.2277193522462259), (17, 0.22749674648710624), (468, 0.2268778113713998), (177, 0.22675478220192946), (620, 0.22669319406420196), (375, 0.22584228129895084), (58, 0.22544023909412014), (25, 0.22517281432795314), (587, 0.2250504855838018), (729, 0.22435410412451873), (923, 0.22426745453509586), (914, 0.22385733110925993), (566, 0.22330310343234627), (9, 0.22230808828014167), (634, 0.22190926038247832), (269, 0.22176839662462797), (12, 0.22135153582476128), (300, 0.22135070681946067), (519, 0.22089135367514715), (682, 0.22076504376875594), (421, 0.2203423401138343), (65, 0.21977194580469422), (97, 0.2196757720237622), (62, 0.2193573976131513), (241, 0.21903032953815643), (47, 0.2190273081120637), (364, 0.21894717677380268), (52, 0.21877473121951369), (409, 0.21876554540348134), (896, 0.21854011634123496), (161, 0.21838496984716912), (936, 0.21835692372986423), (538, 0.21832001443782037), (14, 0.2182522495736724), (359, 0.21789923970730704), (802, 0.21773639651104712), (842, 0.2168328667869743), (405, 0.2167258077613735), (129, 0.21662238577406698), (642, 0.21631280522607543), (118, 0.21592087738387797), (230, 0.21525620127980177), (66, 0.2141862558474631), (174, 0.21388489870465058), (1294, 0.21360530040091635), (671, 0.21359207969148436), (10, 0.21355198883690657), (966, 0.21339576181218997), (695, 0.21274844627529146), (836, 0.21224127011107286), (157, 0.21223386172936837), (881, 0.21218197812902095), (980, 0.21152691328438283), (865, 0.21141712191518203), (71, 0.21112428621597867), (967, 0.21091899848165432), (1055, 0.2108620278910463), (751, 0.21069370218927272), (61, 0.2105908649749066), (276, 0.21054905322279224), (192, 0.21046175705146614), (1020, 0.2103900934826171), (182, 0.21032306488846342), (183, 0.20988266915339393), (955, 0.20873049962235157), (555, 0.2082396426041366), (290, 0.2079678190550694), (690, 0.2079612773980012), (312, 0.20761092630747377), (454, 0.20760905118158382), (87, 0.20743302293279803), (39, 0.20720104557284255), (940, 0.20715088137335333), (37, 0.20664799673184217), (408, 0.206463046754209), (838, 0.20566676947659224), (849, 0.205619899627876), (28, 0.20505417902050213), (147, 0.20440260996161255), (645, 0.2043434681425759), (186, 0.20404728085423304), (252, 0.2039693728741924), (36, 0.2035391003129039), (837, 0.20342315574339329), (516, 0.2030209918541311), (583, 0.20267483846931714), (502, 0.20241916027600795), (582, 0.2019917791862821), (595, 0.2019264692595344), (897, 0.20173987161994153), (256, 0.20167460706661192), (143, 0.20145252316809717), (470, 0.20113140305700258), (782, 0.2010027841958489), (426, 0.20040474611587977), (83, 0.2003134052245744), (350, 0.19997129269979175), (172, 0.19993584893619112), (144, 0.19937032843395125), (115, 0.19936862417205048), (798, 0.19887313968044634), (245, 0.19881894976858702), (688, 0.1986975976440247), (125, 0.19859028597045533), (249, 0.198564211832014), (670, 0.19828243248044955), (235, 0.197774980329434), (373, 0.19770014438964953), (424, 0.19760454575276912), (617, 0.19752425132875215), (267, 0.19741388552759312), (572, 0.1973047794494998), (8, 0.19603137853734207), (398, 0.1959104379164821), (333, 0.1958949041487058), (584, 0.19568026369567532), (1139, 0.19567112960446587), (146, 0.1955629089045337), (56, 0.19551380175806476), (600, 0.19540684504548994), (30, 0.19536103583116138), (506, 0.1952490292193988), (383, 0.19522748936162432), (151, 0.19445469493165665), (714, 0.19433774122406564), (111, 0.19425928345756477), (18, 0.19420566152271052), (607, 0.194184003761226), (800, 0.19409315055186716), (212, 0.19400838050552255), (313, 0.1935898068076572), (1054, 0.19356679677604632), (997, 0.19255168537577264), (531, 0.19243699921560872), (216, 0.19233974906116447), (59, 0.19225672770013474), (758, 0.19217869738574783), (20, 0.1920534671755836), (418, 0.19190985856447468), (675, 0.19181436305326705), (104, 0.19178388300218915), (323, 0.19154677114743138), (821, 0.19149845411793043), (1014, 0.19140712257248596), (88, 0.1913400373989449), (662, 0.1913205388459881), (32, 0.19110525561122138), (1086, 0.19101687382533383), (139, 0.19089417798085323), (465, 0.190869211207448), (64, 0.1908658558061871), (1016, 0.19075520744531202), (136, 0.1904294991488185), (190, 0.1904218006844192), (392, 0.1903990139670882), (926, 0.19036594839209148), (698, 0.1903203349265742), (537, 0.18944957195861858), (920, 0.18944175570021765), (886, 0.18943523359923045), (951, 0.18936528912055867), (589, 0.18906489671107254), (185, 0.18905321661571944), (240, 0.18835802448105496), (70, 0.18830414954664934), (977, 0.18815833579330812), (654, 0.18808369561400448), (140, 0.1878853925557541), (33, 0.18722132924710916), (205, 0.18710806601054217), (166, 0.18702556916851623), (261, 0.1865979355346643), (889, 0.1861782679621561), (76, 0.18585010393553542), (63, 0.1855900727062218), (937, 0.1854868267508467), (253, 0.18527371983047064), (674, 0.18522800734297157), (988, 0.18520071277371292), (831, 0.1850760152590445), (75, 0.1848484899889026), (568, 0.18469191636392382), (53, 0.1846655946909364), (567, 0.18456321545753646), (542, 0.18432998401668857), (990, 0.18422713052005382), (162, 0.18371586352326072), (1243, 0.1834948664970029), (941, 0.18315016206975437), (814, 0.18280672962426345), (943, 0.18244418491006564), (141, 0.18244131800524233), (247, 0.18204282475173364), (427, 0.18183823948814834), (326, 0.18178055775230864), (1413, 0.18152634028061188), (132, 0.18139581980106279), (1090, 0.18130018448282018), (332, 0.1812975266178743), (362, 0.18121399793689283), (366, 0.1811864492099185), (378, 0.1811776917656778), (370, 0.18098709307792712), (744, 0.1807247093355445), (593, 0.18056148444525252), (828, 0.18054417533265743), (843, 0.18048979465846604), (964, 0.18042962459316222), (208, 0.17993728590765845), (73, 0.179767004654644), (229, 0.17966348953223538), (337, 0.1795729532029944), (50, 0.17916988974022136), (338, 0.1791651272956751), (385, 0.17916204835871832), (562, 0.1789752239772897), (892, 0.17879089658366443), (310, 0.17865038080774903), (981, 0.17845312296630672), (909, 0.17839557727210037), (404, 0.17838640782643247), (541, 0.17814046856336177), (13, 0.17789678846058152), (934, 0.17777506279851996), (975, 0.17738804874043518), (1215, 0.1768891247634685), (293, 0.1767004970144013), (452, 0.1763986309701008), (101, 0.1763509305133419), (687, 0.17575839650228903), (678, 0.17530977072001222), (377, 0.1752262018385779), (1003, 0.17471562402314103), (29, 0.174270356976176), (321, 0.17401077887587635), (246, 0.1739858019257871), (992, 0.17397588271520908), (1091, 0.17380941799477623), (501, 0.17378672694392017), (434, 0.17352477561053983), (258, 0.1734334143511097), (769, 0.17323221491353277), (629, 0.1730108201242908), (1111, 0.17290952966249368), (67, 0.1728761246078548), (11, 0.17245054263776133), (284, 0.17231089613598186), (497, 0.17216025907959837), (663, 0.17193371022145523), (908, 0.17193272968353274), (655, 0.17190253927177657), (415, 0.1718900629877441), (441, 0.17187602439430938), (23, 0.17175128217440344), (224, 0.17166219512570513), (356, 0.17141941683231415), (288, 0.17137010872793357), (530, 0.17133569090001985), (704, 0.1711177354652862), (1062, 0.1710683771501095), (163, 0.17104753482135682), (509, 0.17103520258421923), (1064, 0.17096592137282862), (94, 0.17091769081567412), (7, 0.17060505518559582), (176, 0.17054351490457292), (422, 0.17054114833947803), (476, 0.17045906020982576), (34, 0.1701857322014681), (420, 0.17004385829207067), (725, 0.16994784284485864), (72, 0.16981939431560159), (363, 0.16962061695548808), (666, 0.169558972382601), (262, 0.1694959817096364), (834, 0.16937867990650032), (304, 0.1693191732586083), (925, 0.16929209993877775), (1287, 0.16926401059644006), (320, 0.16915429885021338), (858, 0.16897807829252426), (910, 0.1689039289837051), (204, 0.16863850465563382), (767, 0.16858355931662813), (184, 0.168542592324093), (482, 0.16843592477653785), (1258, 0.16833730653905227), (124, 0.1682604937855622), (1454, 0.16789767225360286), (2, 0.16741636438564464), (745, 0.16714253559443784), (1313, 0.1668180286398595), (716, 0.16670582188948058), (1180, 0.16665066942874615), (149, 0.16654764766045035), (1245, 0.16610874937454845), (1286, 0.1660068495495986), (1352, 0.1659875434512038), (1240, 0.16594723017196258), (621, 0.16592570039535567), (742, 0.16573186967709794), (764, 0.1656449231385199), (739, 0.16531304990896414), (45, 0.16508149152988125), (168, 0.1650761405352789), (942, 0.1650313039220023), (219, 0.16502645208955585), (466, 0.16501002740360157), (315, 0.1647597469445563), (609, 0.16444437915130392), (855, 0.16427283382853225), (493, 0.16419574658453612), (533, 0.16403318819942334), (259, 0.16381293558445784), (618, 0.16362711170682037), (1351, 0.16358331866079484), (841, 0.16350210974250295), (637, 0.16335559466720878), (1310, 0.1633437721722806), (123, 0.16316530059815232), (386, 0.16295786549695562), (148, 0.16262875599919754), (164, 0.1620859824808293), (189, 0.16206188236736957), (1079, 0.16206157259794463), (194, 0.16199859502593913), (292, 0.1616411522803249), (669, 0.1615519015037378), (1158, 0.16143083125388277), (423, 0.1612827270211648), (397, 0.1612477737821843), (479, 0.1611781957689821), (3, 0.16082756783199192), (1322, 0.16080152625073965), (178, 0.16062533201640378), (435, 0.1606201405516205), (927, 0.16060464565695978), (830, 0.16050822977575646), (92, 0.1603975672398817), (770, 0.16023228629199904), (579, 0.16013584242124781), (131, 0.16009562558222165), (390, 0.16006722362521783), (1314, 0.16005713802728896), (324, 0.1599437069321482), (804, 0.15992388780209646), (765, 0.15985538793118176), (626, 0.15983015052898703), (407, 0.15974942557854047), (1256, 0.15964843032261872), (780, 0.15959028757902358), (270, 0.15958283869115095), (361, 0.15954245620899057), (198, 0.15933936791769776), (599, 0.15932257856833626), (80, 0.15928598815548914), (15, 0.159219000531037), (417, 0.15920075229197575), (529, 0.15912502381523236), (44, 0.15906720533339194), (697, 0.15899637886150322), (962, 0.15892083565490717), (443, 0.15874152286105908), (793, 0.1587197409754246), (795, 0.15861201280270223), (1219, 0.158472248346357), (539, 0.1584251068534144), (462, 0.15841325147674093), (577, 0.15798752057711252), (238, 0.15794360335247135), (187, 0.15759952414547226), (69, 0.15740130182190074), (400, 0.15736116303037395), (1006, 0.15724164188691614), (156, 0.15719280866815194), (278, 0.15702982654990563), (1216, 0.15683618128963173), (525, 0.1567690849456444), (84, 0.15672744122417245), (1395, 0.15659447548847882), (264, 0.1565623150410642), (433, 0.15652772649927182), (771, 0.15631992386306437), (1330, 0.1561347766888706), (106, 0.15606213717310247), (220, 0.15602137192293597), (105, 0.15597355541728747), (972, 0.155911186792866), (1246, 0.1558971739244), (153, 0.15578456760331677), (875, 0.15577581671104743), (1008, 0.15576178590202833), (1236, 0.15557014621895524), (592, 0.15547373314078172), (912, 0.15545739226986224), (120, 0.15544812679470824), (578, 0.15540178467060942), (376, 0.15526768219263937), (732, 0.1552152495639738), (342, 0.15491872960481048), (560, 0.15489773086201122), (334, 0.15488835318270486), (791, 0.15477810122965616), (585, 0.15462929485086174), (1224, 0.15462455934638053), (661, 0.15457392150759636), (419, 0.15453564301871034), (456, 0.1545353439657381), (1427, 0.1544735922707252), (389, 0.15440546509632716), (160, 0.15429186142300805), (345, 0.15423680142208965), (778, 0.15415867278256207), (98, 0.15411989232110718), (107, 0.15397135530827138), (1019, 0.1538699548315198), (1033, 0.1538642326590855), (227, 0.1534582424890293), (521, 0.15339298822202949), (602, 0.1533855338699592), (158, 0.1533735559204762), (1312, 0.15335572432864583), (40, 0.1527815227598469), (484, 0.1524460271978622), (1061, 0.1524017618503777), (280, 0.15227335187688235), (1443, 0.1521294092988112), (1362, 0.15204938953804017), (21, 0.1518485676688624), (289, 0.15178323845052916), (850, 0.15164102590996587), (464, 0.15163399934687627), (1102, 0.1512917727191838), (1397, 0.15128035578046287), (904, 0.15109367328904888), (1103, 0.15095907942617356), (720, 0.15087101281186435), (79, 0.15036022516993106), (1402, 0.15008916022250995), (612, 0.15004735506031405), (792, 0.15002155705544465), (1037, 0.14958810176504855), (0, 0.14956152887656463), (1148, 0.14952018387393717), (624, 0.14949218416298), (775, 0.14947911765022107), (820, 0.1493321523663569), (1283, 0.14932301703674722), (472, 0.1492410502096355), (1191, 0.14922082473794712), (702, 0.14902530856591983), (754, 0.14898044283474793), (1070, 0.1488153098205171), (596, 0.1485553113948677), (367, 0.1484786656114677), (1238, 0.14847515579352696), (718, 0.14834576960699403), (54, 0.14833380781871836), (717, 0.14823337118303098), (935, 0.14801702986317722), (82, 0.14796272277849842), (266, 0.14792359811049272), (1247, 0.1479159159426391), (1366, 0.1478393215224404), (496, 0.1476547610872308), (1121, 0.147641294321841), (727, 0.1474835829202562), (173, 0.14743761497875904), (133, 0.1474211358068061), (979, 0.14721719315045928), (81, 0.14715854043865154), (685, 0.1471097192175884), (150, 0.14708966564196527), (500, 0.14708318930682907), (1082, 0.14706146189412114), (959, 0.14705640664654634), (382, 0.14700567444321508), (31, 0.14696691317430804), (1264, 0.14688629255488547), (78, 0.14679116640469386), (1171, 0.1467597338878752), (1449, 0.1467527435673172), (42, 0.14665944842342235), (726, 0.14650428210450692), (169, 0.14649958047607142), (895, 0.14648029594526207), (816, 0.14632793163792857), (998, 0.14587726907306278), (457, 0.14571746801985505), (906, 0.14564489297858305), (112, 0.14562706364356373), (526, 0.1456241734319106), (103, 0.1455180949664449), (181, 0.14549773731972007), (387, 0.14540411749901666), (1332, 0.14529150476618474), (319, 0.14526564274077639), (440, 0.14524810035729444), (487, 0.1451511876204654), (486, 0.14506019826312794), (1023, 0.144914352342379), (1356, 0.14471601341453913), (922, 0.1445720313367353), (790, 0.14454041542532917), (815, 0.14443936811018282), (134, 0.14440553273333434), (432, 0.14418068506221882), (1344, 0.14416399186144585), (808, 0.14413897030332865), (460, 0.14401744702031063), (352, 0.1440145637852324), (381, 0.14395358456066995), (445, 0.14394938891947748), (314, 0.14391750150995591), (532, 0.14391380963809466), (961, 0.1439111359769479), (248, 0.14390704098052295), (863, 0.14388396378164053), (89, 0.1438587312866251), (413, 0.14384703231208396), (810, 0.14384401400998809), (346, 0.14377944142435964), (467, 0.14377632361819515), (402, 0.1436516985758569), (946, 0.1432111610555888), (559, 0.14300569368320223), (898, 0.1430002795174492), (1303, 0.1429945133693375), (1077, 0.14284758941806136), (308, 0.1428306013534832), (590, 0.14275664635810667), (277, 0.14251594369273463), (900, 0.14244509568714622), (257, 0.14223620647649535), (1052, 0.14222937435777072), (1208, 0.14197027144555668), (971, 0.14192817946376077), (399, 0.14188663440890398), (1123, 0.141675965522922), (188, 0.14114817212085776), (93, 0.1411409857909796), (77, 0.1409564291752666), (19, 0.14090484798763298), (944, 0.14090000687205434), (996, 0.14052854552574762), (231, 0.14048334463228668), (569, 0.1404426786150661), (773, 0.14026062749059234), (712, 0.14023479645949694), (234, 0.14021388204183355), (1005, 0.1401855982030751), (127, 0.1399265736420125), (888, 0.13989978008843482), (122, 0.1397528563391615), (759, 0.13965303467896992), (681, 0.13937420374260318), (1032, 0.13935491300421785), (1329, 0.1393452540272268), (1327, 0.1393326911908359), (1164, 0.13929075048287376), (1337, 0.13918680197410588), (696, 0.13854930540473942), (1001, 0.13837492113341968), (930, 0.1381408072494015), (1326, 0.13808245227731294), (330, 0.13784799406194226), (740, 0.1376998270767345), (1231, 0.1374182928173913), (1261, 0.1373966428046754), (339, 0.13722320597536514), (524, 0.13714041671852734), (523, 0.1370944633606767), (750, 0.13706785631215226), (336, 0.1369284661152726), (1141, 0.13659527541644614), (110, 0.1365391201334708), (1027, 0.1364556193486742), (683, 0.13640534586080305), (451, 0.13628440872740472), (365, 0.13627270094624663), (197, 0.136192159870691), (994, 0.13610559551764725), (1390, 0.13610508541533792), (1320, 0.13588305364923373), (1039, 0.1357265218479036), (16, 0.13568323737189733), (340, 0.13565694956029528), (1012, 0.13564729419683613), (201, 0.13563280353312995), (463, 0.13542201446764096), (673, 0.1352002350999714), (706, 0.13478283719982534), (477, 0.1346883443028012), (1022, 0.13467738166035198), (309, 0.1345912898937716), (474, 0.13395261962423882), (1343, 0.1338531933099791), (887, 0.133822436455822), (1233, 0.13376746703049022), (1308, 0.1337137466607274), (109, 0.13349545397494877), (884, 0.13347811888523894), (594, 0.13330004927718975), (527, 0.1332276096730386), (857, 0.13318703653815578), (1414, 0.1329883827843441), (286, 0.13297346876199054), (203, 0.13287297351428512), (5, 0.13277620012339506), (1049, 0.13273895881027425), (287, 0.13272337887897412), (1385, 0.13270840885126087), (458, 0.13257965282187859), (999, 0.13253523300107667), (653, 0.1323621167355607), (354, 0.13232641716555002), (401, 0.13232538128486276), (711, 0.1323055495413169), (561, 0.132023385716843), (1221, 0.131981938793466), (430, 0.13192162085219153), (195, 0.13177751835060478), (1307, 0.13164262395248424), (640, 0.13154838978806752), (196, 0.13154586339908014), (741, 0.13134366610759812), (722, 0.13126824768690024), (1295, 0.13115271257868566), (1133, 0.13105884396533288), (1237, 0.13098725963911464), (1145, 0.13096744627940232), (703, 0.13091620155932226), (779, 0.13071102548577385), (731, 0.13064767686596376), (854, 0.13055424189627843), (355, 0.13053634654962298), (459, 0.13038047863257035), (1248, 0.13011008509722274), (480, 0.12981557701763827), (1178, 0.12979877985145316), (331, 0.1297057924829047), (693, 0.12962050630784389), (873, 0.12956389863602236), (1137, 0.12947513727371293), (1408, 0.12937612979012064), (787, 0.1292641011448361), (307, 0.12922784161907017), (1257, 0.12916222999726817), (761, 0.1291550946664218), (1279, 0.12911580004825612), (1194, 0.12904586528344825), (1197, 0.12897656739667973), (232, 0.12895118892271262), (1251, 0.12886956634095675), (1122, 0.12860646942229728), (438, 0.1285255419649695), (905, 0.12852305303847172), (797, 0.1283632345002338), (1205, 0.1283034933014995), (646, 0.12817611951617877), (273, 0.12800815590051504), (938, 0.12798956269239659), (752, 0.1279536150848969), (738, 0.12774765442849992), (478, 0.12767400160830686), (553, 0.1276424569663139), (660, 0.12762786763778178), (846, 0.12747203820815145), (394, 0.12729741862470367), (1163, 0.12725067755039943), (1347, 0.12723303635285288), (921, 0.1271500910848331), (878, 0.12710779026431446), (303, 0.12708509182715416), (1323, 0.1270446320289609), (789, 0.12698151396835944), (812, 0.1269360504388268), (633, 0.12683646693675094), (610, 0.12674755323746054), (1230, 0.12669607249424694), (796, 0.1263555091538964), (1386, 0.12635495832236016), (1105, 0.12633026846949677), (1400, 0.12629618419708835), (1438, 0.12621051644141668), (1058, 0.12611274990638188), (651, 0.12603233314751774), (861, 0.12564294088932815), (1157, 0.12507139803120512), (142, 0.12506225345681424), (819, 0.12493123136841361), (650, 0.1249231870489736), (1396, 0.12488727118333807), (170, 0.12472960544304684), (827, 0.12444833807602887), (1092, 0.1243685427208282), (1375, 0.12428686368065206), (1345, 0.12426299779861728), (218, 0.12426131422830039), (271, 0.12419889763994907), (825, 0.1241422957999082), (844, 0.12408629725442084), (915, 0.12401694854451234), (1113, 0.12394119537382275), (924, 0.12388276849960682), (545, 0.12382623700427065), (217, 0.12377744682491924), (1096, 0.1237521305938344), (1083, 0.12352219573444741), (35, 0.1234052292074492), (1445, 0.12339665630744145), (1365, 0.12336938263341211), (1108, 0.12331415588790484), (282, 0.12329116008817594), (450, 0.12298780475158391), (135, 0.12281660196297534), (1455, 0.12278011996013369), (639, 0.12253887351062355), (1404, 0.12252151726990372), (1057, 0.1225152288986001), (785, 0.12243912197125148), (512, 0.1223546993872058), (369, 0.12234325964152311), (1169, 0.12233967974571472), (747, 0.12233595079086647), (965, 0.12229900751104744), (1411, 0.12213244274294967), (636, 0.12212161902729668), (1416, 0.12212160309072422), (952, 0.12201824646583555), (1399, 0.12191453893210359), (1211, 0.12179145870145591), (297, 0.12164618754173513), (1435, 0.12164338058938318), (1458, 0.12159399739778809), (628, 0.12151854455569326), (395, 0.12145941779971348), (191, 0.12101446402838557), (1093, 0.12092480473210056), (368, 0.12085249430643687), (414, 0.1208383198213111), (473, 0.12068646154029844), (281, 0.12062791552902796), (597, 0.12033302058902749), (691, 0.12028204332111252), (576, 0.12021447625084328), (575, 0.12018681094746424), (824, 0.12008055081154609), (6, 0.12005731329737158), (1358, 0.12000656015320839), (179, 0.11989402300213539), (335, 0.11981813701515383), (119, 0.11978767782136772), (1072, 0.11969198073871432), (1007, 0.11966599112164053), (1432, 0.11948471331187933), (656, 0.11920289568200086), (665, 0.11916278101744938), (1067, 0.11884244730571429), (811, 0.11883133910879151), (1277, 0.11880678146247173), (601, 0.11874239987186239), (668, 0.11872337486501798), (503, 0.11862388069051558), (1048, 0.11860827915585521), (416, 0.11858806914395077), (1363, 0.11850942424864912), (152, 0.11839633943414547), (829, 0.11836782950229084), (471, 0.11834754113075026), (1346, 0.11832809379586784), (679, 0.11832255163912674), (1170, 0.11831717959847673), (206, 0.11821498573589449), (1353, 0.11802794402840286), (349, 0.11800408465669601), (1159, 0.11797352233161233), (649, 0.1177918224650707), (244, 0.11746713470365425), (272, 0.11743836255414873), (291, 0.11715205463436275), (564, 0.11714603251468565), (316, 0.11703004321324889), (1201, 0.11692676266667629), (1267, 0.11676496274034287), (1144, 0.11670972626551303), (328, 0.11655764702276095), (22, 0.11641682672921921), (622, 0.11620241799181151), (1193, 0.116157638402258), (606, 0.11609160268743889), (99, 0.11608824692748906), (989, 0.11604876422294415), (1357, 0.11597263150193901), (1282, 0.11590148332480682), (1431, 0.11577016263851327), (358, 0.11564626938088052), (1044, 0.11559481188166357), (1069, 0.11558954253346053), (1252, 0.11558872479344537), (931, 0.11557944452852162), (491, 0.1155737535306292), (1410, 0.11552551822527424), (757, 0.11544924711807823), (721, 0.11542569063923078), (1213, 0.1154063704538281), (1135, 0.11540209792699198), (1025, 0.1152736389373918), (347, 0.11527182862957233), (1155, 0.11521634427555064), (565, 0.115047812650768), (1255, 0.1150305578135956), (851, 0.11501967220726458), (956, 0.11498707036426521), (374, 0.11487332500371651), (1041, 0.11483887628509411), (652, 0.1148221726213437), (1434, 0.11478299029647591), (1172, 0.11448198581506959), (658, 0.11438618803365627), (222, 0.11436389497904825), (515, 0.11436262537130015), (548, 0.11429432967791552), (1204, 0.11416843474736749), (1426, 0.1141080775402005), (1031, 0.11398362697436473), (517, 0.11396175384847416), (868, 0.11386677960023824), (1173, 0.11379210602508012), (1335, 0.11362147673642027), (1305, 0.11355057773702086), (557, 0.11346940066198098), (756, 0.11319238250129121), (1324, 0.1130967627024656), (880, 0.11305784400313912), (117, 0.11301685289521683), (604, 0.11294628980756671), (774, 0.11283174027117737), (1074, 0.11270731900453768), (818, 0.1125853517226672), (554, 0.11257626335020035), (735, 0.11256816704352636), (1289, 0.11245600650893191), (638, 0.11241796450533977), (1150, 0.11238369931258704), (957, 0.11232190962076397), (1115, 0.11228441354304701), (469, 0.11220687584008157), (845, 0.11193770265458271), (853, 0.11169212621238428), (518, 0.11152698680823357), (574, 0.11152558547097911), (625, 0.111420862544866), (932, 0.11127455961171953), (225, 0.11121890316018711), (1042, 0.11113776614193481), (1424, 0.11102369777337917), (448, 0.11092454025525593), (627, 0.11092240872357052), (799, 0.1107840664210449), (1118, 0.11076091100673463), (353, 0.11076040766907826), (255, 0.11075396297954644), (699, 0.11073864266110742), (250, 0.11070184847625854), (1050, 0.11052312819629234), (1417, 0.11046791670607954), (1290, 0.11035319967268281), (495, 0.11024857352298588), (929, 0.11024647391357849), (1132, 0.11014318765721677), (108, 0.11013090090388918), (1183, 0.10995692339799056), (970, 0.10994641776376364), (498, 0.10994555461498115), (801, 0.10984361869228751), (175, 0.1095503574723351), (411, 0.10951264596745798), (228, 0.10949745448042798), (840, 0.10935635768074055), (1156, 0.10933402486450015), (581, 0.10929181092919783), (1040, 0.10927848643881319), (447, 0.10926583401090344), (306, 0.10908799291002048), (949, 0.10908794031752993), (794, 0.10905332781327826), (1015, 0.10898979360144215), (1206, 0.1087523930708485), (1272, 0.10874493209113097), (991, 0.10872992731204198), (442, 0.1087177466927369), (372, 0.10866803107808731), (1393, 0.10853420645285264), (439, 0.1082807885902366), (993, 0.10822344550367585), (1227, 0.10816880825207752), (294, 0.10791139147466265), (221, 0.10791136830892128), (1184, 0.10788970136077858), (1119, 0.1078150200795018), (613, 0.1077968162503004), (788, 0.10771289303322738), (1403, 0.10768596839690417), (215, 0.10745801728929112), (918, 0.10742314554351401), (1060, 0.10739185105539512), (954, 0.10725671281825136), (1382, 0.1072083514839362), (1263, 0.1071737068932257), (1071, 0.1070990041263523), (1081, 0.10706873348662241), (1379, 0.10695879136033738), (749, 0.1066976476635389), (588, 0.10669319331174461), (343, 0.10668246939559631), (715, 0.1066751939097463), (1198, 0.10661414320650964), (1241, 0.10648408778775276), (643, 0.10636430867798245), (412, 0.10614911389386636), (1089, 0.10606089243113835), (1271, 0.10603973773010467), (296, 0.10603134202220592), (1229, 0.10600023743962558), (236, 0.10591960251260589), (619, 0.10583384427568361), (680, 0.10576542019730599), (1291, 0.10567015226792548), (1168, 0.10542717268103306), (1087, 0.10536996816737262), (1297, 0.10512467602782788), (1354, 0.10474803899725775), (46, 0.10456871044837582), (1140, 0.10455469141006278), (1202, 0.1042672494854716), (1151, 0.10421811079227747), (551, 0.10420604600451475), (492, 0.10387612468655597), (982, 0.1037809024322314), (847, 0.10364084276614018), (199, 0.10355364682247174), (1225, 0.10340537818935927), (446, 0.10336533845186259), (1098, 0.10326342841416869), (274, 0.1032242278297551), (1268, 0.10318656933404642), (1009, 0.10318364894189093), (667, 0.10316486981186233), (1281, 0.10304826292345838), (1038, 0.10300394737302386), (1222, 0.10298179790545933), (1110, 0.10295347603504078), (43, 0.10295151011477358), (1035, 0.10294325042323985), (513, 0.10292998459423197), (305, 0.10292281768183485), (736, 0.10275741539467938), (1429, 0.10257290078131957), (154, 0.10252461181854569), (700, 0.10249696402202889), (903, 0.102468049732498), (1134, 0.10244610678799339), (511, 0.1023097667881384), (180, 0.10214942997387785), (1387, 0.10213083917121611), (1459, 0.10209076040300215), (1321, 0.10202223403030745), (1138, 0.10195934744945107), (410, 0.10193503555747305), (705, 0.10186059387838443), (318, 0.10175290713165853), (1364, 0.10173191591604676), (1128, 0.10169522109153933), (677, 0.10168407462617982), (1280, 0.10163731866503074), (879, 0.10156907636357812), (1018, 0.10151735821733712), (1331, 0.10148519485347528), (573, 0.1014335284941139), (1398, 0.10142060126152626), (707, 0.10140613880043574), (870, 0.10132133693202788), (1209, 0.10130760525143961), (1242, 0.10120119744814543), (867, 0.1011912709750929), (251, 0.10114298789050229), (128, 0.10108151697273153), (723, 0.10105085328831882), (1442, 0.10101591433780217), (1084, 0.10100775874494251), (1453, 0.100941347401587), (958, 0.10075306059661457), (1388, 0.10075206854756381), (1182, 0.10074269983691461), (839, 0.1006620996605154), (325, 0.10058781069206967), (329, 0.10056904730121363), (210, 0.10054256371320067), (692, 0.10050462602915751), (1188, 0.10049406425876758), (48, 0.10048307655729752), (659, 0.1004751278425736), (580, 0.1003910395535391), (1177, 0.10022623040732064), (631, 0.10014874391744774), (947, 0.10013855809890405), (598, 0.10000021568020957), (1276, 0.09996933901408325), (862, 0.09993499948524101), (973, 0.09966999177401563), (563, 0.09956818763999067), (1349, 0.09955605728390332), (489, 0.0995447206299308), (388, 0.09953100664046), (860, 0.09950685286299323), (1285, 0.09926155238062412), (1167, 0.09926149203476946), (1161, 0.09912416013496393), (202, 0.09911364340506608), (1104, 0.09907739665582882), (311, 0.09901594424657892), (1125, 0.09898856696160936), (724, 0.09892269395219644), (776, 0.09881545683099215), (1439, 0.09866852947754917), (295, 0.0985419742783742), (243, 0.09850116374775734), (1234, 0.09845667469377005), (1011, 0.09837756533495212), (1174, 0.09833254806523067), (1232, 0.09815327567969218), (428, 0.09800156787663283), (1185, 0.09788167655162441), (874, 0.09759271344240102), (1214, 0.09735558965264929), (969, 0.097154349015506), (605, 0.09714369901712747), (571, 0.09709905656878717), (211, 0.09693619752717049), (817, 0.09685415973508922), (1406, 0.09675149677019504), (357, 0.09662363834633242), (784, 0.09627465512089302), (1369, 0.09620600064798303), (96, 0.09596062511098462), (1311, 0.09587903385338763), (1106, 0.09585690400711838), (1217, 0.09584404320253123), (285, 0.09583304131765463), (1051, 0.09582994876133091), (1078, 0.09581613501767748), (263, 0.0957350531728567), (547, 0.09550304735264925), (603, 0.09548005344267366), (1270, 0.09534228436839755), (1274, 0.09529456901931249), (1254, 0.09525406748438811), (209, 0.09524694362691288), (1175, 0.09500595345256413), (536, 0.09492245149892416), (1296, 0.09488554319311177), (137, 0.09487631535802514), (1076, 0.09485558305531894), (713, 0.09479720883198851), (1036, 0.09475216140601046), (138, 0.09471612740906546), (1120, 0.09447837185761426), (145, 0.09399280958637343), (1034, 0.09388231074274012), (1029, 0.0937667526608051), (933, 0.09372727878741892), (1220, 0.09357753801365888), (763, 0.09355106546321933), (1300, 0.09354619826225553), (242, 0.09351112556971967), (1026, 0.09349565885096), (1112, 0.09349159277594156), (1047, 0.09341222507680605), (1360, 0.09333909546089743), (1053, 0.09324285637827681), (1075, 0.09288199647274371), (826, 0.09277690285661423), (546, 0.09271990898646454), (1143, 0.09271794554886986), (1433, 0.09267281338296038), (803, 0.09264679636376626), (1452, 0.09244821502602013), (1419, 0.0924231060579302), (1226, 0.09215157757892502), (734, 0.09213836917697193), (1223, 0.09213509319838714), (485, 0.0920903163364709), (1176, 0.09195831804916758), (510, 0.09160490615886399), (899, 0.0915452087872395), (1100, 0.09147597982180886), (254, 0.09136540269096999), (299, 0.09128791096546521), (344, 0.09117911033602477), (813, 0.09114719895995636), (1372, 0.0911455382929847), (488, 0.09107758862059691), (1380, 0.09104396560116584), (882, 0.0910391245317261), (762, 0.0910088116408586), (1045, 0.09095643414079227), (455, 0.09083774124276674), (396, 0.09079644523783424), (1389, 0.09051469942200172), (822, 0.09038241575676037), (686, 0.09009453904860787), (743, 0.08998398897377792), (494, 0.08992890105151886), (708, 0.08968759670181381), (1422, 0.08965886137564882), (866, 0.08955082618291876), (864, 0.08949140510558887), (429, 0.08936789062916639), (1030, 0.08936737612974602), (1195, 0.08874444980942892), (520, 0.08853301069411923), (1405, 0.08847331542172528), (1165, 0.08841450315250811), (807, 0.08837915591232615), (890, 0.08835286782200885), (1088, 0.08826814404319747), (1259, 0.08822223456146068), (768, 0.08818927052951363), (1059, 0.08813699391270854), (1437, 0.08806551533721353), (1066, 0.0880542810827515), (1056, 0.08803322265913954), (1095, 0.08793441716244019), (919, 0.08781562254290103), (1010, 0.0877247223686719), (1129, 0.08771469034956086), (1239, 0.08766692479015206), (1253, 0.08759355007981522), (1094, 0.08757265063617492), (1298, 0.08730349187473296), (453, 0.08725592882965211), (995, 0.08706127187881284), (1097, 0.08691759094483517), (1350, 0.08689829728018932), (1418, 0.08670364248095998), (1004, 0.08668226130997957), (226, 0.08655529548251363), (1187, 0.086091222930032), (1218, 0.08599759683936965), (514, 0.08599638436865888), (1359, 0.08594383763100336), (1428, 0.08592959833100944), (1301, 0.08592391823761787), (100, 0.08591127288468736), (1340, 0.08580632490773242), (1293, 0.08570459716997574), (1249, 0.08548307390096756), (301, 0.08540939326354603), (275, 0.08528642038536141), (1392, 0.08521293803492898), (871, 0.08521285668825757), (549, 0.08496551398819317), (1451, 0.08477255772341266), (913, 0.08469359205440458), (1179, 0.08466363388868936), (1146, 0.08465307204132722), (1199, 0.08440014624338293), (322, 0.08433660829260733), (1407, 0.08407487142301057), (1317, 0.08403918363383077), (1130, 0.08394636347577018), (1063, 0.08362198694419706), (214, 0.08340416478098622), (437, 0.08326799575311461), (1299, 0.08304422674568872), (709, 0.08302918335798518), (1309, 0.08301363169701244), (1394, 0.08298986525293732), (1244, 0.08288532445228346), (102, 0.08266479933288536), (701, 0.08265273730917605), (1334, 0.08253209089808136), (1383, 0.08239959110594189), (60, 0.08239826138215804), (1024, 0.08230021724330228), (1318, 0.08220281280670552), (984, 0.08219621480087598), (746, 0.08216937721131173), (676, 0.08211824011404283), (876, 0.08190150363556356), (444, 0.08187570964570946), (1162, 0.08186113507109968), (1401, 0.08177838097166981), (279, 0.08161579518719289), (298, 0.08143942555496046), (1099, 0.08120476236107554), (894, 0.08109707002411881), (1333, 0.08104994464403362), (1153, 0.08096829161950064), (121, 0.08089177295035331), (1107, 0.08086946874813286), (1461, 0.08085574446616065), (1181, 0.08082216934934879), (1292, 0.08046574560049502), (1212, 0.0801526148132983), (753, 0.0798310751136983), (1425, 0.0795986802966092), (1319, 0.07931264628200736), (1269, 0.07916742688365128), (490, 0.07903139137424736), (1339, 0.07898562992879864), (1447, 0.07887953364873983), (987, 0.07878464420095796), (1325, 0.07872670919263541), (1152, 0.07862768671796709), (393, 0.0785176745196353), (632, 0.07848708255416406), (116, 0.07828733333569457), (1302, 0.07817379803066696), (481, 0.07804385899348197), (1210, 0.07798623268297439), (872, 0.07790230585091354), (283, 0.07756539542526951), (856, 0.07752278565391552), (1117, 0.07745286137866955), (1275, 0.07741162297991855), (1101, 0.07729581408869969), (1154, 0.07726916715383433), (114, 0.07721032596247618), (540, 0.07719243762936381), (832, 0.0771578272334775), (544, 0.07705588262388932), (384, 0.07695975864753384), (730, 0.07694387502762721), (1262, 0.07683082271629443), (504, 0.0767364696376285), (939, 0.07671760264719124), (1190, 0.07670480099550239), (1448, 0.07663931277090769), (1284, 0.07663170619610463), (1116, 0.07661311662625614), (436, 0.07654777147634727), (737, 0.07649305887567655), (786, 0.07643879816434258), (1370, 0.07599523718989475), (1131, 0.0759523381360407), (1336, 0.07585078161083234), (317, 0.0757073704405756), (508, 0.07556039098344973), (159, 0.07544046224264855), (528, 0.07537475120446327), (777, 0.07529298771359091), (535, 0.07496579737198046), (360, 0.07496069992412652), (1142, 0.07451511041057474), (1384, 0.07440981823594799), (694, 0.07429972437195363), (869, 0.07426732830299494), (1260, 0.07422990861763089), (68, 0.0741120316352837), (805, 0.07400009602166246), (1021, 0.07397289075306532), (1265, 0.07396428226434756), (1228, 0.07388844665989577), (1430, 0.07374943408221073), (1371, 0.07354913923261741), (608, 0.07337019325978061), (1080, 0.07334895189251565), (543, 0.07329203750644923), (1278, 0.07325574595578913), (461, 0.07317876271648925), (1415, 0.07309394775144673), (1273, 0.07304976774983749), (1114, 0.07291875928555336), (1338, 0.07289866162805418), (760, 0.0728357478868485), (719, 0.07279472653138863), (1109, 0.07250472618720029), (1355, 0.07239589747214602), (976, 0.07231337727783752), (1412, 0.07190093774015072), (1166, 0.07188122952440403), (1017, 0.07185335604477978), (953, 0.07183484486521166), (657, 0.07171113807691112), (55, 0.07170735267087441), (380, 0.07166254913375791), (90, 0.07146660504697498), (917, 0.0714354519806053), (1046, 0.07133803689259972), (1446, 0.07133061606402842), (591, 0.07113046402495617), (1186, 0.071016248050572), (615, 0.07095495360461838), (809, 0.07081791258230566), (806, 0.0706866155596912), (570, 0.07067990329181659), (341, 0.07037341932809989), (1073, 0.0702116188234198), (1085, 0.07000962920457703), (351, 0.06973634830036263), (505, 0.06973522729598058), (635, 0.06969114927226389), (772, 0.06965103738728141), (1124, 0.06965079738905722), (1436, 0.06949475120151619), (1409, 0.06941076669538129), (1288, 0.06929622766259737), (522, 0.06907639111269326), (781, 0.06893723798411713), (1043, 0.06872970694663097), (902, 0.06845351437851059), (1342, 0.06842717776569823), (449, 0.06841754678459208), (1376, 0.0682782248922138), (963, 0.0678037055883281), (950, 0.06770444323537803), (1068, 0.06765913873060644), (1420, 0.06725327581070052), (623, 0.06716584142649182), (1147, 0.06691538520330818), (1423, 0.06683570850980124), (556, 0.06652688714402177), (1361, 0.06610133980367389), (986, 0.06600926596246806), (1460, 0.06577887476420761), (165, 0.06563780264090163), (644, 0.06559648380754046), (1367, 0.06521138815706869), (193, 0.065148500542601), (901, 0.06481705254601454), (1315, 0.06473774467404707), (968, 0.0644047546794069), (1160, 0.06438485028318743), (1378, 0.06432945671194726), (1368, 0.06425482325690034), (155, 0.06395422174064487), (475, 0.0638596998962666), (1028, 0.06353472395410267), (755, 0.06342979547678586), (1444, 0.06335603973463606), (1377, 0.06318537550148233), (911, 0.06311982014795625), (833, 0.06256753203496299), (1441, 0.061888600379535766), (1149, 0.06184026911206913), (1373, 0.06175919640032681), (1000, 0.0615635255320586), (1192, 0.061203961327564206), (586, 0.06091462027416513), (1316, 0.06086360115935911), (684, 0.06079473498026475), (1250, 0.060376051832856256), (1348, 0.059997863497979566), (1203, 0.05958530301149672), (1136, 0.059477427590761106), (95, 0.059256864715914355), (327, 0.059011060392370474), (1391, 0.05879711588394481), (1456, 0.0585821008877634), (945, 0.058476442568394946), (848, 0.05838334095903394), (641, 0.05813665379416189), (893, 0.057898238079546215), (200, 0.05760318302583195), (823, 0.057086898364701204), (1457, 0.055627008241309714), (1002, 0.05556618290089956), (614, 0.05550714814006303), (1196, 0.055301989012157354), (1440, 0.054900565857766336), (302, 0.05448360665644705), (835, 0.05340983373776863), (1450, 0.05288176584111431), (233, 0.05274315025240324), (1235, 0.05240203230098656), (948, 0.05196005894230395), (431, 0.0511344722276806), (748, 0.05102732980833132), (167, 0.05036726826474577), (891, 0.04971941037577665), (1065, 0.049332962631169555), (985, 0.04932426450472771), (1126, 0.04925346112565164), (1304, 0.04888587180749428), (1189, 0.048709188312742034), (859, 0.048348649437678526), (1207, 0.047844284298929625), (907, 0.04782622850506835), (1381, 0.04757948444741189), (379, 0.04709903234872396), (1306, 0.045856293416937505), (852, 0.04551126748921293), (648, 0.044821880579783445), (348, 0.04465182220861743), (371, 0.044252510374035846), (672, 0.04420506739478063), (885, 0.04359118827777631), (664, 0.043126562333928746), (1421, 0.0426323492731177), (1200, 0.03780817479046709), (1266, 0.03673840972411067), (558, 0.03556040370808907), (1328, 0.03487377396386491), (1127, 0.033773036450442925), (1374, 0.030840774177586242), (978, 0.028056276762182294), (1341, 0.023179050785894554)]\n",
            "Products suggested for you : \n",
            "\n",
            "1 . Amazon Basics 16-Gauge Speaker Wire - 50 Feet\n"
          ]
        },
        {
          "output_type": "display_data",
          "data": {
            "text/html": [
              "<img src=\"https://m.media-amazon.com/images/W/WEBP_402378-T2/images/I/41vJcrdr5mL._SY300_SX300_QL70_FMwebp_.jpg\"/>"
            ],
            "text/plain": [
              "<IPython.core.display.Image object>"
            ]
          },
          "metadata": {}
        },
        {
          "output_type": "stream",
          "name": "stdout",
          "text": [
            "2 . Zebronics ZEB-COUNTY 3W Wireless Bluetooth Portable Speaker With Supporting Carry Handle, USB, SD Card, AUX, FM & Call Function. (Green)\n"
          ]
        },
        {
          "output_type": "display_data",
          "data": {
            "text/html": [
              "<img src=\"https://m.media-amazon.com/images/I/41goRo3UXhL._SX300_SY300_QL70_FMwebp_.jpg\"/>"
            ],
            "text/plain": [
              "<IPython.core.display.Image object>"
            ]
          },
          "metadata": {}
        },
        {
          "output_type": "stream",
          "name": "stdout",
          "text": [
            "3 . Boya ByM1 Auxiliary Omnidirectional Lavalier Condenser Microphone with 20ft Audio Cable (Black)\n"
          ]
        },
        {
          "output_type": "display_data",
          "data": {
            "text/html": [
              "<img src=\"https://m.media-amazon.com/images/I/41UYenF+lnL._SX300_SY300_.jpg\"/>"
            ],
            "text/plain": [
              "<IPython.core.display.Image object>"
            ]
          },
          "metadata": {}
        },
        {
          "output_type": "stream",
          "name": "stdout",
          "text": [
            "4 . Amazonbasics Micro Usb Fast Charging Cable For Android Smartphone,Personal Computer,Printer With Gold Plated Connectors (6 Feet, Black)\n"
          ]
        },
        {
          "output_type": "display_data",
          "data": {
            "text/html": [
              "<img src=\"https://m.media-amazon.com/images/W/WEBP_402378-T1/images/I/31nrDWDT8+L._SX300_SY300_.jpg\"/>"
            ],
            "text/plain": [
              "<IPython.core.display.Image object>"
            ]
          },
          "metadata": {}
        },
        {
          "output_type": "stream",
          "name": "stdout",
          "text": [
            "5 . Amazonbasics Micro Usb Fast Charging Cable For Android Smartphone,Personal Computer,Printer With Gold Plated Connectors (6 Feet, Black)\n"
          ]
        },
        {
          "output_type": "display_data",
          "data": {
            "text/html": [
              "<img src=\"https://m.media-amazon.com/images/W/WEBP_402378-T1/images/I/31nrDWDT8+L._SX300_SY300_.jpg\"/>"
            ],
            "text/plain": [
              "<IPython.core.display.Image object>"
            ]
          },
          "metadata": {}
        },
        {
          "output_type": "stream",
          "name": "stdout",
          "text": [
            "6 . boAt Bassheads 152 in Ear Wired Earphones with Mic(Active Black)\n"
          ]
        },
        {
          "output_type": "display_data",
          "data": {
            "text/html": [
              "<img src=\"https://m.media-amazon.com/images/I/31RiDkNjpjS._SX300_SY300_QL70_FMwebp_.jpg\"/>"
            ],
            "text/plain": [
              "<IPython.core.display.Image object>"
            ]
          },
          "metadata": {}
        },
        {
          "output_type": "stream",
          "name": "stdout",
          "text": [
            "7 . AmazonBasics Micro USB Fast Charging Cable for Android Phones with Gold Plated Connectors (3 Feet, Black)\n"
          ]
        },
        {
          "output_type": "display_data",
          "data": {
            "text/html": [
              "<img src=\"https://m.media-amazon.com/images/W/WEBP_402378-T1/images/I/31iESA2h2gL._SY300_SX300_QL70_FMwebp_.jpg\"/>"
            ],
            "text/plain": [
              "<IPython.core.display.Image object>"
            ]
          },
          "metadata": {}
        },
        {
          "output_type": "stream",
          "name": "stdout",
          "text": [
            "8 . boAt Rockerz 400 Bluetooth On Ear Headphones With Mic With Upto 8 Hours Playback & Soft Padded Ear Cushions(Grey/Green)\n"
          ]
        },
        {
          "output_type": "display_data",
          "data": {
            "text/html": [
              "<img src=\"https://m.media-amazon.com/images/W/WEBP_402378-T2/images/I/41zejggGzLL._SX300_SY300_QL70_FMwebp_.jpg\"/>"
            ],
            "text/plain": [
              "<IPython.core.display.Image object>"
            ]
          },
          "metadata": {}
        },
        {
          "output_type": "stream",
          "name": "stdout",
          "text": [
            "9 . boAt Rockerz 400 Bluetooth On Ear Headphones With Mic With Upto 8 Hours Playback & Soft Padded Ear Cushions(Grey/Green)\n"
          ]
        },
        {
          "output_type": "display_data",
          "data": {
            "text/html": [
              "<img src=\"https://m.media-amazon.com/images/I/41zejggGzLL._SX300_SY300_QL70_ML2_.jpg\"/>"
            ],
            "text/plain": [
              "<IPython.core.display.Image object>"
            ]
          },
          "metadata": {}
        }
      ],
      "source": [
        "product_name = input(\"Enter your product name: \");\n",
        "\n",
        "list_of_all_product_names = amazon_data['product_name'].tolist()\n",
        "print(list_of_all_product_names)\n",
        "\n",
        "find_close_match = difflib.get_close_matches(product_name, list_of_all_product_names)\n",
        "print(find_close_match)\n",
        "\n",
        "close_match = find_close_match[0]\n",
        "print(close_match)\n",
        "\n",
        "index_of_the_product = amazon_data[amazon_data.product_name == close_match]['index'].values[0]\n",
        "print(index_of_the_product)\n",
        "\n",
        "similarity_score = list(enumerate(similarity[index_of_the_product]))\n",
        "print(similarity_score)\n",
        "\n",
        "\n",
        "sorted_similar_products = sorted(similarity_score, key = lambda x:x[1], reverse = True)\n",
        "print(sorted_similar_products)\n",
        "\n",
        "\n",
        "print('Products suggested for you : \\n')\n",
        "\n",
        "i = 1\n",
        "amazon_data = amazon_data.reset_index(drop=True)\n",
        "for product in sorted_similar_products:\n",
        "  index = product[0]\n",
        "  title_from_index = amazon_data[amazon_data.index==index]['product_name'].values[0]\n",
        "  img_link = amazon_data.loc[index, 'img_link']\n",
        "  if (i<10):\n",
        "    print(i, '.',title_from_index)\n",
        "    display(Image(url=img_link))\n",
        "    i+=1"
      ]
    },
    {
      "cell_type": "code",
      "execution_count": null,
      "metadata": {
        "id": "taW2IkdMCSnw"
      },
      "outputs": [],
      "source": []
    }
  ],
  "metadata": {
    "colab": {
      "provenance": []
    },
    "kernelspec": {
      "display_name": "Python 3",
      "name": "python3"
    },
    "language_info": {
      "name": "python"
    }
  },
  "nbformat": 4,
  "nbformat_minor": 0
}