{
  "cells": [
    {
      "cell_type": "code",
      "execution_count": null,
      "metadata": {
        "colab": {
          "background_save": true
        },
        "id": "GCA15GLGl4nb"
      },
      "outputs": [],
      "source": [
        "import numpy as np\n",
        "import pandas as pd\n",
        "from sklearn.model_selection import train_test_split\n",
        "from sklearn.linear_model import LogisticRegression\n",
        "from sklearn.metrics import accuracy_score"
      ]
    },
    {
      "cell_type": "code",
      "execution_count": null,
      "metadata": {
        "colab": {
          "background_save": true
        },
        "id": "FMMDaMAlm_NH"
      },
      "outputs": [],
      "source": [
        "# loading the dataset to a Pandas DataFrame\n",
        "credit_card_data = pd.read_csv('/content/creditcard.csv')"
      ]
    },
    {
      "cell_type": "code",
      "execution_count": null,
      "metadata": {
        "colab": {
          "background_save": true
        },
        "id": "bxGZf-XWnHVN"
      },
      "outputs": [],
      "source": [
        "# first 5 rows of the dataset\n",
        "credit_card_data.head()"
      ]
    },
    {
      "cell_type": "code",
      "execution_count": null,
      "metadata": {
        "colab": {
          "background_save": true
        },
        "id": "w4spaPJjohYL"
      },
      "outputs": [],
      "source": [
        "credit_card_data.tail()"
      ]
    },
    {
      "cell_type": "code",
      "execution_count": null,
      "metadata": {
        "colab": {
          "background_save": true
        },
        "id": "5-vNRqrGojWT"
      },
      "outputs": [],
      "source": [
        "credit_card_data.shape"
      ]
    },
    {
      "cell_type": "code",
      "execution_count": null,
      "metadata": {
        "colab": {
          "background_save": true
        },
        "id": "GO1S2V14op3N"
      },
      "outputs": [],
      "source": [
        "credit_card_data.info()"
      ]
    },
    {
      "cell_type": "code",
      "execution_count": null,
      "metadata": {
        "colab": {
          "background_save": true
        },
        "id": "u9cPMXmvo2Qv"
      },
      "outputs": [],
      "source": [
        "credit_card_data.isnull().sum()"
      ]
    },
    {
      "cell_type": "code",
      "execution_count": null,
      "metadata": {
        "colab": {
          "background_save": true
        },
        "id": "zHqDGTFGpMgv"
      },
      "outputs": [],
      "source": [
        "import matplotlib.pyplot as plt\n",
        "import seaborn as sns"
      ]
    },
    {
      "cell_type": "markdown",
      "metadata": {
        "id": "pNWagZcAqNpq"
      },
      "source": [
        "analyzing data\n"
      ]
    },
    {
      "cell_type": "code",
      "execution_count": null,
      "metadata": {
        "colab": {
          "background_save": true
        },
        "id": "FPWSy4WoqJ5K"
      },
      "outputs": [],
      "source": [
        "fig, ax = plt.subplots(figsize=(8,8))\n",
        "sns.distplot(credit_card_data.V18)\n"
      ]
    },
    {
      "cell_type": "markdown",
      "metadata": {
        "id": "bpkf36JkrcoO"
      },
      "source": [
        "after looking graph for each null col"
      ]
    },
    {
      "cell_type": "markdown",
      "metadata": {
        "id": "ve8cuzd8riWR"
      },
      "source": [
        "replacing all columns by mean"
      ]
    },
    {
      "cell_type": "code",
      "execution_count": null,
      "metadata": {
        "colab": {
          "background_save": true
        },
        "id": "TX-jGQMxqf-4"
      },
      "outputs": [],
      "source": [
        "credit_card_data['V18'].fillna(credit_card_data['V18'].mean(), inplace=True)\n",
        "credit_card_data['V19'].fillna(credit_card_data['V19'].mean(), inplace=True)\n",
        "credit_card_data['V20'].fillna(credit_card_data['V20'].mean(), inplace=True)\n",
        "credit_card_data['V21'].fillna(credit_card_data['V21'].mean(), inplace=True)\n",
        "credit_card_data['V22'].fillna(credit_card_data['V22'].mean(), inplace=True)\n",
        "credit_card_data['V23'].fillna(credit_card_data['V23'].mean(), inplace=True)\n",
        "credit_card_data['V24'].fillna(credit_card_data['V24'].mean(), inplace=True)\n",
        "credit_card_data['V25'].fillna(credit_card_data['V25'].mean(), inplace=True)\n",
        "credit_card_data['V26'].fillna(credit_card_data['V26'].mean(), inplace=True)\n",
        "credit_card_data['V27'].fillna(credit_card_data['V27'].mean(), inplace=True)\n",
        "credit_card_data['V28'].fillna(credit_card_data['V28'].mean(), inplace=True)\n"
      ]
    },
    {
      "cell_type": "code",
      "execution_count": null,
      "metadata": {
        "colab": {
          "background_save": true
        },
        "id": "nFx1iJIQsTnf"
      },
      "outputs": [],
      "source": [
        "credit_card_data.isnull().sum()"
      ]
    },
    {
      "cell_type": "code",
      "execution_count": null,
      "metadata": {
        "colab": {
          "background_save": true
        },
        "id": "Yb3-KrYwsYk9"
      },
      "outputs": [],
      "source": [
        "fig, ax = plt.subplots(figsize=(8,8))\n",
        "sns.distplot(credit_card_data.Class)\n"
      ]
    },
    {
      "cell_type": "markdown",
      "metadata": {
        "id": "3czW4wJosreN"
      },
      "source": [
        "As Amount and class are righgt skewwd it will bw replaced by median/mode"
      ]
    },
    {
      "cell_type": "code",
      "execution_count": null,
      "metadata": {
        "colab": {
          "background_save": true
        },
        "id": "uTte5zWtsqEV"
      },
      "outputs": [],
      "source": [
        "credit_card_data['Amount'].fillna(credit_card_data['Amount'].mode(), inplace=True)\n",
        "credit_card_data['Class'].fillna(credit_card_data['Class'].mode(), inplace=True)"
      ]
    },
    {
      "cell_type": "code",
      "execution_count": null,
      "metadata": {
        "colab": {
          "background_save": true
        },
        "id": "BuJ1uGeNtBzx"
      },
      "outputs": [],
      "source": [
        "credit_card_data.isnull().sum()"
      ]
    },
    {
      "cell_type": "code",
      "execution_count": null,
      "metadata": {
        "colab": {
          "background_save": true
        },
        "id": "H5D1fhGptErG"
      },
      "outputs": [],
      "source": [
        "#distribution of legit and farudulant transaction\n",
        "credit_card_data['Class'].value_counts()"
      ]
    },
    {
      "cell_type": "markdown",
      "metadata": {
        "id": "wlwD9qGAwT0B"
      },
      "source": [
        "This dataset is highly unbalanced"
      ]
    },
    {
      "cell_type": "markdown",
      "metadata": {
        "id": "UWsfGFnVwX6N"
      },
      "source": [
        "0 -> legit transaction\n",
        "\n",
        "1-> fraud transaction"
      ]
    },
    {
      "cell_type": "code",
      "execution_count": null,
      "metadata": {
        "colab": {
          "background_save": true
        },
        "id": "liOOsXsewI0K"
      },
      "outputs": [],
      "source": [
        "legit = credit_card_data[credit_card_data.Class == 0 ]\n",
        "fraud = credit_card_data[credit_card_data.Class == 1]"
      ]
    },
    {
      "cell_type": "code",
      "execution_count": null,
      "metadata": {
        "colab": {
          "background_save": true
        },
        "id": "DvmJfz1jwzv-"
      },
      "outputs": [],
      "source": [
        "print(legit.shape)\n",
        "print(fraud.shape)"
      ]
    },
    {
      "cell_type": "code",
      "execution_count": null,
      "metadata": {
        "colab": {
          "background_save": true
        },
        "id": "5Vop02Uew7XC"
      },
      "outputs": [],
      "source": [
        "legit.Amount.describe()"
      ]
    },
    {
      "cell_type": "code",
      "execution_count": null,
      "metadata": {
        "colab": {
          "background_save": true
        },
        "id": "vHxbhzeaxDle"
      },
      "outputs": [],
      "source": [
        "fraud.Amount.describe()"
      ]
    },
    {
      "cell_type": "code",
      "execution_count": null,
      "metadata": {
        "colab": {
          "background_save": true
        },
        "id": "iCpKUhRkxN09"
      },
      "outputs": [],
      "source": [
        "credit_card_data.groupby('Class').mean()"
      ]
    },
    {
      "cell_type": "markdown",
      "metadata": {
        "id": "pemN_68LxpNd"
      },
      "source": [
        "under sampling"
      ]
    },
    {
      "cell_type": "markdown",
      "metadata": {
        "id": "JnIpvTQCxr4U"
      },
      "source": [
        "build a sample dataset containing similar distribution of normal transaction and fraudulant transaction"
      ]
    },
    {
      "cell_type": "code",
      "execution_count": null,
      "metadata": {
        "colab": {
          "background_save": true
        },
        "id": "pK8te1j0xgSW"
      },
      "outputs": [],
      "source": [
        "legit_sample = legit.sample(n=3)"
      ]
    },
    {
      "cell_type": "markdown",
      "metadata": {
        "id": "i3z0yux-yZZH"
      },
      "source": [
        "concat two dataframes"
      ]
    },
    {
      "cell_type": "code",
      "execution_count": null,
      "metadata": {
        "colab": {
          "background_save": true
        },
        "id": "63Ln43oQyWRg"
      },
      "outputs": [],
      "source": [
        "new_dataset = pd.concat([legit_sample, fraud], axis=0)"
      ]
    },
    {
      "cell_type": "code",
      "execution_count": null,
      "metadata": {
        "colab": {
          "background_save": true
        },
        "id": "jYPS1Nkyyqcz"
      },
      "outputs": [],
      "source": [
        "new_dataset.head()"
      ]
    },
    {
      "cell_type": "code",
      "execution_count": null,
      "metadata": {
        "colab": {
          "background_save": true
        },
        "id": "OidZcKmeyt3X"
      },
      "outputs": [],
      "source": [
        "new_dataset.tail()"
      ]
    },
    {
      "cell_type": "code",
      "execution_count": null,
      "metadata": {
        "colab": {
          "background_save": true
        },
        "id": "JPcmC5hlyz7c"
      },
      "outputs": [],
      "source": [
        "new_dataset['Class'].value_counts()"
      ]
    },
    {
      "cell_type": "code",
      "execution_count": null,
      "metadata": {
        "colab": {
          "background_save": true
        },
        "id": "4YEMO6XKy75Y"
      },
      "outputs": [],
      "source": [
        "new_dataset.groupby('Class').mean()"
      ]
    },
    {
      "cell_type": "markdown",
      "metadata": {
        "id": "bY-cCl3-zPGN"
      },
      "source": [
        "Splitting data into features and target"
      ]
    },
    {
      "cell_type": "code",
      "execution_count": null,
      "metadata": {
        "colab": {
          "background_save": true
        },
        "id": "CoRgWBYYzFBG"
      },
      "outputs": [],
      "source": [
        "X = new_dataset.drop(columns='Class', axis =1)\n",
        "Y  = new_dataset['Class']"
      ]
    },
    {
      "cell_type": "code",
      "execution_count": null,
      "metadata": {
        "colab": {
          "background_save": true
        },
        "id": "xShgcYoMzchf"
      },
      "outputs": [],
      "source": [
        "print(X)\n",
        "print(Y)"
      ]
    },
    {
      "cell_type": "markdown",
      "metadata": {
        "id": "oszzlUAYzjiV"
      },
      "source": [
        "split data into training and test data"
      ]
    },
    {
      "cell_type": "code",
      "execution_count": null,
      "metadata": {
        "colab": {
          "background_save": true
        },
        "id": "MUkFACw7zf_g"
      },
      "outputs": [],
      "source": [
        "X_train, X_test, Y_train, Y_test = train_test_split(X, Y, test_size=0.2, stratify=Y, random_state=2)"
      ]
    },
    {
      "cell_type": "code",
      "execution_count": null,
      "metadata": {
        "colab": {
          "background_save": true
        },
        "id": "03L_Jozpz5fm"
      },
      "outputs": [],
      "source": [
        "print(X.shape, X_train.shape, X_test.shape)"
      ]
    },
    {
      "cell_type": "markdown",
      "metadata": {
        "id": "iBwAb8ju0Ubb"
      },
      "source": [
        "Model Training\n"
      ]
    },
    {
      "cell_type": "code",
      "execution_count": null,
      "metadata": {
        "colab": {
          "background_save": true
        },
        "id": "2I9jkTdZ0PS3"
      },
      "outputs": [],
      "source": [
        "model = LogisticRegression()"
      ]
    },
    {
      "cell_type": "code",
      "execution_count": null,
      "metadata": {
        "colab": {
          "background_save": true
        },
        "id": "4_xhpeeN0abf"
      },
      "outputs": [],
      "source": [
        "model.fit(X_train, Y_train)"
      ]
    },
    {
      "cell_type": "code",
      "execution_count": null,
      "metadata": {
        "colab": {
          "background_save": true
        },
        "id": "54aXX9ek0lhY"
      },
      "outputs": [],
      "source": [
        "X_train_predict = model.predict(X_train)\n",
        "training_data_accuracy = accuracy_score(X_train_predict, Y_train)"
      ]
    },
    {
      "cell_type": "code",
      "execution_count": null,
      "metadata": {
        "colab": {
          "background_save": true
        },
        "id": "wAxmEOam04yY"
      },
      "outputs": [],
      "source": [
        "print(training_data_accuracy)"
      ]
    },
    {
      "cell_type": "code",
      "execution_count": null,
      "metadata": {
        "colab": {
          "background_save": true
        },
        "id": "L51pOzQE0767"
      },
      "outputs": [],
      "source": [
        "X_test_predict = model.predict(X_test)\n",
        "testing_data_accuracy = accuracy_score(X_test_predict, Y_test)\n",
        "print(testing_data_accuracy)"
      ]
    },
    {
      "cell_type": "markdown",
      "metadata": {
        "id": "I0bcFt4d1tb9"
      },
      "source": [
        "Building a predictive System"
      ]
    },
    {
      "cell_type": "code",
      "execution_count": null,
      "metadata": {
        "colab": {
          "background_save": true
        },
        "id": "943_U_-r1KyL"
      },
      "outputs": [],
      "source": [
        "input_data = (1,-1.35835406159823,-1.34016307473609,1.77320934263119,0.379779593034328,-0.503198133318193,1.80049938079263,0.791460956450422,0.247675786588991,-1.51465432260583,0.207642865216696,0.624501459424895,0.066083685268831,0.717292731410831,-0.165945922763554,2.34586494901581,-2.89008319444231,1.10996937869599,-0.121359313195888,-2.26185709530414,0.524979725224404,0.247998153469754,0.771679401917229,0.909412262347719,-0.689280956490685,-0.327641833735251,-0.139096571514147,-0.0553527940384261,-0.0597518405929204,378.66)\n",
        "\n",
        "input_data_as_array = np.asarray(input_data)\n",
        "input_data_reshape = input_data_as_array.reshape(1,-1)\n",
        "prediction = model.predict(input_data_reshape)\n",
        "print(prediction)\n",
        "\n",
        "if(prediction[0] == 0):\n",
        "  print('Legit Transaction')\n",
        "else:\n",
        "  print('Fraud Transaction')"
      ]
    },
    {
      "cell_type": "code",
      "execution_count": null,
      "metadata": {
        "colab": {
          "background_save": true
        },
        "id": "RyRrl2j-2rvr"
      },
      "outputs": [],
      "source": []
    }
  ],
  "metadata": {
    "colab": {
      "provenance": []
    },
    "kernelspec": {
      "display_name": "Python 3",
      "name": "python3"
    },
    "language_info": {
      "name": "python"
    }
  },
  "nbformat": 4,
  "nbformat_minor": 0
}